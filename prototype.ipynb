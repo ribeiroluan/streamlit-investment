{
 "cells": [
  {
   "cell_type": "code",
   "execution_count": 28,
   "id": "693ae819-af4d-4dd0-942e-29d5195a8166",
   "metadata": {},
   "outputs": [],
   "source": [
    "import pandas as pd\n",
    "from pandas_datareader import data as pdr\n",
    "from datetime import date\n",
    "import plotly.express as px"
   ]
  },
  {
   "cell_type": "markdown",
   "id": "2a9ddc19-ba7d-47ef-8c9c-1caeaa5f6f78",
   "metadata": {},
   "source": [
    "## Parameters"
   ]
  },
  {
   "cell_type": "code",
   "execution_count": 371,
   "id": "2b999df8-7565-4dba-8dbe-5a4c40b7cc8d",
   "metadata": {
    "tags": []
   },
   "outputs": [],
   "source": [
    "#Creating variables to store start and end date of analysis\n",
    "start_date = '2022-01-01'\n",
    "end_date = date.today()"
   ]
  },
  {
   "cell_type": "code",
   "execution_count": 369,
   "id": "d5051950-775a-4a39-8504-c3846b9d365e",
   "metadata": {},
   "outputs": [],
   "source": [
    "#We are going to store all the tickers for the companies in our investment portfolio in a variable named wallet. Later, we will iterate over this variable in order to pull our data\n",
    "wallet = ['CIEL3', 'BRFS3', 'BBDC4', 'ENEV3']"
   ]
  },
  {
   "cell_type": "markdown",
   "id": "d1a82569-0946-4f78-8c21-eda3b29a4640",
   "metadata": {
    "tags": []
   },
   "source": [
    "## First, let's pull data for our reference index (IBOVESPA)"
   ]
  },
  {
   "cell_type": "code",
   "execution_count": 372,
   "id": "f47a7ab4-80bb-4bc0-9bf4-208647ed55c7",
   "metadata": {},
   "outputs": [],
   "source": [
    "#Reading data using pandas datareader and cleaning column names\n",
    "ibov = pdr.DataReader(f'^BVSP', data_source='yahoo', start=start_date, end=end_date)\n",
    "ibov.reset_index(drop=False, inplace=True)\n",
    "ibov = ibov[['Date', 'Close']] #we are only interested in the closing prices\n",
    "ibov.rename(columns={'Date':'date', 'Close':'ibov_close'}, inplace=True)"
   ]
  },
  {
   "cell_type": "code",
   "execution_count": 373,
   "id": "993128da-e77b-413e-a426-fbed2ed42426",
   "metadata": {},
   "outputs": [
    {
     "data": {
      "text/html": [
       "<div>\n",
       "<style scoped>\n",
       "    .dataframe tbody tr th:only-of-type {\n",
       "        vertical-align: middle;\n",
       "    }\n",
       "\n",
       "    .dataframe tbody tr th {\n",
       "        vertical-align: top;\n",
       "    }\n",
       "\n",
       "    .dataframe thead th {\n",
       "        text-align: right;\n",
       "    }\n",
       "</style>\n",
       "<table border=\"1\" class=\"dataframe\">\n",
       "  <thead>\n",
       "    <tr style=\"text-align: right;\">\n",
       "      <th></th>\n",
       "      <th>date</th>\n",
       "      <th>ibov_close</th>\n",
       "      <th>ibov_cum_change</th>\n",
       "    </tr>\n",
       "  </thead>\n",
       "  <tbody>\n",
       "    <tr>\n",
       "      <th>0</th>\n",
       "      <td>2022-01-03</td>\n",
       "      <td>103922.00000</td>\n",
       "      <td>0.000000</td>\n",
       "    </tr>\n",
       "    <tr>\n",
       "      <th>1</th>\n",
       "      <td>2022-01-04</td>\n",
       "      <td>103514.00000</td>\n",
       "      <td>-0.392602</td>\n",
       "    </tr>\n",
       "    <tr>\n",
       "      <th>2</th>\n",
       "      <td>2022-01-05</td>\n",
       "      <td>101006.00000</td>\n",
       "      <td>-2.805951</td>\n",
       "    </tr>\n",
       "    <tr>\n",
       "      <th>3</th>\n",
       "      <td>2022-01-06</td>\n",
       "      <td>101561.00000</td>\n",
       "      <td>-2.271896</td>\n",
       "    </tr>\n",
       "    <tr>\n",
       "      <th>4</th>\n",
       "      <td>2022-01-07</td>\n",
       "      <td>102719.00000</td>\n",
       "      <td>-1.157599</td>\n",
       "    </tr>\n",
       "    <tr>\n",
       "      <th>...</th>\n",
       "      <td>...</td>\n",
       "      <td>...</td>\n",
       "      <td>...</td>\n",
       "    </tr>\n",
       "    <tr>\n",
       "      <th>121</th>\n",
       "      <td>2022-06-28</td>\n",
       "      <td>100591.00000</td>\n",
       "      <td>-3.205289</td>\n",
       "    </tr>\n",
       "    <tr>\n",
       "      <th>122</th>\n",
       "      <td>2022-06-29</td>\n",
       "      <td>99622.00000</td>\n",
       "      <td>-4.137719</td>\n",
       "    </tr>\n",
       "    <tr>\n",
       "      <th>123</th>\n",
       "      <td>2022-06-30</td>\n",
       "      <td>98542.00000</td>\n",
       "      <td>-5.176960</td>\n",
       "    </tr>\n",
       "    <tr>\n",
       "      <th>124</th>\n",
       "      <td>2022-07-01</td>\n",
       "      <td>98954.00000</td>\n",
       "      <td>-4.780508</td>\n",
       "    </tr>\n",
       "    <tr>\n",
       "      <th>125</th>\n",
       "      <td>2022-07-04</td>\n",
       "      <td>98784.09375</td>\n",
       "      <td>-4.944002</td>\n",
       "    </tr>\n",
       "  </tbody>\n",
       "</table>\n",
       "<p>126 rows × 3 columns</p>\n",
       "</div>"
      ],
      "text/plain": [
       "          date    ibov_close  ibov_cum_change\n",
       "0   2022-01-03  103922.00000         0.000000\n",
       "1   2022-01-04  103514.00000        -0.392602\n",
       "2   2022-01-05  101006.00000        -2.805951\n",
       "3   2022-01-06  101561.00000        -2.271896\n",
       "4   2022-01-07  102719.00000        -1.157599\n",
       "..         ...           ...              ...\n",
       "121 2022-06-28  100591.00000        -3.205289\n",
       "122 2022-06-29   99622.00000        -4.137719\n",
       "123 2022-06-30   98542.00000        -5.176960\n",
       "124 2022-07-01   98954.00000        -4.780508\n",
       "125 2022-07-04   98784.09375        -4.944002\n",
       "\n",
       "[126 rows x 3 columns]"
      ]
     },
     "execution_count": 373,
     "metadata": {},
     "output_type": "execute_result"
    }
   ],
   "source": [
    "#Creating the cumulative change column. This way, we can easily compare performance across multiple companies\n",
    "reference = ibov.at[0,\"ibov_close\"]\n",
    "ibov['ibov_cum_change'] = ibov['ibov_close'].apply(lambda x: (x-reference)*100/reference)\n",
    "ibov"
   ]
  },
  {
   "cell_type": "markdown",
   "id": "476292ab-fafa-44c3-a6e8-5f2b54bcd93f",
   "metadata": {
    "tags": []
   },
   "source": [
    "## Now, let's pull data for our investment portfolio"
   ]
  },
  {
   "cell_type": "code",
   "execution_count": 374,
   "id": "71d500d5-18fe-472b-a1fa-b2e14114708e",
   "metadata": {},
   "outputs": [
    {
     "data": {
      "text/html": [
       "<div>\n",
       "<style scoped>\n",
       "    .dataframe tbody tr th:only-of-type {\n",
       "        vertical-align: middle;\n",
       "    }\n",
       "\n",
       "    .dataframe tbody tr th {\n",
       "        vertical-align: top;\n",
       "    }\n",
       "\n",
       "    .dataframe thead th {\n",
       "        text-align: right;\n",
       "    }\n",
       "</style>\n",
       "<table border=\"1\" class=\"dataframe\">\n",
       "  <thead>\n",
       "    <tr style=\"text-align: right;\">\n",
       "      <th></th>\n",
       "      <th>date</th>\n",
       "      <th>CIEL3_close</th>\n",
       "      <th>CIEL3_cum_change</th>\n",
       "      <th>BRFS3_close</th>\n",
       "      <th>BRFS3_cum_change</th>\n",
       "      <th>BBDC4_close</th>\n",
       "      <th>BBDC4_cum_change</th>\n",
       "      <th>ENEV3_close</th>\n",
       "      <th>ENEV3_cum_change</th>\n",
       "    </tr>\n",
       "  </thead>\n",
       "  <tbody>\n",
       "    <tr>\n",
       "      <th>0</th>\n",
       "      <td>2022-01-03</td>\n",
       "      <td>2.19</td>\n",
       "      <td>0.0</td>\n",
       "      <td>23.219999</td>\n",
       "      <td>0.0</td>\n",
       "      <td>17.9</td>\n",
       "      <td>0.0</td>\n",
       "      <td>13.44</td>\n",
       "      <td>0.0</td>\n",
       "    </tr>\n",
       "    <tr>\n",
       "      <th>1</th>\n",
       "      <td>2022-01-04</td>\n",
       "      <td>2.12</td>\n",
       "      <td>-3.196355</td>\n",
       "      <td>22.42</td>\n",
       "      <td>-3.445303</td>\n",
       "      <td>18.0</td>\n",
       "      <td>0.558661</td>\n",
       "      <td>12.91</td>\n",
       "      <td>-3.943451</td>\n",
       "    </tr>\n",
       "    <tr>\n",
       "      <th>2</th>\n",
       "      <td>2022-01-05</td>\n",
       "      <td>2.11</td>\n",
       "      <td>-3.652975</td>\n",
       "      <td>22.700001</td>\n",
       "      <td>-2.239443</td>\n",
       "      <td>17.872726</td>\n",
       "      <td>-0.152364</td>\n",
       "      <td>12.4</td>\n",
       "      <td>-7.738095</td>\n",
       "    </tr>\n",
       "    <tr>\n",
       "      <th>3</th>\n",
       "      <td>2022-01-06</td>\n",
       "      <td>2.06</td>\n",
       "      <td>-5.936078</td>\n",
       "      <td>24.299999</td>\n",
       "      <td>4.651163</td>\n",
       "      <td>18.127272</td>\n",
       "      <td>1.269676</td>\n",
       "      <td>12.21</td>\n",
       "      <td>-9.151783</td>\n",
       "    </tr>\n",
       "    <tr>\n",
       "      <th>4</th>\n",
       "      <td>2022-01-07</td>\n",
       "      <td>2.05</td>\n",
       "      <td>-6.392699</td>\n",
       "      <td>24.6</td>\n",
       "      <td>5.943157</td>\n",
       "      <td>18.390909</td>\n",
       "      <td>2.742512</td>\n",
       "      <td>11.93</td>\n",
       "      <td>-11.235114</td>\n",
       "    </tr>\n",
       "    <tr>\n",
       "      <th>...</th>\n",
       "      <td>...</td>\n",
       "      <td>...</td>\n",
       "      <td>...</td>\n",
       "      <td>...</td>\n",
       "      <td>...</td>\n",
       "      <td>...</td>\n",
       "      <td>...</td>\n",
       "      <td>...</td>\n",
       "      <td>...</td>\n",
       "    </tr>\n",
       "    <tr>\n",
       "      <th>121</th>\n",
       "      <td>2022-06-28</td>\n",
       "      <td>3.85</td>\n",
       "      <td>75.799078</td>\n",
       "      <td>14.48</td>\n",
       "      <td>-37.639966</td>\n",
       "      <td>17.91</td>\n",
       "      <td>0.055867</td>\n",
       "      <td>15.35</td>\n",
       "      <td>14.211316</td>\n",
       "    </tr>\n",
       "    <tr>\n",
       "      <th>122</th>\n",
       "      <td>2022-06-29</td>\n",
       "      <td>3.78</td>\n",
       "      <td>72.602734</td>\n",
       "      <td>14.14</td>\n",
       "      <td>-39.104217</td>\n",
       "      <td>17.6</td>\n",
       "      <td>-1.675973</td>\n",
       "      <td>14.97</td>\n",
       "      <td>11.383934</td>\n",
       "    </tr>\n",
       "    <tr>\n",
       "      <th>123</th>\n",
       "      <td>2022-06-30</td>\n",
       "      <td>3.75</td>\n",
       "      <td>71.232872</td>\n",
       "      <td>13.59</td>\n",
       "      <td>-41.472866</td>\n",
       "      <td>17.200001</td>\n",
       "      <td>-3.910608</td>\n",
       "      <td>14.77</td>\n",
       "      <td>9.89584</td>\n",
       "    </tr>\n",
       "    <tr>\n",
       "      <th>124</th>\n",
       "      <td>2022-07-01</td>\n",
       "      <td>3.93</td>\n",
       "      <td>79.452053</td>\n",
       "      <td>14.28</td>\n",
       "      <td>-38.501291</td>\n",
       "      <td>17.33</td>\n",
       "      <td>-3.184356</td>\n",
       "      <td>15.14</td>\n",
       "      <td>12.648816</td>\n",
       "    </tr>\n",
       "    <tr>\n",
       "      <th>125</th>\n",
       "      <td>2022-07-04</td>\n",
       "      <td>3.87</td>\n",
       "      <td>76.712319</td>\n",
       "      <td>14.72</td>\n",
       "      <td>-36.606371</td>\n",
       "      <td>17.15</td>\n",
       "      <td>-4.189944</td>\n",
       "      <td>14.83</td>\n",
       "      <td>10.342265</td>\n",
       "    </tr>\n",
       "  </tbody>\n",
       "</table>\n",
       "<p>126 rows × 9 columns</p>\n",
       "</div>"
      ],
      "text/plain": [
       "          date CIEL3_close CIEL3_cum_change BRFS3_close BRFS3_cum_change  \\\n",
       "0   2022-01-03        2.19              0.0   23.219999              0.0   \n",
       "1   2022-01-04        2.12        -3.196355       22.42        -3.445303   \n",
       "2   2022-01-05        2.11        -3.652975   22.700001        -2.239443   \n",
       "3   2022-01-06        2.06        -5.936078   24.299999         4.651163   \n",
       "4   2022-01-07        2.05        -6.392699        24.6         5.943157   \n",
       "..         ...         ...              ...         ...              ...   \n",
       "121 2022-06-28        3.85        75.799078       14.48       -37.639966   \n",
       "122 2022-06-29        3.78        72.602734       14.14       -39.104217   \n",
       "123 2022-06-30        3.75        71.232872       13.59       -41.472866   \n",
       "124 2022-07-01        3.93        79.452053       14.28       -38.501291   \n",
       "125 2022-07-04        3.87        76.712319       14.72       -36.606371   \n",
       "\n",
       "    BBDC4_close BBDC4_cum_change ENEV3_close ENEV3_cum_change  \n",
       "0          17.9              0.0       13.44              0.0  \n",
       "1          18.0         0.558661       12.91        -3.943451  \n",
       "2     17.872726        -0.152364        12.4        -7.738095  \n",
       "3     18.127272         1.269676       12.21        -9.151783  \n",
       "4     18.390909         2.742512       11.93       -11.235114  \n",
       "..          ...              ...         ...              ...  \n",
       "121       17.91         0.055867       15.35        14.211316  \n",
       "122        17.6        -1.675973       14.97        11.383934  \n",
       "123   17.200001        -3.910608       14.77          9.89584  \n",
       "124       17.33        -3.184356       15.14        12.648816  \n",
       "125       17.15        -4.189944       14.83        10.342265  \n",
       "\n",
       "[126 rows x 9 columns]"
      ]
     },
     "execution_count": 374,
     "metadata": {},
     "output_type": "execute_result"
    }
   ],
   "source": [
    "df_holder = []\n",
    "\n",
    "for stock in wallet:\n",
    "    #Reading data and cleaning column names\n",
    "    temp_df = pdr.DataReader(f'{stock}.SA', data_source='yahoo', start=start_date, end=end_date)\n",
    "    temp_df.reset_index(drop=False, inplace=True)\n",
    "    temp_df = temp_df[['Date', 'Close']]\n",
    "    temp_df.rename(columns={'Date':'date', 'Close':f'{stock}_close'}, inplace=True)\n",
    "    \n",
    "    #Creating the cumulative change column\n",
    "    reference = temp_df.at[0,f'{stock}_close']\n",
    "    temp_df[f'{stock}_cum_change'] = temp_df[f'{stock}_close'].apply(lambda x: (x-reference)*100/reference)\n",
    "    \n",
    "    #Appending our temporary dataframe to our empty list, which will be later concatenated\n",
    "    df_holder.append(temp_df)\n",
    "    \n",
    "#Lastly, lets concat our temp dataframes dropping duplicates - date column\n",
    "wallet_df = pd.concat(df_holder, axis=1).T.drop_duplicates().T\n",
    "wallet_df"
   ]
  },
  {
   "cell_type": "code",
   "execution_count": 375,
   "id": "0f59d7fd-ac3e-48a8-92c8-1a2f0fce4c1c",
   "metadata": {},
   "outputs": [
    {
     "data": {
      "text/html": [
       "<div>\n",
       "<style scoped>\n",
       "    .dataframe tbody tr th:only-of-type {\n",
       "        vertical-align: middle;\n",
       "    }\n",
       "\n",
       "    .dataframe tbody tr th {\n",
       "        vertical-align: top;\n",
       "    }\n",
       "\n",
       "    .dataframe thead th {\n",
       "        text-align: right;\n",
       "    }\n",
       "</style>\n",
       "<table border=\"1\" class=\"dataframe\">\n",
       "  <thead>\n",
       "    <tr style=\"text-align: right;\">\n",
       "      <th></th>\n",
       "      <th>date</th>\n",
       "      <th>ibov_close</th>\n",
       "      <th>ibov_cum_change</th>\n",
       "      <th>CIEL3_close</th>\n",
       "      <th>CIEL3_cum_change</th>\n",
       "      <th>BRFS3_close</th>\n",
       "      <th>BRFS3_cum_change</th>\n",
       "      <th>BBDC4_close</th>\n",
       "      <th>BBDC4_cum_change</th>\n",
       "      <th>ENEV3_close</th>\n",
       "      <th>ENEV3_cum_change</th>\n",
       "    </tr>\n",
       "  </thead>\n",
       "  <tbody>\n",
       "    <tr>\n",
       "      <th>0</th>\n",
       "      <td>2022-01-03</td>\n",
       "      <td>103922.00000</td>\n",
       "      <td>0.000000</td>\n",
       "      <td>2.19</td>\n",
       "      <td>0.000000</td>\n",
       "      <td>23.219999</td>\n",
       "      <td>0.000000</td>\n",
       "      <td>17.900000</td>\n",
       "      <td>0.000000</td>\n",
       "      <td>13.44</td>\n",
       "      <td>0.000000</td>\n",
       "    </tr>\n",
       "    <tr>\n",
       "      <th>1</th>\n",
       "      <td>2022-01-04</td>\n",
       "      <td>103514.00000</td>\n",
       "      <td>-0.392602</td>\n",
       "      <td>2.12</td>\n",
       "      <td>-3.196355</td>\n",
       "      <td>22.420000</td>\n",
       "      <td>-3.445303</td>\n",
       "      <td>18.000000</td>\n",
       "      <td>0.558661</td>\n",
       "      <td>12.91</td>\n",
       "      <td>-3.943451</td>\n",
       "    </tr>\n",
       "    <tr>\n",
       "      <th>2</th>\n",
       "      <td>2022-01-05</td>\n",
       "      <td>101006.00000</td>\n",
       "      <td>-2.805951</td>\n",
       "      <td>2.11</td>\n",
       "      <td>-3.652975</td>\n",
       "      <td>22.700001</td>\n",
       "      <td>-2.239443</td>\n",
       "      <td>17.872726</td>\n",
       "      <td>-0.152364</td>\n",
       "      <td>12.40</td>\n",
       "      <td>-7.738095</td>\n",
       "    </tr>\n",
       "    <tr>\n",
       "      <th>3</th>\n",
       "      <td>2022-01-06</td>\n",
       "      <td>101561.00000</td>\n",
       "      <td>-2.271896</td>\n",
       "      <td>2.06</td>\n",
       "      <td>-5.936078</td>\n",
       "      <td>24.299999</td>\n",
       "      <td>4.651163</td>\n",
       "      <td>18.127272</td>\n",
       "      <td>1.269676</td>\n",
       "      <td>12.21</td>\n",
       "      <td>-9.151783</td>\n",
       "    </tr>\n",
       "    <tr>\n",
       "      <th>4</th>\n",
       "      <td>2022-01-07</td>\n",
       "      <td>102719.00000</td>\n",
       "      <td>-1.157599</td>\n",
       "      <td>2.05</td>\n",
       "      <td>-6.392699</td>\n",
       "      <td>24.600000</td>\n",
       "      <td>5.943157</td>\n",
       "      <td>18.390909</td>\n",
       "      <td>2.742512</td>\n",
       "      <td>11.93</td>\n",
       "      <td>-11.235114</td>\n",
       "    </tr>\n",
       "    <tr>\n",
       "      <th>...</th>\n",
       "      <td>...</td>\n",
       "      <td>...</td>\n",
       "      <td>...</td>\n",
       "      <td>...</td>\n",
       "      <td>...</td>\n",
       "      <td>...</td>\n",
       "      <td>...</td>\n",
       "      <td>...</td>\n",
       "      <td>...</td>\n",
       "      <td>...</td>\n",
       "      <td>...</td>\n",
       "    </tr>\n",
       "    <tr>\n",
       "      <th>121</th>\n",
       "      <td>2022-06-28</td>\n",
       "      <td>100591.00000</td>\n",
       "      <td>-3.205289</td>\n",
       "      <td>3.85</td>\n",
       "      <td>75.799078</td>\n",
       "      <td>14.480000</td>\n",
       "      <td>-37.639966</td>\n",
       "      <td>17.910000</td>\n",
       "      <td>0.055867</td>\n",
       "      <td>15.35</td>\n",
       "      <td>14.211316</td>\n",
       "    </tr>\n",
       "    <tr>\n",
       "      <th>122</th>\n",
       "      <td>2022-06-29</td>\n",
       "      <td>99622.00000</td>\n",
       "      <td>-4.137719</td>\n",
       "      <td>3.78</td>\n",
       "      <td>72.602734</td>\n",
       "      <td>14.140000</td>\n",
       "      <td>-39.104217</td>\n",
       "      <td>17.600000</td>\n",
       "      <td>-1.675973</td>\n",
       "      <td>14.97</td>\n",
       "      <td>11.383934</td>\n",
       "    </tr>\n",
       "    <tr>\n",
       "      <th>123</th>\n",
       "      <td>2022-06-30</td>\n",
       "      <td>98542.00000</td>\n",
       "      <td>-5.176960</td>\n",
       "      <td>3.75</td>\n",
       "      <td>71.232872</td>\n",
       "      <td>13.590000</td>\n",
       "      <td>-41.472866</td>\n",
       "      <td>17.200001</td>\n",
       "      <td>-3.910608</td>\n",
       "      <td>14.77</td>\n",
       "      <td>9.895840</td>\n",
       "    </tr>\n",
       "    <tr>\n",
       "      <th>124</th>\n",
       "      <td>2022-07-01</td>\n",
       "      <td>98954.00000</td>\n",
       "      <td>-4.780508</td>\n",
       "      <td>3.93</td>\n",
       "      <td>79.452053</td>\n",
       "      <td>14.280000</td>\n",
       "      <td>-38.501291</td>\n",
       "      <td>17.330000</td>\n",
       "      <td>-3.184356</td>\n",
       "      <td>15.14</td>\n",
       "      <td>12.648816</td>\n",
       "    </tr>\n",
       "    <tr>\n",
       "      <th>125</th>\n",
       "      <td>2022-07-04</td>\n",
       "      <td>98784.09375</td>\n",
       "      <td>-4.944002</td>\n",
       "      <td>3.87</td>\n",
       "      <td>76.712319</td>\n",
       "      <td>14.720000</td>\n",
       "      <td>-36.606371</td>\n",
       "      <td>17.150000</td>\n",
       "      <td>-4.189944</td>\n",
       "      <td>14.83</td>\n",
       "      <td>10.342265</td>\n",
       "    </tr>\n",
       "  </tbody>\n",
       "</table>\n",
       "<p>126 rows × 11 columns</p>\n",
       "</div>"
      ],
      "text/plain": [
       "          date    ibov_close  ibov_cum_change  CIEL3_close  CIEL3_cum_change  \\\n",
       "0   2022-01-03  103922.00000         0.000000         2.19          0.000000   \n",
       "1   2022-01-04  103514.00000        -0.392602         2.12         -3.196355   \n",
       "2   2022-01-05  101006.00000        -2.805951         2.11         -3.652975   \n",
       "3   2022-01-06  101561.00000        -2.271896         2.06         -5.936078   \n",
       "4   2022-01-07  102719.00000        -1.157599         2.05         -6.392699   \n",
       "..         ...           ...              ...          ...               ...   \n",
       "121 2022-06-28  100591.00000        -3.205289         3.85         75.799078   \n",
       "122 2022-06-29   99622.00000        -4.137719         3.78         72.602734   \n",
       "123 2022-06-30   98542.00000        -5.176960         3.75         71.232872   \n",
       "124 2022-07-01   98954.00000        -4.780508         3.93         79.452053   \n",
       "125 2022-07-04   98784.09375        -4.944002         3.87         76.712319   \n",
       "\n",
       "     BRFS3_close  BRFS3_cum_change  BBDC4_close  BBDC4_cum_change  \\\n",
       "0      23.219999          0.000000    17.900000          0.000000   \n",
       "1      22.420000         -3.445303    18.000000          0.558661   \n",
       "2      22.700001         -2.239443    17.872726         -0.152364   \n",
       "3      24.299999          4.651163    18.127272          1.269676   \n",
       "4      24.600000          5.943157    18.390909          2.742512   \n",
       "..           ...               ...          ...               ...   \n",
       "121    14.480000        -37.639966    17.910000          0.055867   \n",
       "122    14.140000        -39.104217    17.600000         -1.675973   \n",
       "123    13.590000        -41.472866    17.200001         -3.910608   \n",
       "124    14.280000        -38.501291    17.330000         -3.184356   \n",
       "125    14.720000        -36.606371    17.150000         -4.189944   \n",
       "\n",
       "     ENEV3_close  ENEV3_cum_change  \n",
       "0          13.44          0.000000  \n",
       "1          12.91         -3.943451  \n",
       "2          12.40         -7.738095  \n",
       "3          12.21         -9.151783  \n",
       "4          11.93        -11.235114  \n",
       "..           ...               ...  \n",
       "121        15.35         14.211316  \n",
       "122        14.97         11.383934  \n",
       "123        14.77          9.895840  \n",
       "124        15.14         12.648816  \n",
       "125        14.83         10.342265  \n",
       "\n",
       "[126 rows x 11 columns]"
      ]
     },
     "execution_count": 375,
     "metadata": {},
     "output_type": "execute_result"
    }
   ],
   "source": [
    "#Finally, let's merge the index dataframe with our wallet dataframe\n",
    "final_df = pd.merge(ibov, wallet_df, on='date')\n",
    "final_df.iloc[:,1:].apply(pd.to_numeric)\n",
    "for column in final_df.columns:\n",
    "    if column not in ['date']:\n",
    "        final_df[column] = final_df[column].astype(float)\n",
    "final_df"
   ]
  },
  {
   "cell_type": "code",
   "execution_count": 376,
   "id": "e95b9477-699d-4140-963b-c1874c2d3c61",
   "metadata": {},
   "outputs": [
    {
     "data": {
      "text/html": [
       "<div>\n",
       "<style scoped>\n",
       "    .dataframe tbody tr th:only-of-type {\n",
       "        vertical-align: middle;\n",
       "    }\n",
       "\n",
       "    .dataframe tbody tr th {\n",
       "        vertical-align: top;\n",
       "    }\n",
       "\n",
       "    .dataframe thead th {\n",
       "        text-align: right;\n",
       "    }\n",
       "</style>\n",
       "<table border=\"1\" class=\"dataframe\">\n",
       "  <thead>\n",
       "    <tr style=\"text-align: right;\">\n",
       "      <th></th>\n",
       "      <th>date</th>\n",
       "      <th>ibov_close</th>\n",
       "      <th>ibov_cum_change</th>\n",
       "      <th>CIEL3_close</th>\n",
       "      <th>CIEL3_cum_change</th>\n",
       "      <th>BRFS3_close</th>\n",
       "      <th>BRFS3_cum_change</th>\n",
       "      <th>BBDC4_close</th>\n",
       "      <th>BBDC4_cum_change</th>\n",
       "      <th>ENEV3_close</th>\n",
       "      <th>ENEV3_cum_change</th>\n",
       "      <th>total_cum_change</th>\n",
       "    </tr>\n",
       "  </thead>\n",
       "  <tbody>\n",
       "    <tr>\n",
       "      <th>0</th>\n",
       "      <td>2022-01-03</td>\n",
       "      <td>103922.00000</td>\n",
       "      <td>0.000000</td>\n",
       "      <td>2.19</td>\n",
       "      <td>0.000000</td>\n",
       "      <td>23.219999</td>\n",
       "      <td>0.000000</td>\n",
       "      <td>17.900000</td>\n",
       "      <td>0.000000</td>\n",
       "      <td>13.44</td>\n",
       "      <td>0.000000</td>\n",
       "      <td>0.000000</td>\n",
       "    </tr>\n",
       "    <tr>\n",
       "      <th>1</th>\n",
       "      <td>2022-01-04</td>\n",
       "      <td>103514.00000</td>\n",
       "      <td>-0.392602</td>\n",
       "      <td>2.12</td>\n",
       "      <td>-3.196355</td>\n",
       "      <td>22.420000</td>\n",
       "      <td>-3.445303</td>\n",
       "      <td>18.000000</td>\n",
       "      <td>0.558661</td>\n",
       "      <td>12.91</td>\n",
       "      <td>-3.943451</td>\n",
       "      <td>-2.506612</td>\n",
       "    </tr>\n",
       "    <tr>\n",
       "      <th>2</th>\n",
       "      <td>2022-01-05</td>\n",
       "      <td>101006.00000</td>\n",
       "      <td>-2.805951</td>\n",
       "      <td>2.11</td>\n",
       "      <td>-3.652975</td>\n",
       "      <td>22.700001</td>\n",
       "      <td>-2.239443</td>\n",
       "      <td>17.872726</td>\n",
       "      <td>-0.152364</td>\n",
       "      <td>12.40</td>\n",
       "      <td>-7.738095</td>\n",
       "      <td>-3.445719</td>\n",
       "    </tr>\n",
       "    <tr>\n",
       "      <th>3</th>\n",
       "      <td>2022-01-06</td>\n",
       "      <td>101561.00000</td>\n",
       "      <td>-2.271896</td>\n",
       "      <td>2.06</td>\n",
       "      <td>-5.936078</td>\n",
       "      <td>24.299999</td>\n",
       "      <td>4.651163</td>\n",
       "      <td>18.127272</td>\n",
       "      <td>1.269676</td>\n",
       "      <td>12.21</td>\n",
       "      <td>-9.151783</td>\n",
       "      <td>-2.291755</td>\n",
       "    </tr>\n",
       "    <tr>\n",
       "      <th>4</th>\n",
       "      <td>2022-01-07</td>\n",
       "      <td>102719.00000</td>\n",
       "      <td>-1.157599</td>\n",
       "      <td>2.05</td>\n",
       "      <td>-6.392699</td>\n",
       "      <td>24.600000</td>\n",
       "      <td>5.943157</td>\n",
       "      <td>18.390909</td>\n",
       "      <td>2.742512</td>\n",
       "      <td>11.93</td>\n",
       "      <td>-11.235114</td>\n",
       "      <td>-2.235536</td>\n",
       "    </tr>\n",
       "    <tr>\n",
       "      <th>...</th>\n",
       "      <td>...</td>\n",
       "      <td>...</td>\n",
       "      <td>...</td>\n",
       "      <td>...</td>\n",
       "      <td>...</td>\n",
       "      <td>...</td>\n",
       "      <td>...</td>\n",
       "      <td>...</td>\n",
       "      <td>...</td>\n",
       "      <td>...</td>\n",
       "      <td>...</td>\n",
       "      <td>...</td>\n",
       "    </tr>\n",
       "    <tr>\n",
       "      <th>121</th>\n",
       "      <td>2022-06-28</td>\n",
       "      <td>100591.00000</td>\n",
       "      <td>-3.205289</td>\n",
       "      <td>3.85</td>\n",
       "      <td>75.799078</td>\n",
       "      <td>14.480000</td>\n",
       "      <td>-37.639966</td>\n",
       "      <td>17.910000</td>\n",
       "      <td>0.055867</td>\n",
       "      <td>15.35</td>\n",
       "      <td>14.211316</td>\n",
       "      <td>13.106574</td>\n",
       "    </tr>\n",
       "    <tr>\n",
       "      <th>122</th>\n",
       "      <td>2022-06-29</td>\n",
       "      <td>99622.00000</td>\n",
       "      <td>-4.137719</td>\n",
       "      <td>3.78</td>\n",
       "      <td>72.602734</td>\n",
       "      <td>14.140000</td>\n",
       "      <td>-39.104217</td>\n",
       "      <td>17.600000</td>\n",
       "      <td>-1.675973</td>\n",
       "      <td>14.97</td>\n",
       "      <td>11.383934</td>\n",
       "      <td>10.801619</td>\n",
       "    </tr>\n",
       "    <tr>\n",
       "      <th>123</th>\n",
       "      <td>2022-06-30</td>\n",
       "      <td>98542.00000</td>\n",
       "      <td>-5.176960</td>\n",
       "      <td>3.75</td>\n",
       "      <td>71.232872</td>\n",
       "      <td>13.590000</td>\n",
       "      <td>-41.472866</td>\n",
       "      <td>17.200001</td>\n",
       "      <td>-3.910608</td>\n",
       "      <td>14.77</td>\n",
       "      <td>9.895840</td>\n",
       "      <td>8.936310</td>\n",
       "    </tr>\n",
       "    <tr>\n",
       "      <th>124</th>\n",
       "      <td>2022-07-01</td>\n",
       "      <td>98954.00000</td>\n",
       "      <td>-4.780508</td>\n",
       "      <td>3.93</td>\n",
       "      <td>79.452053</td>\n",
       "      <td>14.280000</td>\n",
       "      <td>-38.501291</td>\n",
       "      <td>17.330000</td>\n",
       "      <td>-3.184356</td>\n",
       "      <td>15.14</td>\n",
       "      <td>12.648816</td>\n",
       "      <td>12.603805</td>\n",
       "    </tr>\n",
       "    <tr>\n",
       "      <th>125</th>\n",
       "      <td>2022-07-04</td>\n",
       "      <td>98784.09375</td>\n",
       "      <td>-4.944002</td>\n",
       "      <td>3.87</td>\n",
       "      <td>76.712319</td>\n",
       "      <td>14.720000</td>\n",
       "      <td>-36.606371</td>\n",
       "      <td>17.150000</td>\n",
       "      <td>-4.189944</td>\n",
       "      <td>14.83</td>\n",
       "      <td>10.342265</td>\n",
       "      <td>11.564567</td>\n",
       "    </tr>\n",
       "  </tbody>\n",
       "</table>\n",
       "<p>126 rows × 12 columns</p>\n",
       "</div>"
      ],
      "text/plain": [
       "          date    ibov_close  ibov_cum_change  CIEL3_close  CIEL3_cum_change  \\\n",
       "0   2022-01-03  103922.00000         0.000000         2.19          0.000000   \n",
       "1   2022-01-04  103514.00000        -0.392602         2.12         -3.196355   \n",
       "2   2022-01-05  101006.00000        -2.805951         2.11         -3.652975   \n",
       "3   2022-01-06  101561.00000        -2.271896         2.06         -5.936078   \n",
       "4   2022-01-07  102719.00000        -1.157599         2.05         -6.392699   \n",
       "..         ...           ...              ...          ...               ...   \n",
       "121 2022-06-28  100591.00000        -3.205289         3.85         75.799078   \n",
       "122 2022-06-29   99622.00000        -4.137719         3.78         72.602734   \n",
       "123 2022-06-30   98542.00000        -5.176960         3.75         71.232872   \n",
       "124 2022-07-01   98954.00000        -4.780508         3.93         79.452053   \n",
       "125 2022-07-04   98784.09375        -4.944002         3.87         76.712319   \n",
       "\n",
       "     BRFS3_close  BRFS3_cum_change  BBDC4_close  BBDC4_cum_change  \\\n",
       "0      23.219999          0.000000    17.900000          0.000000   \n",
       "1      22.420000         -3.445303    18.000000          0.558661   \n",
       "2      22.700001         -2.239443    17.872726         -0.152364   \n",
       "3      24.299999          4.651163    18.127272          1.269676   \n",
       "4      24.600000          5.943157    18.390909          2.742512   \n",
       "..           ...               ...          ...               ...   \n",
       "121    14.480000        -37.639966    17.910000          0.055867   \n",
       "122    14.140000        -39.104217    17.600000         -1.675973   \n",
       "123    13.590000        -41.472866    17.200001         -3.910608   \n",
       "124    14.280000        -38.501291    17.330000         -3.184356   \n",
       "125    14.720000        -36.606371    17.150000         -4.189944   \n",
       "\n",
       "     ENEV3_close  ENEV3_cum_change  total_cum_change  \n",
       "0          13.44          0.000000          0.000000  \n",
       "1          12.91         -3.943451         -2.506612  \n",
       "2          12.40         -7.738095         -3.445719  \n",
       "3          12.21         -9.151783         -2.291755  \n",
       "4          11.93        -11.235114         -2.235536  \n",
       "..           ...               ...               ...  \n",
       "121        15.35         14.211316         13.106574  \n",
       "122        14.97         11.383934         10.801619  \n",
       "123        14.77          9.895840          8.936310  \n",
       "124        15.14         12.648816         12.603805  \n",
       "125        14.83         10.342265         11.564567  \n",
       "\n",
       "[126 rows x 12 columns]"
      ]
     },
     "execution_count": 376,
     "metadata": {},
     "output_type": "execute_result"
    }
   ],
   "source": [
    "#Computing total change\n",
    "total_change_columns = [column for column in final_df.columns if \"change\" in column and column not in ['ibov_cum_change', 'total_cum_change']]\n",
    "final_df['total_cum_change'] = final_df[total_change_columns].mean(axis=1)\n",
    "final_df"
   ]
  },
  {
   "cell_type": "markdown",
   "id": "4dfa7657-eaf3-4223-8e3d-9dd8faadb65b",
   "metadata": {
    "tags": []
   },
   "source": [
    "## Investment results"
   ]
  },
  {
   "cell_type": "code",
   "execution_count": 378,
   "id": "3ad242db-ec1d-41fa-8b9f-baaa708dca9b",
   "metadata": {},
   "outputs": [],
   "source": [
    "changes = [final_df[column] for column in final_df.columns if \"change\" in column and column not in ['ibov_cum_change','total_cum_change']]\n",
    "changes = pd.concat(changes, axis=1)\n",
    "changes_results = changes.iloc[-1].sort_values(ascending=False)"
   ]
  },
  {
   "cell_type": "code",
   "execution_count": 379,
   "id": "95a67dde-767e-4c6b-8a8f-e26c12651a6e",
   "metadata": {},
   "outputs": [
    {
     "name": "stdout",
     "output_type": "stream",
     "text": [
      "A ação do seu portfólio que teve melhor desempenho no período foi a CIEL3, com um rendimento de 76.71%.\n"
     ]
    }
   ],
   "source": [
    "print(f'A ação do seu portfólio que teve melhor desempenho no período foi a {changes_results.index[0].split(\"_\")[0]}, com um rendimento de {round(changes_results[0],2)}%.')"
   ]
  },
  {
   "cell_type": "code",
   "execution_count": 380,
   "id": "7578b388-419d-463b-8c80-7058f908f1ff",
   "metadata": {},
   "outputs": [
    {
     "name": "stdout",
     "output_type": "stream",
     "text": [
      "A ação do seu portfólio que teve pior desempenho no período foi a BRFS3, com um rendimento de -36.61%.\n"
     ]
    }
   ],
   "source": [
    "print(f'A ação do seu portfólio que teve pior desempenho no período foi a {changes_results.index[-1].split(\"_\")[0]}, com um rendimento de {round(changes_results[-1],2)}%.')"
   ]
  },
  {
   "cell_type": "code",
   "execution_count": 381,
   "id": "0851c391-53b0-4c87-a0a1-cf029b4c57fc",
   "metadata": {},
   "outputs": [
    {
     "name": "stdout",
     "output_type": "stream",
     "text": [
      "O seu portfólio teve um desempenho médio de 11.56% no período, 16.51% comparado ao Ibovespa.\n"
     ]
    }
   ],
   "source": [
    "print(f'O seu portfólio teve um desempenho médio de {round(final_df[\"total_cum_change\"].iloc[-1],2)}% no período, {round(final_df[\"total_cum_change\"].iloc[-1]-final_df[\"ibov_cum_change\"].iloc[-1],2)}% comparado ao Ibovespa.')"
   ]
  },
  {
   "cell_type": "markdown",
   "id": "ca568df8-3d11-455c-ae0f-beac3c94e382",
   "metadata": {
    "tags": []
   },
   "source": [
    "## Visualizing data"
   ]
  },
  {
   "cell_type": "code",
   "execution_count": 382,
   "id": "acbab9b7-2bb4-46d1-af21-343ecebb5962",
   "metadata": {},
   "outputs": [
    {
     "data": {
      "application/vnd.plotly.v1+json": {
       "config": {
        "plotlyServerURL": "https://plot.ly"
       },
       "data": [
        {
         "hovertemplate": "variable=CIEL3_close<br>date=%{x}<br>value=%{y}<extra></extra>",
         "legendgroup": "CIEL3_close",
         "line": {
          "color": "#636efa",
          "dash": "solid"
         },
         "marker": {
          "symbol": "circle"
         },
         "mode": "lines",
         "name": "CIEL3_close",
         "orientation": "v",
         "showlegend": true,
         "type": "scatter",
         "x": [
          "2022-01-03T00:00:00",
          "2022-01-04T00:00:00",
          "2022-01-05T00:00:00",
          "2022-01-06T00:00:00",
          "2022-01-07T00:00:00",
          "2022-01-10T00:00:00",
          "2022-01-11T00:00:00",
          "2022-01-12T00:00:00",
          "2022-01-13T00:00:00",
          "2022-01-14T00:00:00",
          "2022-01-17T00:00:00",
          "2022-01-18T00:00:00",
          "2022-01-19T00:00:00",
          "2022-01-20T00:00:00",
          "2022-01-21T00:00:00",
          "2022-01-24T00:00:00",
          "2022-01-25T00:00:00",
          "2022-01-26T00:00:00",
          "2022-01-27T00:00:00",
          "2022-01-28T00:00:00",
          "2022-01-31T00:00:00",
          "2022-02-01T00:00:00",
          "2022-02-02T00:00:00",
          "2022-02-03T00:00:00",
          "2022-02-04T00:00:00",
          "2022-02-07T00:00:00",
          "2022-02-08T00:00:00",
          "2022-02-09T00:00:00",
          "2022-02-10T00:00:00",
          "2022-02-11T00:00:00",
          "2022-02-14T00:00:00",
          "2022-02-15T00:00:00",
          "2022-02-16T00:00:00",
          "2022-02-17T00:00:00",
          "2022-02-18T00:00:00",
          "2022-02-21T00:00:00",
          "2022-02-22T00:00:00",
          "2022-02-23T00:00:00",
          "2022-02-24T00:00:00",
          "2022-02-25T00:00:00",
          "2022-03-02T00:00:00",
          "2022-03-03T00:00:00",
          "2022-03-04T00:00:00",
          "2022-03-07T00:00:00",
          "2022-03-08T00:00:00",
          "2022-03-09T00:00:00",
          "2022-03-10T00:00:00",
          "2022-03-11T00:00:00",
          "2022-03-14T00:00:00",
          "2022-03-15T00:00:00",
          "2022-03-16T00:00:00",
          "2022-03-17T00:00:00",
          "2022-03-18T00:00:00",
          "2022-03-21T00:00:00",
          "2022-03-22T00:00:00",
          "2022-03-23T00:00:00",
          "2022-03-24T00:00:00",
          "2022-03-25T00:00:00",
          "2022-03-28T00:00:00",
          "2022-03-29T00:00:00",
          "2022-03-30T00:00:00",
          "2022-03-31T00:00:00",
          "2022-04-01T00:00:00",
          "2022-04-04T00:00:00",
          "2022-04-05T00:00:00",
          "2022-04-06T00:00:00",
          "2022-04-07T00:00:00",
          "2022-04-08T00:00:00",
          "2022-04-11T00:00:00",
          "2022-04-12T00:00:00",
          "2022-04-13T00:00:00",
          "2022-04-14T00:00:00",
          "2022-04-18T00:00:00",
          "2022-04-19T00:00:00",
          "2022-04-20T00:00:00",
          "2022-04-22T00:00:00",
          "2022-04-25T00:00:00",
          "2022-04-26T00:00:00",
          "2022-04-27T00:00:00",
          "2022-04-28T00:00:00",
          "2022-04-29T00:00:00",
          "2022-05-02T00:00:00",
          "2022-05-03T00:00:00",
          "2022-05-04T00:00:00",
          "2022-05-05T00:00:00",
          "2022-05-06T00:00:00",
          "2022-05-09T00:00:00",
          "2022-05-10T00:00:00",
          "2022-05-11T00:00:00",
          "2022-05-12T00:00:00",
          "2022-05-13T00:00:00",
          "2022-05-16T00:00:00",
          "2022-05-17T00:00:00",
          "2022-05-18T00:00:00",
          "2022-05-19T00:00:00",
          "2022-05-20T00:00:00",
          "2022-05-23T00:00:00",
          "2022-05-24T00:00:00",
          "2022-05-25T00:00:00",
          "2022-05-26T00:00:00",
          "2022-05-27T00:00:00",
          "2022-05-30T00:00:00",
          "2022-05-31T00:00:00",
          "2022-06-01T00:00:00",
          "2022-06-02T00:00:00",
          "2022-06-03T00:00:00",
          "2022-06-06T00:00:00",
          "2022-06-07T00:00:00",
          "2022-06-08T00:00:00",
          "2022-06-09T00:00:00",
          "2022-06-10T00:00:00",
          "2022-06-13T00:00:00",
          "2022-06-14T00:00:00",
          "2022-06-15T00:00:00",
          "2022-06-17T00:00:00",
          "2022-06-20T00:00:00",
          "2022-06-21T00:00:00",
          "2022-06-22T00:00:00",
          "2022-06-23T00:00:00",
          "2022-06-24T00:00:00",
          "2022-06-27T00:00:00",
          "2022-06-28T00:00:00",
          "2022-06-29T00:00:00",
          "2022-06-30T00:00:00",
          "2022-07-01T00:00:00",
          "2022-07-04T00:00:00"
         ],
         "xaxis": "x",
         "y": [
          2.190000057220459,
          2.119999885559082,
          2.109999895095825,
          2.059999942779541,
          2.049999952316284,
          2.009999990463257,
          2.0799999237060547,
          2.0299999713897705,
          2.0199999809265137,
          2.0199999809265137,
          2.119999885559082,
          2.049999952316284,
          2.0799999237060547,
          2.140000104904175,
          2.069999933242798,
          2.049999952316284,
          2.180000066757202,
          2.190000057220459,
          2.1500000953674316,
          2.2799999713897705,
          2.299999952316284,
          2.299999952316284,
          2.3299999237060547,
          2.190000057220459,
          2.3299999237060547,
          2.3399999141693115,
          2.319999933242798,
          2.309999942779541,
          2.380000114440918,
          2.319999933242798,
          2.380000114440918,
          2.369999885559082,
          2.490000009536743,
          2.5199999809265137,
          2.8299999237060547,
          2.6600000858306885,
          2.609999895095825,
          2.5999999046325684,
          2.6500000953674316,
          2.569999933242798,
          2.4700000286102295,
          2.5999999046325684,
          2.4700000286102295,
          2.2899999618530273,
          2.4200000762939453,
          2.5199999809265137,
          2.509999990463257,
          2.490000009536743,
          2.440000057220459,
          2.569999933242798,
          2.490000009536743,
          2.5,
          2.680000066757202,
          2.700000047683716,
          2.690000057220459,
          2.7100000381469727,
          2.8299999237060547,
          2.890000104904175,
          2.859999895095825,
          2.930000066757202,
          2.9800000190734863,
          3.109999895095825,
          3.359999895095825,
          3.3499999046325684,
          3.25,
          3.240000009536743,
          3.299999952316284,
          3.4200000762939453,
          3.4700000286102295,
          3.609999895095825,
          3.5899999141693115,
          3.5799999237060547,
          3.6500000953674316,
          3.569999933242798,
          3.5199999809265137,
          3.440000057220459,
          3.509999990463257,
          3.380000114440918,
          3.440000057220459,
          3.609999895095825,
          3.4000000953674316,
          3.319999933242798,
          3.4200000762939453,
          3.4200000762939453,
          3.119999885559082,
          3.109999895095825,
          3.0799999237060547,
          3.109999895095825,
          3.059999942779541,
          3.180000066757202,
          3.25,
          3.319999933242798,
          3.380000114440918,
          3.380000114440918,
          3.450000047683716,
          3.549999952316284,
          3.640000104904175,
          3.6500000953674316,
          3.630000114440918,
          4.039999961853027,
          3.990000009536743,
          3.930000066757202,
          3.950000047683716,
          3.9800000190734863,
          3.950000047683716,
          3.950000047683716,
          3.9700000286102295,
          3.799999952316284,
          3.7699999809265137,
          3.759999990463257,
          3.7799999713897705,
          3.8299999237060547,
          3.7799999713897705,
          3.940000057220459,
          3.8499999046325684,
          3.799999952316284,
          3.9000000953674316,
          3.940000057220459,
          3.950000047683716,
          3.859999895095825,
          3.859999895095825,
          3.8499999046325684,
          3.7799999713897705,
          3.75,
          3.930000066757202,
          3.869999885559082
         ],
         "yaxis": "y"
        },
        {
         "hovertemplate": "variable=BRFS3_close<br>date=%{x}<br>value=%{y}<extra></extra>",
         "legendgroup": "BRFS3_close",
         "line": {
          "color": "#EF553B",
          "dash": "solid"
         },
         "marker": {
          "symbol": "circle"
         },
         "mode": "lines",
         "name": "BRFS3_close",
         "orientation": "v",
         "showlegend": true,
         "type": "scatter",
         "x": [
          "2022-01-03T00:00:00",
          "2022-01-04T00:00:00",
          "2022-01-05T00:00:00",
          "2022-01-06T00:00:00",
          "2022-01-07T00:00:00",
          "2022-01-10T00:00:00",
          "2022-01-11T00:00:00",
          "2022-01-12T00:00:00",
          "2022-01-13T00:00:00",
          "2022-01-14T00:00:00",
          "2022-01-17T00:00:00",
          "2022-01-18T00:00:00",
          "2022-01-19T00:00:00",
          "2022-01-20T00:00:00",
          "2022-01-21T00:00:00",
          "2022-01-24T00:00:00",
          "2022-01-25T00:00:00",
          "2022-01-26T00:00:00",
          "2022-01-27T00:00:00",
          "2022-01-28T00:00:00",
          "2022-01-31T00:00:00",
          "2022-02-01T00:00:00",
          "2022-02-02T00:00:00",
          "2022-02-03T00:00:00",
          "2022-02-04T00:00:00",
          "2022-02-07T00:00:00",
          "2022-02-08T00:00:00",
          "2022-02-09T00:00:00",
          "2022-02-10T00:00:00",
          "2022-02-11T00:00:00",
          "2022-02-14T00:00:00",
          "2022-02-15T00:00:00",
          "2022-02-16T00:00:00",
          "2022-02-17T00:00:00",
          "2022-02-18T00:00:00",
          "2022-02-21T00:00:00",
          "2022-02-22T00:00:00",
          "2022-02-23T00:00:00",
          "2022-02-24T00:00:00",
          "2022-02-25T00:00:00",
          "2022-03-02T00:00:00",
          "2022-03-03T00:00:00",
          "2022-03-04T00:00:00",
          "2022-03-07T00:00:00",
          "2022-03-08T00:00:00",
          "2022-03-09T00:00:00",
          "2022-03-10T00:00:00",
          "2022-03-11T00:00:00",
          "2022-03-14T00:00:00",
          "2022-03-15T00:00:00",
          "2022-03-16T00:00:00",
          "2022-03-17T00:00:00",
          "2022-03-18T00:00:00",
          "2022-03-21T00:00:00",
          "2022-03-22T00:00:00",
          "2022-03-23T00:00:00",
          "2022-03-24T00:00:00",
          "2022-03-25T00:00:00",
          "2022-03-28T00:00:00",
          "2022-03-29T00:00:00",
          "2022-03-30T00:00:00",
          "2022-03-31T00:00:00",
          "2022-04-01T00:00:00",
          "2022-04-04T00:00:00",
          "2022-04-05T00:00:00",
          "2022-04-06T00:00:00",
          "2022-04-07T00:00:00",
          "2022-04-08T00:00:00",
          "2022-04-11T00:00:00",
          "2022-04-12T00:00:00",
          "2022-04-13T00:00:00",
          "2022-04-14T00:00:00",
          "2022-04-18T00:00:00",
          "2022-04-19T00:00:00",
          "2022-04-20T00:00:00",
          "2022-04-22T00:00:00",
          "2022-04-25T00:00:00",
          "2022-04-26T00:00:00",
          "2022-04-27T00:00:00",
          "2022-04-28T00:00:00",
          "2022-04-29T00:00:00",
          "2022-05-02T00:00:00",
          "2022-05-03T00:00:00",
          "2022-05-04T00:00:00",
          "2022-05-05T00:00:00",
          "2022-05-06T00:00:00",
          "2022-05-09T00:00:00",
          "2022-05-10T00:00:00",
          "2022-05-11T00:00:00",
          "2022-05-12T00:00:00",
          "2022-05-13T00:00:00",
          "2022-05-16T00:00:00",
          "2022-05-17T00:00:00",
          "2022-05-18T00:00:00",
          "2022-05-19T00:00:00",
          "2022-05-20T00:00:00",
          "2022-05-23T00:00:00",
          "2022-05-24T00:00:00",
          "2022-05-25T00:00:00",
          "2022-05-26T00:00:00",
          "2022-05-27T00:00:00",
          "2022-05-30T00:00:00",
          "2022-05-31T00:00:00",
          "2022-06-01T00:00:00",
          "2022-06-02T00:00:00",
          "2022-06-03T00:00:00",
          "2022-06-06T00:00:00",
          "2022-06-07T00:00:00",
          "2022-06-08T00:00:00",
          "2022-06-09T00:00:00",
          "2022-06-10T00:00:00",
          "2022-06-13T00:00:00",
          "2022-06-14T00:00:00",
          "2022-06-15T00:00:00",
          "2022-06-17T00:00:00",
          "2022-06-20T00:00:00",
          "2022-06-21T00:00:00",
          "2022-06-22T00:00:00",
          "2022-06-23T00:00:00",
          "2022-06-24T00:00:00",
          "2022-06-27T00:00:00",
          "2022-06-28T00:00:00",
          "2022-06-29T00:00:00",
          "2022-06-30T00:00:00",
          "2022-07-01T00:00:00",
          "2022-07-04T00:00:00"
         ],
         "xaxis": "x",
         "y": [
          23.219999313354492,
          22.420000076293945,
          22.700000762939453,
          24.299999237060547,
          24.600000381469727,
          23.520000457763672,
          23.219999313354492,
          23.84000015258789,
          24.010000228881836,
          24.299999237060547,
          24.75,
          23.31999969482422,
          23.709999084472656,
          23.360000610351562,
          22.690000534057617,
          23.459999084472656,
          23.25,
          22.81999969482422,
          23.100000381469727,
          22.850000381469727,
          22.329999923706055,
          21.6299991607666,
          19.950000762939453,
          19.850000381469727,
          18.75,
          18.3700008392334,
          18.350000381469727,
          18.899999618530273,
          19.139999389648438,
          18.809999465942383,
          18.959999084472656,
          19,
          19,
          18.950000762939453,
          18.81999969482422,
          18.34000015258789,
          19.350000381469727,
          18.459999084472656,
          17.34000015258789,
          16.709999084472656,
          16.520000457763672,
          16.020000457763672,
          15.430000305175781,
          14.359999656677246,
          15.369999885559082,
          16.540000915527344,
          15.90999984741211,
          15.430000305175781,
          15.25,
          15.470000267028809,
          16.239999771118164,
          16.59000015258789,
          16.799999237060547,
          16.6299991607666,
          17.229999542236328,
          16.56999969482422,
          16.969999313354492,
          17,
          17.389999389648438,
          18.170000076293945,
          18.15999984741211,
          18.59000015258789,
          18.84000015258789,
          18.3700008392334,
          17.850000381469727,
          17.860000610351562,
          17.81999969482422,
          17.440000534057617,
          16.200000762939453,
          15.899999618530273,
          15.779999732971191,
          15.229999542236328,
          15.25,
          15.289999961853027,
          14.760000228881836,
          14.510000228881836,
          13.979999542236328,
          13.4399995803833,
          13.9399995803833,
          13.989999771118164,
          13.579999923706055,
          13.279999732971191,
          13.369999885559082,
          13.65999984741211,
          12.770000457763672,
          11.989999771118164,
          12.319999694824219,
          12.579999923706055,
          12.390000343322754,
          12.579999923706055,
          13.880000114440918,
          13.930000305175781,
          14.3100004196167,
          13.579999923706055,
          13.449999809265137,
          13.569999694824219,
          14.229999542236328,
          14.350000381469727,
          14.220000267028809,
          14.529999732971191,
          15.229999542236328,
          15.050000190734863,
          15.649999618530273,
          15.34000015258789,
          15.40999984741211,
          15.199999809265137,
          15.149999618530273,
          15.149999618530273,
          14.890000343322754,
          14.960000038146973,
          15,
          13.899999618530273,
          13.15999984741211,
          12.979999542236328,
          12.829999923706055,
          12.430000305175781,
          12.470000267028809,
          13.069999694824219,
          14.09000015258789,
          14.539999961853027,
          14.760000228881836,
          14.479999542236328,
          14.140000343322754,
          13.59000015258789,
          14.279999732971191,
          14.720000267028809
         ],
         "yaxis": "y"
        },
        {
         "hovertemplate": "variable=BBDC4_close<br>date=%{x}<br>value=%{y}<extra></extra>",
         "legendgroup": "BBDC4_close",
         "line": {
          "color": "#00cc96",
          "dash": "solid"
         },
         "marker": {
          "symbol": "circle"
         },
         "mode": "lines",
         "name": "BBDC4_close",
         "orientation": "v",
         "showlegend": true,
         "type": "scatter",
         "x": [
          "2022-01-03T00:00:00",
          "2022-01-04T00:00:00",
          "2022-01-05T00:00:00",
          "2022-01-06T00:00:00",
          "2022-01-07T00:00:00",
          "2022-01-10T00:00:00",
          "2022-01-11T00:00:00",
          "2022-01-12T00:00:00",
          "2022-01-13T00:00:00",
          "2022-01-14T00:00:00",
          "2022-01-17T00:00:00",
          "2022-01-18T00:00:00",
          "2022-01-19T00:00:00",
          "2022-01-20T00:00:00",
          "2022-01-21T00:00:00",
          "2022-01-24T00:00:00",
          "2022-01-25T00:00:00",
          "2022-01-26T00:00:00",
          "2022-01-27T00:00:00",
          "2022-01-28T00:00:00",
          "2022-01-31T00:00:00",
          "2022-02-01T00:00:00",
          "2022-02-02T00:00:00",
          "2022-02-03T00:00:00",
          "2022-02-04T00:00:00",
          "2022-02-07T00:00:00",
          "2022-02-08T00:00:00",
          "2022-02-09T00:00:00",
          "2022-02-10T00:00:00",
          "2022-02-11T00:00:00",
          "2022-02-14T00:00:00",
          "2022-02-15T00:00:00",
          "2022-02-16T00:00:00",
          "2022-02-17T00:00:00",
          "2022-02-18T00:00:00",
          "2022-02-21T00:00:00",
          "2022-02-22T00:00:00",
          "2022-02-23T00:00:00",
          "2022-02-24T00:00:00",
          "2022-02-25T00:00:00",
          "2022-03-02T00:00:00",
          "2022-03-03T00:00:00",
          "2022-03-04T00:00:00",
          "2022-03-07T00:00:00",
          "2022-03-08T00:00:00",
          "2022-03-09T00:00:00",
          "2022-03-10T00:00:00",
          "2022-03-11T00:00:00",
          "2022-03-14T00:00:00",
          "2022-03-15T00:00:00",
          "2022-03-16T00:00:00",
          "2022-03-17T00:00:00",
          "2022-03-18T00:00:00",
          "2022-03-21T00:00:00",
          "2022-03-22T00:00:00",
          "2022-03-23T00:00:00",
          "2022-03-24T00:00:00",
          "2022-03-25T00:00:00",
          "2022-03-28T00:00:00",
          "2022-03-29T00:00:00",
          "2022-03-30T00:00:00",
          "2022-03-31T00:00:00",
          "2022-04-01T00:00:00",
          "2022-04-04T00:00:00",
          "2022-04-05T00:00:00",
          "2022-04-06T00:00:00",
          "2022-04-07T00:00:00",
          "2022-04-08T00:00:00",
          "2022-04-11T00:00:00",
          "2022-04-12T00:00:00",
          "2022-04-13T00:00:00",
          "2022-04-14T00:00:00",
          "2022-04-18T00:00:00",
          "2022-04-19T00:00:00",
          "2022-04-20T00:00:00",
          "2022-04-22T00:00:00",
          "2022-04-25T00:00:00",
          "2022-04-26T00:00:00",
          "2022-04-27T00:00:00",
          "2022-04-28T00:00:00",
          "2022-04-29T00:00:00",
          "2022-05-02T00:00:00",
          "2022-05-03T00:00:00",
          "2022-05-04T00:00:00",
          "2022-05-05T00:00:00",
          "2022-05-06T00:00:00",
          "2022-05-09T00:00:00",
          "2022-05-10T00:00:00",
          "2022-05-11T00:00:00",
          "2022-05-12T00:00:00",
          "2022-05-13T00:00:00",
          "2022-05-16T00:00:00",
          "2022-05-17T00:00:00",
          "2022-05-18T00:00:00",
          "2022-05-19T00:00:00",
          "2022-05-20T00:00:00",
          "2022-05-23T00:00:00",
          "2022-05-24T00:00:00",
          "2022-05-25T00:00:00",
          "2022-05-26T00:00:00",
          "2022-05-27T00:00:00",
          "2022-05-30T00:00:00",
          "2022-05-31T00:00:00",
          "2022-06-01T00:00:00",
          "2022-06-02T00:00:00",
          "2022-06-03T00:00:00",
          "2022-06-06T00:00:00",
          "2022-06-07T00:00:00",
          "2022-06-08T00:00:00",
          "2022-06-09T00:00:00",
          "2022-06-10T00:00:00",
          "2022-06-13T00:00:00",
          "2022-06-14T00:00:00",
          "2022-06-15T00:00:00",
          "2022-06-17T00:00:00",
          "2022-06-20T00:00:00",
          "2022-06-21T00:00:00",
          "2022-06-22T00:00:00",
          "2022-06-23T00:00:00",
          "2022-06-24T00:00:00",
          "2022-06-27T00:00:00",
          "2022-06-28T00:00:00",
          "2022-06-29T00:00:00",
          "2022-06-30T00:00:00",
          "2022-07-01T00:00:00",
          "2022-07-04T00:00:00"
         ],
         "xaxis": "x",
         "y": [
          17.899999618530273,
          18,
          17.872726440429688,
          18.12727165222168,
          18.39090919494629,
          18.454544067382812,
          18.4818172454834,
          18.3454532623291,
          18.672727584838867,
          18.972726821899414,
          19.081817626953125,
          19.42727279663086,
          19.18181800842285,
          19.16363525390625,
          18.96363639831543,
          19.363636016845703,
          20.136362075805664,
          20.154544830322266,
          20.254545211791992,
          20.545454025268555,
          20.727272033691406,
          20.799999237060547,
          20.409090042114258,
          20.709089279174805,
          20.8454532623291,
          20.77272605895996,
          20.654544830322266,
          18.881818771362305,
          19.154544830322266,
          19.218181610107422,
          19.245454788208008,
          19.263635635375977,
          19.490909576416016,
          19.263635635375977,
          19.372726440429688,
          19.14545440673828,
          19.07272720336914,
          18.9818172454834,
          18.409090042114258,
          18.5,
          18.30908966064453,
          18.64545440673828,
          18.10909080505371,
          17.64545440673828,
          17.872726440429688,
          19.01818084716797,
          18.899999618530273,
          18.818180084228516,
          18.954544067382812,
          18.909090042114258,
          19.18181800842285,
          19.254545211791992,
          19.209089279174805,
          19.66363525390625,
          19.909090042114258,
          19.781818389892578,
          20.07272720336914,
          20.254545211791992,
          20.154544830322266,
          20.51818084716797,
          20.39090919494629,
          20.200000762939453,
          19.9818172454834,
          19.881818771362305,
          19.327272415161133,
          19.227272033691406,
          19.30908966064453,
          19.527271270751953,
          19.5,
          19.327272415161133,
          19.527271270751953,
          19.4818172454834,
          19.827272415161133,
          19.56999969482422,
          19.5,
          19.219999313354492,
          19.100000381469727,
          18.280000686645508,
          18.389999389648438,
          18.219999313354492,
          17.979999542236328,
          17.969999313354492,
          18.06999969482422,
          18.329999923706055,
          17.729999542236328,
          18.100000381469727,
          18.3700008392334,
          18.549999237060547,
          18.8700008392334,
          18.989999771118164,
          19.209999084472656,
          19.530000686645508,
          19.93000030517578,
          19.559999465942383,
          19.40999984741211,
          19.670000076293945,
          19.989999771118164,
          20.40999984741211,
          20.18000030517578,
          20.290000915527344,
          20.579999923706055,
          20.3799991607666,
          20.5,
          20.1299991607666,
          20.030000686645508,
          19.90999984741211,
          19.93000030517578,
          19.760000228881836,
          19.40999984741211,
          19.399999618530273,
          19.110000610351562,
          18.829999923706055,
          18.639999389648438,
          18.770000457763672,
          18.479999542236328,
          18.969999313354492,
          18.639999389648438,
          18.559999465942383,
          18.06999969482422,
          17.920000076293945,
          18.170000076293945,
          17.90999984741211,
          17.600000381469727,
          17.200000762939453,
          17.329999923706055,
          17.149999618530273
         ],
         "yaxis": "y"
        },
        {
         "hovertemplate": "variable=ENEV3_close<br>date=%{x}<br>value=%{y}<extra></extra>",
         "legendgroup": "ENEV3_close",
         "line": {
          "color": "#ab63fa",
          "dash": "solid"
         },
         "marker": {
          "symbol": "circle"
         },
         "mode": "lines",
         "name": "ENEV3_close",
         "orientation": "v",
         "showlegend": true,
         "type": "scatter",
         "x": [
          "2022-01-03T00:00:00",
          "2022-01-04T00:00:00",
          "2022-01-05T00:00:00",
          "2022-01-06T00:00:00",
          "2022-01-07T00:00:00",
          "2022-01-10T00:00:00",
          "2022-01-11T00:00:00",
          "2022-01-12T00:00:00",
          "2022-01-13T00:00:00",
          "2022-01-14T00:00:00",
          "2022-01-17T00:00:00",
          "2022-01-18T00:00:00",
          "2022-01-19T00:00:00",
          "2022-01-20T00:00:00",
          "2022-01-21T00:00:00",
          "2022-01-24T00:00:00",
          "2022-01-25T00:00:00",
          "2022-01-26T00:00:00",
          "2022-01-27T00:00:00",
          "2022-01-28T00:00:00",
          "2022-01-31T00:00:00",
          "2022-02-01T00:00:00",
          "2022-02-02T00:00:00",
          "2022-02-03T00:00:00",
          "2022-02-04T00:00:00",
          "2022-02-07T00:00:00",
          "2022-02-08T00:00:00",
          "2022-02-09T00:00:00",
          "2022-02-10T00:00:00",
          "2022-02-11T00:00:00",
          "2022-02-14T00:00:00",
          "2022-02-15T00:00:00",
          "2022-02-16T00:00:00",
          "2022-02-17T00:00:00",
          "2022-02-18T00:00:00",
          "2022-02-21T00:00:00",
          "2022-02-22T00:00:00",
          "2022-02-23T00:00:00",
          "2022-02-24T00:00:00",
          "2022-02-25T00:00:00",
          "2022-03-02T00:00:00",
          "2022-03-03T00:00:00",
          "2022-03-04T00:00:00",
          "2022-03-07T00:00:00",
          "2022-03-08T00:00:00",
          "2022-03-09T00:00:00",
          "2022-03-10T00:00:00",
          "2022-03-11T00:00:00",
          "2022-03-14T00:00:00",
          "2022-03-15T00:00:00",
          "2022-03-16T00:00:00",
          "2022-03-17T00:00:00",
          "2022-03-18T00:00:00",
          "2022-03-21T00:00:00",
          "2022-03-22T00:00:00",
          "2022-03-23T00:00:00",
          "2022-03-24T00:00:00",
          "2022-03-25T00:00:00",
          "2022-03-28T00:00:00",
          "2022-03-29T00:00:00",
          "2022-03-30T00:00:00",
          "2022-03-31T00:00:00",
          "2022-04-01T00:00:00",
          "2022-04-04T00:00:00",
          "2022-04-05T00:00:00",
          "2022-04-06T00:00:00",
          "2022-04-07T00:00:00",
          "2022-04-08T00:00:00",
          "2022-04-11T00:00:00",
          "2022-04-12T00:00:00",
          "2022-04-13T00:00:00",
          "2022-04-14T00:00:00",
          "2022-04-18T00:00:00",
          "2022-04-19T00:00:00",
          "2022-04-20T00:00:00",
          "2022-04-22T00:00:00",
          "2022-04-25T00:00:00",
          "2022-04-26T00:00:00",
          "2022-04-27T00:00:00",
          "2022-04-28T00:00:00",
          "2022-04-29T00:00:00",
          "2022-05-02T00:00:00",
          "2022-05-03T00:00:00",
          "2022-05-04T00:00:00",
          "2022-05-05T00:00:00",
          "2022-05-06T00:00:00",
          "2022-05-09T00:00:00",
          "2022-05-10T00:00:00",
          "2022-05-11T00:00:00",
          "2022-05-12T00:00:00",
          "2022-05-13T00:00:00",
          "2022-05-16T00:00:00",
          "2022-05-17T00:00:00",
          "2022-05-18T00:00:00",
          "2022-05-19T00:00:00",
          "2022-05-20T00:00:00",
          "2022-05-23T00:00:00",
          "2022-05-24T00:00:00",
          "2022-05-25T00:00:00",
          "2022-05-26T00:00:00",
          "2022-05-27T00:00:00",
          "2022-05-30T00:00:00",
          "2022-05-31T00:00:00",
          "2022-06-01T00:00:00",
          "2022-06-02T00:00:00",
          "2022-06-03T00:00:00",
          "2022-06-06T00:00:00",
          "2022-06-07T00:00:00",
          "2022-06-08T00:00:00",
          "2022-06-09T00:00:00",
          "2022-06-10T00:00:00",
          "2022-06-13T00:00:00",
          "2022-06-14T00:00:00",
          "2022-06-15T00:00:00",
          "2022-06-17T00:00:00",
          "2022-06-20T00:00:00",
          "2022-06-21T00:00:00",
          "2022-06-22T00:00:00",
          "2022-06-23T00:00:00",
          "2022-06-24T00:00:00",
          "2022-06-27T00:00:00",
          "2022-06-28T00:00:00",
          "2022-06-29T00:00:00",
          "2022-06-30T00:00:00",
          "2022-07-01T00:00:00",
          "2022-07-04T00:00:00"
         ],
         "xaxis": "x",
         "y": [
          13.4399995803833,
          12.90999984741211,
          12.399999618530273,
          12.210000038146973,
          11.930000305175781,
          11.960000038146973,
          12.119999885559082,
          12.510000228881836,
          12.170000076293945,
          12.699999809265137,
          12.609999656677246,
          12.550000190734863,
          12.90999984741211,
          12.9399995803833,
          12.930000305175781,
          12.75,
          12.890000343322754,
          13.069999694824219,
          13.199999809265137,
          12.670000076293945,
          13.210000038146973,
          13.260000228881836,
          13.220000267028809,
          13.359999656677246,
          13.329999923706055,
          13.069999694824219,
          13.079999923706055,
          13.460000038146973,
          13.470000267028809,
          13.40999984741211,
          13.359999656677246,
          13.680000305175781,
          14.010000228881836,
          13.880000114440918,
          13.65999984741211,
          13.390000343322754,
          13.59000015258789,
          13.430000305175781,
          13.5600004196167,
          13.470000267028809,
          13.479999542236328,
          13.15999984741211,
          12.789999961853027,
          12.229999542236328,
          12.479999542236328,
          12.989999771118164,
          12.5,
          11.979999542236328,
          11.930000305175781,
          12.029999732971191,
          12.149999618530273,
          12.649999618530273,
          13.880000114440918,
          13.390000343322754,
          14.279999732971191,
          14.489999771118164,
          15.100000381469727,
          15.25,
          14.979999542236328,
          15.300000190734863,
          14.890000343322754,
          14.779999732971191,
          15.050000190734863,
          14.8100004196167,
          14.649999618530273,
          14.770000457763672,
          14.8100004196167,
          15.40999984741211,
          15.3100004196167,
          15.479999542236328,
          15.390000343322754,
          15.5600004196167,
          14.899999618530273,
          14.869999885559082,
          14.6899995803833,
          14.149999618530273,
          14.329999923706055,
          13.90999984741211,
          13.739999771118164,
          13.850000381469727,
          13.720000267028809,
          13.369999885559082,
          13.489999771118164,
          14.050000190734863,
          13.479999542236328,
          13.5600004196167,
          13.079999923706055,
          13.220000267028809,
          12.970000267028809,
          13.260000228881836,
          13.600000381469727,
          14.300000190734863,
          14.4399995803833,
          14.460000038146973,
          14.729999542236328,
          14.84000015258789,
          14.470000267028809,
          14.770000457763672,
          14.920000076293945,
          15.449999809265137,
          15.34000015258789,
          15.539999961853027,
          15.579999923706055,
          15.319999694824219,
          14.850000381469727,
          14.699999809265137,
          14.510000228881836,
          14.1899995803833,
          14.369999885559082,
          14.34000015258789,
          14.369999885559082,
          13.949999809265137,
          13.640000343322754,
          14.180000305175781,
          14.539999961853027,
          14.680000305175781,
          14.850000381469727,
          14.869999885559082,
          14.369999885559082,
          14.359999656677246,
          15.1899995803833,
          15.350000381469727,
          14.970000267028809,
          14.770000457763672,
          15.140000343322754,
          14.829999923706055
         ],
         "yaxis": "y"
        }
       ],
       "layout": {
        "autosize": true,
        "legend": {
         "title": {
          "text": "variable"
         },
         "tracegroupgap": 0
        },
        "margin": {
         "t": 60
        },
        "template": {
         "data": {
          "bar": [
           {
            "error_x": {
             "color": "#2a3f5f"
            },
            "error_y": {
             "color": "#2a3f5f"
            },
            "marker": {
             "line": {
              "color": "#E5ECF6",
              "width": 0.5
             },
             "pattern": {
              "fillmode": "overlay",
              "size": 10,
              "solidity": 0.2
             }
            },
            "type": "bar"
           }
          ],
          "barpolar": [
           {
            "marker": {
             "line": {
              "color": "#E5ECF6",
              "width": 0.5
             },
             "pattern": {
              "fillmode": "overlay",
              "size": 10,
              "solidity": 0.2
             }
            },
            "type": "barpolar"
           }
          ],
          "carpet": [
           {
            "aaxis": {
             "endlinecolor": "#2a3f5f",
             "gridcolor": "white",
             "linecolor": "white",
             "minorgridcolor": "white",
             "startlinecolor": "#2a3f5f"
            },
            "baxis": {
             "endlinecolor": "#2a3f5f",
             "gridcolor": "white",
             "linecolor": "white",
             "minorgridcolor": "white",
             "startlinecolor": "#2a3f5f"
            },
            "type": "carpet"
           }
          ],
          "choropleth": [
           {
            "colorbar": {
             "outlinewidth": 0,
             "ticks": ""
            },
            "type": "choropleth"
           }
          ],
          "contour": [
           {
            "colorbar": {
             "outlinewidth": 0,
             "ticks": ""
            },
            "colorscale": [
             [
              0,
              "#0d0887"
             ],
             [
              0.1111111111111111,
              "#46039f"
             ],
             [
              0.2222222222222222,
              "#7201a8"
             ],
             [
              0.3333333333333333,
              "#9c179e"
             ],
             [
              0.4444444444444444,
              "#bd3786"
             ],
             [
              0.5555555555555556,
              "#d8576b"
             ],
             [
              0.6666666666666666,
              "#ed7953"
             ],
             [
              0.7777777777777778,
              "#fb9f3a"
             ],
             [
              0.8888888888888888,
              "#fdca26"
             ],
             [
              1,
              "#f0f921"
             ]
            ],
            "type": "contour"
           }
          ],
          "contourcarpet": [
           {
            "colorbar": {
             "outlinewidth": 0,
             "ticks": ""
            },
            "type": "contourcarpet"
           }
          ],
          "heatmap": [
           {
            "colorbar": {
             "outlinewidth": 0,
             "ticks": ""
            },
            "colorscale": [
             [
              0,
              "#0d0887"
             ],
             [
              0.1111111111111111,
              "#46039f"
             ],
             [
              0.2222222222222222,
              "#7201a8"
             ],
             [
              0.3333333333333333,
              "#9c179e"
             ],
             [
              0.4444444444444444,
              "#bd3786"
             ],
             [
              0.5555555555555556,
              "#d8576b"
             ],
             [
              0.6666666666666666,
              "#ed7953"
             ],
             [
              0.7777777777777778,
              "#fb9f3a"
             ],
             [
              0.8888888888888888,
              "#fdca26"
             ],
             [
              1,
              "#f0f921"
             ]
            ],
            "type": "heatmap"
           }
          ],
          "heatmapgl": [
           {
            "colorbar": {
             "outlinewidth": 0,
             "ticks": ""
            },
            "colorscale": [
             [
              0,
              "#0d0887"
             ],
             [
              0.1111111111111111,
              "#46039f"
             ],
             [
              0.2222222222222222,
              "#7201a8"
             ],
             [
              0.3333333333333333,
              "#9c179e"
             ],
             [
              0.4444444444444444,
              "#bd3786"
             ],
             [
              0.5555555555555556,
              "#d8576b"
             ],
             [
              0.6666666666666666,
              "#ed7953"
             ],
             [
              0.7777777777777778,
              "#fb9f3a"
             ],
             [
              0.8888888888888888,
              "#fdca26"
             ],
             [
              1,
              "#f0f921"
             ]
            ],
            "type": "heatmapgl"
           }
          ],
          "histogram": [
           {
            "marker": {
             "pattern": {
              "fillmode": "overlay",
              "size": 10,
              "solidity": 0.2
             }
            },
            "type": "histogram"
           }
          ],
          "histogram2d": [
           {
            "colorbar": {
             "outlinewidth": 0,
             "ticks": ""
            },
            "colorscale": [
             [
              0,
              "#0d0887"
             ],
             [
              0.1111111111111111,
              "#46039f"
             ],
             [
              0.2222222222222222,
              "#7201a8"
             ],
             [
              0.3333333333333333,
              "#9c179e"
             ],
             [
              0.4444444444444444,
              "#bd3786"
             ],
             [
              0.5555555555555556,
              "#d8576b"
             ],
             [
              0.6666666666666666,
              "#ed7953"
             ],
             [
              0.7777777777777778,
              "#fb9f3a"
             ],
             [
              0.8888888888888888,
              "#fdca26"
             ],
             [
              1,
              "#f0f921"
             ]
            ],
            "type": "histogram2d"
           }
          ],
          "histogram2dcontour": [
           {
            "colorbar": {
             "outlinewidth": 0,
             "ticks": ""
            },
            "colorscale": [
             [
              0,
              "#0d0887"
             ],
             [
              0.1111111111111111,
              "#46039f"
             ],
             [
              0.2222222222222222,
              "#7201a8"
             ],
             [
              0.3333333333333333,
              "#9c179e"
             ],
             [
              0.4444444444444444,
              "#bd3786"
             ],
             [
              0.5555555555555556,
              "#d8576b"
             ],
             [
              0.6666666666666666,
              "#ed7953"
             ],
             [
              0.7777777777777778,
              "#fb9f3a"
             ],
             [
              0.8888888888888888,
              "#fdca26"
             ],
             [
              1,
              "#f0f921"
             ]
            ],
            "type": "histogram2dcontour"
           }
          ],
          "mesh3d": [
           {
            "colorbar": {
             "outlinewidth": 0,
             "ticks": ""
            },
            "type": "mesh3d"
           }
          ],
          "parcoords": [
           {
            "line": {
             "colorbar": {
              "outlinewidth": 0,
              "ticks": ""
             }
            },
            "type": "parcoords"
           }
          ],
          "pie": [
           {
            "automargin": true,
            "type": "pie"
           }
          ],
          "scatter": [
           {
            "fillpattern": {
             "fillmode": "overlay",
             "size": 10,
             "solidity": 0.2
            },
            "type": "scatter"
           }
          ],
          "scatter3d": [
           {
            "line": {
             "colorbar": {
              "outlinewidth": 0,
              "ticks": ""
             }
            },
            "marker": {
             "colorbar": {
              "outlinewidth": 0,
              "ticks": ""
             }
            },
            "type": "scatter3d"
           }
          ],
          "scattercarpet": [
           {
            "marker": {
             "colorbar": {
              "outlinewidth": 0,
              "ticks": ""
             }
            },
            "type": "scattercarpet"
           }
          ],
          "scattergeo": [
           {
            "marker": {
             "colorbar": {
              "outlinewidth": 0,
              "ticks": ""
             }
            },
            "type": "scattergeo"
           }
          ],
          "scattergl": [
           {
            "marker": {
             "colorbar": {
              "outlinewidth": 0,
              "ticks": ""
             }
            },
            "type": "scattergl"
           }
          ],
          "scattermapbox": [
           {
            "marker": {
             "colorbar": {
              "outlinewidth": 0,
              "ticks": ""
             }
            },
            "type": "scattermapbox"
           }
          ],
          "scatterpolar": [
           {
            "marker": {
             "colorbar": {
              "outlinewidth": 0,
              "ticks": ""
             }
            },
            "type": "scatterpolar"
           }
          ],
          "scatterpolargl": [
           {
            "marker": {
             "colorbar": {
              "outlinewidth": 0,
              "ticks": ""
             }
            },
            "type": "scatterpolargl"
           }
          ],
          "scatterternary": [
           {
            "marker": {
             "colorbar": {
              "outlinewidth": 0,
              "ticks": ""
             }
            },
            "type": "scatterternary"
           }
          ],
          "surface": [
           {
            "colorbar": {
             "outlinewidth": 0,
             "ticks": ""
            },
            "colorscale": [
             [
              0,
              "#0d0887"
             ],
             [
              0.1111111111111111,
              "#46039f"
             ],
             [
              0.2222222222222222,
              "#7201a8"
             ],
             [
              0.3333333333333333,
              "#9c179e"
             ],
             [
              0.4444444444444444,
              "#bd3786"
             ],
             [
              0.5555555555555556,
              "#d8576b"
             ],
             [
              0.6666666666666666,
              "#ed7953"
             ],
             [
              0.7777777777777778,
              "#fb9f3a"
             ],
             [
              0.8888888888888888,
              "#fdca26"
             ],
             [
              1,
              "#f0f921"
             ]
            ],
            "type": "surface"
           }
          ],
          "table": [
           {
            "cells": {
             "fill": {
              "color": "#EBF0F8"
             },
             "line": {
              "color": "white"
             }
            },
            "header": {
             "fill": {
              "color": "#C8D4E3"
             },
             "line": {
              "color": "white"
             }
            },
            "type": "table"
           }
          ]
         },
         "layout": {
          "annotationdefaults": {
           "arrowcolor": "#2a3f5f",
           "arrowhead": 0,
           "arrowwidth": 1
          },
          "autotypenumbers": "strict",
          "coloraxis": {
           "colorbar": {
            "outlinewidth": 0,
            "ticks": ""
           }
          },
          "colorscale": {
           "diverging": [
            [
             0,
             "#8e0152"
            ],
            [
             0.1,
             "#c51b7d"
            ],
            [
             0.2,
             "#de77ae"
            ],
            [
             0.3,
             "#f1b6da"
            ],
            [
             0.4,
             "#fde0ef"
            ],
            [
             0.5,
             "#f7f7f7"
            ],
            [
             0.6,
             "#e6f5d0"
            ],
            [
             0.7,
             "#b8e186"
            ],
            [
             0.8,
             "#7fbc41"
            ],
            [
             0.9,
             "#4d9221"
            ],
            [
             1,
             "#276419"
            ]
           ],
           "sequential": [
            [
             0,
             "#0d0887"
            ],
            [
             0.1111111111111111,
             "#46039f"
            ],
            [
             0.2222222222222222,
             "#7201a8"
            ],
            [
             0.3333333333333333,
             "#9c179e"
            ],
            [
             0.4444444444444444,
             "#bd3786"
            ],
            [
             0.5555555555555556,
             "#d8576b"
            ],
            [
             0.6666666666666666,
             "#ed7953"
            ],
            [
             0.7777777777777778,
             "#fb9f3a"
            ],
            [
             0.8888888888888888,
             "#fdca26"
            ],
            [
             1,
             "#f0f921"
            ]
           ],
           "sequentialminus": [
            [
             0,
             "#0d0887"
            ],
            [
             0.1111111111111111,
             "#46039f"
            ],
            [
             0.2222222222222222,
             "#7201a8"
            ],
            [
             0.3333333333333333,
             "#9c179e"
            ],
            [
             0.4444444444444444,
             "#bd3786"
            ],
            [
             0.5555555555555556,
             "#d8576b"
            ],
            [
             0.6666666666666666,
             "#ed7953"
            ],
            [
             0.7777777777777778,
             "#fb9f3a"
            ],
            [
             0.8888888888888888,
             "#fdca26"
            ],
            [
             1,
             "#f0f921"
            ]
           ]
          },
          "colorway": [
           "#636efa",
           "#EF553B",
           "#00cc96",
           "#ab63fa",
           "#FFA15A",
           "#19d3f3",
           "#FF6692",
           "#B6E880",
           "#FF97FF",
           "#FECB52"
          ],
          "font": {
           "color": "#2a3f5f"
          },
          "geo": {
           "bgcolor": "white",
           "lakecolor": "white",
           "landcolor": "#E5ECF6",
           "showlakes": true,
           "showland": true,
           "subunitcolor": "white"
          },
          "hoverlabel": {
           "align": "left"
          },
          "hovermode": "closest",
          "mapbox": {
           "style": "light"
          },
          "paper_bgcolor": "white",
          "plot_bgcolor": "#E5ECF6",
          "polar": {
           "angularaxis": {
            "gridcolor": "white",
            "linecolor": "white",
            "ticks": ""
           },
           "bgcolor": "#E5ECF6",
           "radialaxis": {
            "gridcolor": "white",
            "linecolor": "white",
            "ticks": ""
           }
          },
          "scene": {
           "xaxis": {
            "backgroundcolor": "#E5ECF6",
            "gridcolor": "white",
            "gridwidth": 2,
            "linecolor": "white",
            "showbackground": true,
            "ticks": "",
            "zerolinecolor": "white"
           },
           "yaxis": {
            "backgroundcolor": "#E5ECF6",
            "gridcolor": "white",
            "gridwidth": 2,
            "linecolor": "white",
            "showbackground": true,
            "ticks": "",
            "zerolinecolor": "white"
           },
           "zaxis": {
            "backgroundcolor": "#E5ECF6",
            "gridcolor": "white",
            "gridwidth": 2,
            "linecolor": "white",
            "showbackground": true,
            "ticks": "",
            "zerolinecolor": "white"
           }
          },
          "shapedefaults": {
           "line": {
            "color": "#2a3f5f"
           }
          },
          "ternary": {
           "aaxis": {
            "gridcolor": "white",
            "linecolor": "white",
            "ticks": ""
           },
           "baxis": {
            "gridcolor": "white",
            "linecolor": "white",
            "ticks": ""
           },
           "bgcolor": "#E5ECF6",
           "caxis": {
            "gridcolor": "white",
            "linecolor": "white",
            "ticks": ""
           }
          },
          "title": {
           "x": 0.05
          },
          "xaxis": {
           "automargin": true,
           "gridcolor": "white",
           "linecolor": "white",
           "ticks": "",
           "title": {
            "standoff": 15
           },
           "zerolinecolor": "white",
           "zerolinewidth": 2
          },
          "yaxis": {
           "automargin": true,
           "gridcolor": "white",
           "linecolor": "white",
           "ticks": "",
           "title": {
            "standoff": 15
           },
           "zerolinecolor": "white",
           "zerolinewidth": 2
          }
         }
        },
        "xaxis": {
         "anchor": "y",
         "autorange": true,
         "domain": [
          0,
          1
         ],
         "range": [
          "2022-01-03",
          "2022-07-04"
         ],
         "title": {
          "text": "date"
         },
         "type": "date"
        },
        "yaxis": {
         "anchor": "x",
         "autorange": true,
         "domain": [
          0,
          1
         ],
         "range": [
          0.7466666566001046,
          26.01333333386315
         ],
         "title": {
          "text": "value"
         },
         "type": "linear"
        }
       }
      },
      "image/png": "[encoded data removed]",
      "text/html": [
       "<div>                            <div id=\"7b431a1c-1eb0-4306-bf5c-dac783d7ffa6\" class=\"plotly-graph-div\" style=\"height:525px; width:100%;\"></div>            <script type=\"text/javascript\">                require([\"plotly\"], function(Plotly) {                    window.PLOTLYENV=window.PLOTLYENV || {};                                    if (document.getElementById(\"7b431a1c-1eb0-4306-bf5c-dac783d7ffa6\")) {                    Plotly.newPlot(                        \"7b431a1c-1eb0-4306-bf5c-dac783d7ffa6\",                        [{\"hovertemplate\":\"variable=CIEL3_close<br>date=%{x}<br>value=%{y}<extra></extra>\",\"legendgroup\":\"CIEL3_close\",\"line\":{\"color\":\"#636efa\",\"dash\":\"solid\"},\"marker\":{\"symbol\":\"circle\"},\"mode\":\"lines\",\"name\":\"CIEL3_close\",\"orientation\":\"v\",\"showlegend\":true,\"x\":[\"2022-01-03T00:00:00\",\"2022-01-04T00:00:00\",\"2022-01-05T00:00:00\",\"2022-01-06T00:00:00\",\"2022-01-07T00:00:00\",\"2022-01-10T00:00:00\",\"2022-01-11T00:00:00\",\"2022-01-12T00:00:00\",\"2022-01-13T00:00:00\",\"2022-01-14T00:00:00\",\"2022-01-17T00:00:00\",\"2022-01-18T00:00:00\",\"2022-01-19T00:00:00\",\"2022-01-20T00:00:00\",\"2022-01-21T00:00:00\",\"2022-01-24T00:00:00\",\"2022-01-25T00:00:00\",\"2022-01-26T00:00:00\",\"2022-01-27T00:00:00\",\"2022-01-28T00:00:00\",\"2022-01-31T00:00:00\",\"2022-02-01T00:00:00\",\"2022-02-02T00:00:00\",\"2022-02-03T00:00:00\",\"2022-02-04T00:00:00\",\"2022-02-07T00:00:00\",\"2022-02-08T00:00:00\",\"2022-02-09T00:00:00\",\"2022-02-10T00:00:00\",\"2022-02-11T00:00:00\",\"2022-02-14T00:00:00\",\"2022-02-15T00:00:00\",\"2022-02-16T00:00:00\",\"2022-02-17T00:00:00\",\"2022-02-18T00:00:00\",\"2022-02-21T00:00:00\",\"2022-02-22T00:00:00\",\"2022-02-23T00:00:00\",\"2022-02-24T00:00:00\",\"2022-02-25T00:00:00\",\"2022-03-02T00:00:00\",\"2022-03-03T00:00:00\",\"2022-03-04T00:00:00\",\"2022-03-07T00:00:00\",\"2022-03-08T00:00:00\",\"2022-03-09T00:00:00\",\"2022-03-10T00:00:00\",\"2022-03-11T00:00:00\",\"2022-03-14T00:00:00\",\"2022-03-15T00:00:00\",\"2022-03-16T00:00:00\",\"2022-03-17T00:00:00\",\"2022-03-18T00:00:00\",\"2022-03-21T00:00:00\",\"2022-03-22T00:00:00\",\"2022-03-23T00:00:00\",\"2022-03-24T00:00:00\",\"2022-03-25T00:00:00\",\"2022-03-28T00:00:00\",\"2022-03-29T00:00:00\",\"2022-03-30T00:00:00\",\"2022-03-31T00:00:00\",\"2022-04-01T00:00:00\",\"2022-04-04T00:00:00\",\"2022-04-05T00:00:00\",\"2022-04-06T00:00:00\",\"2022-04-07T00:00:00\",\"2022-04-08T00:00:00\",\"2022-04-11T00:00:00\",\"2022-04-12T00:00:00\",\"2022-04-13T00:00:00\",\"2022-04-14T00:00:00\",\"2022-04-18T00:00:00\",\"2022-04-19T00:00:00\",\"2022-04-20T00:00:00\",\"2022-04-22T00:00:00\",\"2022-04-25T00:00:00\",\"2022-04-26T00:00:00\",\"2022-04-27T00:00:00\",\"2022-04-28T00:00:00\",\"2022-04-29T00:00:00\",\"2022-05-02T00:00:00\",\"2022-05-03T00:00:00\",\"2022-05-04T00:00:00\",\"2022-05-05T00:00:00\",\"2022-05-06T00:00:00\",\"2022-05-09T00:00:00\",\"2022-05-10T00:00:00\",\"2022-05-11T00:00:00\",\"2022-05-12T00:00:00\",\"2022-05-13T00:00:00\",\"2022-05-16T00:00:00\",\"2022-05-17T00:00:00\",\"2022-05-18T00:00:00\",\"2022-05-19T00:00:00\",\"2022-05-20T00:00:00\",\"2022-05-23T00:00:00\",\"2022-05-24T00:00:00\",\"2022-05-25T00:00:00\",\"2022-05-26T00:00:00\",\"2022-05-27T00:00:00\",\"2022-05-30T00:00:00\",\"2022-05-31T00:00:00\",\"2022-06-01T00:00:00\",\"2022-06-02T00:00:00\",\"2022-06-03T00:00:00\",\"2022-06-06T00:00:00\",\"2022-06-07T00:00:00\",\"2022-06-08T00:00:00\",\"2022-06-09T00:00:00\",\"2022-06-10T00:00:00\",\"2022-06-13T00:00:00\",\"2022-06-14T00:00:00\",\"2022-06-15T00:00:00\",\"2022-06-17T00:00:00\",\"2022-06-20T00:00:00\",\"2022-06-21T00:00:00\",\"2022-06-22T00:00:00\",\"2022-06-23T00:00:00\",\"2022-06-24T00:00:00\",\"2022-06-27T00:00:00\",\"2022-06-28T00:00:00\",\"2022-06-29T00:00:00\",\"2022-06-30T00:00:00\",\"2022-07-01T00:00:00\",\"2022-07-04T00:00:00\"],\"xaxis\":\"x\",\"y\":[2.190000057220459,2.119999885559082,2.109999895095825,2.059999942779541,2.049999952316284,2.009999990463257,2.0799999237060547,2.0299999713897705,2.0199999809265137,2.0199999809265137,2.119999885559082,2.049999952316284,2.0799999237060547,2.140000104904175,2.069999933242798,2.049999952316284,2.180000066757202,2.190000057220459,2.1500000953674316,2.2799999713897705,2.299999952316284,2.299999952316284,2.3299999237060547,2.190000057220459,2.3299999237060547,2.3399999141693115,2.319999933242798,2.309999942779541,2.380000114440918,2.319999933242798,2.380000114440918,2.369999885559082,2.490000009536743,2.5199999809265137,2.8299999237060547,2.6600000858306885,2.609999895095825,2.5999999046325684,2.6500000953674316,2.569999933242798,2.4700000286102295,2.5999999046325684,2.4700000286102295,2.2899999618530273,2.4200000762939453,2.5199999809265137,2.509999990463257,2.490000009536743,2.440000057220459,2.569999933242798,2.490000009536743,2.5,2.680000066757202,2.700000047683716,2.690000057220459,2.7100000381469727,2.8299999237060547,2.890000104904175,2.859999895095825,2.930000066757202,2.9800000190734863,3.109999895095825,3.359999895095825,3.3499999046325684,3.25,3.240000009536743,3.299999952316284,3.4200000762939453,3.4700000286102295,3.609999895095825,3.5899999141693115,3.5799999237060547,3.6500000953674316,3.569999933242798,3.5199999809265137,3.440000057220459,3.509999990463257,3.380000114440918,3.440000057220459,3.609999895095825,3.4000000953674316,3.319999933242798,3.4200000762939453,3.4200000762939453,3.119999885559082,3.109999895095825,3.0799999237060547,3.109999895095825,3.059999942779541,3.180000066757202,3.25,3.319999933242798,3.380000114440918,3.380000114440918,3.450000047683716,3.549999952316284,3.640000104904175,3.6500000953674316,3.630000114440918,4.039999961853027,3.990000009536743,3.930000066757202,3.950000047683716,3.9800000190734863,3.950000047683716,3.950000047683716,3.9700000286102295,3.799999952316284,3.7699999809265137,3.759999990463257,3.7799999713897705,3.8299999237060547,3.7799999713897705,3.940000057220459,3.8499999046325684,3.799999952316284,3.9000000953674316,3.940000057220459,3.950000047683716,3.859999895095825,3.859999895095825,3.8499999046325684,3.7799999713897705,3.75,3.930000066757202,3.869999885559082],\"yaxis\":\"y\",\"type\":\"scatter\"},{\"hovertemplate\":\"variable=BRFS3_close<br>date=%{x}<br>value=%{y}<extra></extra>\",\"legendgroup\":\"BRFS3_close\",\"line\":{\"color\":\"#EF553B\",\"dash\":\"solid\"},\"marker\":{\"symbol\":\"circle\"},\"mode\":\"lines\",\"name\":\"BRFS3_close\",\"orientation\":\"v\",\"showlegend\":true,\"x\":[\"2022-01-03T00:00:00\",\"2022-01-04T00:00:00\",\"2022-01-05T00:00:00\",\"2022-01-06T00:00:00\",\"2022-01-07T00:00:00\",\"2022-01-10T00:00:00\",\"2022-01-11T00:00:00\",\"2022-01-12T00:00:00\",\"2022-01-13T00:00:00\",\"2022-01-14T00:00:00\",\"2022-01-17T00:00:00\",\"2022-01-18T00:00:00\",\"2022-01-19T00:00:00\",\"2022-01-20T00:00:00\",\"2022-01-21T00:00:00\",\"2022-01-24T00:00:00\",\"2022-01-25T00:00:00\",\"2022-01-26T00:00:00\",\"2022-01-27T00:00:00\",\"2022-01-28T00:00:00\",\"2022-01-31T00:00:00\",\"2022-02-01T00:00:00\",\"2022-02-02T00:00:00\",\"2022-02-03T00:00:00\",\"2022-02-04T00:00:00\",\"2022-02-07T00:00:00\",\"2022-02-08T00:00:00\",\"2022-02-09T00:00:00\",\"2022-02-10T00:00:00\",\"2022-02-11T00:00:00\",\"2022-02-14T00:00:00\",\"2022-02-15T00:00:00\",\"2022-02-16T00:00:00\",\"2022-02-17T00:00:00\",\"2022-02-18T00:00:00\",\"2022-02-21T00:00:00\",\"2022-02-22T00:00:00\",\"2022-02-23T00:00:00\",\"2022-02-24T00:00:00\",\"2022-02-25T00:00:00\",\"2022-03-02T00:00:00\",\"2022-03-03T00:00:00\",\"2022-03-04T00:00:00\",\"2022-03-07T00:00:00\",\"2022-03-08T00:00:00\",\"2022-03-09T00:00:00\",\"2022-03-10T00:00:00\",\"2022-03-11T00:00:00\",\"2022-03-14T00:00:00\",\"2022-03-15T00:00:00\",\"2022-03-16T00:00:00\",\"2022-03-17T00:00:00\",\"2022-03-18T00:00:00\",\"2022-03-21T00:00:00\",\"2022-03-22T00:00:00\",\"2022-03-23T00:00:00\",\"2022-03-24T00:00:00\",\"2022-03-25T00:00:00\",\"2022-03-28T00:00:00\",\"2022-03-29T00:00:00\",\"2022-03-30T00:00:00\",\"2022-03-31T00:00:00\",\"2022-04-01T00:00:00\",\"2022-04-04T00:00:00\",\"2022-04-05T00:00:00\",\"2022-04-06T00:00:00\",\"2022-04-07T00:00:00\",\"2022-04-08T00:00:00\",\"2022-04-11T00:00:00\",\"2022-04-12T00:00:00\",\"2022-04-13T00:00:00\",\"2022-04-14T00:00:00\",\"2022-04-18T00:00:00\",\"2022-04-19T00:00:00\",\"2022-04-20T00:00:00\",\"2022-04-22T00:00:00\",\"2022-04-25T00:00:00\",\"2022-04-26T00:00:00\",\"2022-04-27T00:00:00\",\"2022-04-28T00:00:00\",\"2022-04-29T00:00:00\",\"2022-05-02T00:00:00\",\"2022-05-03T00:00:00\",\"2022-05-04T00:00:00\",\"2022-05-05T00:00:00\",\"2022-05-06T00:00:00\",\"2022-05-09T00:00:00\",\"2022-05-10T00:00:00\",\"2022-05-11T00:00:00\",\"2022-05-12T00:00:00\",\"2022-05-13T00:00:00\",\"2022-05-16T00:00:00\",\"2022-05-17T00:00:00\",\"2022-05-18T00:00:00\",\"2022-05-19T00:00:00\",\"2022-05-20T00:00:00\",\"2022-05-23T00:00:00\",\"2022-05-24T00:00:00\",\"2022-05-25T00:00:00\",\"2022-05-26T00:00:00\",\"2022-05-27T00:00:00\",\"2022-05-30T00:00:00\",\"2022-05-31T00:00:00\",\"2022-06-01T00:00:00\",\"2022-06-02T00:00:00\",\"2022-06-03T00:00:00\",\"2022-06-06T00:00:00\",\"2022-06-07T00:00:00\",\"2022-06-08T00:00:00\",\"2022-06-09T00:00:00\",\"2022-06-10T00:00:00\",\"2022-06-13T00:00:00\",\"2022-06-14T00:00:00\",\"2022-06-15T00:00:00\",\"2022-06-17T00:00:00\",\"2022-06-20T00:00:00\",\"2022-06-21T00:00:00\",\"2022-06-22T00:00:00\",\"2022-06-23T00:00:00\",\"2022-06-24T00:00:00\",\"2022-06-27T00:00:00\",\"2022-06-28T00:00:00\",\"2022-06-29T00:00:00\",\"2022-06-30T00:00:00\",\"2022-07-01T00:00:00\",\"2022-07-04T00:00:00\"],\"xaxis\":\"x\",\"y\":[23.219999313354492,22.420000076293945,22.700000762939453,24.299999237060547,24.600000381469727,23.520000457763672,23.219999313354492,23.84000015258789,24.010000228881836,24.299999237060547,24.75,23.31999969482422,23.709999084472656,23.360000610351562,22.690000534057617,23.459999084472656,23.25,22.81999969482422,23.100000381469727,22.850000381469727,22.329999923706055,21.6299991607666,19.950000762939453,19.850000381469727,18.75,18.3700008392334,18.350000381469727,18.899999618530273,19.139999389648438,18.809999465942383,18.959999084472656,19.0,19.0,18.950000762939453,18.81999969482422,18.34000015258789,19.350000381469727,18.459999084472656,17.34000015258789,16.709999084472656,16.520000457763672,16.020000457763672,15.430000305175781,14.359999656677246,15.369999885559082,16.540000915527344,15.90999984741211,15.430000305175781,15.25,15.470000267028809,16.239999771118164,16.59000015258789,16.799999237060547,16.6299991607666,17.229999542236328,16.56999969482422,16.969999313354492,17.0,17.389999389648438,18.170000076293945,18.15999984741211,18.59000015258789,18.84000015258789,18.3700008392334,17.850000381469727,17.860000610351562,17.81999969482422,17.440000534057617,16.200000762939453,15.899999618530273,15.779999732971191,15.229999542236328,15.25,15.289999961853027,14.760000228881836,14.510000228881836,13.979999542236328,13.4399995803833,13.9399995803833,13.989999771118164,13.579999923706055,13.279999732971191,13.369999885559082,13.65999984741211,12.770000457763672,11.989999771118164,12.319999694824219,12.579999923706055,12.390000343322754,12.579999923706055,13.880000114440918,13.930000305175781,14.3100004196167,13.579999923706055,13.449999809265137,13.569999694824219,14.229999542236328,14.350000381469727,14.220000267028809,14.529999732971191,15.229999542236328,15.050000190734863,15.649999618530273,15.34000015258789,15.40999984741211,15.199999809265137,15.149999618530273,15.149999618530273,14.890000343322754,14.960000038146973,15.0,13.899999618530273,13.15999984741211,12.979999542236328,12.829999923706055,12.430000305175781,12.470000267028809,13.069999694824219,14.09000015258789,14.539999961853027,14.760000228881836,14.479999542236328,14.140000343322754,13.59000015258789,14.279999732971191,14.720000267028809],\"yaxis\":\"y\",\"type\":\"scatter\"},{\"hovertemplate\":\"variable=BBDC4_close<br>date=%{x}<br>value=%{y}<extra></extra>\",\"legendgroup\":\"BBDC4_close\",\"line\":{\"color\":\"#00cc96\",\"dash\":\"solid\"},\"marker\":{\"symbol\":\"circle\"},\"mode\":\"lines\",\"name\":\"BBDC4_close\",\"orientation\":\"v\",\"showlegend\":true,\"x\":[\"2022-01-03T00:00:00\",\"2022-01-04T00:00:00\",\"2022-01-05T00:00:00\",\"2022-01-06T00:00:00\",\"2022-01-07T00:00:00\",\"2022-01-10T00:00:00\",\"2022-01-11T00:00:00\",\"2022-01-12T00:00:00\",\"2022-01-13T00:00:00\",\"2022-01-14T00:00:00\",\"2022-01-17T00:00:00\",\"2022-01-18T00:00:00\",\"2022-01-19T00:00:00\",\"2022-01-20T00:00:00\",\"2022-01-21T00:00:00\",\"2022-01-24T00:00:00\",\"2022-01-25T00:00:00\",\"2022-01-26T00:00:00\",\"2022-01-27T00:00:00\",\"2022-01-28T00:00:00\",\"2022-01-31T00:00:00\",\"2022-02-01T00:00:00\",\"2022-02-02T00:00:00\",\"2022-02-03T00:00:00\",\"2022-02-04T00:00:00\",\"2022-02-07T00:00:00\",\"2022-02-08T00:00:00\",\"2022-02-09T00:00:00\",\"2022-02-10T00:00:00\",\"2022-02-11T00:00:00\",\"2022-02-14T00:00:00\",\"2022-02-15T00:00:00\",\"2022-02-16T00:00:00\",\"2022-02-17T00:00:00\",\"2022-02-18T00:00:00\",\"2022-02-21T00:00:00\",\"2022-02-22T00:00:00\",\"2022-02-23T00:00:00\",\"2022-02-24T00:00:00\",\"2022-02-25T00:00:00\",\"2022-03-02T00:00:00\",\"2022-03-03T00:00:00\",\"2022-03-04T00:00:00\",\"2022-03-07T00:00:00\",\"2022-03-08T00:00:00\",\"2022-03-09T00:00:00\",\"2022-03-10T00:00:00\",\"2022-03-11T00:00:00\",\"2022-03-14T00:00:00\",\"2022-03-15T00:00:00\",\"2022-03-16T00:00:00\",\"2022-03-17T00:00:00\",\"2022-03-18T00:00:00\",\"2022-03-21T00:00:00\",\"2022-03-22T00:00:00\",\"2022-03-23T00:00:00\",\"2022-03-24T00:00:00\",\"2022-03-25T00:00:00\",\"2022-03-28T00:00:00\",\"2022-03-29T00:00:00\",\"2022-03-30T00:00:00\",\"2022-03-31T00:00:00\",\"2022-04-01T00:00:00\",\"2022-04-04T00:00:00\",\"2022-04-05T00:00:00\",\"2022-04-06T00:00:00\",\"2022-04-07T00:00:00\",\"2022-04-08T00:00:00\",\"2022-04-11T00:00:00\",\"2022-04-12T00:00:00\",\"2022-04-13T00:00:00\",\"2022-04-14T00:00:00\",\"2022-04-18T00:00:00\",\"2022-04-19T00:00:00\",\"2022-04-20T00:00:00\",\"2022-04-22T00:00:00\",\"2022-04-25T00:00:00\",\"2022-04-26T00:00:00\",\"2022-04-27T00:00:00\",\"2022-04-28T00:00:00\",\"2022-04-29T00:00:00\",\"2022-05-02T00:00:00\",\"2022-05-03T00:00:00\",\"2022-05-04T00:00:00\",\"2022-05-05T00:00:00\",\"2022-05-06T00:00:00\",\"2022-05-09T00:00:00\",\"2022-05-10T00:00:00\",\"2022-05-11T00:00:00\",\"2022-05-12T00:00:00\",\"2022-05-13T00:00:00\",\"2022-05-16T00:00:00\",\"2022-05-17T00:00:00\",\"2022-05-18T00:00:00\",\"2022-05-19T00:00:00\",\"2022-05-20T00:00:00\",\"2022-05-23T00:00:00\",\"2022-05-24T00:00:00\",\"2022-05-25T00:00:00\",\"2022-05-26T00:00:00\",\"2022-05-27T00:00:00\",\"2022-05-30T00:00:00\",\"2022-05-31T00:00:00\",\"2022-06-01T00:00:00\",\"2022-06-02T00:00:00\",\"2022-06-03T00:00:00\",\"2022-06-06T00:00:00\",\"2022-06-07T00:00:00\",\"2022-06-08T00:00:00\",\"2022-06-09T00:00:00\",\"2022-06-10T00:00:00\",\"2022-06-13T00:00:00\",\"2022-06-14T00:00:00\",\"2022-06-15T00:00:00\",\"2022-06-17T00:00:00\",\"2022-06-20T00:00:00\",\"2022-06-21T00:00:00\",\"2022-06-22T00:00:00\",\"2022-06-23T00:00:00\",\"2022-06-24T00:00:00\",\"2022-06-27T00:00:00\",\"2022-06-28T00:00:00\",\"2022-06-29T00:00:00\",\"2022-06-30T00:00:00\",\"2022-07-01T00:00:00\",\"2022-07-04T00:00:00\"],\"xaxis\":\"x\",\"y\":[17.899999618530273,18.0,17.872726440429688,18.12727165222168,18.39090919494629,18.454544067382812,18.4818172454834,18.3454532623291,18.672727584838867,18.972726821899414,19.081817626953125,19.42727279663086,19.18181800842285,19.16363525390625,18.96363639831543,19.363636016845703,20.136362075805664,20.154544830322266,20.254545211791992,20.545454025268555,20.727272033691406,20.799999237060547,20.409090042114258,20.709089279174805,20.8454532623291,20.77272605895996,20.654544830322266,18.881818771362305,19.154544830322266,19.218181610107422,19.245454788208008,19.263635635375977,19.490909576416016,19.263635635375977,19.372726440429688,19.14545440673828,19.07272720336914,18.9818172454834,18.409090042114258,18.5,18.30908966064453,18.64545440673828,18.10909080505371,17.64545440673828,17.872726440429688,19.01818084716797,18.899999618530273,18.818180084228516,18.954544067382812,18.909090042114258,19.18181800842285,19.254545211791992,19.209089279174805,19.66363525390625,19.909090042114258,19.781818389892578,20.07272720336914,20.254545211791992,20.154544830322266,20.51818084716797,20.39090919494629,20.200000762939453,19.9818172454834,19.881818771362305,19.327272415161133,19.227272033691406,19.30908966064453,19.527271270751953,19.5,19.327272415161133,19.527271270751953,19.4818172454834,19.827272415161133,19.56999969482422,19.5,19.219999313354492,19.100000381469727,18.280000686645508,18.389999389648438,18.219999313354492,17.979999542236328,17.969999313354492,18.06999969482422,18.329999923706055,17.729999542236328,18.100000381469727,18.3700008392334,18.549999237060547,18.8700008392334,18.989999771118164,19.209999084472656,19.530000686645508,19.93000030517578,19.559999465942383,19.40999984741211,19.670000076293945,19.989999771118164,20.40999984741211,20.18000030517578,20.290000915527344,20.579999923706055,20.3799991607666,20.5,20.1299991607666,20.030000686645508,19.90999984741211,19.93000030517578,19.760000228881836,19.40999984741211,19.399999618530273,19.110000610351562,18.829999923706055,18.639999389648438,18.770000457763672,18.479999542236328,18.969999313354492,18.639999389648438,18.559999465942383,18.06999969482422,17.920000076293945,18.170000076293945,17.90999984741211,17.600000381469727,17.200000762939453,17.329999923706055,17.149999618530273],\"yaxis\":\"y\",\"type\":\"scatter\"},{\"hovertemplate\":\"variable=ENEV3_close<br>date=%{x}<br>value=%{y}<extra></extra>\",\"legendgroup\":\"ENEV3_close\",\"line\":{\"color\":\"#ab63fa\",\"dash\":\"solid\"},\"marker\":{\"symbol\":\"circle\"},\"mode\":\"lines\",\"name\":\"ENEV3_close\",\"orientation\":\"v\",\"showlegend\":true,\"x\":[\"2022-01-03T00:00:00\",\"2022-01-04T00:00:00\",\"2022-01-05T00:00:00\",\"2022-01-06T00:00:00\",\"2022-01-07T00:00:00\",\"2022-01-10T00:00:00\",\"2022-01-11T00:00:00\",\"2022-01-12T00:00:00\",\"2022-01-13T00:00:00\",\"2022-01-14T00:00:00\",\"2022-01-17T00:00:00\",\"2022-01-18T00:00:00\",\"2022-01-19T00:00:00\",\"2022-01-20T00:00:00\",\"2022-01-21T00:00:00\",\"2022-01-24T00:00:00\",\"2022-01-25T00:00:00\",\"2022-01-26T00:00:00\",\"2022-01-27T00:00:00\",\"2022-01-28T00:00:00\",\"2022-01-31T00:00:00\",\"2022-02-01T00:00:00\",\"2022-02-02T00:00:00\",\"2022-02-03T00:00:00\",\"2022-02-04T00:00:00\",\"2022-02-07T00:00:00\",\"2022-02-08T00:00:00\",\"2022-02-09T00:00:00\",\"2022-02-10T00:00:00\",\"2022-02-11T00:00:00\",\"2022-02-14T00:00:00\",\"2022-02-15T00:00:00\",\"2022-02-16T00:00:00\",\"2022-02-17T00:00:00\",\"2022-02-18T00:00:00\",\"2022-02-21T00:00:00\",\"2022-02-22T00:00:00\",\"2022-02-23T00:00:00\",\"2022-02-24T00:00:00\",\"2022-02-25T00:00:00\",\"2022-03-02T00:00:00\",\"2022-03-03T00:00:00\",\"2022-03-04T00:00:00\",\"2022-03-07T00:00:00\",\"2022-03-08T00:00:00\",\"2022-03-09T00:00:00\",\"2022-03-10T00:00:00\",\"2022-03-11T00:00:00\",\"2022-03-14T00:00:00\",\"2022-03-15T00:00:00\",\"2022-03-16T00:00:00\",\"2022-03-17T00:00:00\",\"2022-03-18T00:00:00\",\"2022-03-21T00:00:00\",\"2022-03-22T00:00:00\",\"2022-03-23T00:00:00\",\"2022-03-24T00:00:00\",\"2022-03-25T00:00:00\",\"2022-03-28T00:00:00\",\"2022-03-29T00:00:00\",\"2022-03-30T00:00:00\",\"2022-03-31T00:00:00\",\"2022-04-01T00:00:00\",\"2022-04-04T00:00:00\",\"2022-04-05T00:00:00\",\"2022-04-06T00:00:00\",\"2022-04-07T00:00:00\",\"2022-04-08T00:00:00\",\"2022-04-11T00:00:00\",\"2022-04-12T00:00:00\",\"2022-04-13T00:00:00\",\"2022-04-14T00:00:00\",\"2022-04-18T00:00:00\",\"2022-04-19T00:00:00\",\"2022-04-20T00:00:00\",\"2022-04-22T00:00:00\",\"2022-04-25T00:00:00\",\"2022-04-26T00:00:00\",\"2022-04-27T00:00:00\",\"2022-04-28T00:00:00\",\"2022-04-29T00:00:00\",\"2022-05-02T00:00:00\",\"2022-05-03T00:00:00\",\"2022-05-04T00:00:00\",\"2022-05-05T00:00:00\",\"2022-05-06T00:00:00\",\"2022-05-09T00:00:00\",\"2022-05-10T00:00:00\",\"2022-05-11T00:00:00\",\"2022-05-12T00:00:00\",\"2022-05-13T00:00:00\",\"2022-05-16T00:00:00\",\"2022-05-17T00:00:00\",\"2022-05-18T00:00:00\",\"2022-05-19T00:00:00\",\"2022-05-20T00:00:00\",\"2022-05-23T00:00:00\",\"2022-05-24T00:00:00\",\"2022-05-25T00:00:00\",\"2022-05-26T00:00:00\",\"2022-05-27T00:00:00\",\"2022-05-30T00:00:00\",\"2022-05-31T00:00:00\",\"2022-06-01T00:00:00\",\"2022-06-02T00:00:00\",\"2022-06-03T00:00:00\",\"2022-06-06T00:00:00\",\"2022-06-07T00:00:00\",\"2022-06-08T00:00:00\",\"2022-06-09T00:00:00\",\"2022-06-10T00:00:00\",\"2022-06-13T00:00:00\",\"2022-06-14T00:00:00\",\"2022-06-15T00:00:00\",\"2022-06-17T00:00:00\",\"2022-06-20T00:00:00\",\"2022-06-21T00:00:00\",\"2022-06-22T00:00:00\",\"2022-06-23T00:00:00\",\"2022-06-24T00:00:00\",\"2022-06-27T00:00:00\",\"2022-06-28T00:00:00\",\"2022-06-29T00:00:00\",\"2022-06-30T00:00:00\",\"2022-07-01T00:00:00\",\"2022-07-04T00:00:00\"],\"xaxis\":\"x\",\"y\":[13.4399995803833,12.90999984741211,12.399999618530273,12.210000038146973,11.930000305175781,11.960000038146973,12.119999885559082,12.510000228881836,12.170000076293945,12.699999809265137,12.609999656677246,12.550000190734863,12.90999984741211,12.9399995803833,12.930000305175781,12.75,12.890000343322754,13.069999694824219,13.199999809265137,12.670000076293945,13.210000038146973,13.260000228881836,13.220000267028809,13.359999656677246,13.329999923706055,13.069999694824219,13.079999923706055,13.460000038146973,13.470000267028809,13.40999984741211,13.359999656677246,13.680000305175781,14.010000228881836,13.880000114440918,13.65999984741211,13.390000343322754,13.59000015258789,13.430000305175781,13.5600004196167,13.470000267028809,13.479999542236328,13.15999984741211,12.789999961853027,12.229999542236328,12.479999542236328,12.989999771118164,12.5,11.979999542236328,11.930000305175781,12.029999732971191,12.149999618530273,12.649999618530273,13.880000114440918,13.390000343322754,14.279999732971191,14.489999771118164,15.100000381469727,15.25,14.979999542236328,15.300000190734863,14.890000343322754,14.779999732971191,15.050000190734863,14.8100004196167,14.649999618530273,14.770000457763672,14.8100004196167,15.40999984741211,15.3100004196167,15.479999542236328,15.390000343322754,15.5600004196167,14.899999618530273,14.869999885559082,14.6899995803833,14.149999618530273,14.329999923706055,13.90999984741211,13.739999771118164,13.850000381469727,13.720000267028809,13.369999885559082,13.489999771118164,14.050000190734863,13.479999542236328,13.5600004196167,13.079999923706055,13.220000267028809,12.970000267028809,13.260000228881836,13.600000381469727,14.300000190734863,14.4399995803833,14.460000038146973,14.729999542236328,14.84000015258789,14.470000267028809,14.770000457763672,14.920000076293945,15.449999809265137,15.34000015258789,15.539999961853027,15.579999923706055,15.319999694824219,14.850000381469727,14.699999809265137,14.510000228881836,14.1899995803833,14.369999885559082,14.34000015258789,14.369999885559082,13.949999809265137,13.640000343322754,14.180000305175781,14.539999961853027,14.680000305175781,14.850000381469727,14.869999885559082,14.369999885559082,14.359999656677246,15.1899995803833,15.350000381469727,14.970000267028809,14.770000457763672,15.140000343322754,14.829999923706055],\"yaxis\":\"y\",\"type\":\"scatter\"}],                        {\"template\":{\"data\":{\"histogram2dcontour\":[{\"type\":\"histogram2dcontour\",\"colorbar\":{\"outlinewidth\":0,\"ticks\":\"\"},\"colorscale\":[[0.0,\"#0d0887\"],[0.1111111111111111,\"#46039f\"],[0.2222222222222222,\"#7201a8\"],[0.3333333333333333,\"#9c179e\"],[0.4444444444444444,\"#bd3786\"],[0.5555555555555556,\"#d8576b\"],[0.6666666666666666,\"#ed7953\"],[0.7777777777777778,\"#fb9f3a\"],[0.8888888888888888,\"#fdca26\"],[1.0,\"#f0f921\"]]}],\"choropleth\":[{\"type\":\"choropleth\",\"colorbar\":{\"outlinewidth\":0,\"ticks\":\"\"}}],\"histogram2d\":[{\"type\":\"histogram2d\",\"colorbar\":{\"outlinewidth\":0,\"ticks\":\"\"},\"colorscale\":[[0.0,\"#0d0887\"],[0.1111111111111111,\"#46039f\"],[0.2222222222222222,\"#7201a8\"],[0.3333333333333333,\"#9c179e\"],[0.4444444444444444,\"#bd3786\"],[0.5555555555555556,\"#d8576b\"],[0.6666666666666666,\"#ed7953\"],[0.7777777777777778,\"#fb9f3a\"],[0.8888888888888888,\"#fdca26\"],[1.0,\"#f0f921\"]]}],\"heatmap\":[{\"type\":\"heatmap\",\"colorbar\":{\"outlinewidth\":0,\"ticks\":\"\"},\"colorscale\":[[0.0,\"#0d0887\"],[0.1111111111111111,\"#46039f\"],[0.2222222222222222,\"#7201a8\"],[0.3333333333333333,\"#9c179e\"],[0.4444444444444444,\"#bd3786\"],[0.5555555555555556,\"#d8576b\"],[0.6666666666666666,\"#ed7953\"],[0.7777777777777778,\"#fb9f3a\"],[0.8888888888888888,\"#fdca26\"],[1.0,\"#f0f921\"]]}],\"heatmapgl\":[{\"type\":\"heatmapgl\",\"colorbar\":{\"outlinewidth\":0,\"ticks\":\"\"},\"colorscale\":[[0.0,\"#0d0887\"],[0.1111111111111111,\"#46039f\"],[0.2222222222222222,\"#7201a8\"],[0.3333333333333333,\"#9c179e\"],[0.4444444444444444,\"#bd3786\"],[0.5555555555555556,\"#d8576b\"],[0.6666666666666666,\"#ed7953\"],[0.7777777777777778,\"#fb9f3a\"],[0.8888888888888888,\"#fdca26\"],[1.0,\"#f0f921\"]]}],\"contourcarpet\":[{\"type\":\"contourcarpet\",\"colorbar\":{\"outlinewidth\":0,\"ticks\":\"\"}}],\"contour\":[{\"type\":\"contour\",\"colorbar\":{\"outlinewidth\":0,\"ticks\":\"\"},\"colorscale\":[[0.0,\"#0d0887\"],[0.1111111111111111,\"#46039f\"],[0.2222222222222222,\"#7201a8\"],[0.3333333333333333,\"#9c179e\"],[0.4444444444444444,\"#bd3786\"],[0.5555555555555556,\"#d8576b\"],[0.6666666666666666,\"#ed7953\"],[0.7777777777777778,\"#fb9f3a\"],[0.8888888888888888,\"#fdca26\"],[1.0,\"#f0f921\"]]}],\"surface\":[{\"type\":\"surface\",\"colorbar\":{\"outlinewidth\":0,\"ticks\":\"\"},\"colorscale\":[[0.0,\"#0d0887\"],[0.1111111111111111,\"#46039f\"],[0.2222222222222222,\"#7201a8\"],[0.3333333333333333,\"#9c179e\"],[0.4444444444444444,\"#bd3786\"],[0.5555555555555556,\"#d8576b\"],[0.6666666666666666,\"#ed7953\"],[0.7777777777777778,\"#fb9f3a\"],[0.8888888888888888,\"#fdca26\"],[1.0,\"#f0f921\"]]}],\"mesh3d\":[{\"type\":\"mesh3d\",\"colorbar\":{\"outlinewidth\":0,\"ticks\":\"\"}}],\"scatter\":[{\"fillpattern\":{\"fillmode\":\"overlay\",\"size\":10,\"solidity\":0.2},\"type\":\"scatter\"}],\"parcoords\":[{\"type\":\"parcoords\",\"line\":{\"colorbar\":{\"outlinewidth\":0,\"ticks\":\"\"}}}],\"scatterpolargl\":[{\"type\":\"scatterpolargl\",\"marker\":{\"colorbar\":{\"outlinewidth\":0,\"ticks\":\"\"}}}],\"bar\":[{\"error_x\":{\"color\":\"#2a3f5f\"},\"error_y\":{\"color\":\"#2a3f5f\"},\"marker\":{\"line\":{\"color\":\"#E5ECF6\",\"width\":0.5},\"pattern\":{\"fillmode\":\"overlay\",\"size\":10,\"solidity\":0.2}},\"type\":\"bar\"}],\"scattergeo\":[{\"type\":\"scattergeo\",\"marker\":{\"colorbar\":{\"outlinewidth\":0,\"ticks\":\"\"}}}],\"scatterpolar\":[{\"type\":\"scatterpolar\",\"marker\":{\"colorbar\":{\"outlinewidth\":0,\"ticks\":\"\"}}}],\"histogram\":[{\"marker\":{\"pattern\":{\"fillmode\":\"overlay\",\"size\":10,\"solidity\":0.2}},\"type\":\"histogram\"}],\"scattergl\":[{\"type\":\"scattergl\",\"marker\":{\"colorbar\":{\"outlinewidth\":0,\"ticks\":\"\"}}}],\"scatter3d\":[{\"type\":\"scatter3d\",\"line\":{\"colorbar\":{\"outlinewidth\":0,\"ticks\":\"\"}},\"marker\":{\"colorbar\":{\"outlinewidth\":0,\"ticks\":\"\"}}}],\"scattermapbox\":[{\"type\":\"scattermapbox\",\"marker\":{\"colorbar\":{\"outlinewidth\":0,\"ticks\":\"\"}}}],\"scatterternary\":[{\"type\":\"scatterternary\",\"marker\":{\"colorbar\":{\"outlinewidth\":0,\"ticks\":\"\"}}}],\"scattercarpet\":[{\"type\":\"scattercarpet\",\"marker\":{\"colorbar\":{\"outlinewidth\":0,\"ticks\":\"\"}}}],\"carpet\":[{\"aaxis\":{\"endlinecolor\":\"#2a3f5f\",\"gridcolor\":\"white\",\"linecolor\":\"white\",\"minorgridcolor\":\"white\",\"startlinecolor\":\"#2a3f5f\"},\"baxis\":{\"endlinecolor\":\"#2a3f5f\",\"gridcolor\":\"white\",\"linecolor\":\"white\",\"minorgridcolor\":\"white\",\"startlinecolor\":\"#2a3f5f\"},\"type\":\"carpet\"}],\"table\":[{\"cells\":{\"fill\":{\"color\":\"#EBF0F8\"},\"line\":{\"color\":\"white\"}},\"header\":{\"fill\":{\"color\":\"#C8D4E3\"},\"line\":{\"color\":\"white\"}},\"type\":\"table\"}],\"barpolar\":[{\"marker\":{\"line\":{\"color\":\"#E5ECF6\",\"width\":0.5},\"pattern\":{\"fillmode\":\"overlay\",\"size\":10,\"solidity\":0.2}},\"type\":\"barpolar\"}],\"pie\":[{\"automargin\":true,\"type\":\"pie\"}]},\"layout\":{\"autotypenumbers\":\"strict\",\"colorway\":[\"#636efa\",\"#EF553B\",\"#00cc96\",\"#ab63fa\",\"#FFA15A\",\"#19d3f3\",\"#FF6692\",\"#B6E880\",\"#FF97FF\",\"#FECB52\"],\"font\":{\"color\":\"#2a3f5f\"},\"hovermode\":\"closest\",\"hoverlabel\":{\"align\":\"left\"},\"paper_bgcolor\":\"white\",\"plot_bgcolor\":\"#E5ECF6\",\"polar\":{\"bgcolor\":\"#E5ECF6\",\"angularaxis\":{\"gridcolor\":\"white\",\"linecolor\":\"white\",\"ticks\":\"\"},\"radialaxis\":{\"gridcolor\":\"white\",\"linecolor\":\"white\",\"ticks\":\"\"}},\"ternary\":{\"bgcolor\":\"#E5ECF6\",\"aaxis\":{\"gridcolor\":\"white\",\"linecolor\":\"white\",\"ticks\":\"\"},\"baxis\":{\"gridcolor\":\"white\",\"linecolor\":\"white\",\"ticks\":\"\"},\"caxis\":{\"gridcolor\":\"white\",\"linecolor\":\"white\",\"ticks\":\"\"}},\"coloraxis\":{\"colorbar\":{\"outlinewidth\":0,\"ticks\":\"\"}},\"colorscale\":{\"sequential\":[[0.0,\"#0d0887\"],[0.1111111111111111,\"#46039f\"],[0.2222222222222222,\"#7201a8\"],[0.3333333333333333,\"#9c179e\"],[0.4444444444444444,\"#bd3786\"],[0.5555555555555556,\"#d8576b\"],[0.6666666666666666,\"#ed7953\"],[0.7777777777777778,\"#fb9f3a\"],[0.8888888888888888,\"#fdca26\"],[1.0,\"#f0f921\"]],\"sequentialminus\":[[0.0,\"#0d0887\"],[0.1111111111111111,\"#46039f\"],[0.2222222222222222,\"#7201a8\"],[0.3333333333333333,\"#9c179e\"],[0.4444444444444444,\"#bd3786\"],[0.5555555555555556,\"#d8576b\"],[0.6666666666666666,\"#ed7953\"],[0.7777777777777778,\"#fb9f3a\"],[0.8888888888888888,\"#fdca26\"],[1.0,\"#f0f921\"]],\"diverging\":[[0,\"#8e0152\"],[0.1,\"#c51b7d\"],[0.2,\"#de77ae\"],[0.3,\"#f1b6da\"],[0.4,\"#fde0ef\"],[0.5,\"#f7f7f7\"],[0.6,\"#e6f5d0\"],[0.7,\"#b8e186\"],[0.8,\"#7fbc41\"],[0.9,\"#4d9221\"],[1,\"#276419\"]]},\"xaxis\":{\"gridcolor\":\"white\",\"linecolor\":\"white\",\"ticks\":\"\",\"title\":{\"standoff\":15},\"zerolinecolor\":\"white\",\"automargin\":true,\"zerolinewidth\":2},\"yaxis\":{\"gridcolor\":\"white\",\"linecolor\":\"white\",\"ticks\":\"\",\"title\":{\"standoff\":15},\"zerolinecolor\":\"white\",\"automargin\":true,\"zerolinewidth\":2},\"scene\":{\"xaxis\":{\"backgroundcolor\":\"#E5ECF6\",\"gridcolor\":\"white\",\"linecolor\":\"white\",\"showbackground\":true,\"ticks\":\"\",\"zerolinecolor\":\"white\",\"gridwidth\":2},\"yaxis\":{\"backgroundcolor\":\"#E5ECF6\",\"gridcolor\":\"white\",\"linecolor\":\"white\",\"showbackground\":true,\"ticks\":\"\",\"zerolinecolor\":\"white\",\"gridwidth\":2},\"zaxis\":{\"backgroundcolor\":\"#E5ECF6\",\"gridcolor\":\"white\",\"linecolor\":\"white\",\"showbackground\":true,\"ticks\":\"\",\"zerolinecolor\":\"white\",\"gridwidth\":2}},\"shapedefaults\":{\"line\":{\"color\":\"#2a3f5f\"}},\"annotationdefaults\":{\"arrowcolor\":\"#2a3f5f\",\"arrowhead\":0,\"arrowwidth\":1},\"geo\":{\"bgcolor\":\"white\",\"landcolor\":\"#E5ECF6\",\"subunitcolor\":\"white\",\"showland\":true,\"showlakes\":true,\"lakecolor\":\"white\"},\"title\":{\"x\":0.05},\"mapbox\":{\"style\":\"light\"}}},\"xaxis\":{\"anchor\":\"y\",\"domain\":[0.0,1.0],\"title\":{\"text\":\"date\"}},\"yaxis\":{\"anchor\":\"x\",\"domain\":[0.0,1.0],\"title\":{\"text\":\"value\"}},\"legend\":{\"title\":{\"text\":\"variable\"},\"tracegroupgap\":0},\"margin\":{\"t\":60}},                        {\"responsive\": true}                    ).then(function(){\n",
       "                            \n",
       "var gd = document.getElementById('7b431a1c-1eb0-4306-bf5c-dac783d7ffa6');\n",
       "var x = new MutationObserver(function (mutations, observer) {{\n",
       "        var display = window.getComputedStyle(gd).display;\n",
       "        if (!display || display === 'none') {{\n",
       "            console.log([gd, 'removed!']);\n",
       "            Plotly.purge(gd);\n",
       "            observer.disconnect();\n",
       "        }}\n",
       "}});\n",
       "\n",
       "// Listen for the removal of the full notebook cells\n",
       "var notebookContainer = gd.closest('#notebook-container');\n",
       "if (notebookContainer) {{\n",
       "    x.observe(notebookContainer, {childList: true});\n",
       "}}\n",
       "\n",
       "// Listen for the clearing of the current output cell\n",
       "var outputEl = gd.closest('.output');\n",
       "if (outputEl) {{\n",
       "    x.observe(outputEl, {childList: true});\n",
       "}}\n",
       "\n",
       "                        })                };                });            </script>        </div>"
      ]
     },
     "metadata": {},
     "output_type": "display_data"
    }
   ],
   "source": [
    "fig = px.line(final_df, x='date', y=[column for column in final_df.columns if \"close\" in column and \"ibov\" not in column])\n",
    "fig.show()"
   ]
  },
  {
   "cell_type": "code",
   "execution_count": 383,
   "id": "650aedce-3a23-4fca-afc4-3a961052c6e4",
   "metadata": {
    "tags": []
   },
   "outputs": [
    {
     "data": {
      "application/vnd.plotly.v1+json": {
       "config": {
        "plotlyServerURL": "https://plot.ly"
       },
       "data": [
        {
         "hovertemplate": "variable=ibov_cum_change<br>date=%{x}<br>value=%{y}<extra></extra>",
         "legendgroup": "ibov_cum_change",
         "line": {
          "color": "#636efa",
          "dash": "solid"
         },
         "marker": {
          "symbol": "circle"
         },
         "mode": "lines",
         "name": "ibov_cum_change",
         "orientation": "v",
         "showlegend": true,
         "type": "scatter",
         "visible": true,
         "x": [
          "2022-01-03T00:00:00",
          "2022-01-04T00:00:00",
          "2022-01-05T00:00:00",
          "2022-01-06T00:00:00",
          "2022-01-07T00:00:00",
          "2022-01-10T00:00:00",
          "2022-01-11T00:00:00",
          "2022-01-12T00:00:00",
          "2022-01-13T00:00:00",
          "2022-01-14T00:00:00",
          "2022-01-17T00:00:00",
          "2022-01-18T00:00:00",
          "2022-01-19T00:00:00",
          "2022-01-20T00:00:00",
          "2022-01-21T00:00:00",
          "2022-01-24T00:00:00",
          "2022-01-25T00:00:00",
          "2022-01-26T00:00:00",
          "2022-01-27T00:00:00",
          "2022-01-28T00:00:00",
          "2022-01-31T00:00:00",
          "2022-02-01T00:00:00",
          "2022-02-02T00:00:00",
          "2022-02-03T00:00:00",
          "2022-02-04T00:00:00",
          "2022-02-07T00:00:00",
          "2022-02-08T00:00:00",
          "2022-02-09T00:00:00",
          "2022-02-10T00:00:00",
          "2022-02-11T00:00:00",
          "2022-02-14T00:00:00",
          "2022-02-15T00:00:00",
          "2022-02-16T00:00:00",
          "2022-02-17T00:00:00",
          "2022-02-18T00:00:00",
          "2022-02-21T00:00:00",
          "2022-02-22T00:00:00",
          "2022-02-23T00:00:00",
          "2022-02-24T00:00:00",
          "2022-02-25T00:00:00",
          "2022-03-02T00:00:00",
          "2022-03-03T00:00:00",
          "2022-03-04T00:00:00",
          "2022-03-07T00:00:00",
          "2022-03-08T00:00:00",
          "2022-03-09T00:00:00",
          "2022-03-10T00:00:00",
          "2022-03-11T00:00:00",
          "2022-03-14T00:00:00",
          "2022-03-15T00:00:00",
          "2022-03-16T00:00:00",
          "2022-03-17T00:00:00",
          "2022-03-18T00:00:00",
          "2022-03-21T00:00:00",
          "2022-03-22T00:00:00",
          "2022-03-23T00:00:00",
          "2022-03-24T00:00:00",
          "2022-03-25T00:00:00",
          "2022-03-28T00:00:00",
          "2022-03-29T00:00:00",
          "2022-03-30T00:00:00",
          "2022-03-31T00:00:00",
          "2022-04-01T00:00:00",
          "2022-04-04T00:00:00",
          "2022-04-05T00:00:00",
          "2022-04-06T00:00:00",
          "2022-04-07T00:00:00",
          "2022-04-08T00:00:00",
          "2022-04-11T00:00:00",
          "2022-04-12T00:00:00",
          "2022-04-13T00:00:00",
          "2022-04-14T00:00:00",
          "2022-04-18T00:00:00",
          "2022-04-19T00:00:00",
          "2022-04-20T00:00:00",
          "2022-04-22T00:00:00",
          "2022-04-25T00:00:00",
          "2022-04-26T00:00:00",
          "2022-04-27T00:00:00",
          "2022-04-28T00:00:00",
          "2022-04-29T00:00:00",
          "2022-05-02T00:00:00",
          "2022-05-03T00:00:00",
          "2022-05-04T00:00:00",
          "2022-05-05T00:00:00",
          "2022-05-06T00:00:00",
          "2022-05-09T00:00:00",
          "2022-05-10T00:00:00",
          "2022-05-11T00:00:00",
          "2022-05-12T00:00:00",
          "2022-05-13T00:00:00",
          "2022-05-16T00:00:00",
          "2022-05-17T00:00:00",
          "2022-05-18T00:00:00",
          "2022-05-19T00:00:00",
          "2022-05-20T00:00:00",
          "2022-05-23T00:00:00",
          "2022-05-24T00:00:00",
          "2022-05-25T00:00:00",
          "2022-05-26T00:00:00",
          "2022-05-27T00:00:00",
          "2022-05-30T00:00:00",
          "2022-05-31T00:00:00",
          "2022-06-01T00:00:00",
          "2022-06-02T00:00:00",
          "2022-06-03T00:00:00",
          "2022-06-06T00:00:00",
          "2022-06-07T00:00:00",
          "2022-06-08T00:00:00",
          "2022-06-09T00:00:00",
          "2022-06-10T00:00:00",
          "2022-06-13T00:00:00",
          "2022-06-14T00:00:00",
          "2022-06-15T00:00:00",
          "2022-06-17T00:00:00",
          "2022-06-20T00:00:00",
          "2022-06-21T00:00:00",
          "2022-06-22T00:00:00",
          "2022-06-23T00:00:00",
          "2022-06-24T00:00:00",
          "2022-06-27T00:00:00",
          "2022-06-28T00:00:00",
          "2022-06-29T00:00:00",
          "2022-06-30T00:00:00",
          "2022-07-01T00:00:00",
          "2022-07-04T00:00:00"
         ],
         "xaxis": "x",
         "y": [
          0,
          -0.39260214391562903,
          -2.8059506168087602,
          -2.2718962298647063,
          -1.157598968457112,
          -1.90238832970882,
          -0.13760320240180135,
          1.697426916341102,
          1.5473143319027733,
          2.8925540309077964,
          2.6654606339369913,
          2.501876407305479,
          3.9366063008795056,
          4.984507611477839,
          4.830545986412886,
          3.685456399992302,
          5.699466907873212,
          7.362252458574701,
          8.076249494813418,
          7.270837743692384,
          8.146494486249303,
          8.876849945151172,
          7.928061430688401,
          7.480610457843382,
          8.0088912838475,
          7.769288504840168,
          7.998306422124285,
          8.216739477685186,
          9.080849098362233,
          9.28581051172995,
          9.5119416485441,
          10.332749562171628,
          10.834087103789381,
          9.24347106483709,
          8.512153345778565,
          7.508516002386405,
          8.631473605203903,
          7.78083562672004,
          7.380535401551163,
          8.87203864436789,
          10.827351282692788,
          10.819653201439541,
          10.153769173033622,
          7.38149766170782,
          7.0062162006119975,
          9.601431843113104,
          9.373376185985643,
          7.496968880506533,
          5.779334500875657,
          4.846904409076037,
          6.918650526356306,
          8.808529474028598,
          10.959180924154655,
          11.771328496372279,
          12.84617309135698,
          13.02419122033833,
          14.559958430361233,
          14.586901714747599,
          14.256846481014607,
          15.484690440907604,
          15.721406439444968,
          15.470256538557765,
          16.98196724466427,
          16.70291179923404,
          14.398298724043032,
          13.766093801120071,
          14.376166740439945,
          13.85654625584573,
          12.53921210138373,
          11.763630415119032,
          12.374665614595562,
          11.79730952060199,
          11.320990743057292,
          10.714766844364043,
          10.028675352668348,
          6.885933681030004,
          6.5077654394642135,
          4.129058332210697,
          5.2221858701718595,
          5.770674159465753,
          3.80477665941764,
          2.6144608456342255,
          2.5076499682454148,
          4.255114412732627,
          1.3298435364985277,
          1.1672215700236717,
          -0.6466388252728007,
          -0.7813552472046342,
          0.4570735744115779,
          1.6993514366544138,
          2.8887049902811723,
          4.148303535343816,
          4.683320182444525,
          2.237254864225092,
          2.9666480629703047,
          4.393679875291084,
          6.181559246357845,
          6.407690383171994,
          6.406728123015339,
          7.667288928234638,
          7.717326456380747,
          6.84166971382383,
          7.148630703797078,
          7.157291045206982,
          8.151305787032582,
          6.909027924789746,
          6.027597621292893,
          5.915975443120802,
          4.278208656492369,
          3.0522892169126847,
          1.5001635842266314,
          -1.2740324474124824,
          -1.7888416312234177,
          -1.072920074671388,
          -3.9423798618194414,
          -3.915436577433075,
          -4.077096283751275,
          -4.233944689286195,
          -5.62152383518408,
          -5.051865822443756,
          -3.038817574719501,
          -3.205288581820981,
          -4.1377186736206,
          -5.17695964280903,
          -4.780508458266777,
          -4.944002473008602
         ],
         "yaxis": "y"
        },
        {
         "hovertemplate": "variable=CIEL3_cum_change<br>date=%{x}<br>value=%{y}<extra></extra>",
         "legendgroup": "CIEL3_cum_change",
         "line": {
          "color": "#EF553B",
          "dash": "solid"
         },
         "marker": {
          "symbol": "circle"
         },
         "mode": "lines",
         "name": "CIEL3_cum_change",
         "orientation": "v",
         "showlegend": true,
         "type": "scatter",
         "visible": true,
         "x": [
          "2022-01-03T00:00:00",
          "2022-01-04T00:00:00",
          "2022-01-05T00:00:00",
          "2022-01-06T00:00:00",
          "2022-01-07T00:00:00",
          "2022-01-10T00:00:00",
          "2022-01-11T00:00:00",
          "2022-01-12T00:00:00",
          "2022-01-13T00:00:00",
          "2022-01-14T00:00:00",
          "2022-01-17T00:00:00",
          "2022-01-18T00:00:00",
          "2022-01-19T00:00:00",
          "2022-01-20T00:00:00",
          "2022-01-21T00:00:00",
          "2022-01-24T00:00:00",
          "2022-01-25T00:00:00",
          "2022-01-26T00:00:00",
          "2022-01-27T00:00:00",
          "2022-01-28T00:00:00",
          "2022-01-31T00:00:00",
          "2022-02-01T00:00:00",
          "2022-02-02T00:00:00",
          "2022-02-03T00:00:00",
          "2022-02-04T00:00:00",
          "2022-02-07T00:00:00",
          "2022-02-08T00:00:00",
          "2022-02-09T00:00:00",
          "2022-02-10T00:00:00",
          "2022-02-11T00:00:00",
          "2022-02-14T00:00:00",
          "2022-02-15T00:00:00",
          "2022-02-16T00:00:00",
          "2022-02-17T00:00:00",
          "2022-02-18T00:00:00",
          "2022-02-21T00:00:00",
          "2022-02-22T00:00:00",
          "2022-02-23T00:00:00",
          "2022-02-24T00:00:00",
          "2022-02-25T00:00:00",
          "2022-03-02T00:00:00",
          "2022-03-03T00:00:00",
          "2022-03-04T00:00:00",
          "2022-03-07T00:00:00",
          "2022-03-08T00:00:00",
          "2022-03-09T00:00:00",
          "2022-03-10T00:00:00",
          "2022-03-11T00:00:00",
          "2022-03-14T00:00:00",
          "2022-03-15T00:00:00",
          "2022-03-16T00:00:00",
          "2022-03-17T00:00:00",
          "2022-03-18T00:00:00",
          "2022-03-21T00:00:00",
          "2022-03-22T00:00:00",
          "2022-03-23T00:00:00",
          "2022-03-24T00:00:00",
          "2022-03-25T00:00:00",
          "2022-03-28T00:00:00",
          "2022-03-29T00:00:00",
          "2022-03-30T00:00:00",
          "2022-03-31T00:00:00",
          "2022-04-01T00:00:00",
          "2022-04-04T00:00:00",
          "2022-04-05T00:00:00",
          "2022-04-06T00:00:00",
          "2022-04-07T00:00:00",
          "2022-04-08T00:00:00",
          "2022-04-11T00:00:00",
          "2022-04-12T00:00:00",
          "2022-04-13T00:00:00",
          "2022-04-14T00:00:00",
          "2022-04-18T00:00:00",
          "2022-04-19T00:00:00",
          "2022-04-20T00:00:00",
          "2022-04-22T00:00:00",
          "2022-04-25T00:00:00",
          "2022-04-26T00:00:00",
          "2022-04-27T00:00:00",
          "2022-04-28T00:00:00",
          "2022-04-29T00:00:00",
          "2022-05-02T00:00:00",
          "2022-05-03T00:00:00",
          "2022-05-04T00:00:00",
          "2022-05-05T00:00:00",
          "2022-05-06T00:00:00",
          "2022-05-09T00:00:00",
          "2022-05-10T00:00:00",
          "2022-05-11T00:00:00",
          "2022-05-12T00:00:00",
          "2022-05-13T00:00:00",
          "2022-05-16T00:00:00",
          "2022-05-17T00:00:00",
          "2022-05-18T00:00:00",
          "2022-05-19T00:00:00",
          "2022-05-20T00:00:00",
          "2022-05-23T00:00:00",
          "2022-05-24T00:00:00",
          "2022-05-25T00:00:00",
          "2022-05-26T00:00:00",
          "2022-05-27T00:00:00",
          "2022-05-30T00:00:00",
          "2022-05-31T00:00:00",
          "2022-06-01T00:00:00",
          "2022-06-02T00:00:00",
          "2022-06-03T00:00:00",
          "2022-06-06T00:00:00",
          "2022-06-07T00:00:00",
          "2022-06-08T00:00:00",
          "2022-06-09T00:00:00",
          "2022-06-10T00:00:00",
          "2022-06-13T00:00:00",
          "2022-06-14T00:00:00",
          "2022-06-15T00:00:00",
          "2022-06-17T00:00:00",
          "2022-06-20T00:00:00",
          "2022-06-21T00:00:00",
          "2022-06-22T00:00:00",
          "2022-06-23T00:00:00",
          "2022-06-24T00:00:00",
          "2022-06-27T00:00:00",
          "2022-06-28T00:00:00",
          "2022-06-29T00:00:00",
          "2022-06-30T00:00:00",
          "2022-07-01T00:00:00",
          "2022-07-04T00:00:00"
         ],
         "xaxis": "x",
         "y": [
          0,
          -3.1963547868679485,
          -3.6529753440358235,
          -5.936078129875197,
          -6.3926986870430715,
          -8.21918091571457,
          -5.022837015539448,
          -7.3059398013788215,
          -7.762560358546696,
          -7.762560358546696,
          -3.1963547868679485,
          -6.3926986870430715,
          -5.022837015539448,
          -2.283102785839374,
          -5.4794575727073225,
          -6.3926986870430715,
          -0.45662055716787475,
          0,
          -1.826482228671499,
          4.1095850145108725,
          5.0228261288466225,
          5.0228261288466225,
          6.392687800350247,
          0,
          6.392687800350247,
          6.8493083575181215,
          5.9360672431823716,
          5.479446686014497,
          8.675801472882446,
          5.9360672431823716,
          8.675801472882446,
          8.219170029021745,
          13.698627601729068,
          15.068489273232693,
          29.223737432129635,
          21.461187960275765,
          19.178074287743566,
          18.72145373057569,
          21.004567403107888,
          17.351592059072065,
          12.78538648739332,
          18.72145373057569,
          12.78538648739332,
          4.566205571678748,
          10.502283701553944,
          15.068489273232693,
          14.611868716064818,
          13.698627601729068,
          11.415524815889695,
          17.351592059072065,
          13.698627601729068,
          14.155248158896942,
          22.374429074611513,
          23.287670188947263,
          22.83104963177939,
          23.744290746115137,
          29.223737432129635,
          31.963471661829708,
          30.59359910363326,
          33.78995389050121,
          36.073056676340585,
          42.009123919522956,
          53.424648735412646,
          52.96802817824477,
          48.40182260656603,
          47.94520204939815,
          50.6849253924054,
          56.16438296511272,
          58.4474857509521,
          64.84017355130234,
          63.926932436966595,
          63.47031187979872,
          66.66666666666667,
          63.01369132263084,
          60.73058853679147,
          57.07762407944847,
          60.27396797962359,
          54.33790073644122,
          57.07762407944847,
          64.84017355130234,
          55.251141850776975,
          51.59816650674115,
          56.16438296511272,
          56.16438296511272,
          42.46574447669083,
          42.009123919522956,
          40.63926224801933,
          42.009123919522956,
          39.72602113368358,
          45.2054787063909,
          48.40182260656603,
          51.59816650674115,
          54.33790073644122,
          54.33790073644122,
          57.53424463661634,
          62.10045020829509,
          66.21004610949879,
          66.66666666666667,
          65.75342555233092,
          84.47487928290661,
          82.19177649706724,
          79.45205315405998,
          80.36529426839573,
          81.73515593989936,
          80.36529426839573,
          80.36529426839573,
          81.27853538273149,
          73.51597502418478,
          72.14611335268117,
          71.68949279551329,
          72.60273390984904,
          74.88583669568841,
          72.60273390984904,
          79.90867371122786,
          75.79907781002416,
          73.51597502418478,
          78.08219148255635,
          79.90867371122786,
          80.36529426839573,
          76.25569836719204,
          76.25569836719204,
          75.79907781002416,
          72.60273390984904,
          71.23287223834541,
          79.45205315405998,
          76.7123189243599
         ],
         "yaxis": "y"
        },
        {
         "hovertemplate": "variable=BRFS3_cum_change<br>date=%{x}<br>value=%{y}<extra></extra>",
         "legendgroup": "BRFS3_cum_change",
         "line": {
          "color": "#00cc96",
          "dash": "solid"
         },
         "marker": {
          "symbol": "circle"
         },
         "mode": "lines",
         "name": "BRFS3_cum_change",
         "orientation": "v",
         "showlegend": true,
         "type": "scatter",
         "visible": true,
         "x": [
          "2022-01-03T00:00:00",
          "2022-01-04T00:00:00",
          "2022-01-05T00:00:00",
          "2022-01-06T00:00:00",
          "2022-01-07T00:00:00",
          "2022-01-10T00:00:00",
          "2022-01-11T00:00:00",
          "2022-01-12T00:00:00",
          "2022-01-13T00:00:00",
          "2022-01-14T00:00:00",
          "2022-01-17T00:00:00",
          "2022-01-18T00:00:00",
          "2022-01-19T00:00:00",
          "2022-01-20T00:00:00",
          "2022-01-21T00:00:00",
          "2022-01-24T00:00:00",
          "2022-01-25T00:00:00",
          "2022-01-26T00:00:00",
          "2022-01-27T00:00:00",
          "2022-01-28T00:00:00",
          "2022-01-31T00:00:00",
          "2022-02-01T00:00:00",
          "2022-02-02T00:00:00",
          "2022-02-03T00:00:00",
          "2022-02-04T00:00:00",
          "2022-02-07T00:00:00",
          "2022-02-08T00:00:00",
          "2022-02-09T00:00:00",
          "2022-02-10T00:00:00",
          "2022-02-11T00:00:00",
          "2022-02-14T00:00:00",
          "2022-02-15T00:00:00",
          "2022-02-16T00:00:00",
          "2022-02-17T00:00:00",
          "2022-02-18T00:00:00",
          "2022-02-21T00:00:00",
          "2022-02-22T00:00:00",
          "2022-02-23T00:00:00",
          "2022-02-24T00:00:00",
          "2022-02-25T00:00:00",
          "2022-03-02T00:00:00",
          "2022-03-03T00:00:00",
          "2022-03-04T00:00:00",
          "2022-03-07T00:00:00",
          "2022-03-08T00:00:00",
          "2022-03-09T00:00:00",
          "2022-03-10T00:00:00",
          "2022-03-11T00:00:00",
          "2022-03-14T00:00:00",
          "2022-03-15T00:00:00",
          "2022-03-16T00:00:00",
          "2022-03-17T00:00:00",
          "2022-03-18T00:00:00",
          "2022-03-21T00:00:00",
          "2022-03-22T00:00:00",
          "2022-03-23T00:00:00",
          "2022-03-24T00:00:00",
          "2022-03-25T00:00:00",
          "2022-03-28T00:00:00",
          "2022-03-29T00:00:00",
          "2022-03-30T00:00:00",
          "2022-03-31T00:00:00",
          "2022-04-01T00:00:00",
          "2022-04-04T00:00:00",
          "2022-04-05T00:00:00",
          "2022-04-06T00:00:00",
          "2022-04-07T00:00:00",
          "2022-04-08T00:00:00",
          "2022-04-11T00:00:00",
          "2022-04-12T00:00:00",
          "2022-04-13T00:00:00",
          "2022-04-14T00:00:00",
          "2022-04-18T00:00:00",
          "2022-04-19T00:00:00",
          "2022-04-20T00:00:00",
          "2022-04-22T00:00:00",
          "2022-04-25T00:00:00",
          "2022-04-26T00:00:00",
          "2022-04-27T00:00:00",
          "2022-04-28T00:00:00",
          "2022-04-29T00:00:00",
          "2022-05-02T00:00:00",
          "2022-05-03T00:00:00",
          "2022-05-04T00:00:00",
          "2022-05-05T00:00:00",
          "2022-05-06T00:00:00",
          "2022-05-09T00:00:00",
          "2022-05-10T00:00:00",
          "2022-05-11T00:00:00",
          "2022-05-12T00:00:00",
          "2022-05-13T00:00:00",
          "2022-05-16T00:00:00",
          "2022-05-17T00:00:00",
          "2022-05-18T00:00:00",
          "2022-05-19T00:00:00",
          "2022-05-20T00:00:00",
          "2022-05-23T00:00:00",
          "2022-05-24T00:00:00",
          "2022-05-25T00:00:00",
          "2022-05-26T00:00:00",
          "2022-05-27T00:00:00",
          "2022-05-30T00:00:00",
          "2022-05-31T00:00:00",
          "2022-06-01T00:00:00",
          "2022-06-02T00:00:00",
          "2022-06-03T00:00:00",
          "2022-06-06T00:00:00",
          "2022-06-07T00:00:00",
          "2022-06-08T00:00:00",
          "2022-06-09T00:00:00",
          "2022-06-10T00:00:00",
          "2022-06-13T00:00:00",
          "2022-06-14T00:00:00",
          "2022-06-15T00:00:00",
          "2022-06-17T00:00:00",
          "2022-06-20T00:00:00",
          "2022-06-21T00:00:00",
          "2022-06-22T00:00:00",
          "2022-06-23T00:00:00",
          "2022-06-24T00:00:00",
          "2022-06-27T00:00:00",
          "2022-06-28T00:00:00",
          "2022-06-29T00:00:00",
          "2022-06-30T00:00:00",
          "2022-07-01T00:00:00",
          "2022-07-04T00:00:00"
         ],
         "xaxis": "x",
         "y": [
          0,
          -3.4453025870696052,
          -2.2394425744705897,
          4.651162599668621,
          5.943157230506704,
          1.2919946308380825,
          0,
          2.6701156656659246,
          3.4022434921993794,
          4.651162599668621,
          6.589150438801091,
          0.4306648769460275,
          2.1102488613612964,
          0.6029341134241616,
          -2.282509883590123,
          1.0335907761208816,
          0.12920192735860053,
          -1.7226512935348026,
          -0.516791280935787,
          -1.5934493661762021,
          -3.832900154896099,
          -6.847546079268985,
          -14.082681512115155,
          -14.513346389061184,
          -19.250643606968872,
          -20.887160282264606,
          -20.973294900503674,
          -18.604650398674483,
          -17.5710596225536,
          -18.992247966500976,
          -18.34625475820659,
          -18.173985521728454,
          -18.173985521728454,
          -18.389313853076814,
          -18.949180657381444,
          -21.016362209623207,
          -16.66666255954201,
          -20.49957092868742,
          -25.322994550584866,
          -28.036177525370324,
          -28.85443175589354,
          -31.007747926374368,
          -33.548661664681696,
          -38.156761062355436,
          -33.807061412274244,
          -28.76829713765447,
          -31.48148011243993,
          -33.548661664681696,
          -34.32385680033468,
          -33.37639653532821,
          -30.060291768492554,
          -28.55296880630611,
          -27.64857995754383,
          -28.380707784077284,
          -25.796726736650427,
          -28.63910342454518,
          -26.916452131010377,
          -26.787250203651777,
          -25.107666219236506,
          -21.74849003615666,
          -21.791557345276196,
          -19.939704124382793,
          -18.863046039142375,
          -20.887160282264606,
          -23.126611070984502,
          -23.08354376186497,
          -23.255812998343103,
          -24.89232967363884,
          -30.232552790721382,
          -31.524547421559465,
          -32.041342809619906,
          -34.409991418573746,
          -34.32385680033468,
          -34.151591670981205,
          -36.43410566169598,
          -37.51076374693639,
          -39.79328184477583,
          -42.11886314461013,
          -39.9655469741293,
          -39.75021453565629,
          -41.51593313831063,
          -42.80792366202405,
          -42.42032609419756,
          -41.17140287960367,
          -45.00430303449976,
          -48.36347921757961,
          -46.94229087363224,
          -45.822565479272285,
          -46.640823816920154,
          -45.822565479272285,
          -40.2239426145972,
          -40.008610176124186,
          -38.372089393703796,
          -41.51593313831063,
          -42.0757958354906,
          -41.55900044743016,
          -38.71662375953541,
          -38.19982426435031,
          -38.759686961530285,
          -37.42463323582198,
          -34.409991418573746,
          -35.185182447102086,
          -32.60120550679988,
          -33.936259232508185,
          -33.63479628292076,
          -34.539189238807694,
          -34.75452167728071,
          -34.75452167728071,
          -35.87424296451601,
          -35.572780014928576,
          -35.4005148855751,
          -40.13781210348279,
          -43.3247190500845,
          -44.09991418573748,
          -44.745907394031875,
          -46.46855868756668,
          -46.29629355821319,
          -43.71231661791099,
          -39.319549658710265,
          -37.38156592670244,
          -36.43410566169598,
          -37.63996567429499,
          -39.104217220237246,
          -41.47286582919109,
          -38.501291321062396,
          -36.60637079104946
         ],
         "yaxis": "y"
        },
        {
         "hovertemplate": "variable=BBDC4_cum_change<br>date=%{x}<br>value=%{y}<extra></extra>",
         "legendgroup": "BBDC4_cum_change",
         "line": {
          "color": "#ab63fa",
          "dash": "solid"
         },
         "marker": {
          "symbol": "circle"
         },
         "mode": "lines",
         "name": "BBDC4_cum_change",
         "orientation": "v",
         "showlegend": true,
         "type": "scatter",
         "visible": true,
         "x": [
          "2022-01-03T00:00:00",
          "2022-01-04T00:00:00",
          "2022-01-05T00:00:00",
          "2022-01-06T00:00:00",
          "2022-01-07T00:00:00",
          "2022-01-10T00:00:00",
          "2022-01-11T00:00:00",
          "2022-01-12T00:00:00",
          "2022-01-13T00:00:00",
          "2022-01-14T00:00:00",
          "2022-01-17T00:00:00",
          "2022-01-18T00:00:00",
          "2022-01-19T00:00:00",
          "2022-01-20T00:00:00",
          "2022-01-21T00:00:00",
          "2022-01-24T00:00:00",
          "2022-01-25T00:00:00",
          "2022-01-26T00:00:00",
          "2022-01-27T00:00:00",
          "2022-01-28T00:00:00",
          "2022-01-31T00:00:00",
          "2022-02-01T00:00:00",
          "2022-02-02T00:00:00",
          "2022-02-03T00:00:00",
          "2022-02-04T00:00:00",
          "2022-02-07T00:00:00",
          "2022-02-08T00:00:00",
          "2022-02-09T00:00:00",
          "2022-02-10T00:00:00",
          "2022-02-11T00:00:00",
          "2022-02-14T00:00:00",
          "2022-02-15T00:00:00",
          "2022-02-16T00:00:00",
          "2022-02-17T00:00:00",
          "2022-02-18T00:00:00",
          "2022-02-21T00:00:00",
          "2022-02-22T00:00:00",
          "2022-02-23T00:00:00",
          "2022-02-24T00:00:00",
          "2022-02-25T00:00:00",
          "2022-03-02T00:00:00",
          "2022-03-03T00:00:00",
          "2022-03-04T00:00:00",
          "2022-03-07T00:00:00",
          "2022-03-08T00:00:00",
          "2022-03-09T00:00:00",
          "2022-03-10T00:00:00",
          "2022-03-11T00:00:00",
          "2022-03-14T00:00:00",
          "2022-03-15T00:00:00",
          "2022-03-16T00:00:00",
          "2022-03-17T00:00:00",
          "2022-03-18T00:00:00",
          "2022-03-21T00:00:00",
          "2022-03-22T00:00:00",
          "2022-03-23T00:00:00",
          "2022-03-24T00:00:00",
          "2022-03-25T00:00:00",
          "2022-03-28T00:00:00",
          "2022-03-29T00:00:00",
          "2022-03-30T00:00:00",
          "2022-03-31T00:00:00",
          "2022-04-01T00:00:00",
          "2022-04-04T00:00:00",
          "2022-04-05T00:00:00",
          "2022-04-06T00:00:00",
          "2022-04-07T00:00:00",
          "2022-04-08T00:00:00",
          "2022-04-11T00:00:00",
          "2022-04-12T00:00:00",
          "2022-04-13T00:00:00",
          "2022-04-14T00:00:00",
          "2022-04-18T00:00:00",
          "2022-04-19T00:00:00",
          "2022-04-20T00:00:00",
          "2022-04-22T00:00:00",
          "2022-04-25T00:00:00",
          "2022-04-26T00:00:00",
          "2022-04-27T00:00:00",
          "2022-04-28T00:00:00",
          "2022-04-29T00:00:00",
          "2022-05-02T00:00:00",
          "2022-05-03T00:00:00",
          "2022-05-04T00:00:00",
          "2022-05-05T00:00:00",
          "2022-05-06T00:00:00",
          "2022-05-09T00:00:00",
          "2022-05-10T00:00:00",
          "2022-05-11T00:00:00",
          "2022-05-12T00:00:00",
          "2022-05-13T00:00:00",
          "2022-05-16T00:00:00",
          "2022-05-17T00:00:00",
          "2022-05-18T00:00:00",
          "2022-05-19T00:00:00",
          "2022-05-20T00:00:00",
          "2022-05-23T00:00:00",
          "2022-05-24T00:00:00",
          "2022-05-25T00:00:00",
          "2022-05-26T00:00:00",
          "2022-05-27T00:00:00",
          "2022-05-30T00:00:00",
          "2022-05-31T00:00:00",
          "2022-06-01T00:00:00",
          "2022-06-02T00:00:00",
          "2022-06-03T00:00:00",
          "2022-06-06T00:00:00",
          "2022-06-07T00:00:00",
          "2022-06-08T00:00:00",
          "2022-06-09T00:00:00",
          "2022-06-10T00:00:00",
          "2022-06-13T00:00:00",
          "2022-06-14T00:00:00",
          "2022-06-15T00:00:00",
          "2022-06-17T00:00:00",
          "2022-06-20T00:00:00",
          "2022-06-21T00:00:00",
          "2022-06-22T00:00:00",
          "2022-06-23T00:00:00",
          "2022-06-24T00:00:00",
          "2022-06-27T00:00:00",
          "2022-06-28T00:00:00",
          "2022-06-29T00:00:00",
          "2022-06-30T00:00:00",
          "2022-07-01T00:00:00",
          "2022-07-04T00:00:00"
         ],
         "xaxis": "x",
         "y": [
          0,
          0.5586613608986063,
          -0.1523641267140165,
          1.2696761929320477,
          2.7425116585355718,
          3.098013746762702,
          3.2503778734767184,
          2.4885678954858172,
          4.316916104895652,
          5.99288953201229,
          6.602335383289175,
          8.532252573455567,
          7.1609967441877815,
          7.059417107852043,
          5.9421050416340115,
          8.176739829649255,
          12.493645278965728,
          12.595224915301465,
          13.15388627620007,
          14.77907521293843,
          15.794818298399905,
          16.201115532584495,
          14.01726523494753,
          15.693238662064166,
          16.455048640055068,
          16.04875140587048,
          15.388521064215315,
          5.4850233170711435,
          7.008632617473765,
          7.364145361280076,
          7.516509487994092,
          7.6180784687506495,
          8.887765317261879,
          7.6180784687506495,
          8.227524320027534,
          6.957848127095486,
          6.551550892910896,
          6.043674022390569,
          2.8440806392921285,
          3.3519575098124563,
          2.285419278393522,
          4.1645519781816365,
          1.168107212175491,
          -1.4220403196460643,
          -0.1523641267140165,
          6.246822639482864,
          5.586592297827701,
          5.129499917685651,
          5.891309895676552,
          5.637376788205978,
          7.1609967441877815,
          7.567293978372371,
          7.313350215322616,
          9.852713256765893,
          11.223969086033678,
          10.512954254000238,
          12.138143190738596,
          13.15388627620007,
          12.595224915301465,
          14.626711086224415,
          13.915696254190973,
          12.84916867835122,
          11.630266320218269,
          11.071615614898844,
          7.97359121255696,
          7.414929851658354,
          7.872011576221222,
          9.090903278774991,
          8.938549807640157,
          7.97359121255696,
          9.090903278774991,
          8.836970171304419,
          10.766887361470811,
          9.329609563595428,
          8.938549807640157,
          7.374300128239896,
          6.703915019624913,
          2.1229110402988676,
          2.7374289472660713,
          1.7877078304121952,
          0.4469269576030488,
          0.39105975595527,
          0.9497211168538763,
          2.40223639295858,
          -0.9497211168538763,
          1.1173227217972126,
          2.6257051995496954,
          3.631282862472169,
          5.419001348463546,
          6.089386457078528,
          7.318432926592116,
          9.106151412583493,
          11.340786200598737,
          9.273742361947647,
          8.43575564838933,
          9.888270924494034,
          11.675978754906229,
          14.02234794621703,
          12.737434275055662,
          13.351962837602047,
          14.972069063070906,
          13.854746341273694,
          14.525142105467857,
          12.458098266816767,
          11.899447561497343,
          11.22905179730318,
          11.340786200598737,
          10.391065083744861,
          8.43575564838933,
          8.37988844674155,
          6.759782221272692,
          5.1955325418724305,
          4.134077021722996,
          4.860339987564939,
          3.240223106516899,
          5.97765205378297,
          4.134077021722996,
          3.687150064119948,
          0.9497211168538763,
          0.11173440329555753,
          1.5083824777524826,
          0.055867201647778766,
          -1.6759734271166375,
          -3.9106082151318815,
          -3.18435590486912,
          -4.189944223370775
         ],
         "yaxis": "y"
        },
        {
         "hovertemplate": "variable=ENEV3_cum_change<br>date=%{x}<br>value=%{y}<extra></extra>",
         "legendgroup": "ENEV3_cum_change",
         "line": {
          "color": "#FFA15A",
          "dash": "solid"
         },
         "marker": {
          "symbol": "circle"
         },
         "mode": "lines",
         "name": "ENEV3_cum_change",
         "orientation": "v",
         "showlegend": true,
         "type": "scatter",
         "visible": true,
         "x": [
          "2022-01-03T00:00:00",
          "2022-01-04T00:00:00",
          "2022-01-05T00:00:00",
          "2022-01-06T00:00:00",
          "2022-01-07T00:00:00",
          "2022-01-10T00:00:00",
          "2022-01-11T00:00:00",
          "2022-01-12T00:00:00",
          "2022-01-13T00:00:00",
          "2022-01-14T00:00:00",
          "2022-01-17T00:00:00",
          "2022-01-18T00:00:00",
          "2022-01-19T00:00:00",
          "2022-01-20T00:00:00",
          "2022-01-21T00:00:00",
          "2022-01-24T00:00:00",
          "2022-01-25T00:00:00",
          "2022-01-26T00:00:00",
          "2022-01-27T00:00:00",
          "2022-01-28T00:00:00",
          "2022-01-31T00:00:00",
          "2022-02-01T00:00:00",
          "2022-02-02T00:00:00",
          "2022-02-03T00:00:00",
          "2022-02-04T00:00:00",
          "2022-02-07T00:00:00",
          "2022-02-08T00:00:00",
          "2022-02-09T00:00:00",
          "2022-02-10T00:00:00",
          "2022-02-11T00:00:00",
          "2022-02-14T00:00:00",
          "2022-02-15T00:00:00",
          "2022-02-16T00:00:00",
          "2022-02-17T00:00:00",
          "2022-02-18T00:00:00",
          "2022-02-21T00:00:00",
          "2022-02-22T00:00:00",
          "2022-02-23T00:00:00",
          "2022-02-24T00:00:00",
          "2022-02-25T00:00:00",
          "2022-03-02T00:00:00",
          "2022-03-03T00:00:00",
          "2022-03-04T00:00:00",
          "2022-03-07T00:00:00",
          "2022-03-08T00:00:00",
          "2022-03-09T00:00:00",
          "2022-03-10T00:00:00",
          "2022-03-11T00:00:00",
          "2022-03-14T00:00:00",
          "2022-03-15T00:00:00",
          "2022-03-16T00:00:00",
          "2022-03-17T00:00:00",
          "2022-03-18T00:00:00",
          "2022-03-21T00:00:00",
          "2022-03-22T00:00:00",
          "2022-03-23T00:00:00",
          "2022-03-24T00:00:00",
          "2022-03-25T00:00:00",
          "2022-03-28T00:00:00",
          "2022-03-29T00:00:00",
          "2022-03-30T00:00:00",
          "2022-03-31T00:00:00",
          "2022-04-01T00:00:00",
          "2022-04-04T00:00:00",
          "2022-04-05T00:00:00",
          "2022-04-06T00:00:00",
          "2022-04-07T00:00:00",
          "2022-04-08T00:00:00",
          "2022-04-11T00:00:00",
          "2022-04-12T00:00:00",
          "2022-04-13T00:00:00",
          "2022-04-14T00:00:00",
          "2022-04-18T00:00:00",
          "2022-04-19T00:00:00",
          "2022-04-20T00:00:00",
          "2022-04-22T00:00:00",
          "2022-04-25T00:00:00",
          "2022-04-26T00:00:00",
          "2022-04-27T00:00:00",
          "2022-04-28T00:00:00",
          "2022-04-29T00:00:00",
          "2022-05-02T00:00:00",
          "2022-05-03T00:00:00",
          "2022-05-04T00:00:00",
          "2022-05-05T00:00:00",
          "2022-05-06T00:00:00",
          "2022-05-09T00:00:00",
          "2022-05-10T00:00:00",
          "2022-05-11T00:00:00",
          "2022-05-12T00:00:00",
          "2022-05-13T00:00:00",
          "2022-05-16T00:00:00",
          "2022-05-17T00:00:00",
          "2022-05-18T00:00:00",
          "2022-05-19T00:00:00",
          "2022-05-20T00:00:00",
          "2022-05-23T00:00:00",
          "2022-05-24T00:00:00",
          "2022-05-25T00:00:00",
          "2022-05-26T00:00:00",
          "2022-05-27T00:00:00",
          "2022-05-30T00:00:00",
          "2022-05-31T00:00:00",
          "2022-06-01T00:00:00",
          "2022-06-02T00:00:00",
          "2022-06-03T00:00:00",
          "2022-06-06T00:00:00",
          "2022-06-07T00:00:00",
          "2022-06-08T00:00:00",
          "2022-06-09T00:00:00",
          "2022-06-10T00:00:00",
          "2022-06-13T00:00:00",
          "2022-06-14T00:00:00",
          "2022-06-15T00:00:00",
          "2022-06-17T00:00:00",
          "2022-06-20T00:00:00",
          "2022-06-21T00:00:00",
          "2022-06-22T00:00:00",
          "2022-06-23T00:00:00",
          "2022-06-24T00:00:00",
          "2022-06-27T00:00:00",
          "2022-06-28T00:00:00",
          "2022-06-29T00:00:00",
          "2022-06-30T00:00:00",
          "2022-07-01T00:00:00",
          "2022-07-04T00:00:00"
         ],
         "xaxis": "x",
         "y": [
          0,
          -3.9434505172512524,
          -7.738095195858385,
          -9.151782594038215,
          -11.235114005594747,
          -11.011901699732936,
          -9.821426607414917,
          -6.919638248046298,
          -9.44940136711772,
          -5.505950849866468,
          -6.17559486324317,
          -6.622019474966794,
          -3.9434505172512524,
          -3.7202382113894403,
          -3.794637582815867,
          -5.13392560956927,
          -4.092256355895372,
          -2.752975424933234,
          -1.7857126384770274,
          -5.72916315572828,
          -1.7113061712593347,
          -1.3392809309621374,
          -1.636899704041642,
          -0.5952375461590091,
          -0.818449852020821,
          -2.752975424933234,
          -2.6785689577155414,
          0.1488129344353854,
          0.2232194016530781,
          -0.22321230586181187,
          -0.5952375461590091,
          1.7857197342682938,
          4.241076386122023,
          3.2738135996658166,
          1.6369067998329083,
          -0.37201814450593107,
          1.116075720891592,
          -0.07439937142642647,
          0.89286341502978,
          0.2232194016530781,
          0.2976187730795046,
          -2.0833314115565322,
          -4.836306836489766,
          -9.002976755394096,
          -7.142857649699376,
          -3.3482129710922433,
          -6.994044715263991,
          -10.863095861088816,
          -11.235114005594747,
          -10.49107062079162,
          -9.598214301553105,
          -5.877976090163665,
          3.2738135996658166,
          -0.37201814450593107,
          6.250001330460862,
          7.812501663076078,
          12.351196822277606,
          13.467265447377931,
          11.458333407247826,
          13.83929068767513,
          10.78869648966239,
          9.970239541850303,
          11.979171581980408,
          10.193458943503382,
          9.002976755394096,
          9.895840170423876,
          10.193458943503382,
          14.657740539695949,
          13.913697154892821,
          15.178571618637266,
          14.50893470105183,
          15.773816260587541,
          10.863095861088816,
          10.639883555227005,
          9.3005955284736,
          5.282738544004656,
          6.6220265707580594,
          3.4970259055276287,
          2.2321443459919177,
          3.0506012938040046,
          2.0833385073477984,
          -0.5208310789413164,
          0.3720252402971973,
          4.538695159201527,
          0.2976187730795046,
          0.89286341502978,
          -2.6785689577155414,
          -1.636899704041642,
          -3.497018809736362,
          -1.3392809309621374,
          1.1904821881092846,
          6.398814264896248,
          7.440476422778881,
          7.589289357214266,
          9.598214301553105,
          10.416671249365193,
          7.663695824431959,
          9.895840170423876,
          11.011908795524201,
          14.955359312775455,
          14.136909460754634,
          15.625003326152155,
          15.92262209923166,
          13.988096526319248,
          10.491077716582886,
          9.375001995691294,
          7.961314597511463,
          5.580357317084161,
          6.919645343837565,
          6.696433037975752,
          6.919645343837565,
          3.794644678607133,
          1.4881009611887892,
          5.505957945657734,
          8.184526903373275,
          9.226196157047175,
          10.491077716582886,
          10.639883555227005,
          6.919645343837565,
          6.845238876619872,
          13.020833739863042,
          14.211315927972326,
          11.3839340358214,
          9.895840170423876,
          12.64881559535711,
          10.3422647821475
         ],
         "yaxis": "y"
        },
        {
         "hovertemplate": "variable=total_cum_change<br>date=%{x}<br>value=%{y}<extra></extra>",
         "legendgroup": "total_cum_change",
         "line": {
          "color": "#19d3f3",
          "dash": "solid"
         },
         "marker": {
          "symbol": "circle"
         },
         "mode": "lines",
         "name": "total_cum_change",
         "orientation": "v",
         "showlegend": true,
         "type": "scatter",
         "visible": true,
         "x": [
          "2022-01-03T00:00:00",
          "2022-01-04T00:00:00",
          "2022-01-05T00:00:00",
          "2022-01-06T00:00:00",
          "2022-01-07T00:00:00",
          "2022-01-10T00:00:00",
          "2022-01-11T00:00:00",
          "2022-01-12T00:00:00",
          "2022-01-13T00:00:00",
          "2022-01-14T00:00:00",
          "2022-01-17T00:00:00",
          "2022-01-18T00:00:00",
          "2022-01-19T00:00:00",
          "2022-01-20T00:00:00",
          "2022-01-21T00:00:00",
          "2022-01-24T00:00:00",
          "2022-01-25T00:00:00",
          "2022-01-26T00:00:00",
          "2022-01-27T00:00:00",
          "2022-01-28T00:00:00",
          "2022-01-31T00:00:00",
          "2022-02-01T00:00:00",
          "2022-02-02T00:00:00",
          "2022-02-03T00:00:00",
          "2022-02-04T00:00:00",
          "2022-02-07T00:00:00",
          "2022-02-08T00:00:00",
          "2022-02-09T00:00:00",
          "2022-02-10T00:00:00",
          "2022-02-11T00:00:00",
          "2022-02-14T00:00:00",
          "2022-02-15T00:00:00",
          "2022-02-16T00:00:00",
          "2022-02-17T00:00:00",
          "2022-02-18T00:00:00",
          "2022-02-21T00:00:00",
          "2022-02-22T00:00:00",
          "2022-02-23T00:00:00",
          "2022-02-24T00:00:00",
          "2022-02-25T00:00:00",
          "2022-03-02T00:00:00",
          "2022-03-03T00:00:00",
          "2022-03-04T00:00:00",
          "2022-03-07T00:00:00",
          "2022-03-08T00:00:00",
          "2022-03-09T00:00:00",
          "2022-03-10T00:00:00",
          "2022-03-11T00:00:00",
          "2022-03-14T00:00:00",
          "2022-03-15T00:00:00",
          "2022-03-16T00:00:00",
          "2022-03-17T00:00:00",
          "2022-03-18T00:00:00",
          "2022-03-21T00:00:00",
          "2022-03-22T00:00:00",
          "2022-03-23T00:00:00",
          "2022-03-24T00:00:00",
          "2022-03-25T00:00:00",
          "2022-03-28T00:00:00",
          "2022-03-29T00:00:00",
          "2022-03-30T00:00:00",
          "2022-03-31T00:00:00",
          "2022-04-01T00:00:00",
          "2022-04-04T00:00:00",
          "2022-04-05T00:00:00",
          "2022-04-06T00:00:00",
          "2022-04-07T00:00:00",
          "2022-04-08T00:00:00",
          "2022-04-11T00:00:00",
          "2022-04-12T00:00:00",
          "2022-04-13T00:00:00",
          "2022-04-14T00:00:00",
          "2022-04-18T00:00:00",
          "2022-04-19T00:00:00",
          "2022-04-20T00:00:00",
          "2022-04-22T00:00:00",
          "2022-04-25T00:00:00",
          "2022-04-26T00:00:00",
          "2022-04-27T00:00:00",
          "2022-04-28T00:00:00",
          "2022-04-29T00:00:00",
          "2022-05-02T00:00:00",
          "2022-05-03T00:00:00",
          "2022-05-04T00:00:00",
          "2022-05-05T00:00:00",
          "2022-05-06T00:00:00",
          "2022-05-09T00:00:00",
          "2022-05-10T00:00:00",
          "2022-05-11T00:00:00",
          "2022-05-12T00:00:00",
          "2022-05-13T00:00:00",
          "2022-05-16T00:00:00",
          "2022-05-17T00:00:00",
          "2022-05-18T00:00:00",
          "2022-05-19T00:00:00",
          "2022-05-20T00:00:00",
          "2022-05-23T00:00:00",
          "2022-05-24T00:00:00",
          "2022-05-25T00:00:00",
          "2022-05-26T00:00:00",
          "2022-05-27T00:00:00",
          "2022-05-30T00:00:00",
          "2022-05-31T00:00:00",
          "2022-06-01T00:00:00",
          "2022-06-02T00:00:00",
          "2022-06-03T00:00:00",
          "2022-06-06T00:00:00",
          "2022-06-07T00:00:00",
          "2022-06-08T00:00:00",
          "2022-06-09T00:00:00",
          "2022-06-10T00:00:00",
          "2022-06-13T00:00:00",
          "2022-06-14T00:00:00",
          "2022-06-15T00:00:00",
          "2022-06-17T00:00:00",
          "2022-06-20T00:00:00",
          "2022-06-21T00:00:00",
          "2022-06-22T00:00:00",
          "2022-06-23T00:00:00",
          "2022-06-24T00:00:00",
          "2022-06-27T00:00:00",
          "2022-06-28T00:00:00",
          "2022-06-29T00:00:00",
          "2022-06-30T00:00:00",
          "2022-07-01T00:00:00",
          "2022-07-04T00:00:00"
         ],
         "xaxis": "x",
         "y": [
          0,
          -2.50661163257255,
          -3.4457193102697037,
          -2.2917554828281856,
          -2.235535950898886,
          -3.7102685594616807,
          -2.8984714373694116,
          -2.266723622068344,
          -2.373200532142346,
          -0.6561147691830633,
          0.9548840429947867,
          -1.0129501779020675,
          0.0762395181895944,
          0.41475255601184746,
          -1.4036249993698253,
          -0.5790734227105512,
          2.01849257331527,
          2.029899549208357,
          2.256225032028939,
          2.8915119263862055,
          3.818359525272774,
          3.2592786627999986,
          1.172592954785245,
          0.14616368171099337,
          0.6946607453539055,
          -0.18551898595230953,
          -0.5818188877053824,
          -1.872841865288364,
          -0.4158515326360781,
          -1.478811916975085,
          -0.6872953358722654,
          -0.13775432242194147,
          2.163370945846129,
          1.8927668721430861,
          5.034746973652158,
          1.7576639333105284,
          2.544759585501011,
          1.0477893632131032,
          -0.14537077328876738,
          -1.7773521387081812,
          -3.371501804256798,
          -2.5512684072933935,
          -6.107868700400663,
          -11.003893141429211,
          -7.649999871783423,
          -2.7002995490077897,
          -4.569265953452851,
          -6.3959075015889475,
          -7.063034023590795,
          -5.219624577210447,
          -4.699720431032203,
          -3.177100689800116,
          1.3282532330140286,
          1.0969143792824854,
          3.627073327905876,
          3.357660809661568,
          6.699156328533865,
          7.949343295438984,
          7.3848728017365115,
          10.126866407061023,
          9.746473018729437,
          11.222207003835422,
          14.542760149617237,
          13.336485613595597,
          10.562944875883145,
          10.543107077403851,
          11.373645728446723,
          13.755174277486205,
          12.766794980690923,
          14.116947240234277,
          13.871356901793376,
          13.417776723279232,
          13.493198272222903,
          12.207898192618018,
          10.633907052802313,
          8.055974751189158,
          8.451656931307685,
          4.459743634414396,
          5.520412599644288,
          7.482067034965563,
          4.066368544354298,
          2.165117880432763,
          3.7664508070165583,
          5.4834779094172905,
          -0.7976652253958263,
          -1.0860422903074152,
          -1.588973095944689,
          -0.45476460032970045,
          -1.2482050361273473,
          1.0332546883087512,
          4.171698776667558,
          6.773630502024177,
          8.68676849152876,
          7.421249829323126,
          8.373104687767045,
          10.21159798368104,
          11.708274232325392,
          13.096257629739316,
          12.685770415345125,
          18.839392049365532,
          19.222690900579757,
          18.436655093595938,
          19.552963241573842,
          18.5612728751318,
          17.2802558158888,
          16.607539705645628,
          16.456528625890247,
          13.683218936933276,
          12.906817845098015,
          12.798258566325504,
          12.72041164734605,
          10.934550453171298,
          8.725048210669081,
          11.543764364678264,
          10.619480106470615,
          10.562816136862063,
          11.60276316566226,
          12.630847678165956,
          12.228777767594227,
          11.457776430101257,
          13.587702230777897,
          13.106573816337317,
          10.801619324579137,
          8.936309591111577,
          12.603805380871393,
          11.564567173021794
         ],
         "yaxis": "y"
        }
       ],
       "layout": {
        "autosize": true,
        "legend": {
         "title": {
          "text": "variable"
         },
         "tracegroupgap": 0
        },
        "margin": {
         "t": 60
        },
        "template": {
         "data": {
          "bar": [
           {
            "error_x": {
             "color": "#2a3f5f"
            },
            "error_y": {
             "color": "#2a3f5f"
            },
            "marker": {
             "line": {
              "color": "#E5ECF6",
              "width": 0.5
             },
             "pattern": {
              "fillmode": "overlay",
              "size": 10,
              "solidity": 0.2
             }
            },
            "type": "bar"
           }
          ],
          "barpolar": [
           {
            "marker": {
             "line": {
              "color": "#E5ECF6",
              "width": 0.5
             },
             "pattern": {
              "fillmode": "overlay",
              "size": 10,
              "solidity": 0.2
             }
            },
            "type": "barpolar"
           }
          ],
          "carpet": [
           {
            "aaxis": {
             "endlinecolor": "#2a3f5f",
             "gridcolor": "white",
             "linecolor": "white",
             "minorgridcolor": "white",
             "startlinecolor": "#2a3f5f"
            },
            "baxis": {
             "endlinecolor": "#2a3f5f",
             "gridcolor": "white",
             "linecolor": "white",
             "minorgridcolor": "white",
             "startlinecolor": "#2a3f5f"
            },
            "type": "carpet"
           }
          ],
          "choropleth": [
           {
            "colorbar": {
             "outlinewidth": 0,
             "ticks": ""
            },
            "type": "choropleth"
           }
          ],
          "contour": [
           {
            "colorbar": {
             "outlinewidth": 0,
             "ticks": ""
            },
            "colorscale": [
             [
              0,
              "#0d0887"
             ],
             [
              0.1111111111111111,
              "#46039f"
             ],
             [
              0.2222222222222222,
              "#7201a8"
             ],
             [
              0.3333333333333333,
              "#9c179e"
             ],
             [
              0.4444444444444444,
              "#bd3786"
             ],
             [
              0.5555555555555556,
              "#d8576b"
             ],
             [
              0.6666666666666666,
              "#ed7953"
             ],
             [
              0.7777777777777778,
              "#fb9f3a"
             ],
             [
              0.8888888888888888,
              "#fdca26"
             ],
             [
              1,
              "#f0f921"
             ]
            ],
            "type": "contour"
           }
          ],
          "contourcarpet": [
           {
            "colorbar": {
             "outlinewidth": 0,
             "ticks": ""
            },
            "type": "contourcarpet"
           }
          ],
          "heatmap": [
           {
            "colorbar": {
             "outlinewidth": 0,
             "ticks": ""
            },
            "colorscale": [
             [
              0,
              "#0d0887"
             ],
             [
              0.1111111111111111,
              "#46039f"
             ],
             [
              0.2222222222222222,
              "#7201a8"
             ],
             [
              0.3333333333333333,
              "#9c179e"
             ],
             [
              0.4444444444444444,
              "#bd3786"
             ],
             [
              0.5555555555555556,
              "#d8576b"
             ],
             [
              0.6666666666666666,
              "#ed7953"
             ],
             [
              0.7777777777777778,
              "#fb9f3a"
             ],
             [
              0.8888888888888888,
              "#fdca26"
             ],
             [
              1,
              "#f0f921"
             ]
            ],
            "type": "heatmap"
           }
          ],
          "heatmapgl": [
           {
            "colorbar": {
             "outlinewidth": 0,
             "ticks": ""
            },
            "colorscale": [
             [
              0,
              "#0d0887"
             ],
             [
              0.1111111111111111,
              "#46039f"
             ],
             [
              0.2222222222222222,
              "#7201a8"
             ],
             [
              0.3333333333333333,
              "#9c179e"
             ],
             [
              0.4444444444444444,
              "#bd3786"
             ],
             [
              0.5555555555555556,
              "#d8576b"
             ],
             [
              0.6666666666666666,
              "#ed7953"
             ],
             [
              0.7777777777777778,
              "#fb9f3a"
             ],
             [
              0.8888888888888888,
              "#fdca26"
             ],
             [
              1,
              "#f0f921"
             ]
            ],
            "type": "heatmapgl"
           }
          ],
          "histogram": [
           {
            "marker": {
             "pattern": {
              "fillmode": "overlay",
              "size": 10,
              "solidity": 0.2
             }
            },
            "type": "histogram"
           }
          ],
          "histogram2d": [
           {
            "colorbar": {
             "outlinewidth": 0,
             "ticks": ""
            },
            "colorscale": [
             [
              0,
              "#0d0887"
             ],
             [
              0.1111111111111111,
              "#46039f"
             ],
             [
              0.2222222222222222,
              "#7201a8"
             ],
             [
              0.3333333333333333,
              "#9c179e"
             ],
             [
              0.4444444444444444,
              "#bd3786"
             ],
             [
              0.5555555555555556,
              "#d8576b"
             ],
             [
              0.6666666666666666,
              "#ed7953"
             ],
             [
              0.7777777777777778,
              "#fb9f3a"
             ],
             [
              0.8888888888888888,
              "#fdca26"
             ],
             [
              1,
              "#f0f921"
             ]
            ],
            "type": "histogram2d"
           }
          ],
          "histogram2dcontour": [
           {
            "colorbar": {
             "outlinewidth": 0,
             "ticks": ""
            },
            "colorscale": [
             [
              0,
              "#0d0887"
             ],
             [
              0.1111111111111111,
              "#46039f"
             ],
             [
              0.2222222222222222,
              "#7201a8"
             ],
             [
              0.3333333333333333,
              "#9c179e"
             ],
             [
              0.4444444444444444,
              "#bd3786"
             ],
             [
              0.5555555555555556,
              "#d8576b"
             ],
             [
              0.6666666666666666,
              "#ed7953"
             ],
             [
              0.7777777777777778,
              "#fb9f3a"
             ],
             [
              0.8888888888888888,
              "#fdca26"
             ],
             [
              1,
              "#f0f921"
             ]
            ],
            "type": "histogram2dcontour"
           }
          ],
          "mesh3d": [
           {
            "colorbar": {
             "outlinewidth": 0,
             "ticks": ""
            },
            "type": "mesh3d"
           }
          ],
          "parcoords": [
           {
            "line": {
             "colorbar": {
              "outlinewidth": 0,
              "ticks": ""
             }
            },
            "type": "parcoords"
           }
          ],
          "pie": [
           {
            "automargin": true,
            "type": "pie"
           }
          ],
          "scatter": [
           {
            "fillpattern": {
             "fillmode": "overlay",
             "size": 10,
             "solidity": 0.2
            },
            "type": "scatter"
           }
          ],
          "scatter3d": [
           {
            "line": {
             "colorbar": {
              "outlinewidth": 0,
              "ticks": ""
             }
            },
            "marker": {
             "colorbar": {
              "outlinewidth": 0,
              "ticks": ""
             }
            },
            "type": "scatter3d"
           }
          ],
          "scattercarpet": [
           {
            "marker": {
             "colorbar": {
              "outlinewidth": 0,
              "ticks": ""
             }
            },
            "type": "scattercarpet"
           }
          ],
          "scattergeo": [
           {
            "marker": {
             "colorbar": {
              "outlinewidth": 0,
              "ticks": ""
             }
            },
            "type": "scattergeo"
           }
          ],
          "scattergl": [
           {
            "marker": {
             "colorbar": {
              "outlinewidth": 0,
              "ticks": ""
             }
            },
            "type": "scattergl"
           }
          ],
          "scattermapbox": [
           {
            "marker": {
             "colorbar": {
              "outlinewidth": 0,
              "ticks": ""
             }
            },
            "type": "scattermapbox"
           }
          ],
          "scatterpolar": [
           {
            "marker": {
             "colorbar": {
              "outlinewidth": 0,
              "ticks": ""
             }
            },
            "type": "scatterpolar"
           }
          ],
          "scatterpolargl": [
           {
            "marker": {
             "colorbar": {
              "outlinewidth": 0,
              "ticks": ""
             }
            },
            "type": "scatterpolargl"
           }
          ],
          "scatterternary": [
           {
            "marker": {
             "colorbar": {
              "outlinewidth": 0,
              "ticks": ""
             }
            },
            "type": "scatterternary"
           }
          ],
          "surface": [
           {
            "colorbar": {
             "outlinewidth": 0,
             "ticks": ""
            },
            "colorscale": [
             [
              0,
              "#0d0887"
             ],
             [
              0.1111111111111111,
              "#46039f"
             ],
             [
              0.2222222222222222,
              "#7201a8"
             ],
             [
              0.3333333333333333,
              "#9c179e"
             ],
             [
              0.4444444444444444,
              "#bd3786"
             ],
             [
              0.5555555555555556,
              "#d8576b"
             ],
             [
              0.6666666666666666,
              "#ed7953"
             ],
             [
              0.7777777777777778,
              "#fb9f3a"
             ],
             [
              0.8888888888888888,
              "#fdca26"
             ],
             [
              1,
              "#f0f921"
             ]
            ],
            "type": "surface"
           }
          ],
          "table": [
           {
            "cells": {
             "fill": {
              "color": "#EBF0F8"
             },
             "line": {
              "color": "white"
             }
            },
            "header": {
             "fill": {
              "color": "#C8D4E3"
             },
             "line": {
              "color": "white"
             }
            },
            "type": "table"
           }
          ]
         },
         "layout": {
          "annotationdefaults": {
           "arrowcolor": "#2a3f5f",
           "arrowhead": 0,
           "arrowwidth": 1
          },
          "autotypenumbers": "strict",
          "coloraxis": {
           "colorbar": {
            "outlinewidth": 0,
            "ticks": ""
           }
          },
          "colorscale": {
           "diverging": [
            [
             0,
             "#8e0152"
            ],
            [
             0.1,
             "#c51b7d"
            ],
            [
             0.2,
             "#de77ae"
            ],
            [
             0.3,
             "#f1b6da"
            ],
            [
             0.4,
             "#fde0ef"
            ],
            [
             0.5,
             "#f7f7f7"
            ],
            [
             0.6,
             "#e6f5d0"
            ],
            [
             0.7,
             "#b8e186"
            ],
            [
             0.8,
             "#7fbc41"
            ],
            [
             0.9,
             "#4d9221"
            ],
            [
             1,
             "#276419"
            ]
           ],
           "sequential": [
            [
             0,
             "#0d0887"
            ],
            [
             0.1111111111111111,
             "#46039f"
            ],
            [
             0.2222222222222222,
             "#7201a8"
            ],
            [
             0.3333333333333333,
             "#9c179e"
            ],
            [
             0.4444444444444444,
             "#bd3786"
            ],
            [
             0.5555555555555556,
             "#d8576b"
            ],
            [
             0.6666666666666666,
             "#ed7953"
            ],
            [
             0.7777777777777778,
             "#fb9f3a"
            ],
            [
             0.8888888888888888,
             "#fdca26"
            ],
            [
             1,
             "#f0f921"
            ]
           ],
           "sequentialminus": [
            [
             0,
             "#0d0887"
            ],
            [
             0.1111111111111111,
             "#46039f"
            ],
            [
             0.2222222222222222,
             "#7201a8"
            ],
            [
             0.3333333333333333,
             "#9c179e"
            ],
            [
             0.4444444444444444,
             "#bd3786"
            ],
            [
             0.5555555555555556,
             "#d8576b"
            ],
            [
             0.6666666666666666,
             "#ed7953"
            ],
            [
             0.7777777777777778,
             "#fb9f3a"
            ],
            [
             0.8888888888888888,
             "#fdca26"
            ],
            [
             1,
             "#f0f921"
            ]
           ]
          },
          "colorway": [
           "#636efa",
           "#EF553B",
           "#00cc96",
           "#ab63fa",
           "#FFA15A",
           "#19d3f3",
           "#FF6692",
           "#B6E880",
           "#FF97FF",
           "#FECB52"
          ],
          "font": {
           "color": "#2a3f5f"
          },
          "geo": {
           "bgcolor": "white",
           "lakecolor": "white",
           "landcolor": "#E5ECF6",
           "showlakes": true,
           "showland": true,
           "subunitcolor": "white"
          },
          "hoverlabel": {
           "align": "left"
          },
          "hovermode": "closest",
          "mapbox": {
           "style": "light"
          },
          "paper_bgcolor": "white",
          "plot_bgcolor": "#E5ECF6",
          "polar": {
           "angularaxis": {
            "gridcolor": "white",
            "linecolor": "white",
            "ticks": ""
           },
           "bgcolor": "#E5ECF6",
           "radialaxis": {
            "gridcolor": "white",
            "linecolor": "white",
            "ticks": ""
           }
          },
          "scene": {
           "xaxis": {
            "backgroundcolor": "#E5ECF6",
            "gridcolor": "white",
            "gridwidth": 2,
            "linecolor": "white",
            "showbackground": true,
            "ticks": "",
            "zerolinecolor": "white"
           },
           "yaxis": {
            "backgroundcolor": "#E5ECF6",
            "gridcolor": "white",
            "gridwidth": 2,
            "linecolor": "white",
            "showbackground": true,
            "ticks": "",
            "zerolinecolor": "white"
           },
           "zaxis": {
            "backgroundcolor": "#E5ECF6",
            "gridcolor": "white",
            "gridwidth": 2,
            "linecolor": "white",
            "showbackground": true,
            "ticks": "",
            "zerolinecolor": "white"
           }
          },
          "shapedefaults": {
           "line": {
            "color": "#2a3f5f"
           }
          },
          "ternary": {
           "aaxis": {
            "gridcolor": "white",
            "linecolor": "white",
            "ticks": ""
           },
           "baxis": {
            "gridcolor": "white",
            "linecolor": "white",
            "ticks": ""
           },
           "bgcolor": "#E5ECF6",
           "caxis": {
            "gridcolor": "white",
            "linecolor": "white",
            "ticks": ""
           }
          },
          "title": {
           "x": 0.05
          },
          "xaxis": {
           "automargin": true,
           "gridcolor": "white",
           "linecolor": "white",
           "ticks": "",
           "title": {
            "standoff": 15
           },
           "zerolinecolor": "white",
           "zerolinewidth": 2
          },
          "yaxis": {
           "automargin": true,
           "gridcolor": "white",
           "linecolor": "white",
           "ticks": "",
           "title": {
            "standoff": 15
           },
           "zerolinecolor": "white",
           "zerolinewidth": 2
          }
         }
        },
        "xaxis": {
         "anchor": "y",
         "autorange": true,
         "domain": [
          0,
          1
         ],
         "range": [
          "2022-01-03",
          "2022-07-04"
         ],
         "title": {
          "text": "date"
         },
         "type": "date"
        },
        "yaxis": {
         "anchor": "x",
         "autorange": true,
         "domain": [
          0,
          1
         ],
         "range": [
          -55.743388023162176,
          91.85478808848919
         ],
         "title": {
          "text": "value"
         },
         "type": "linear"
        }
       }
      },
      "image/png": "[encoded data removed]",
      "text/html": [
       "<div>                            <div id=\"fb32890c-dc1f-43a8-acb3-39023e878873\" class=\"plotly-graph-div\" style=\"height:525px; width:100%;\"></div>            <script type=\"text/javascript\">                require([\"plotly\"], function(Plotly) {                    window.PLOTLYENV=window.PLOTLYENV || {};                                    if (document.getElementById(\"fb32890c-dc1f-43a8-acb3-39023e878873\")) {                    Plotly.newPlot(                        \"fb32890c-dc1f-43a8-acb3-39023e878873\",                        [{\"hovertemplate\":\"variable=ibov_cum_change<br>date=%{x}<br>value=%{y}<extra></extra>\",\"legendgroup\":\"ibov_cum_change\",\"line\":{\"color\":\"#636efa\",\"dash\":\"solid\"},\"marker\":{\"symbol\":\"circle\"},\"mode\":\"lines\",\"name\":\"ibov_cum_change\",\"orientation\":\"v\",\"showlegend\":true,\"x\":[\"2022-01-03T00:00:00\",\"2022-01-04T00:00:00\",\"2022-01-05T00:00:00\",\"2022-01-06T00:00:00\",\"2022-01-07T00:00:00\",\"2022-01-10T00:00:00\",\"2022-01-11T00:00:00\",\"2022-01-12T00:00:00\",\"2022-01-13T00:00:00\",\"2022-01-14T00:00:00\",\"2022-01-17T00:00:00\",\"2022-01-18T00:00:00\",\"2022-01-19T00:00:00\",\"2022-01-20T00:00:00\",\"2022-01-21T00:00:00\",\"2022-01-24T00:00:00\",\"2022-01-25T00:00:00\",\"2022-01-26T00:00:00\",\"2022-01-27T00:00:00\",\"2022-01-28T00:00:00\",\"2022-01-31T00:00:00\",\"2022-02-01T00:00:00\",\"2022-02-02T00:00:00\",\"2022-02-03T00:00:00\",\"2022-02-04T00:00:00\",\"2022-02-07T00:00:00\",\"2022-02-08T00:00:00\",\"2022-02-09T00:00:00\",\"2022-02-10T00:00:00\",\"2022-02-11T00:00:00\",\"2022-02-14T00:00:00\",\"2022-02-15T00:00:00\",\"2022-02-16T00:00:00\",\"2022-02-17T00:00:00\",\"2022-02-18T00:00:00\",\"2022-02-21T00:00:00\",\"2022-02-22T00:00:00\",\"2022-02-23T00:00:00\",\"2022-02-24T00:00:00\",\"2022-02-25T00:00:00\",\"2022-03-02T00:00:00\",\"2022-03-03T00:00:00\",\"2022-03-04T00:00:00\",\"2022-03-07T00:00:00\",\"2022-03-08T00:00:00\",\"2022-03-09T00:00:00\",\"2022-03-10T00:00:00\",\"2022-03-11T00:00:00\",\"2022-03-14T00:00:00\",\"2022-03-15T00:00:00\",\"2022-03-16T00:00:00\",\"2022-03-17T00:00:00\",\"2022-03-18T00:00:00\",\"2022-03-21T00:00:00\",\"2022-03-22T00:00:00\",\"2022-03-23T00:00:00\",\"2022-03-24T00:00:00\",\"2022-03-25T00:00:00\",\"2022-03-28T00:00:00\",\"2022-03-29T00:00:00\",\"2022-03-30T00:00:00\",\"2022-03-31T00:00:00\",\"2022-04-01T00:00:00\",\"2022-04-04T00:00:00\",\"2022-04-05T00:00:00\",\"2022-04-06T00:00:00\",\"2022-04-07T00:00:00\",\"2022-04-08T00:00:00\",\"2022-04-11T00:00:00\",\"2022-04-12T00:00:00\",\"2022-04-13T00:00:00\",\"2022-04-14T00:00:00\",\"2022-04-18T00:00:00\",\"2022-04-19T00:00:00\",\"2022-04-20T00:00:00\",\"2022-04-22T00:00:00\",\"2022-04-25T00:00:00\",\"2022-04-26T00:00:00\",\"2022-04-27T00:00:00\",\"2022-04-28T00:00:00\",\"2022-04-29T00:00:00\",\"2022-05-02T00:00:00\",\"2022-05-03T00:00:00\",\"2022-05-04T00:00:00\",\"2022-05-05T00:00:00\",\"2022-05-06T00:00:00\",\"2022-05-09T00:00:00\",\"2022-05-10T00:00:00\",\"2022-05-11T00:00:00\",\"2022-05-12T00:00:00\",\"2022-05-13T00:00:00\",\"2022-05-16T00:00:00\",\"2022-05-17T00:00:00\",\"2022-05-18T00:00:00\",\"2022-05-19T00:00:00\",\"2022-05-20T00:00:00\",\"2022-05-23T00:00:00\",\"2022-05-24T00:00:00\",\"2022-05-25T00:00:00\",\"2022-05-26T00:00:00\",\"2022-05-27T00:00:00\",\"2022-05-30T00:00:00\",\"2022-05-31T00:00:00\",\"2022-06-01T00:00:00\",\"2022-06-02T00:00:00\",\"2022-06-03T00:00:00\",\"2022-06-06T00:00:00\",\"2022-06-07T00:00:00\",\"2022-06-08T00:00:00\",\"2022-06-09T00:00:00\",\"2022-06-10T00:00:00\",\"2022-06-13T00:00:00\",\"2022-06-14T00:00:00\",\"2022-06-15T00:00:00\",\"2022-06-17T00:00:00\",\"2022-06-20T00:00:00\",\"2022-06-21T00:00:00\",\"2022-06-22T00:00:00\",\"2022-06-23T00:00:00\",\"2022-06-24T00:00:00\",\"2022-06-27T00:00:00\",\"2022-06-28T00:00:00\",\"2022-06-29T00:00:00\",\"2022-06-30T00:00:00\",\"2022-07-01T00:00:00\",\"2022-07-04T00:00:00\"],\"xaxis\":\"x\",\"y\":[0.0,-0.39260214391562903,-2.8059506168087602,-2.2718962298647063,-1.157598968457112,-1.90238832970882,-0.13760320240180135,1.697426916341102,1.5473143319027733,2.8925540309077964,2.6654606339369913,2.501876407305479,3.9366063008795056,4.984507611477839,4.830545986412886,3.685456399992302,5.699466907873212,7.362252458574701,8.076249494813418,7.270837743692384,8.146494486249303,8.876849945151172,7.928061430688401,7.480610457843382,8.0088912838475,7.769288504840168,7.998306422124285,8.216739477685186,9.080849098362233,9.28581051172995,9.5119416485441,10.332749562171628,10.834087103789381,9.24347106483709,8.512153345778565,7.508516002386405,8.631473605203903,7.78083562672004,7.380535401551163,8.87203864436789,10.827351282692788,10.819653201439541,10.153769173033622,7.38149766170782,7.0062162006119975,9.601431843113104,9.373376185985643,7.496968880506533,5.779334500875657,4.846904409076037,6.918650526356306,8.808529474028598,10.959180924154655,11.771328496372279,12.84617309135698,13.02419122033833,14.559958430361233,14.586901714747599,14.256846481014607,15.484690440907604,15.721406439444968,15.470256538557765,16.98196724466427,16.70291179923404,14.398298724043032,13.766093801120071,14.376166740439945,13.85654625584573,12.53921210138373,11.763630415119032,12.374665614595562,11.79730952060199,11.320990743057292,10.714766844364043,10.028675352668348,6.885933681030004,6.5077654394642135,4.129058332210697,5.2221858701718595,5.770674159465753,3.80477665941764,2.6144608456342255,2.5076499682454148,4.255114412732627,1.3298435364985277,1.1672215700236717,-0.6466388252728007,-0.7813552472046342,0.4570735744115779,1.6993514366544138,2.8887049902811723,4.148303535343816,4.683320182444525,2.237254864225092,2.9666480629703047,4.393679875291084,6.181559246357845,6.407690383171994,6.406728123015339,7.667288928234638,7.717326456380747,6.84166971382383,7.148630703797078,7.157291045206982,8.151305787032582,6.909027924789746,6.027597621292893,5.915975443120802,4.278208656492369,3.0522892169126847,1.5001635842266314,-1.2740324474124824,-1.7888416312234177,-1.072920074671388,-3.9423798618194414,-3.915436577433075,-4.077096283751275,-4.233944689286195,-5.62152383518408,-5.051865822443756,-3.038817574719501,-3.205288581820981,-4.1377186736206,-5.17695964280903,-4.780508458266777,-4.944002473008602],\"yaxis\":\"y\",\"type\":\"scatter\"},{\"hovertemplate\":\"variable=CIEL3_cum_change<br>date=%{x}<br>value=%{y}<extra></extra>\",\"legendgroup\":\"CIEL3_cum_change\",\"line\":{\"color\":\"#EF553B\",\"dash\":\"solid\"},\"marker\":{\"symbol\":\"circle\"},\"mode\":\"lines\",\"name\":\"CIEL3_cum_change\",\"orientation\":\"v\",\"showlegend\":true,\"x\":[\"2022-01-03T00:00:00\",\"2022-01-04T00:00:00\",\"2022-01-05T00:00:00\",\"2022-01-06T00:00:00\",\"2022-01-07T00:00:00\",\"2022-01-10T00:00:00\",\"2022-01-11T00:00:00\",\"2022-01-12T00:00:00\",\"2022-01-13T00:00:00\",\"2022-01-14T00:00:00\",\"2022-01-17T00:00:00\",\"2022-01-18T00:00:00\",\"2022-01-19T00:00:00\",\"2022-01-20T00:00:00\",\"2022-01-21T00:00:00\",\"2022-01-24T00:00:00\",\"2022-01-25T00:00:00\",\"2022-01-26T00:00:00\",\"2022-01-27T00:00:00\",\"2022-01-28T00:00:00\",\"2022-01-31T00:00:00\",\"2022-02-01T00:00:00\",\"2022-02-02T00:00:00\",\"2022-02-03T00:00:00\",\"2022-02-04T00:00:00\",\"2022-02-07T00:00:00\",\"2022-02-08T00:00:00\",\"2022-02-09T00:00:00\",\"2022-02-10T00:00:00\",\"2022-02-11T00:00:00\",\"2022-02-14T00:00:00\",\"2022-02-15T00:00:00\",\"2022-02-16T00:00:00\",\"2022-02-17T00:00:00\",\"2022-02-18T00:00:00\",\"2022-02-21T00:00:00\",\"2022-02-22T00:00:00\",\"2022-02-23T00:00:00\",\"2022-02-24T00:00:00\",\"2022-02-25T00:00:00\",\"2022-03-02T00:00:00\",\"2022-03-03T00:00:00\",\"2022-03-04T00:00:00\",\"2022-03-07T00:00:00\",\"2022-03-08T00:00:00\",\"2022-03-09T00:00:00\",\"2022-03-10T00:00:00\",\"2022-03-11T00:00:00\",\"2022-03-14T00:00:00\",\"2022-03-15T00:00:00\",\"2022-03-16T00:00:00\",\"2022-03-17T00:00:00\",\"2022-03-18T00:00:00\",\"2022-03-21T00:00:00\",\"2022-03-22T00:00:00\",\"2022-03-23T00:00:00\",\"2022-03-24T00:00:00\",\"2022-03-25T00:00:00\",\"2022-03-28T00:00:00\",\"2022-03-29T00:00:00\",\"2022-03-30T00:00:00\",\"2022-03-31T00:00:00\",\"2022-04-01T00:00:00\",\"2022-04-04T00:00:00\",\"2022-04-05T00:00:00\",\"2022-04-06T00:00:00\",\"2022-04-07T00:00:00\",\"2022-04-08T00:00:00\",\"2022-04-11T00:00:00\",\"2022-04-12T00:00:00\",\"2022-04-13T00:00:00\",\"2022-04-14T00:00:00\",\"2022-04-18T00:00:00\",\"2022-04-19T00:00:00\",\"2022-04-20T00:00:00\",\"2022-04-22T00:00:00\",\"2022-04-25T00:00:00\",\"2022-04-26T00:00:00\",\"2022-04-27T00:00:00\",\"2022-04-28T00:00:00\",\"2022-04-29T00:00:00\",\"2022-05-02T00:00:00\",\"2022-05-03T00:00:00\",\"2022-05-04T00:00:00\",\"2022-05-05T00:00:00\",\"2022-05-06T00:00:00\",\"2022-05-09T00:00:00\",\"2022-05-10T00:00:00\",\"2022-05-11T00:00:00\",\"2022-05-12T00:00:00\",\"2022-05-13T00:00:00\",\"2022-05-16T00:00:00\",\"2022-05-17T00:00:00\",\"2022-05-18T00:00:00\",\"2022-05-19T00:00:00\",\"2022-05-20T00:00:00\",\"2022-05-23T00:00:00\",\"2022-05-24T00:00:00\",\"2022-05-25T00:00:00\",\"2022-05-26T00:00:00\",\"2022-05-27T00:00:00\",\"2022-05-30T00:00:00\",\"2022-05-31T00:00:00\",\"2022-06-01T00:00:00\",\"2022-06-02T00:00:00\",\"2022-06-03T00:00:00\",\"2022-06-06T00:00:00\",\"2022-06-07T00:00:00\",\"2022-06-08T00:00:00\",\"2022-06-09T00:00:00\",\"2022-06-10T00:00:00\",\"2022-06-13T00:00:00\",\"2022-06-14T00:00:00\",\"2022-06-15T00:00:00\",\"2022-06-17T00:00:00\",\"2022-06-20T00:00:00\",\"2022-06-21T00:00:00\",\"2022-06-22T00:00:00\",\"2022-06-23T00:00:00\",\"2022-06-24T00:00:00\",\"2022-06-27T00:00:00\",\"2022-06-28T00:00:00\",\"2022-06-29T00:00:00\",\"2022-06-30T00:00:00\",\"2022-07-01T00:00:00\",\"2022-07-04T00:00:00\"],\"xaxis\":\"x\",\"y\":[0.0,-3.1963547868679485,-3.6529753440358235,-5.936078129875197,-6.3926986870430715,-8.21918091571457,-5.022837015539448,-7.3059398013788215,-7.762560358546696,-7.762560358546696,-3.1963547868679485,-6.3926986870430715,-5.022837015539448,-2.283102785839374,-5.4794575727073225,-6.3926986870430715,-0.45662055716787475,0.0,-1.826482228671499,4.1095850145108725,5.0228261288466225,5.0228261288466225,6.392687800350247,0.0,6.392687800350247,6.8493083575181215,5.9360672431823716,5.479446686014497,8.675801472882446,5.9360672431823716,8.675801472882446,8.219170029021745,13.698627601729068,15.068489273232693,29.223737432129635,21.461187960275765,19.178074287743566,18.72145373057569,21.004567403107888,17.351592059072065,12.78538648739332,18.72145373057569,12.78538648739332,4.566205571678748,10.502283701553944,15.068489273232693,14.611868716064818,13.698627601729068,11.415524815889695,17.351592059072065,13.698627601729068,14.155248158896942,22.374429074611513,23.287670188947263,22.83104963177939,23.744290746115137,29.223737432129635,31.963471661829708,30.59359910363326,33.78995389050121,36.073056676340585,42.009123919522956,53.424648735412646,52.96802817824477,48.40182260656603,47.94520204939815,50.6849253924054,56.16438296511272,58.4474857509521,64.84017355130234,63.926932436966595,63.47031187979872,66.66666666666667,63.01369132263084,60.73058853679147,57.07762407944847,60.27396797962359,54.33790073644122,57.07762407944847,64.84017355130234,55.251141850776975,51.59816650674115,56.16438296511272,56.16438296511272,42.46574447669083,42.009123919522956,40.63926224801933,42.009123919522956,39.72602113368358,45.2054787063909,48.40182260656603,51.59816650674115,54.33790073644122,54.33790073644122,57.53424463661634,62.10045020829509,66.21004610949879,66.66666666666667,65.75342555233092,84.47487928290661,82.19177649706724,79.45205315405998,80.36529426839573,81.73515593989936,80.36529426839573,80.36529426839573,81.27853538273149,73.51597502418478,72.14611335268117,71.68949279551329,72.60273390984904,74.88583669568841,72.60273390984904,79.90867371122786,75.79907781002416,73.51597502418478,78.08219148255635,79.90867371122786,80.36529426839573,76.25569836719204,76.25569836719204,75.79907781002416,72.60273390984904,71.23287223834541,79.45205315405998,76.7123189243599],\"yaxis\":\"y\",\"type\":\"scatter\"},{\"hovertemplate\":\"variable=BRFS3_cum_change<br>date=%{x}<br>value=%{y}<extra></extra>\",\"legendgroup\":\"BRFS3_cum_change\",\"line\":{\"color\":\"#00cc96\",\"dash\":\"solid\"},\"marker\":{\"symbol\":\"circle\"},\"mode\":\"lines\",\"name\":\"BRFS3_cum_change\",\"orientation\":\"v\",\"showlegend\":true,\"x\":[\"2022-01-03T00:00:00\",\"2022-01-04T00:00:00\",\"2022-01-05T00:00:00\",\"2022-01-06T00:00:00\",\"2022-01-07T00:00:00\",\"2022-01-10T00:00:00\",\"2022-01-11T00:00:00\",\"2022-01-12T00:00:00\",\"2022-01-13T00:00:00\",\"2022-01-14T00:00:00\",\"2022-01-17T00:00:00\",\"2022-01-18T00:00:00\",\"2022-01-19T00:00:00\",\"2022-01-20T00:00:00\",\"2022-01-21T00:00:00\",\"2022-01-24T00:00:00\",\"2022-01-25T00:00:00\",\"2022-01-26T00:00:00\",\"2022-01-27T00:00:00\",\"2022-01-28T00:00:00\",\"2022-01-31T00:00:00\",\"2022-02-01T00:00:00\",\"2022-02-02T00:00:00\",\"2022-02-03T00:00:00\",\"2022-02-04T00:00:00\",\"2022-02-07T00:00:00\",\"2022-02-08T00:00:00\",\"2022-02-09T00:00:00\",\"2022-02-10T00:00:00\",\"2022-02-11T00:00:00\",\"2022-02-14T00:00:00\",\"2022-02-15T00:00:00\",\"2022-02-16T00:00:00\",\"2022-02-17T00:00:00\",\"2022-02-18T00:00:00\",\"2022-02-21T00:00:00\",\"2022-02-22T00:00:00\",\"2022-02-23T00:00:00\",\"2022-02-24T00:00:00\",\"2022-02-25T00:00:00\",\"2022-03-02T00:00:00\",\"2022-03-03T00:00:00\",\"2022-03-04T00:00:00\",\"2022-03-07T00:00:00\",\"2022-03-08T00:00:00\",\"2022-03-09T00:00:00\",\"2022-03-10T00:00:00\",\"2022-03-11T00:00:00\",\"2022-03-14T00:00:00\",\"2022-03-15T00:00:00\",\"2022-03-16T00:00:00\",\"2022-03-17T00:00:00\",\"2022-03-18T00:00:00\",\"2022-03-21T00:00:00\",\"2022-03-22T00:00:00\",\"2022-03-23T00:00:00\",\"2022-03-24T00:00:00\",\"2022-03-25T00:00:00\",\"2022-03-28T00:00:00\",\"2022-03-29T00:00:00\",\"2022-03-30T00:00:00\",\"2022-03-31T00:00:00\",\"2022-04-01T00:00:00\",\"2022-04-04T00:00:00\",\"2022-04-05T00:00:00\",\"2022-04-06T00:00:00\",\"2022-04-07T00:00:00\",\"2022-04-08T00:00:00\",\"2022-04-11T00:00:00\",\"2022-04-12T00:00:00\",\"2022-04-13T00:00:00\",\"2022-04-14T00:00:00\",\"2022-04-18T00:00:00\",\"2022-04-19T00:00:00\",\"2022-04-20T00:00:00\",\"2022-04-22T00:00:00\",\"2022-04-25T00:00:00\",\"2022-04-26T00:00:00\",\"2022-04-27T00:00:00\",\"2022-04-28T00:00:00\",\"2022-04-29T00:00:00\",\"2022-05-02T00:00:00\",\"2022-05-03T00:00:00\",\"2022-05-04T00:00:00\",\"2022-05-05T00:00:00\",\"2022-05-06T00:00:00\",\"2022-05-09T00:00:00\",\"2022-05-10T00:00:00\",\"2022-05-11T00:00:00\",\"2022-05-12T00:00:00\",\"2022-05-13T00:00:00\",\"2022-05-16T00:00:00\",\"2022-05-17T00:00:00\",\"2022-05-18T00:00:00\",\"2022-05-19T00:00:00\",\"2022-05-20T00:00:00\",\"2022-05-23T00:00:00\",\"2022-05-24T00:00:00\",\"2022-05-25T00:00:00\",\"2022-05-26T00:00:00\",\"2022-05-27T00:00:00\",\"2022-05-30T00:00:00\",\"2022-05-31T00:00:00\",\"2022-06-01T00:00:00\",\"2022-06-02T00:00:00\",\"2022-06-03T00:00:00\",\"2022-06-06T00:00:00\",\"2022-06-07T00:00:00\",\"2022-06-08T00:00:00\",\"2022-06-09T00:00:00\",\"2022-06-10T00:00:00\",\"2022-06-13T00:00:00\",\"2022-06-14T00:00:00\",\"2022-06-15T00:00:00\",\"2022-06-17T00:00:00\",\"2022-06-20T00:00:00\",\"2022-06-21T00:00:00\",\"2022-06-22T00:00:00\",\"2022-06-23T00:00:00\",\"2022-06-24T00:00:00\",\"2022-06-27T00:00:00\",\"2022-06-28T00:00:00\",\"2022-06-29T00:00:00\",\"2022-06-30T00:00:00\",\"2022-07-01T00:00:00\",\"2022-07-04T00:00:00\"],\"xaxis\":\"x\",\"y\":[0.0,-3.4453025870696052,-2.2394425744705897,4.651162599668621,5.943157230506704,1.2919946308380825,0.0,2.6701156656659246,3.4022434921993794,4.651162599668621,6.589150438801091,0.4306648769460275,2.1102488613612964,0.6029341134241616,-2.282509883590123,1.0335907761208816,0.12920192735860053,-1.7226512935348026,-0.516791280935787,-1.5934493661762021,-3.832900154896099,-6.847546079268985,-14.082681512115155,-14.513346389061184,-19.250643606968872,-20.887160282264606,-20.973294900503674,-18.604650398674483,-17.5710596225536,-18.992247966500976,-18.34625475820659,-18.173985521728454,-18.173985521728454,-18.389313853076814,-18.949180657381444,-21.016362209623207,-16.66666255954201,-20.49957092868742,-25.322994550584866,-28.036177525370324,-28.85443175589354,-31.007747926374368,-33.548661664681696,-38.156761062355436,-33.807061412274244,-28.76829713765447,-31.48148011243993,-33.548661664681696,-34.32385680033468,-33.37639653532821,-30.060291768492554,-28.55296880630611,-27.64857995754383,-28.380707784077284,-25.796726736650427,-28.63910342454518,-26.916452131010377,-26.787250203651777,-25.107666219236506,-21.74849003615666,-21.791557345276196,-19.939704124382793,-18.863046039142375,-20.887160282264606,-23.126611070984502,-23.08354376186497,-23.255812998343103,-24.89232967363884,-30.232552790721382,-31.524547421559465,-32.041342809619906,-34.409991418573746,-34.32385680033468,-34.151591670981205,-36.43410566169598,-37.51076374693639,-39.79328184477583,-42.11886314461013,-39.9655469741293,-39.75021453565629,-41.51593313831063,-42.80792366202405,-42.42032609419756,-41.17140287960367,-45.00430303449976,-48.36347921757961,-46.94229087363224,-45.822565479272285,-46.640823816920154,-45.822565479272285,-40.2239426145972,-40.008610176124186,-38.372089393703796,-41.51593313831063,-42.0757958354906,-41.55900044743016,-38.71662375953541,-38.19982426435031,-38.759686961530285,-37.42463323582198,-34.409991418573746,-35.185182447102086,-32.60120550679988,-33.936259232508185,-33.63479628292076,-34.539189238807694,-34.75452167728071,-34.75452167728071,-35.87424296451601,-35.572780014928576,-35.4005148855751,-40.13781210348279,-43.3247190500845,-44.09991418573748,-44.745907394031875,-46.46855868756668,-46.29629355821319,-43.71231661791099,-39.319549658710265,-37.38156592670244,-36.43410566169598,-37.63996567429499,-39.104217220237246,-41.47286582919109,-38.501291321062396,-36.60637079104946],\"yaxis\":\"y\",\"type\":\"scatter\"},{\"hovertemplate\":\"variable=BBDC4_cum_change<br>date=%{x}<br>value=%{y}<extra></extra>\",\"legendgroup\":\"BBDC4_cum_change\",\"line\":{\"color\":\"#ab63fa\",\"dash\":\"solid\"},\"marker\":{\"symbol\":\"circle\"},\"mode\":\"lines\",\"name\":\"BBDC4_cum_change\",\"orientation\":\"v\",\"showlegend\":true,\"x\":[\"2022-01-03T00:00:00\",\"2022-01-04T00:00:00\",\"2022-01-05T00:00:00\",\"2022-01-06T00:00:00\",\"2022-01-07T00:00:00\",\"2022-01-10T00:00:00\",\"2022-01-11T00:00:00\",\"2022-01-12T00:00:00\",\"2022-01-13T00:00:00\",\"2022-01-14T00:00:00\",\"2022-01-17T00:00:00\",\"2022-01-18T00:00:00\",\"2022-01-19T00:00:00\",\"2022-01-20T00:00:00\",\"2022-01-21T00:00:00\",\"2022-01-24T00:00:00\",\"2022-01-25T00:00:00\",\"2022-01-26T00:00:00\",\"2022-01-27T00:00:00\",\"2022-01-28T00:00:00\",\"2022-01-31T00:00:00\",\"2022-02-01T00:00:00\",\"2022-02-02T00:00:00\",\"2022-02-03T00:00:00\",\"2022-02-04T00:00:00\",\"2022-02-07T00:00:00\",\"2022-02-08T00:00:00\",\"2022-02-09T00:00:00\",\"2022-02-10T00:00:00\",\"2022-02-11T00:00:00\",\"2022-02-14T00:00:00\",\"2022-02-15T00:00:00\",\"2022-02-16T00:00:00\",\"2022-02-17T00:00:00\",\"2022-02-18T00:00:00\",\"2022-02-21T00:00:00\",\"2022-02-22T00:00:00\",\"2022-02-23T00:00:00\",\"2022-02-24T00:00:00\",\"2022-02-25T00:00:00\",\"2022-03-02T00:00:00\",\"2022-03-03T00:00:00\",\"2022-03-04T00:00:00\",\"2022-03-07T00:00:00\",\"2022-03-08T00:00:00\",\"2022-03-09T00:00:00\",\"2022-03-10T00:00:00\",\"2022-03-11T00:00:00\",\"2022-03-14T00:00:00\",\"2022-03-15T00:00:00\",\"2022-03-16T00:00:00\",\"2022-03-17T00:00:00\",\"2022-03-18T00:00:00\",\"2022-03-21T00:00:00\",\"2022-03-22T00:00:00\",\"2022-03-23T00:00:00\",\"2022-03-24T00:00:00\",\"2022-03-25T00:00:00\",\"2022-03-28T00:00:00\",\"2022-03-29T00:00:00\",\"2022-03-30T00:00:00\",\"2022-03-31T00:00:00\",\"2022-04-01T00:00:00\",\"2022-04-04T00:00:00\",\"2022-04-05T00:00:00\",\"2022-04-06T00:00:00\",\"2022-04-07T00:00:00\",\"2022-04-08T00:00:00\",\"2022-04-11T00:00:00\",\"2022-04-12T00:00:00\",\"2022-04-13T00:00:00\",\"2022-04-14T00:00:00\",\"2022-04-18T00:00:00\",\"2022-04-19T00:00:00\",\"2022-04-20T00:00:00\",\"2022-04-22T00:00:00\",\"2022-04-25T00:00:00\",\"2022-04-26T00:00:00\",\"2022-04-27T00:00:00\",\"2022-04-28T00:00:00\",\"2022-04-29T00:00:00\",\"2022-05-02T00:00:00\",\"2022-05-03T00:00:00\",\"2022-05-04T00:00:00\",\"2022-05-05T00:00:00\",\"2022-05-06T00:00:00\",\"2022-05-09T00:00:00\",\"2022-05-10T00:00:00\",\"2022-05-11T00:00:00\",\"2022-05-12T00:00:00\",\"2022-05-13T00:00:00\",\"2022-05-16T00:00:00\",\"2022-05-17T00:00:00\",\"2022-05-18T00:00:00\",\"2022-05-19T00:00:00\",\"2022-05-20T00:00:00\",\"2022-05-23T00:00:00\",\"2022-05-24T00:00:00\",\"2022-05-25T00:00:00\",\"2022-05-26T00:00:00\",\"2022-05-27T00:00:00\",\"2022-05-30T00:00:00\",\"2022-05-31T00:00:00\",\"2022-06-01T00:00:00\",\"2022-06-02T00:00:00\",\"2022-06-03T00:00:00\",\"2022-06-06T00:00:00\",\"2022-06-07T00:00:00\",\"2022-06-08T00:00:00\",\"2022-06-09T00:00:00\",\"2022-06-10T00:00:00\",\"2022-06-13T00:00:00\",\"2022-06-14T00:00:00\",\"2022-06-15T00:00:00\",\"2022-06-17T00:00:00\",\"2022-06-20T00:00:00\",\"2022-06-21T00:00:00\",\"2022-06-22T00:00:00\",\"2022-06-23T00:00:00\",\"2022-06-24T00:00:00\",\"2022-06-27T00:00:00\",\"2022-06-28T00:00:00\",\"2022-06-29T00:00:00\",\"2022-06-30T00:00:00\",\"2022-07-01T00:00:00\",\"2022-07-04T00:00:00\"],\"xaxis\":\"x\",\"y\":[0.0,0.5586613608986063,-0.1523641267140165,1.2696761929320477,2.7425116585355718,3.098013746762702,3.2503778734767184,2.4885678954858172,4.316916104895652,5.99288953201229,6.602335383289175,8.532252573455567,7.1609967441877815,7.059417107852043,5.9421050416340115,8.176739829649255,12.493645278965728,12.595224915301465,13.15388627620007,14.77907521293843,15.794818298399905,16.201115532584495,14.01726523494753,15.693238662064166,16.455048640055068,16.04875140587048,15.388521064215315,5.4850233170711435,7.008632617473765,7.364145361280076,7.516509487994092,7.6180784687506495,8.887765317261879,7.6180784687506495,8.227524320027534,6.957848127095486,6.551550892910896,6.043674022390569,2.8440806392921285,3.3519575098124563,2.285419278393522,4.1645519781816365,1.168107212175491,-1.4220403196460643,-0.1523641267140165,6.246822639482864,5.586592297827701,5.129499917685651,5.891309895676552,5.637376788205978,7.1609967441877815,7.567293978372371,7.313350215322616,9.852713256765893,11.223969086033678,10.512954254000238,12.138143190738596,13.15388627620007,12.595224915301465,14.626711086224415,13.915696254190973,12.84916867835122,11.630266320218269,11.071615614898844,7.97359121255696,7.414929851658354,7.872011576221222,9.090903278774991,8.938549807640157,7.97359121255696,9.090903278774991,8.836970171304419,10.766887361470811,9.329609563595428,8.938549807640157,7.374300128239896,6.703915019624913,2.1229110402988676,2.7374289472660713,1.7877078304121952,0.4469269576030488,0.39105975595527,0.9497211168538763,2.40223639295858,-0.9497211168538763,1.1173227217972126,2.6257051995496954,3.631282862472169,5.419001348463546,6.089386457078528,7.318432926592116,9.106151412583493,11.340786200598737,9.273742361947647,8.43575564838933,9.888270924494034,11.675978754906229,14.02234794621703,12.737434275055662,13.351962837602047,14.972069063070906,13.854746341273694,14.525142105467857,12.458098266816767,11.899447561497343,11.22905179730318,11.340786200598737,10.391065083744861,8.43575564838933,8.37988844674155,6.759782221272692,5.1955325418724305,4.134077021722996,4.860339987564939,3.240223106516899,5.97765205378297,4.134077021722996,3.687150064119948,0.9497211168538763,0.11173440329555753,1.5083824777524826,0.055867201647778766,-1.6759734271166375,-3.9106082151318815,-3.18435590486912,-4.189944223370775],\"yaxis\":\"y\",\"type\":\"scatter\"},{\"hovertemplate\":\"variable=ENEV3_cum_change<br>date=%{x}<br>value=%{y}<extra></extra>\",\"legendgroup\":\"ENEV3_cum_change\",\"line\":{\"color\":\"#FFA15A\",\"dash\":\"solid\"},\"marker\":{\"symbol\":\"circle\"},\"mode\":\"lines\",\"name\":\"ENEV3_cum_change\",\"orientation\":\"v\",\"showlegend\":true,\"x\":[\"2022-01-03T00:00:00\",\"2022-01-04T00:00:00\",\"2022-01-05T00:00:00\",\"2022-01-06T00:00:00\",\"2022-01-07T00:00:00\",\"2022-01-10T00:00:00\",\"2022-01-11T00:00:00\",\"2022-01-12T00:00:00\",\"2022-01-13T00:00:00\",\"2022-01-14T00:00:00\",\"2022-01-17T00:00:00\",\"2022-01-18T00:00:00\",\"2022-01-19T00:00:00\",\"2022-01-20T00:00:00\",\"2022-01-21T00:00:00\",\"2022-01-24T00:00:00\",\"2022-01-25T00:00:00\",\"2022-01-26T00:00:00\",\"2022-01-27T00:00:00\",\"2022-01-28T00:00:00\",\"2022-01-31T00:00:00\",\"2022-02-01T00:00:00\",\"2022-02-02T00:00:00\",\"2022-02-03T00:00:00\",\"2022-02-04T00:00:00\",\"2022-02-07T00:00:00\",\"2022-02-08T00:00:00\",\"2022-02-09T00:00:00\",\"2022-02-10T00:00:00\",\"2022-02-11T00:00:00\",\"2022-02-14T00:00:00\",\"2022-02-15T00:00:00\",\"2022-02-16T00:00:00\",\"2022-02-17T00:00:00\",\"2022-02-18T00:00:00\",\"2022-02-21T00:00:00\",\"2022-02-22T00:00:00\",\"2022-02-23T00:00:00\",\"2022-02-24T00:00:00\",\"2022-02-25T00:00:00\",\"2022-03-02T00:00:00\",\"2022-03-03T00:00:00\",\"2022-03-04T00:00:00\",\"2022-03-07T00:00:00\",\"2022-03-08T00:00:00\",\"2022-03-09T00:00:00\",\"2022-03-10T00:00:00\",\"2022-03-11T00:00:00\",\"2022-03-14T00:00:00\",\"2022-03-15T00:00:00\",\"2022-03-16T00:00:00\",\"2022-03-17T00:00:00\",\"2022-03-18T00:00:00\",\"2022-03-21T00:00:00\",\"2022-03-22T00:00:00\",\"2022-03-23T00:00:00\",\"2022-03-24T00:00:00\",\"2022-03-25T00:00:00\",\"2022-03-28T00:00:00\",\"2022-03-29T00:00:00\",\"2022-03-30T00:00:00\",\"2022-03-31T00:00:00\",\"2022-04-01T00:00:00\",\"2022-04-04T00:00:00\",\"2022-04-05T00:00:00\",\"2022-04-06T00:00:00\",\"2022-04-07T00:00:00\",\"2022-04-08T00:00:00\",\"2022-04-11T00:00:00\",\"2022-04-12T00:00:00\",\"2022-04-13T00:00:00\",\"2022-04-14T00:00:00\",\"2022-04-18T00:00:00\",\"2022-04-19T00:00:00\",\"2022-04-20T00:00:00\",\"2022-04-22T00:00:00\",\"2022-04-25T00:00:00\",\"2022-04-26T00:00:00\",\"2022-04-27T00:00:00\",\"2022-04-28T00:00:00\",\"2022-04-29T00:00:00\",\"2022-05-02T00:00:00\",\"2022-05-03T00:00:00\",\"2022-05-04T00:00:00\",\"2022-05-05T00:00:00\",\"2022-05-06T00:00:00\",\"2022-05-09T00:00:00\",\"2022-05-10T00:00:00\",\"2022-05-11T00:00:00\",\"2022-05-12T00:00:00\",\"2022-05-13T00:00:00\",\"2022-05-16T00:00:00\",\"2022-05-17T00:00:00\",\"2022-05-18T00:00:00\",\"2022-05-19T00:00:00\",\"2022-05-20T00:00:00\",\"2022-05-23T00:00:00\",\"2022-05-24T00:00:00\",\"2022-05-25T00:00:00\",\"2022-05-26T00:00:00\",\"2022-05-27T00:00:00\",\"2022-05-30T00:00:00\",\"2022-05-31T00:00:00\",\"2022-06-01T00:00:00\",\"2022-06-02T00:00:00\",\"2022-06-03T00:00:00\",\"2022-06-06T00:00:00\",\"2022-06-07T00:00:00\",\"2022-06-08T00:00:00\",\"2022-06-09T00:00:00\",\"2022-06-10T00:00:00\",\"2022-06-13T00:00:00\",\"2022-06-14T00:00:00\",\"2022-06-15T00:00:00\",\"2022-06-17T00:00:00\",\"2022-06-20T00:00:00\",\"2022-06-21T00:00:00\",\"2022-06-22T00:00:00\",\"2022-06-23T00:00:00\",\"2022-06-24T00:00:00\",\"2022-06-27T00:00:00\",\"2022-06-28T00:00:00\",\"2022-06-29T00:00:00\",\"2022-06-30T00:00:00\",\"2022-07-01T00:00:00\",\"2022-07-04T00:00:00\"],\"xaxis\":\"x\",\"y\":[0.0,-3.9434505172512524,-7.738095195858385,-9.151782594038215,-11.235114005594747,-11.011901699732936,-9.821426607414917,-6.919638248046298,-9.44940136711772,-5.505950849866468,-6.17559486324317,-6.622019474966794,-3.9434505172512524,-3.7202382113894403,-3.794637582815867,-5.13392560956927,-4.092256355895372,-2.752975424933234,-1.7857126384770274,-5.72916315572828,-1.7113061712593347,-1.3392809309621374,-1.636899704041642,-0.5952375461590091,-0.818449852020821,-2.752975424933234,-2.6785689577155414,0.1488129344353854,0.2232194016530781,-0.22321230586181187,-0.5952375461590091,1.7857197342682938,4.241076386122023,3.2738135996658166,1.6369067998329083,-0.37201814450593107,1.116075720891592,-0.07439937142642647,0.89286341502978,0.2232194016530781,0.2976187730795046,-2.0833314115565322,-4.836306836489766,-9.002976755394096,-7.142857649699376,-3.3482129710922433,-6.994044715263991,-10.863095861088816,-11.235114005594747,-10.49107062079162,-9.598214301553105,-5.877976090163665,3.2738135996658166,-0.37201814450593107,6.250001330460862,7.812501663076078,12.351196822277606,13.467265447377931,11.458333407247826,13.83929068767513,10.78869648966239,9.970239541850303,11.979171581980408,10.193458943503382,9.002976755394096,9.895840170423876,10.193458943503382,14.657740539695949,13.913697154892821,15.178571618637266,14.50893470105183,15.773816260587541,10.863095861088816,10.639883555227005,9.3005955284736,5.282738544004656,6.6220265707580594,3.4970259055276287,2.2321443459919177,3.0506012938040046,2.0833385073477984,-0.5208310789413164,0.3720252402971973,4.538695159201527,0.2976187730795046,0.89286341502978,-2.6785689577155414,-1.636899704041642,-3.497018809736362,-1.3392809309621374,1.1904821881092846,6.398814264896248,7.440476422778881,7.589289357214266,9.598214301553105,10.416671249365193,7.663695824431959,9.895840170423876,11.011908795524201,14.955359312775455,14.136909460754634,15.625003326152155,15.92262209923166,13.988096526319248,10.491077716582886,9.375001995691294,7.961314597511463,5.580357317084161,6.919645343837565,6.696433037975752,6.919645343837565,3.794644678607133,1.4881009611887892,5.505957945657734,8.184526903373275,9.226196157047175,10.491077716582886,10.639883555227005,6.919645343837565,6.845238876619872,13.020833739863042,14.211315927972326,11.3839340358214,9.895840170423876,12.64881559535711,10.3422647821475],\"yaxis\":\"y\",\"type\":\"scatter\"},{\"hovertemplate\":\"variable=total_cum_change<br>date=%{x}<br>value=%{y}<extra></extra>\",\"legendgroup\":\"total_cum_change\",\"line\":{\"color\":\"#19d3f3\",\"dash\":\"solid\"},\"marker\":{\"symbol\":\"circle\"},\"mode\":\"lines\",\"name\":\"total_cum_change\",\"orientation\":\"v\",\"showlegend\":true,\"x\":[\"2022-01-03T00:00:00\",\"2022-01-04T00:00:00\",\"2022-01-05T00:00:00\",\"2022-01-06T00:00:00\",\"2022-01-07T00:00:00\",\"2022-01-10T00:00:00\",\"2022-01-11T00:00:00\",\"2022-01-12T00:00:00\",\"2022-01-13T00:00:00\",\"2022-01-14T00:00:00\",\"2022-01-17T00:00:00\",\"2022-01-18T00:00:00\",\"2022-01-19T00:00:00\",\"2022-01-20T00:00:00\",\"2022-01-21T00:00:00\",\"2022-01-24T00:00:00\",\"2022-01-25T00:00:00\",\"2022-01-26T00:00:00\",\"2022-01-27T00:00:00\",\"2022-01-28T00:00:00\",\"2022-01-31T00:00:00\",\"2022-02-01T00:00:00\",\"2022-02-02T00:00:00\",\"2022-02-03T00:00:00\",\"2022-02-04T00:00:00\",\"2022-02-07T00:00:00\",\"2022-02-08T00:00:00\",\"2022-02-09T00:00:00\",\"2022-02-10T00:00:00\",\"2022-02-11T00:00:00\",\"2022-02-14T00:00:00\",\"2022-02-15T00:00:00\",\"2022-02-16T00:00:00\",\"2022-02-17T00:00:00\",\"2022-02-18T00:00:00\",\"2022-02-21T00:00:00\",\"2022-02-22T00:00:00\",\"2022-02-23T00:00:00\",\"2022-02-24T00:00:00\",\"2022-02-25T00:00:00\",\"2022-03-02T00:00:00\",\"2022-03-03T00:00:00\",\"2022-03-04T00:00:00\",\"2022-03-07T00:00:00\",\"2022-03-08T00:00:00\",\"2022-03-09T00:00:00\",\"2022-03-10T00:00:00\",\"2022-03-11T00:00:00\",\"2022-03-14T00:00:00\",\"2022-03-15T00:00:00\",\"2022-03-16T00:00:00\",\"2022-03-17T00:00:00\",\"2022-03-18T00:00:00\",\"2022-03-21T00:00:00\",\"2022-03-22T00:00:00\",\"2022-03-23T00:00:00\",\"2022-03-24T00:00:00\",\"2022-03-25T00:00:00\",\"2022-03-28T00:00:00\",\"2022-03-29T00:00:00\",\"2022-03-30T00:00:00\",\"2022-03-31T00:00:00\",\"2022-04-01T00:00:00\",\"2022-04-04T00:00:00\",\"2022-04-05T00:00:00\",\"2022-04-06T00:00:00\",\"2022-04-07T00:00:00\",\"2022-04-08T00:00:00\",\"2022-04-11T00:00:00\",\"2022-04-12T00:00:00\",\"2022-04-13T00:00:00\",\"2022-04-14T00:00:00\",\"2022-04-18T00:00:00\",\"2022-04-19T00:00:00\",\"2022-04-20T00:00:00\",\"2022-04-22T00:00:00\",\"2022-04-25T00:00:00\",\"2022-04-26T00:00:00\",\"2022-04-27T00:00:00\",\"2022-04-28T00:00:00\",\"2022-04-29T00:00:00\",\"2022-05-02T00:00:00\",\"2022-05-03T00:00:00\",\"2022-05-04T00:00:00\",\"2022-05-05T00:00:00\",\"2022-05-06T00:00:00\",\"2022-05-09T00:00:00\",\"2022-05-10T00:00:00\",\"2022-05-11T00:00:00\",\"2022-05-12T00:00:00\",\"2022-05-13T00:00:00\",\"2022-05-16T00:00:00\",\"2022-05-17T00:00:00\",\"2022-05-18T00:00:00\",\"2022-05-19T00:00:00\",\"2022-05-20T00:00:00\",\"2022-05-23T00:00:00\",\"2022-05-24T00:00:00\",\"2022-05-25T00:00:00\",\"2022-05-26T00:00:00\",\"2022-05-27T00:00:00\",\"2022-05-30T00:00:00\",\"2022-05-31T00:00:00\",\"2022-06-01T00:00:00\",\"2022-06-02T00:00:00\",\"2022-06-03T00:00:00\",\"2022-06-06T00:00:00\",\"2022-06-07T00:00:00\",\"2022-06-08T00:00:00\",\"2022-06-09T00:00:00\",\"2022-06-10T00:00:00\",\"2022-06-13T00:00:00\",\"2022-06-14T00:00:00\",\"2022-06-15T00:00:00\",\"2022-06-17T00:00:00\",\"2022-06-20T00:00:00\",\"2022-06-21T00:00:00\",\"2022-06-22T00:00:00\",\"2022-06-23T00:00:00\",\"2022-06-24T00:00:00\",\"2022-06-27T00:00:00\",\"2022-06-28T00:00:00\",\"2022-06-29T00:00:00\",\"2022-06-30T00:00:00\",\"2022-07-01T00:00:00\",\"2022-07-04T00:00:00\"],\"xaxis\":\"x\",\"y\":[0.0,-2.50661163257255,-3.4457193102697037,-2.2917554828281856,-2.235535950898886,-3.7102685594616807,-2.8984714373694116,-2.266723622068344,-2.373200532142346,-0.6561147691830633,0.9548840429947867,-1.0129501779020675,0.0762395181895944,0.41475255601184746,-1.4036249993698253,-0.5790734227105512,2.01849257331527,2.029899549208357,2.256225032028939,2.8915119263862055,3.818359525272774,3.2592786627999986,1.172592954785245,0.14616368171099337,0.6946607453539055,-0.18551898595230953,-0.5818188877053824,-1.872841865288364,-0.4158515326360781,-1.478811916975085,-0.6872953358722654,-0.13775432242194147,2.163370945846129,1.8927668721430861,5.034746973652158,1.7576639333105284,2.544759585501011,1.0477893632131032,-0.14537077328876738,-1.7773521387081812,-3.371501804256798,-2.5512684072933935,-6.107868700400663,-11.003893141429211,-7.649999871783423,-2.7002995490077897,-4.569265953452851,-6.3959075015889475,-7.063034023590795,-5.219624577210447,-4.699720431032203,-3.177100689800116,1.3282532330140286,1.0969143792824854,3.627073327905876,3.357660809661568,6.699156328533865,7.949343295438984,7.3848728017365115,10.126866407061023,9.746473018729437,11.222207003835422,14.542760149617237,13.336485613595597,10.562944875883145,10.543107077403851,11.373645728446723,13.755174277486205,12.766794980690923,14.116947240234277,13.871356901793376,13.417776723279232,13.493198272222903,12.207898192618018,10.633907052802313,8.055974751189158,8.451656931307685,4.459743634414396,5.520412599644288,7.482067034965563,4.066368544354298,2.165117880432763,3.7664508070165583,5.4834779094172905,-0.7976652253958263,-1.0860422903074152,-1.588973095944689,-0.45476460032970045,-1.2482050361273473,1.0332546883087512,4.171698776667558,6.773630502024177,8.68676849152876,7.421249829323126,8.373104687767045,10.21159798368104,11.708274232325392,13.096257629739316,12.685770415345125,18.839392049365532,19.222690900579757,18.436655093595938,19.552963241573842,18.5612728751318,17.2802558158888,16.607539705645628,16.456528625890247,13.683218936933276,12.906817845098015,12.798258566325504,12.72041164734605,10.934550453171298,8.725048210669081,11.543764364678264,10.619480106470615,10.562816136862063,11.60276316566226,12.630847678165956,12.228777767594227,11.457776430101257,13.587702230777897,13.106573816337317,10.801619324579137,8.936309591111577,12.603805380871393,11.564567173021794],\"yaxis\":\"y\",\"type\":\"scatter\"}],                        {\"template\":{\"data\":{\"histogram2dcontour\":[{\"type\":\"histogram2dcontour\",\"colorbar\":{\"outlinewidth\":0,\"ticks\":\"\"},\"colorscale\":[[0.0,\"#0d0887\"],[0.1111111111111111,\"#46039f\"],[0.2222222222222222,\"#7201a8\"],[0.3333333333333333,\"#9c179e\"],[0.4444444444444444,\"#bd3786\"],[0.5555555555555556,\"#d8576b\"],[0.6666666666666666,\"#ed7953\"],[0.7777777777777778,\"#fb9f3a\"],[0.8888888888888888,\"#fdca26\"],[1.0,\"#f0f921\"]]}],\"choropleth\":[{\"type\":\"choropleth\",\"colorbar\":{\"outlinewidth\":0,\"ticks\":\"\"}}],\"histogram2d\":[{\"type\":\"histogram2d\",\"colorbar\":{\"outlinewidth\":0,\"ticks\":\"\"},\"colorscale\":[[0.0,\"#0d0887\"],[0.1111111111111111,\"#46039f\"],[0.2222222222222222,\"#7201a8\"],[0.3333333333333333,\"#9c179e\"],[0.4444444444444444,\"#bd3786\"],[0.5555555555555556,\"#d8576b\"],[0.6666666666666666,\"#ed7953\"],[0.7777777777777778,\"#fb9f3a\"],[0.8888888888888888,\"#fdca26\"],[1.0,\"#f0f921\"]]}],\"heatmap\":[{\"type\":\"heatmap\",\"colorbar\":{\"outlinewidth\":0,\"ticks\":\"\"},\"colorscale\":[[0.0,\"#0d0887\"],[0.1111111111111111,\"#46039f\"],[0.2222222222222222,\"#7201a8\"],[0.3333333333333333,\"#9c179e\"],[0.4444444444444444,\"#bd3786\"],[0.5555555555555556,\"#d8576b\"],[0.6666666666666666,\"#ed7953\"],[0.7777777777777778,\"#fb9f3a\"],[0.8888888888888888,\"#fdca26\"],[1.0,\"#f0f921\"]]}],\"heatmapgl\":[{\"type\":\"heatmapgl\",\"colorbar\":{\"outlinewidth\":0,\"ticks\":\"\"},\"colorscale\":[[0.0,\"#0d0887\"],[0.1111111111111111,\"#46039f\"],[0.2222222222222222,\"#7201a8\"],[0.3333333333333333,\"#9c179e\"],[0.4444444444444444,\"#bd3786\"],[0.5555555555555556,\"#d8576b\"],[0.6666666666666666,\"#ed7953\"],[0.7777777777777778,\"#fb9f3a\"],[0.8888888888888888,\"#fdca26\"],[1.0,\"#f0f921\"]]}],\"contourcarpet\":[{\"type\":\"contourcarpet\",\"colorbar\":{\"outlinewidth\":0,\"ticks\":\"\"}}],\"contour\":[{\"type\":\"contour\",\"colorbar\":{\"outlinewidth\":0,\"ticks\":\"\"},\"colorscale\":[[0.0,\"#0d0887\"],[0.1111111111111111,\"#46039f\"],[0.2222222222222222,\"#7201a8\"],[0.3333333333333333,\"#9c179e\"],[0.4444444444444444,\"#bd3786\"],[0.5555555555555556,\"#d8576b\"],[0.6666666666666666,\"#ed7953\"],[0.7777777777777778,\"#fb9f3a\"],[0.8888888888888888,\"#fdca26\"],[1.0,\"#f0f921\"]]}],\"surface\":[{\"type\":\"surface\",\"colorbar\":{\"outlinewidth\":0,\"ticks\":\"\"},\"colorscale\":[[0.0,\"#0d0887\"],[0.1111111111111111,\"#46039f\"],[0.2222222222222222,\"#7201a8\"],[0.3333333333333333,\"#9c179e\"],[0.4444444444444444,\"#bd3786\"],[0.5555555555555556,\"#d8576b\"],[0.6666666666666666,\"#ed7953\"],[0.7777777777777778,\"#fb9f3a\"],[0.8888888888888888,\"#fdca26\"],[1.0,\"#f0f921\"]]}],\"mesh3d\":[{\"type\":\"mesh3d\",\"colorbar\":{\"outlinewidth\":0,\"ticks\":\"\"}}],\"scatter\":[{\"fillpattern\":{\"fillmode\":\"overlay\",\"size\":10,\"solidity\":0.2},\"type\":\"scatter\"}],\"parcoords\":[{\"type\":\"parcoords\",\"line\":{\"colorbar\":{\"outlinewidth\":0,\"ticks\":\"\"}}}],\"scatterpolargl\":[{\"type\":\"scatterpolargl\",\"marker\":{\"colorbar\":{\"outlinewidth\":0,\"ticks\":\"\"}}}],\"bar\":[{\"error_x\":{\"color\":\"#2a3f5f\"},\"error_y\":{\"color\":\"#2a3f5f\"},\"marker\":{\"line\":{\"color\":\"#E5ECF6\",\"width\":0.5},\"pattern\":{\"fillmode\":\"overlay\",\"size\":10,\"solidity\":0.2}},\"type\":\"bar\"}],\"scattergeo\":[{\"type\":\"scattergeo\",\"marker\":{\"colorbar\":{\"outlinewidth\":0,\"ticks\":\"\"}}}],\"scatterpolar\":[{\"type\":\"scatterpolar\",\"marker\":{\"colorbar\":{\"outlinewidth\":0,\"ticks\":\"\"}}}],\"histogram\":[{\"marker\":{\"pattern\":{\"fillmode\":\"overlay\",\"size\":10,\"solidity\":0.2}},\"type\":\"histogram\"}],\"scattergl\":[{\"type\":\"scattergl\",\"marker\":{\"colorbar\":{\"outlinewidth\":0,\"ticks\":\"\"}}}],\"scatter3d\":[{\"type\":\"scatter3d\",\"line\":{\"colorbar\":{\"outlinewidth\":0,\"ticks\":\"\"}},\"marker\":{\"colorbar\":{\"outlinewidth\":0,\"ticks\":\"\"}}}],\"scattermapbox\":[{\"type\":\"scattermapbox\",\"marker\":{\"colorbar\":{\"outlinewidth\":0,\"ticks\":\"\"}}}],\"scatterternary\":[{\"type\":\"scatterternary\",\"marker\":{\"colorbar\":{\"outlinewidth\":0,\"ticks\":\"\"}}}],\"scattercarpet\":[{\"type\":\"scattercarpet\",\"marker\":{\"colorbar\":{\"outlinewidth\":0,\"ticks\":\"\"}}}],\"carpet\":[{\"aaxis\":{\"endlinecolor\":\"#2a3f5f\",\"gridcolor\":\"white\",\"linecolor\":\"white\",\"minorgridcolor\":\"white\",\"startlinecolor\":\"#2a3f5f\"},\"baxis\":{\"endlinecolor\":\"#2a3f5f\",\"gridcolor\":\"white\",\"linecolor\":\"white\",\"minorgridcolor\":\"white\",\"startlinecolor\":\"#2a3f5f\"},\"type\":\"carpet\"}],\"table\":[{\"cells\":{\"fill\":{\"color\":\"#EBF0F8\"},\"line\":{\"color\":\"white\"}},\"header\":{\"fill\":{\"color\":\"#C8D4E3\"},\"line\":{\"color\":\"white\"}},\"type\":\"table\"}],\"barpolar\":[{\"marker\":{\"line\":{\"color\":\"#E5ECF6\",\"width\":0.5},\"pattern\":{\"fillmode\":\"overlay\",\"size\":10,\"solidity\":0.2}},\"type\":\"barpolar\"}],\"pie\":[{\"automargin\":true,\"type\":\"pie\"}]},\"layout\":{\"autotypenumbers\":\"strict\",\"colorway\":[\"#636efa\",\"#EF553B\",\"#00cc96\",\"#ab63fa\",\"#FFA15A\",\"#19d3f3\",\"#FF6692\",\"#B6E880\",\"#FF97FF\",\"#FECB52\"],\"font\":{\"color\":\"#2a3f5f\"},\"hovermode\":\"closest\",\"hoverlabel\":{\"align\":\"left\"},\"paper_bgcolor\":\"white\",\"plot_bgcolor\":\"#E5ECF6\",\"polar\":{\"bgcolor\":\"#E5ECF6\",\"angularaxis\":{\"gridcolor\":\"white\",\"linecolor\":\"white\",\"ticks\":\"\"},\"radialaxis\":{\"gridcolor\":\"white\",\"linecolor\":\"white\",\"ticks\":\"\"}},\"ternary\":{\"bgcolor\":\"#E5ECF6\",\"aaxis\":{\"gridcolor\":\"white\",\"linecolor\":\"white\",\"ticks\":\"\"},\"baxis\":{\"gridcolor\":\"white\",\"linecolor\":\"white\",\"ticks\":\"\"},\"caxis\":{\"gridcolor\":\"white\",\"linecolor\":\"white\",\"ticks\":\"\"}},\"coloraxis\":{\"colorbar\":{\"outlinewidth\":0,\"ticks\":\"\"}},\"colorscale\":{\"sequential\":[[0.0,\"#0d0887\"],[0.1111111111111111,\"#46039f\"],[0.2222222222222222,\"#7201a8\"],[0.3333333333333333,\"#9c179e\"],[0.4444444444444444,\"#bd3786\"],[0.5555555555555556,\"#d8576b\"],[0.6666666666666666,\"#ed7953\"],[0.7777777777777778,\"#fb9f3a\"],[0.8888888888888888,\"#fdca26\"],[1.0,\"#f0f921\"]],\"sequentialminus\":[[0.0,\"#0d0887\"],[0.1111111111111111,\"#46039f\"],[0.2222222222222222,\"#7201a8\"],[0.3333333333333333,\"#9c179e\"],[0.4444444444444444,\"#bd3786\"],[0.5555555555555556,\"#d8576b\"],[0.6666666666666666,\"#ed7953\"],[0.7777777777777778,\"#fb9f3a\"],[0.8888888888888888,\"#fdca26\"],[1.0,\"#f0f921\"]],\"diverging\":[[0,\"#8e0152\"],[0.1,\"#c51b7d\"],[0.2,\"#de77ae\"],[0.3,\"#f1b6da\"],[0.4,\"#fde0ef\"],[0.5,\"#f7f7f7\"],[0.6,\"#e6f5d0\"],[0.7,\"#b8e186\"],[0.8,\"#7fbc41\"],[0.9,\"#4d9221\"],[1,\"#276419\"]]},\"xaxis\":{\"gridcolor\":\"white\",\"linecolor\":\"white\",\"ticks\":\"\",\"title\":{\"standoff\":15},\"zerolinecolor\":\"white\",\"automargin\":true,\"zerolinewidth\":2},\"yaxis\":{\"gridcolor\":\"white\",\"linecolor\":\"white\",\"ticks\":\"\",\"title\":{\"standoff\":15},\"zerolinecolor\":\"white\",\"automargin\":true,\"zerolinewidth\":2},\"scene\":{\"xaxis\":{\"backgroundcolor\":\"#E5ECF6\",\"gridcolor\":\"white\",\"linecolor\":\"white\",\"showbackground\":true,\"ticks\":\"\",\"zerolinecolor\":\"white\",\"gridwidth\":2},\"yaxis\":{\"backgroundcolor\":\"#E5ECF6\",\"gridcolor\":\"white\",\"linecolor\":\"white\",\"showbackground\":true,\"ticks\":\"\",\"zerolinecolor\":\"white\",\"gridwidth\":2},\"zaxis\":{\"backgroundcolor\":\"#E5ECF6\",\"gridcolor\":\"white\",\"linecolor\":\"white\",\"showbackground\":true,\"ticks\":\"\",\"zerolinecolor\":\"white\",\"gridwidth\":2}},\"shapedefaults\":{\"line\":{\"color\":\"#2a3f5f\"}},\"annotationdefaults\":{\"arrowcolor\":\"#2a3f5f\",\"arrowhead\":0,\"arrowwidth\":1},\"geo\":{\"bgcolor\":\"white\",\"landcolor\":\"#E5ECF6\",\"subunitcolor\":\"white\",\"showland\":true,\"showlakes\":true,\"lakecolor\":\"white\"},\"title\":{\"x\":0.05},\"mapbox\":{\"style\":\"light\"}}},\"xaxis\":{\"anchor\":\"y\",\"domain\":[0.0,1.0],\"title\":{\"text\":\"date\"}},\"yaxis\":{\"anchor\":\"x\",\"domain\":[0.0,1.0],\"title\":{\"text\":\"value\"}},\"legend\":{\"title\":{\"text\":\"variable\"},\"tracegroupgap\":0},\"margin\":{\"t\":60}},                        {\"responsive\": true}                    ).then(function(){\n",
       "                            \n",
       "var gd = document.getElementById('fb32890c-dc1f-43a8-acb3-39023e878873');\n",
       "var x = new MutationObserver(function (mutations, observer) {{\n",
       "        var display = window.getComputedStyle(gd).display;\n",
       "        if (!display || display === 'none') {{\n",
       "            console.log([gd, 'removed!']);\n",
       "            Plotly.purge(gd);\n",
       "            observer.disconnect();\n",
       "        }}\n",
       "}});\n",
       "\n",
       "// Listen for the removal of the full notebook cells\n",
       "var notebookContainer = gd.closest('#notebook-container');\n",
       "if (notebookContainer) {{\n",
       "    x.observe(notebookContainer, {childList: true});\n",
       "}}\n",
       "\n",
       "// Listen for the clearing of the current output cell\n",
       "var outputEl = gd.closest('.output');\n",
       "if (outputEl) {{\n",
       "    x.observe(outputEl, {childList: true});\n",
       "}}\n",
       "\n",
       "                        })                };                });            </script>        </div>"
      ]
     },
     "metadata": {},
     "output_type": "display_data"
    }
   ],
   "source": [
    "fig = px.line(final_df, x='date', y=[column for column in final_df.columns if \"change\" in column])\n",
    "fig.show()"
   ]
  }
 ],
 "metadata": {
  "kernelspec": {
   "display_name": "sfds_kernel",
   "language": "python",
   "name": "sfds_kernel"
  },
  "language_info": {
   "codemirror_mode": {
    "name": "ipython",
    "version": 3
   },
   "file_extension": ".py",
   "mimetype": "text/x-python",
   "name": "python",
   "nbconvert_exporter": "python",
   "pygments_lexer": "ipython3",
   "version": "3.10.5"
  }
 },
 "nbformat": 4,
 "nbformat_minor": 5
}

{
 "cells": [
  {
   "cell_type": "code",
   "execution_count": 28,
   "id": "693ae819-af4d-4dd0-942e-29d5195a8166",
   "metadata": {},
   "outputs": [],
   "source": [
    "import pandas as pd\n",
    "from pandas_datareader import data as pdr\n",
    "from datetime import date\n",
    "import plotly.express as px"
   ]
  },
  {
   "cell_type": "markdown",
   "id": "d1a82569-0946-4f78-8c21-eda3b29a4640",
   "metadata": {
    "tags": []
   },
   "source": [
    "## First, let's pull data for our reference index (IBOVESPA)"
   ]
  },
  {
   "cell_type": "code",
   "execution_count": 225,
   "id": "2b999df8-7565-4dba-8dbe-5a4c40b7cc8d",
   "metadata": {
    "tags": []
   },
   "outputs": [],
   "source": [
    "#Creating variables to store start and end date of analysis\n",
    "start_date = '2022-01-01'\n",
    "end_date = date.today()"
   ]
  },
  {
   "cell_type": "code",
   "execution_count": 226,
   "id": "f47a7ab4-80bb-4bc0-9bf4-208647ed55c7",
   "metadata": {},
   "outputs": [],
   "source": [
    "#Reading data using pandas datareader and cleaning column names\n",
    "ibov = pdr.DataReader(f'^BVSP', data_source='yahoo', start=start_date, end=end_date)\n",
    "ibov.reset_index(drop=False, inplace=True)\n",
    "ibov = ibov[['Date', 'Close']]\n",
    "ibov.rename(columns={'Date':'date', 'Close':'ibov_close'}, inplace=True)"
   ]
  },
  {
   "cell_type": "code",
   "execution_count": 227,
   "id": "993128da-e77b-413e-a426-fbed2ed42426",
   "metadata": {},
   "outputs": [
    {
     "data": {
      "text/html": [
       "<div>\n",
       "<style scoped>\n",
       "    .dataframe tbody tr th:only-of-type {\n",
       "        vertical-align: middle;\n",
       "    }\n",
       "\n",
       "    .dataframe tbody tr th {\n",
       "        vertical-align: top;\n",
       "    }\n",
       "\n",
       "    .dataframe thead th {\n",
       "        text-align: right;\n",
       "    }\n",
       "</style>\n",
       "<table border=\"1\" class=\"dataframe\">\n",
       "  <thead>\n",
       "    <tr style=\"text-align: right;\">\n",
       "      <th></th>\n",
       "      <th>date</th>\n",
       "      <th>ibov_close</th>\n",
       "      <th>ibov_cum_change</th>\n",
       "    </tr>\n",
       "  </thead>\n",
       "  <tbody>\n",
       "    <tr>\n",
       "      <th>0</th>\n",
       "      <td>2022-01-03</td>\n",
       "      <td>103922.000000</td>\n",
       "      <td>0.000000</td>\n",
       "    </tr>\n",
       "    <tr>\n",
       "      <th>1</th>\n",
       "      <td>2022-01-04</td>\n",
       "      <td>103514.000000</td>\n",
       "      <td>-0.392602</td>\n",
       "    </tr>\n",
       "    <tr>\n",
       "      <th>2</th>\n",
       "      <td>2022-01-05</td>\n",
       "      <td>101006.000000</td>\n",
       "      <td>-2.805951</td>\n",
       "    </tr>\n",
       "    <tr>\n",
       "      <th>3</th>\n",
       "      <td>2022-01-06</td>\n",
       "      <td>101561.000000</td>\n",
       "      <td>-2.271896</td>\n",
       "    </tr>\n",
       "    <tr>\n",
       "      <th>4</th>\n",
       "      <td>2022-01-07</td>\n",
       "      <td>102719.000000</td>\n",
       "      <td>-1.157599</td>\n",
       "    </tr>\n",
       "    <tr>\n",
       "      <th>...</th>\n",
       "      <td>...</td>\n",
       "      <td>...</td>\n",
       "      <td>...</td>\n",
       "    </tr>\n",
       "    <tr>\n",
       "      <th>121</th>\n",
       "      <td>2022-06-28</td>\n",
       "      <td>100591.000000</td>\n",
       "      <td>-3.205289</td>\n",
       "    </tr>\n",
       "    <tr>\n",
       "      <th>122</th>\n",
       "      <td>2022-06-29</td>\n",
       "      <td>99622.000000</td>\n",
       "      <td>-4.137719</td>\n",
       "    </tr>\n",
       "    <tr>\n",
       "      <th>123</th>\n",
       "      <td>2022-06-30</td>\n",
       "      <td>98542.000000</td>\n",
       "      <td>-5.176960</td>\n",
       "    </tr>\n",
       "    <tr>\n",
       "      <th>124</th>\n",
       "      <td>2022-07-01</td>\n",
       "      <td>98954.000000</td>\n",
       "      <td>-4.780508</td>\n",
       "    </tr>\n",
       "    <tr>\n",
       "      <th>125</th>\n",
       "      <td>2022-07-04</td>\n",
       "      <td>99091.867188</td>\n",
       "      <td>-4.647844</td>\n",
       "    </tr>\n",
       "  </tbody>\n",
       "</table>\n",
       "<p>126 rows × 3 columns</p>\n",
       "</div>"
      ],
      "text/plain": [
       "          date     ibov_close  ibov_cum_change\n",
       "0   2022-01-03  103922.000000         0.000000\n",
       "1   2022-01-04  103514.000000        -0.392602\n",
       "2   2022-01-05  101006.000000        -2.805951\n",
       "3   2022-01-06  101561.000000        -2.271896\n",
       "4   2022-01-07  102719.000000        -1.157599\n",
       "..         ...            ...              ...\n",
       "121 2022-06-28  100591.000000        -3.205289\n",
       "122 2022-06-29   99622.000000        -4.137719\n",
       "123 2022-06-30   98542.000000        -5.176960\n",
       "124 2022-07-01   98954.000000        -4.780508\n",
       "125 2022-07-04   99091.867188        -4.647844\n",
       "\n",
       "[126 rows x 3 columns]"
      ]
     },
     "execution_count": 227,
     "metadata": {},
     "output_type": "execute_result"
    }
   ],
   "source": [
    "#Creating the cumulative change column. This way, we can easily compare performance across multiple companies\n",
    "reference = ibov.at[0,\"ibov_close\"]\n",
    "ibov['ibov_cum_change'] = ibov['ibov_close'].apply(lambda x: (x-reference)*100/reference)\n",
    "ibov"
   ]
  },
  {
   "cell_type": "markdown",
   "id": "476292ab-fafa-44c3-a6e8-5f2b54bcd93f",
   "metadata": {
    "tags": []
   },
   "source": [
    "## Now, let's pull data for our investment portfolio"
   ]
  },
  {
   "cell_type": "code",
   "execution_count": 228,
   "id": "d5051950-775a-4a39-8504-c3846b9d365e",
   "metadata": {},
   "outputs": [],
   "source": [
    "#We are going to store all the tickers for the companies in our investment portfolio in a variable named wallet. Then, we will iterate over this variable in order to pull our data\n",
    "wallet = ['FRAS3', 'RAPT4', 'ITUB4']"
   ]
  },
  {
   "cell_type": "code",
   "execution_count": 229,
   "id": "71d500d5-18fe-472b-a1fa-b2e14114708e",
   "metadata": {},
   "outputs": [
    {
     "data": {
      "text/html": [
       "<div>\n",
       "<style scoped>\n",
       "    .dataframe tbody tr th:only-of-type {\n",
       "        vertical-align: middle;\n",
       "    }\n",
       "\n",
       "    .dataframe tbody tr th {\n",
       "        vertical-align: top;\n",
       "    }\n",
       "\n",
       "    .dataframe thead th {\n",
       "        text-align: right;\n",
       "    }\n",
       "</style>\n",
       "<table border=\"1\" class=\"dataframe\">\n",
       "  <thead>\n",
       "    <tr style=\"text-align: right;\">\n",
       "      <th></th>\n",
       "      <th>date</th>\n",
       "      <th>FRAS3_close</th>\n",
       "      <th>FRAS3_cum_change</th>\n",
       "      <th>RAPT4_close</th>\n",
       "      <th>RAPT4_cum_change</th>\n",
       "      <th>ITUB4_close</th>\n",
       "      <th>ITUB4_cum_change</th>\n",
       "    </tr>\n",
       "  </thead>\n",
       "  <tbody>\n",
       "    <tr>\n",
       "      <th>0</th>\n",
       "      <td>2022-01-03</td>\n",
       "      <td>13.6</td>\n",
       "      <td>0.0</td>\n",
       "      <td>10.77</td>\n",
       "      <td>0.0</td>\n",
       "      <td>21.51</td>\n",
       "      <td>0.0</td>\n",
       "    </tr>\n",
       "    <tr>\n",
       "      <th>1</th>\n",
       "      <td>2022-01-04</td>\n",
       "      <td>13.24</td>\n",
       "      <td>-2.647063</td>\n",
       "      <td>10.64</td>\n",
       "      <td>-1.207058</td>\n",
       "      <td>22.120001</td>\n",
       "      <td>2.835893</td>\n",
       "    </tr>\n",
       "    <tr>\n",
       "      <th>2</th>\n",
       "      <td>2022-01-05</td>\n",
       "      <td>12.99</td>\n",
       "      <td>-4.485298</td>\n",
       "      <td>10.26</td>\n",
       "      <td>-4.735378</td>\n",
       "      <td>21.700001</td>\n",
       "      <td>0.883313</td>\n",
       "    </tr>\n",
       "    <tr>\n",
       "      <th>3</th>\n",
       "      <td>2022-01-06</td>\n",
       "      <td>12.93</td>\n",
       "      <td>-4.926471</td>\n",
       "      <td>10.4</td>\n",
       "      <td>-3.435477</td>\n",
       "      <td>22.139999</td>\n",
       "      <td>2.928866</td>\n",
       "    </tr>\n",
       "    <tr>\n",
       "      <th>4</th>\n",
       "      <td>2022-01-07</td>\n",
       "      <td>12.85</td>\n",
       "      <td>-5.514706</td>\n",
       "      <td>10.99</td>\n",
       "      <td>2.042705</td>\n",
       "      <td>22.629999</td>\n",
       "      <td>5.206875</td>\n",
       "    </tr>\n",
       "    <tr>\n",
       "      <th>...</th>\n",
       "      <td>...</td>\n",
       "      <td>...</td>\n",
       "      <td>...</td>\n",
       "      <td>...</td>\n",
       "      <td>...</td>\n",
       "      <td>...</td>\n",
       "      <td>...</td>\n",
       "    </tr>\n",
       "    <tr>\n",
       "      <th>121</th>\n",
       "      <td>2022-06-28</td>\n",
       "      <td>9.85</td>\n",
       "      <td>-27.573529</td>\n",
       "      <td>9.69</td>\n",
       "      <td>-10.027863</td>\n",
       "      <td>23.32</td>\n",
       "      <td>8.414688</td>\n",
       "    </tr>\n",
       "    <tr>\n",
       "      <th>122</th>\n",
       "      <td>2022-06-29</td>\n",
       "      <td>9.76</td>\n",
       "      <td>-28.235294</td>\n",
       "      <td>9.89</td>\n",
       "      <td>-8.170846</td>\n",
       "      <td>23.08</td>\n",
       "      <td>7.298929</td>\n",
       "    </tr>\n",
       "    <tr>\n",
       "      <th>123</th>\n",
       "      <td>2022-06-30</td>\n",
       "      <td>9.8</td>\n",
       "      <td>-27.941177</td>\n",
       "      <td>9.38</td>\n",
       "      <td>-12.906224</td>\n",
       "      <td>22.67</td>\n",
       "      <td>5.39284</td>\n",
       "    </tr>\n",
       "    <tr>\n",
       "      <th>124</th>\n",
       "      <td>2022-07-01</td>\n",
       "      <td>9.8</td>\n",
       "      <td>-27.941177</td>\n",
       "      <td>9.41</td>\n",
       "      <td>-12.627675</td>\n",
       "      <td>22.85</td>\n",
       "      <td>6.229661</td>\n",
       "    </tr>\n",
       "    <tr>\n",
       "      <th>125</th>\n",
       "      <td>2022-07-04</td>\n",
       "      <td>9.69</td>\n",
       "      <td>-28.750005</td>\n",
       "      <td>9.45</td>\n",
       "      <td>-12.256273</td>\n",
       "      <td>22.67</td>\n",
       "      <td>5.39284</td>\n",
       "    </tr>\n",
       "  </tbody>\n",
       "</table>\n",
       "<p>126 rows × 7 columns</p>\n",
       "</div>"
      ],
      "text/plain": [
       "          date FRAS3_close FRAS3_cum_change RAPT4_close RAPT4_cum_change  \\\n",
       "0   2022-01-03        13.6              0.0       10.77              0.0   \n",
       "1   2022-01-04       13.24        -2.647063       10.64        -1.207058   \n",
       "2   2022-01-05       12.99        -4.485298       10.26        -4.735378   \n",
       "3   2022-01-06       12.93        -4.926471        10.4        -3.435477   \n",
       "4   2022-01-07       12.85        -5.514706       10.99         2.042705   \n",
       "..         ...         ...              ...         ...              ...   \n",
       "121 2022-06-28        9.85       -27.573529        9.69       -10.027863   \n",
       "122 2022-06-29        9.76       -28.235294        9.89        -8.170846   \n",
       "123 2022-06-30         9.8       -27.941177        9.38       -12.906224   \n",
       "124 2022-07-01         9.8       -27.941177        9.41       -12.627675   \n",
       "125 2022-07-04        9.69       -28.750005        9.45       -12.256273   \n",
       "\n",
       "    ITUB4_close ITUB4_cum_change  \n",
       "0         21.51              0.0  \n",
       "1     22.120001         2.835893  \n",
       "2     21.700001         0.883313  \n",
       "3     22.139999         2.928866  \n",
       "4     22.629999         5.206875  \n",
       "..          ...              ...  \n",
       "121       23.32         8.414688  \n",
       "122       23.08         7.298929  \n",
       "123       22.67          5.39284  \n",
       "124       22.85         6.229661  \n",
       "125       22.67          5.39284  \n",
       "\n",
       "[126 rows x 7 columns]"
      ]
     },
     "execution_count": 229,
     "metadata": {},
     "output_type": "execute_result"
    }
   ],
   "source": [
    "df_holder = []\n",
    "\n",
    "for stock in wallet:\n",
    "    #Reading data and cleaning column names\n",
    "    temp_df = pdr.DataReader(f'{stock}.SA', data_source='yahoo', start=start_date, end=end_date)\n",
    "    temp_df.reset_index(drop=False, inplace=True)\n",
    "    temp_df = temp_df[['Date', 'Close']]\n",
    "    temp_df.rename(columns={'Date':'date', 'Close':f'{stock}_close'}, inplace=True)\n",
    "    \n",
    "    #Creating the cumulative change column\n",
    "    reference = temp_df.at[0,f'{stock}_close']\n",
    "    temp_df[f'{stock}_cum_change'] = temp_df[f'{stock}_close'].apply(lambda x: (x-reference)*100/reference)\n",
    "    \n",
    "    #Appending our temporary dataframe to our empty list, which will be later concatenated\n",
    "    df_holder.append(temp_df)\n",
    "    \n",
    "#Lastly, lets concat our temp dataframes dropping duplicates - date column\n",
    "wallet_df = pd.concat(df_holder, axis=1).T.drop_duplicates().T\n",
    "wallet_df"
   ]
  },
  {
   "cell_type": "code",
   "execution_count": 230,
   "id": "0f59d7fd-ac3e-48a8-92c8-1a2f0fce4c1c",
   "metadata": {},
   "outputs": [
    {
     "data": {
      "text/html": [
       "<div>\n",
       "<style scoped>\n",
       "    .dataframe tbody tr th:only-of-type {\n",
       "        vertical-align: middle;\n",
       "    }\n",
       "\n",
       "    .dataframe tbody tr th {\n",
       "        vertical-align: top;\n",
       "    }\n",
       "\n",
       "    .dataframe thead th {\n",
       "        text-align: right;\n",
       "    }\n",
       "</style>\n",
       "<table border=\"1\" class=\"dataframe\">\n",
       "  <thead>\n",
       "    <tr style=\"text-align: right;\">\n",
       "      <th></th>\n",
       "      <th>date</th>\n",
       "      <th>ibov_close</th>\n",
       "      <th>ibov_cum_change</th>\n",
       "      <th>FRAS3_close</th>\n",
       "      <th>FRAS3_cum_change</th>\n",
       "      <th>RAPT4_close</th>\n",
       "      <th>RAPT4_cum_change</th>\n",
       "      <th>ITUB4_close</th>\n",
       "      <th>ITUB4_cum_change</th>\n",
       "    </tr>\n",
       "  </thead>\n",
       "  <tbody>\n",
       "    <tr>\n",
       "      <th>0</th>\n",
       "      <td>2022-01-03</td>\n",
       "      <td>103922.000000</td>\n",
       "      <td>0.000000</td>\n",
       "      <td>13.60</td>\n",
       "      <td>0.000000</td>\n",
       "      <td>10.77</td>\n",
       "      <td>0.000000</td>\n",
       "      <td>21.510000</td>\n",
       "      <td>0.000000</td>\n",
       "    </tr>\n",
       "    <tr>\n",
       "      <th>1</th>\n",
       "      <td>2022-01-04</td>\n",
       "      <td>103514.000000</td>\n",
       "      <td>-0.392602</td>\n",
       "      <td>13.24</td>\n",
       "      <td>-2.647063</td>\n",
       "      <td>10.64</td>\n",
       "      <td>-1.207058</td>\n",
       "      <td>22.120001</td>\n",
       "      <td>2.835893</td>\n",
       "    </tr>\n",
       "    <tr>\n",
       "      <th>2</th>\n",
       "      <td>2022-01-05</td>\n",
       "      <td>101006.000000</td>\n",
       "      <td>-2.805951</td>\n",
       "      <td>12.99</td>\n",
       "      <td>-4.485298</td>\n",
       "      <td>10.26</td>\n",
       "      <td>-4.735378</td>\n",
       "      <td>21.700001</td>\n",
       "      <td>0.883313</td>\n",
       "    </tr>\n",
       "    <tr>\n",
       "      <th>3</th>\n",
       "      <td>2022-01-06</td>\n",
       "      <td>101561.000000</td>\n",
       "      <td>-2.271896</td>\n",
       "      <td>12.93</td>\n",
       "      <td>-4.926471</td>\n",
       "      <td>10.40</td>\n",
       "      <td>-3.435477</td>\n",
       "      <td>22.139999</td>\n",
       "      <td>2.928866</td>\n",
       "    </tr>\n",
       "    <tr>\n",
       "      <th>4</th>\n",
       "      <td>2022-01-07</td>\n",
       "      <td>102719.000000</td>\n",
       "      <td>-1.157599</td>\n",
       "      <td>12.85</td>\n",
       "      <td>-5.514706</td>\n",
       "      <td>10.99</td>\n",
       "      <td>2.042705</td>\n",
       "      <td>22.629999</td>\n",
       "      <td>5.206875</td>\n",
       "    </tr>\n",
       "    <tr>\n",
       "      <th>...</th>\n",
       "      <td>...</td>\n",
       "      <td>...</td>\n",
       "      <td>...</td>\n",
       "      <td>...</td>\n",
       "      <td>...</td>\n",
       "      <td>...</td>\n",
       "      <td>...</td>\n",
       "      <td>...</td>\n",
       "      <td>...</td>\n",
       "    </tr>\n",
       "    <tr>\n",
       "      <th>121</th>\n",
       "      <td>2022-06-28</td>\n",
       "      <td>100591.000000</td>\n",
       "      <td>-3.205289</td>\n",
       "      <td>9.85</td>\n",
       "      <td>-27.573529</td>\n",
       "      <td>9.69</td>\n",
       "      <td>-10.027863</td>\n",
       "      <td>23.320000</td>\n",
       "      <td>8.414688</td>\n",
       "    </tr>\n",
       "    <tr>\n",
       "      <th>122</th>\n",
       "      <td>2022-06-29</td>\n",
       "      <td>99622.000000</td>\n",
       "      <td>-4.137719</td>\n",
       "      <td>9.76</td>\n",
       "      <td>-28.235294</td>\n",
       "      <td>9.89</td>\n",
       "      <td>-8.170846</td>\n",
       "      <td>23.080000</td>\n",
       "      <td>7.298929</td>\n",
       "    </tr>\n",
       "    <tr>\n",
       "      <th>123</th>\n",
       "      <td>2022-06-30</td>\n",
       "      <td>98542.000000</td>\n",
       "      <td>-5.176960</td>\n",
       "      <td>9.80</td>\n",
       "      <td>-27.941177</td>\n",
       "      <td>9.38</td>\n",
       "      <td>-12.906224</td>\n",
       "      <td>22.670000</td>\n",
       "      <td>5.392840</td>\n",
       "    </tr>\n",
       "    <tr>\n",
       "      <th>124</th>\n",
       "      <td>2022-07-01</td>\n",
       "      <td>98954.000000</td>\n",
       "      <td>-4.780508</td>\n",
       "      <td>9.80</td>\n",
       "      <td>-27.941177</td>\n",
       "      <td>9.41</td>\n",
       "      <td>-12.627675</td>\n",
       "      <td>22.850000</td>\n",
       "      <td>6.229661</td>\n",
       "    </tr>\n",
       "    <tr>\n",
       "      <th>125</th>\n",
       "      <td>2022-07-04</td>\n",
       "      <td>99091.867188</td>\n",
       "      <td>-4.647844</td>\n",
       "      <td>9.69</td>\n",
       "      <td>-28.750005</td>\n",
       "      <td>9.45</td>\n",
       "      <td>-12.256273</td>\n",
       "      <td>22.670000</td>\n",
       "      <td>5.392840</td>\n",
       "    </tr>\n",
       "  </tbody>\n",
       "</table>\n",
       "<p>126 rows × 9 columns</p>\n",
       "</div>"
      ],
      "text/plain": [
       "          date     ibov_close  ibov_cum_change  FRAS3_close  FRAS3_cum_change  \\\n",
       "0   2022-01-03  103922.000000         0.000000        13.60          0.000000   \n",
       "1   2022-01-04  103514.000000        -0.392602        13.24         -2.647063   \n",
       "2   2022-01-05  101006.000000        -2.805951        12.99         -4.485298   \n",
       "3   2022-01-06  101561.000000        -2.271896        12.93         -4.926471   \n",
       "4   2022-01-07  102719.000000        -1.157599        12.85         -5.514706   \n",
       "..         ...            ...              ...          ...               ...   \n",
       "121 2022-06-28  100591.000000        -3.205289         9.85        -27.573529   \n",
       "122 2022-06-29   99622.000000        -4.137719         9.76        -28.235294   \n",
       "123 2022-06-30   98542.000000        -5.176960         9.80        -27.941177   \n",
       "124 2022-07-01   98954.000000        -4.780508         9.80        -27.941177   \n",
       "125 2022-07-04   99091.867188        -4.647844         9.69        -28.750005   \n",
       "\n",
       "     RAPT4_close  RAPT4_cum_change  ITUB4_close  ITUB4_cum_change  \n",
       "0          10.77          0.000000    21.510000          0.000000  \n",
       "1          10.64         -1.207058    22.120001          2.835893  \n",
       "2          10.26         -4.735378    21.700001          0.883313  \n",
       "3          10.40         -3.435477    22.139999          2.928866  \n",
       "4          10.99          2.042705    22.629999          5.206875  \n",
       "..           ...               ...          ...               ...  \n",
       "121         9.69        -10.027863    23.320000          8.414688  \n",
       "122         9.89         -8.170846    23.080000          7.298929  \n",
       "123         9.38        -12.906224    22.670000          5.392840  \n",
       "124         9.41        -12.627675    22.850000          6.229661  \n",
       "125         9.45        -12.256273    22.670000          5.392840  \n",
       "\n",
       "[126 rows x 9 columns]"
      ]
     },
     "execution_count": 230,
     "metadata": {},
     "output_type": "execute_result"
    }
   ],
   "source": [
    "#Finally, let's merge the index dataframe with our wallet dataframe\n",
    "final_df = pd.merge(ibov, wallet_df, on='date')\n",
    "final_df.iloc[:,1:].apply(pd.to_numeric)\n",
    "for column in final_df.columns:\n",
    "    if column not in ['date']:\n",
    "        final_df[column] = final_df[column].astype(float)\n",
    "final_df"
   ]
  },
  {
   "cell_type": "code",
   "execution_count": 326,
   "id": "e95b9477-699d-4140-963b-c1874c2d3c61",
   "metadata": {},
   "outputs": [
    {
     "data": {
      "text/html": [
       "<div>\n",
       "<style scoped>\n",
       "    .dataframe tbody tr th:only-of-type {\n",
       "        vertical-align: middle;\n",
       "    }\n",
       "\n",
       "    .dataframe tbody tr th {\n",
       "        vertical-align: top;\n",
       "    }\n",
       "\n",
       "    .dataframe thead th {\n",
       "        text-align: right;\n",
       "    }\n",
       "</style>\n",
       "<table border=\"1\" class=\"dataframe\">\n",
       "  <thead>\n",
       "    <tr style=\"text-align: right;\">\n",
       "      <th></th>\n",
       "      <th>date</th>\n",
       "      <th>ibov_close</th>\n",
       "      <th>ibov_cum_change</th>\n",
       "      <th>FRAS3_close</th>\n",
       "      <th>FRAS3_cum_change</th>\n",
       "      <th>RAPT4_close</th>\n",
       "      <th>RAPT4_cum_change</th>\n",
       "      <th>ITUB4_close</th>\n",
       "      <th>ITUB4_cum_change</th>\n",
       "      <th>total_close</th>\n",
       "      <th>total_cum_change</th>\n",
       "    </tr>\n",
       "  </thead>\n",
       "  <tbody>\n",
       "    <tr>\n",
       "      <th>0</th>\n",
       "      <td>2022-01-03</td>\n",
       "      <td>103922.000000</td>\n",
       "      <td>0.000000</td>\n",
       "      <td>13.60</td>\n",
       "      <td>0.000000</td>\n",
       "      <td>10.77</td>\n",
       "      <td>0.000000</td>\n",
       "      <td>21.510000</td>\n",
       "      <td>0.000000</td>\n",
       "      <td>183.520004</td>\n",
       "      <td>0.000000</td>\n",
       "    </tr>\n",
       "    <tr>\n",
       "      <th>1</th>\n",
       "      <td>2022-01-04</td>\n",
       "      <td>103514.000000</td>\n",
       "      <td>-0.392602</td>\n",
       "      <td>13.24</td>\n",
       "      <td>-2.647063</td>\n",
       "      <td>10.64</td>\n",
       "      <td>-1.207058</td>\n",
       "      <td>22.120001</td>\n",
       "      <td>2.835893</td>\n",
       "      <td>184.000004</td>\n",
       "      <td>-0.339409</td>\n",
       "    </tr>\n",
       "    <tr>\n",
       "      <th>2</th>\n",
       "      <td>2022-01-05</td>\n",
       "      <td>101006.000000</td>\n",
       "      <td>-2.805951</td>\n",
       "      <td>12.99</td>\n",
       "      <td>-4.485298</td>\n",
       "      <td>10.26</td>\n",
       "      <td>-4.735378</td>\n",
       "      <td>21.700001</td>\n",
       "      <td>0.883313</td>\n",
       "      <td>179.800003</td>\n",
       "      <td>-2.779121</td>\n",
       "    </tr>\n",
       "    <tr>\n",
       "      <th>3</th>\n",
       "      <td>2022-01-06</td>\n",
       "      <td>101561.000000</td>\n",
       "      <td>-2.271896</td>\n",
       "      <td>12.93</td>\n",
       "      <td>-4.926471</td>\n",
       "      <td>10.40</td>\n",
       "      <td>-3.435477</td>\n",
       "      <td>22.139999</td>\n",
       "      <td>2.928866</td>\n",
       "      <td>181.879997</td>\n",
       "      <td>-1.811027</td>\n",
       "    </tr>\n",
       "    <tr>\n",
       "      <th>4</th>\n",
       "      <td>2022-01-07</td>\n",
       "      <td>102719.000000</td>\n",
       "      <td>-1.157599</td>\n",
       "      <td>12.85</td>\n",
       "      <td>-5.514706</td>\n",
       "      <td>10.99</td>\n",
       "      <td>2.042705</td>\n",
       "      <td>22.629999</td>\n",
       "      <td>5.206875</td>\n",
       "      <td>185.879997</td>\n",
       "      <td>0.578292</td>\n",
       "    </tr>\n",
       "    <tr>\n",
       "      <th>...</th>\n",
       "      <td>...</td>\n",
       "      <td>...</td>\n",
       "      <td>...</td>\n",
       "      <td>...</td>\n",
       "      <td>...</td>\n",
       "      <td>...</td>\n",
       "      <td>...</td>\n",
       "      <td>...</td>\n",
       "      <td>...</td>\n",
       "      <td>...</td>\n",
       "      <td>...</td>\n",
       "    </tr>\n",
       "    <tr>\n",
       "      <th>121</th>\n",
       "      <td>2022-06-28</td>\n",
       "      <td>100591.000000</td>\n",
       "      <td>-3.205289</td>\n",
       "      <td>9.85</td>\n",
       "      <td>-27.573529</td>\n",
       "      <td>9.69</td>\n",
       "      <td>-10.027863</td>\n",
       "      <td>23.320000</td>\n",
       "      <td>8.414688</td>\n",
       "      <td>171.439999</td>\n",
       "      <td>-9.728901</td>\n",
       "    </tr>\n",
       "    <tr>\n",
       "      <th>122</th>\n",
       "      <td>2022-06-29</td>\n",
       "      <td>99622.000000</td>\n",
       "      <td>-4.137719</td>\n",
       "      <td>9.76</td>\n",
       "      <td>-28.235294</td>\n",
       "      <td>9.89</td>\n",
       "      <td>-8.170846</td>\n",
       "      <td>23.080000</td>\n",
       "      <td>7.298929</td>\n",
       "      <td>170.920002</td>\n",
       "      <td>-9.702404</td>\n",
       "    </tr>\n",
       "    <tr>\n",
       "      <th>123</th>\n",
       "      <td>2022-06-30</td>\n",
       "      <td>98542.000000</td>\n",
       "      <td>-5.176960</td>\n",
       "      <td>9.80</td>\n",
       "      <td>-27.941177</td>\n",
       "      <td>9.38</td>\n",
       "      <td>-12.906224</td>\n",
       "      <td>22.670000</td>\n",
       "      <td>5.392840</td>\n",
       "      <td>167.400002</td>\n",
       "      <td>-11.818187</td>\n",
       "    </tr>\n",
       "    <tr>\n",
       "      <th>124</th>\n",
       "      <td>2022-07-01</td>\n",
       "      <td>98954.000000</td>\n",
       "      <td>-4.780508</td>\n",
       "      <td>9.80</td>\n",
       "      <td>-27.941177</td>\n",
       "      <td>9.41</td>\n",
       "      <td>-12.627675</td>\n",
       "      <td>22.850000</td>\n",
       "      <td>6.229661</td>\n",
       "      <td>168.240002</td>\n",
       "      <td>-11.446397</td>\n",
       "    </tr>\n",
       "    <tr>\n",
       "      <th>125</th>\n",
       "      <td>2022-07-04</td>\n",
       "      <td>99091.867188</td>\n",
       "      <td>-4.647844</td>\n",
       "      <td>9.69</td>\n",
       "      <td>-28.750005</td>\n",
       "      <td>9.45</td>\n",
       "      <td>-12.256273</td>\n",
       "      <td>22.670000</td>\n",
       "      <td>5.392840</td>\n",
       "      <td>167.239998</td>\n",
       "      <td>-11.871146</td>\n",
       "    </tr>\n",
       "  </tbody>\n",
       "</table>\n",
       "<p>126 rows × 11 columns</p>\n",
       "</div>"
      ],
      "text/plain": [
       "          date     ibov_close  ibov_cum_change  FRAS3_close  FRAS3_cum_change  \\\n",
       "0   2022-01-03  103922.000000         0.000000        13.60          0.000000   \n",
       "1   2022-01-04  103514.000000        -0.392602        13.24         -2.647063   \n",
       "2   2022-01-05  101006.000000        -2.805951        12.99         -4.485298   \n",
       "3   2022-01-06  101561.000000        -2.271896        12.93         -4.926471   \n",
       "4   2022-01-07  102719.000000        -1.157599        12.85         -5.514706   \n",
       "..         ...            ...              ...          ...               ...   \n",
       "121 2022-06-28  100591.000000        -3.205289         9.85        -27.573529   \n",
       "122 2022-06-29   99622.000000        -4.137719         9.76        -28.235294   \n",
       "123 2022-06-30   98542.000000        -5.176960         9.80        -27.941177   \n",
       "124 2022-07-01   98954.000000        -4.780508         9.80        -27.941177   \n",
       "125 2022-07-04   99091.867188        -4.647844         9.69        -28.750005   \n",
       "\n",
       "     RAPT4_close  RAPT4_cum_change  ITUB4_close  ITUB4_cum_change  \\\n",
       "0          10.77          0.000000    21.510000          0.000000   \n",
       "1          10.64         -1.207058    22.120001          2.835893   \n",
       "2          10.26         -4.735378    21.700001          0.883313   \n",
       "3          10.40         -3.435477    22.139999          2.928866   \n",
       "4          10.99          2.042705    22.629999          5.206875   \n",
       "..           ...               ...          ...               ...   \n",
       "121         9.69        -10.027863    23.320000          8.414688   \n",
       "122         9.89         -8.170846    23.080000          7.298929   \n",
       "123         9.38        -12.906224    22.670000          5.392840   \n",
       "124         9.41        -12.627675    22.850000          6.229661   \n",
       "125         9.45        -12.256273    22.670000          5.392840   \n",
       "\n",
       "     total_close  total_cum_change  \n",
       "0     183.520004          0.000000  \n",
       "1     184.000004         -0.339409  \n",
       "2     179.800003         -2.779121  \n",
       "3     181.879997         -1.811027  \n",
       "4     185.879997          0.578292  \n",
       "..           ...               ...  \n",
       "121   171.439999         -9.728901  \n",
       "122   170.920002         -9.702404  \n",
       "123   167.400002        -11.818187  \n",
       "124   168.240002        -11.446397  \n",
       "125   167.239998        -11.871146  \n",
       "\n",
       "[126 rows x 11 columns]"
      ]
     },
     "execution_count": 326,
     "metadata": {},
     "output_type": "execute_result"
    }
   ],
   "source": [
    "#Computing total change\n",
    "total_change_columns = [column for column in final_df.columns if \"change\" in column and column not in ['ibov_cum_change', 'total_cum_change']]\n",
    "final_df['total_cum_change'] = final_df[total_change_columns].mean(axis=1)\n",
    "final_df"
   ]
  },
  {
   "cell_type": "markdown",
   "id": "4dfa7657-eaf3-4223-8e3d-9dd8faadb65b",
   "metadata": {
    "tags": []
   },
   "source": [
    "## Investment results"
   ]
  },
  {
   "cell_type": "code",
   "execution_count": 355,
   "id": "3ad242db-ec1d-41fa-8b9f-baaa708dca9b",
   "metadata": {},
   "outputs": [
    {
     "data": {
      "text/plain": [
       "-4.647844356825312"
      ]
     },
     "execution_count": 355,
     "metadata": {},
     "output_type": "execute_result"
    }
   ],
   "source": [
    "changes = [final_df[column] for column in final_df.columns if \"change\" in column and column not in ['ibov_cum_change','total_cum_change']]\n",
    "changes = pd.concat(changes, axis=1)\n",
    "changes_results = changes.iloc[-1].sort_values(ascending=False)\n",
    "\n",
    "teste = final_df[\"ibov_cum_change\"].iloc[-1]\n",
    "teste"
   ]
  },
  {
   "cell_type": "code",
   "execution_count": 360,
   "id": "95a67dde-767e-4c6b-8a8f-e26c12651a6e",
   "metadata": {},
   "outputs": [
    {
     "name": "stdout",
     "output_type": "stream",
     "text": [
      "A ação do seu portfólio que teve melhor desempenho no período foi a ITUB4, com um rendimento de 5.39%.\n"
     ]
    }
   ],
   "source": [
    "print(f'A ação do seu portfólio que teve melhor desempenho no período foi a {changes_results.index[0].split(\"_\")[0]}, com um rendimento de {round(changes_results[0],2)}%.')"
   ]
  },
  {
   "cell_type": "code",
   "execution_count": 361,
   "id": "7578b388-419d-463b-8c80-7058f908f1ff",
   "metadata": {},
   "outputs": [
    {
     "name": "stdout",
     "output_type": "stream",
     "text": [
      "A ação do seu portfólio que teve pior desempenho no período foi a FRAS3, com um rendimento de -28.75%.\n"
     ]
    }
   ],
   "source": [
    "print(f'A ação do seu portfólio que teve pior desempenho no período foi a {changes_results.index[-1].split(\"_\")[0]}, com um rendimento de {round(changes_results[-1],2)}%.')"
   ]
  },
  {
   "cell_type": "code",
   "execution_count": 362,
   "id": "0851c391-53b0-4c87-a0a1-cf029b4c57fc",
   "metadata": {},
   "outputs": [
    {
     "name": "stdout",
     "output_type": "stream",
     "text": [
      "O seu portfólio teve um desempenho médio de -11.87% no período, -7.22% comparado ao Ibovespa.\n"
     ]
    }
   ],
   "source": [
    "print(f'O seu portfólio teve um desempenho médio de {round(final_df[\"total_cum_change\"].iloc[-1],2)}% no período, {round(final_df[\"total_cum_change\"].iloc[-1]-final_df[\"ibov_cum_change\"].iloc[-1],2)}% comparado ao Ibovespa.')"
   ]
  },
  {
   "cell_type": "markdown",
   "id": "ca568df8-3d11-455c-ae0f-beac3c94e382",
   "metadata": {
    "tags": []
   },
   "source": [
    "## Visualizing data"
   ]
  },
  {
   "cell_type": "code",
   "execution_count": 231,
   "id": "acbab9b7-2bb4-46d1-af21-343ecebb5962",
   "metadata": {},
   "outputs": [
    {
     "data": {
      "application/vnd.plotly.v1+json": {
       "config": {
        "plotlyServerURL": "https://plot.ly"
       },
       "data": [
        {
         "hovertemplate": "variable=FRAS3_close<br>date=%{x}<br>value=%{y}<extra></extra>",
         "legendgroup": "FRAS3_close",
         "line": {
          "color": "#636efa",
          "dash": "solid"
         },
         "marker": {
          "symbol": "circle"
         },
         "mode": "lines",
         "name": "FRAS3_close",
         "orientation": "v",
         "showlegend": true,
         "type": "scatter",
         "x": [
          "2022-01-03T00:00:00",
          "2022-01-04T00:00:00",
          "2022-01-05T00:00:00",
          "2022-01-06T00:00:00",
          "2022-01-07T00:00:00",
          "2022-01-10T00:00:00",
          "2022-01-11T00:00:00",
          "2022-01-12T00:00:00",
          "2022-01-13T00:00:00",
          "2022-01-14T00:00:00",
          "2022-01-17T00:00:00",
          "2022-01-18T00:00:00",
          "2022-01-19T00:00:00",
          "2022-01-20T00:00:00",
          "2022-01-21T00:00:00",
          "2022-01-24T00:00:00",
          "2022-01-25T00:00:00",
          "2022-01-26T00:00:00",
          "2022-01-27T00:00:00",
          "2022-01-28T00:00:00",
          "2022-01-31T00:00:00",
          "2022-02-01T00:00:00",
          "2022-02-02T00:00:00",
          "2022-02-03T00:00:00",
          "2022-02-04T00:00:00",
          "2022-02-07T00:00:00",
          "2022-02-08T00:00:00",
          "2022-02-09T00:00:00",
          "2022-02-10T00:00:00",
          "2022-02-11T00:00:00",
          "2022-02-14T00:00:00",
          "2022-02-15T00:00:00",
          "2022-02-16T00:00:00",
          "2022-02-17T00:00:00",
          "2022-02-18T00:00:00",
          "2022-02-21T00:00:00",
          "2022-02-22T00:00:00",
          "2022-02-23T00:00:00",
          "2022-02-24T00:00:00",
          "2022-02-25T00:00:00",
          "2022-03-02T00:00:00",
          "2022-03-03T00:00:00",
          "2022-03-04T00:00:00",
          "2022-03-07T00:00:00",
          "2022-03-08T00:00:00",
          "2022-03-09T00:00:00",
          "2022-03-10T00:00:00",
          "2022-03-11T00:00:00",
          "2022-03-14T00:00:00",
          "2022-03-15T00:00:00",
          "2022-03-16T00:00:00",
          "2022-03-17T00:00:00",
          "2022-03-18T00:00:00",
          "2022-03-21T00:00:00",
          "2022-03-22T00:00:00",
          "2022-03-23T00:00:00",
          "2022-03-24T00:00:00",
          "2022-03-25T00:00:00",
          "2022-03-28T00:00:00",
          "2022-03-29T00:00:00",
          "2022-03-30T00:00:00",
          "2022-03-31T00:00:00",
          "2022-04-01T00:00:00",
          "2022-04-04T00:00:00",
          "2022-04-05T00:00:00",
          "2022-04-06T00:00:00",
          "2022-04-07T00:00:00",
          "2022-04-08T00:00:00",
          "2022-04-11T00:00:00",
          "2022-04-12T00:00:00",
          "2022-04-13T00:00:00",
          "2022-04-14T00:00:00",
          "2022-04-18T00:00:00",
          "2022-04-19T00:00:00",
          "2022-04-20T00:00:00",
          "2022-04-22T00:00:00",
          "2022-04-25T00:00:00",
          "2022-04-26T00:00:00",
          "2022-04-27T00:00:00",
          "2022-04-28T00:00:00",
          "2022-04-29T00:00:00",
          "2022-05-02T00:00:00",
          "2022-05-03T00:00:00",
          "2022-05-04T00:00:00",
          "2022-05-05T00:00:00",
          "2022-05-06T00:00:00",
          "2022-05-09T00:00:00",
          "2022-05-10T00:00:00",
          "2022-05-11T00:00:00",
          "2022-05-12T00:00:00",
          "2022-05-13T00:00:00",
          "2022-05-16T00:00:00",
          "2022-05-17T00:00:00",
          "2022-05-18T00:00:00",
          "2022-05-19T00:00:00",
          "2022-05-20T00:00:00",
          "2022-05-23T00:00:00",
          "2022-05-24T00:00:00",
          "2022-05-25T00:00:00",
          "2022-05-26T00:00:00",
          "2022-05-27T00:00:00",
          "2022-05-30T00:00:00",
          "2022-05-31T00:00:00",
          "2022-06-01T00:00:00",
          "2022-06-02T00:00:00",
          "2022-06-03T00:00:00",
          "2022-06-06T00:00:00",
          "2022-06-07T00:00:00",
          "2022-06-08T00:00:00",
          "2022-06-09T00:00:00",
          "2022-06-10T00:00:00",
          "2022-06-13T00:00:00",
          "2022-06-14T00:00:00",
          "2022-06-15T00:00:00",
          "2022-06-17T00:00:00",
          "2022-06-20T00:00:00",
          "2022-06-21T00:00:00",
          "2022-06-22T00:00:00",
          "2022-06-23T00:00:00",
          "2022-06-24T00:00:00",
          "2022-06-27T00:00:00",
          "2022-06-28T00:00:00",
          "2022-06-29T00:00:00",
          "2022-06-30T00:00:00",
          "2022-07-01T00:00:00",
          "2022-07-04T00:00:00"
         ],
         "xaxis": "x",
         "y": [
          13.600000381469727,
          13.239999771118164,
          12.989999771118164,
          12.930000305175781,
          12.850000381469727,
          12.550000190734863,
          12.6899995803833,
          12.949999809265137,
          12.84000015258789,
          12.729999542236328,
          12.600000381469727,
          12.539999961853027,
          12.8100004196167,
          13.539999961853027,
          13.0600004196167,
          12.710000038146973,
          12.470000267028809,
          12.300000190734863,
          12.170000076293945,
          12.170000076293945,
          12.609999656677246,
          12.359999656677246,
          12.199999809265137,
          12.779999732971191,
          12.899999618530273,
          13.010000228881836,
          13.029999732971191,
          13.359999656677246,
          13.449999809265137,
          13.359999656677246,
          13.6899995803833,
          13.40999984741211,
          13.25,
          13.609999656677246,
          13.3100004196167,
          13.390000343322754,
          14.119999885559082,
          14.489999771118164,
          13.800000190734863,
          13.59000015258789,
          13.170000076293945,
          13.140000343322754,
          13.229999542236328,
          13.09000015258789,
          12.109999656677246,
          12.649999618530273,
          13.210000038146973,
          13.210000038146973,
          13.0600004196167,
          13.0600004196167,
          13.34000015258789,
          13.5,
          13.260000228881836,
          12.949999809265137,
          13.130000114440918,
          13.369999885559082,
          13.960000038146973,
          13.90999984741211,
          13.699999809265137,
          14.300000190734863,
          14.270000457763672,
          14.289999961853027,
          14.539999961853027,
          14.350000381469727,
          14.1899995803833,
          13.399999618530273,
          12.8100004196167,
          11.550000190734863,
          11.199999809265137,
          10.869999885559082,
          11.029999732971191,
          11.569999694824219,
          10.9399995803833,
          10.40999984741211,
          10.90999984741211,
          10.800000190734863,
          11.069999694824219,
          11.100000381469727,
          11.40999984741211,
          11.470000267028809,
          11.0600004196167,
          10.960000038146973,
          10.970000267028809,
          11.1899995803833,
          10.699999809265137,
          10.300000190734863,
          10.020000457763672,
          9.920000076293945,
          9.819999694824219,
          9.789999961853027,
          9.920000076293945,
          9.880000114440918,
          9.920000076293945,
          9.869999885559082,
          10.050000190734863,
          9.859999656677246,
          9.970000267028809,
          9.979999542236328,
          9.84000015258789,
          9.930000305175781,
          10.020000457763672,
          10.020000457763672,
          10.039999961853027,
          10.149999618530273,
          10.579999923706055,
          10.729999542236328,
          11.119999885559082,
          10.609999656677246,
          10.680000305175781,
          10.399999618530273,
          10.449999809265137,
          10.149999618530273,
          10.170000076293945,
          10.3100004196167,
          9.899999618530273,
          10,
          9.720000267028809,
          9.6899995803833,
          9.6899995803833,
          9.710000038146973,
          9.930000305175781,
          9.850000381469727,
          9.760000228881836,
          9.800000190734863,
          9.800000190734863,
          9.6899995803833
         ],
         "yaxis": "y"
        },
        {
         "hovertemplate": "variable=RAPT4_close<br>date=%{x}<br>value=%{y}<extra></extra>",
         "legendgroup": "RAPT4_close",
         "line": {
          "color": "#EF553B",
          "dash": "solid"
         },
         "marker": {
          "symbol": "circle"
         },
         "mode": "lines",
         "name": "RAPT4_close",
         "orientation": "v",
         "showlegend": true,
         "type": "scatter",
         "x": [
          "2022-01-03T00:00:00",
          "2022-01-04T00:00:00",
          "2022-01-05T00:00:00",
          "2022-01-06T00:00:00",
          "2022-01-07T00:00:00",
          "2022-01-10T00:00:00",
          "2022-01-11T00:00:00",
          "2022-01-12T00:00:00",
          "2022-01-13T00:00:00",
          "2022-01-14T00:00:00",
          "2022-01-17T00:00:00",
          "2022-01-18T00:00:00",
          "2022-01-19T00:00:00",
          "2022-01-20T00:00:00",
          "2022-01-21T00:00:00",
          "2022-01-24T00:00:00",
          "2022-01-25T00:00:00",
          "2022-01-26T00:00:00",
          "2022-01-27T00:00:00",
          "2022-01-28T00:00:00",
          "2022-01-31T00:00:00",
          "2022-02-01T00:00:00",
          "2022-02-02T00:00:00",
          "2022-02-03T00:00:00",
          "2022-02-04T00:00:00",
          "2022-02-07T00:00:00",
          "2022-02-08T00:00:00",
          "2022-02-09T00:00:00",
          "2022-02-10T00:00:00",
          "2022-02-11T00:00:00",
          "2022-02-14T00:00:00",
          "2022-02-15T00:00:00",
          "2022-02-16T00:00:00",
          "2022-02-17T00:00:00",
          "2022-02-18T00:00:00",
          "2022-02-21T00:00:00",
          "2022-02-22T00:00:00",
          "2022-02-23T00:00:00",
          "2022-02-24T00:00:00",
          "2022-02-25T00:00:00",
          "2022-03-02T00:00:00",
          "2022-03-03T00:00:00",
          "2022-03-04T00:00:00",
          "2022-03-07T00:00:00",
          "2022-03-08T00:00:00",
          "2022-03-09T00:00:00",
          "2022-03-10T00:00:00",
          "2022-03-11T00:00:00",
          "2022-03-14T00:00:00",
          "2022-03-15T00:00:00",
          "2022-03-16T00:00:00",
          "2022-03-17T00:00:00",
          "2022-03-18T00:00:00",
          "2022-03-21T00:00:00",
          "2022-03-22T00:00:00",
          "2022-03-23T00:00:00",
          "2022-03-24T00:00:00",
          "2022-03-25T00:00:00",
          "2022-03-28T00:00:00",
          "2022-03-29T00:00:00",
          "2022-03-30T00:00:00",
          "2022-03-31T00:00:00",
          "2022-04-01T00:00:00",
          "2022-04-04T00:00:00",
          "2022-04-05T00:00:00",
          "2022-04-06T00:00:00",
          "2022-04-07T00:00:00",
          "2022-04-08T00:00:00",
          "2022-04-11T00:00:00",
          "2022-04-12T00:00:00",
          "2022-04-13T00:00:00",
          "2022-04-14T00:00:00",
          "2022-04-18T00:00:00",
          "2022-04-19T00:00:00",
          "2022-04-20T00:00:00",
          "2022-04-22T00:00:00",
          "2022-04-25T00:00:00",
          "2022-04-26T00:00:00",
          "2022-04-27T00:00:00",
          "2022-04-28T00:00:00",
          "2022-04-29T00:00:00",
          "2022-05-02T00:00:00",
          "2022-05-03T00:00:00",
          "2022-05-04T00:00:00",
          "2022-05-05T00:00:00",
          "2022-05-06T00:00:00",
          "2022-05-09T00:00:00",
          "2022-05-10T00:00:00",
          "2022-05-11T00:00:00",
          "2022-05-12T00:00:00",
          "2022-05-13T00:00:00",
          "2022-05-16T00:00:00",
          "2022-05-17T00:00:00",
          "2022-05-18T00:00:00",
          "2022-05-19T00:00:00",
          "2022-05-20T00:00:00",
          "2022-05-23T00:00:00",
          "2022-05-24T00:00:00",
          "2022-05-25T00:00:00",
          "2022-05-26T00:00:00",
          "2022-05-27T00:00:00",
          "2022-05-30T00:00:00",
          "2022-05-31T00:00:00",
          "2022-06-01T00:00:00",
          "2022-06-02T00:00:00",
          "2022-06-03T00:00:00",
          "2022-06-06T00:00:00",
          "2022-06-07T00:00:00",
          "2022-06-08T00:00:00",
          "2022-06-09T00:00:00",
          "2022-06-10T00:00:00",
          "2022-06-13T00:00:00",
          "2022-06-14T00:00:00",
          "2022-06-15T00:00:00",
          "2022-06-17T00:00:00",
          "2022-06-20T00:00:00",
          "2022-06-21T00:00:00",
          "2022-06-22T00:00:00",
          "2022-06-23T00:00:00",
          "2022-06-24T00:00:00",
          "2022-06-27T00:00:00",
          "2022-06-28T00:00:00",
          "2022-06-29T00:00:00",
          "2022-06-30T00:00:00",
          "2022-07-01T00:00:00",
          "2022-07-04T00:00:00"
         ],
         "xaxis": "x",
         "y": [
          10.770000457763672,
          10.640000343322754,
          10.260000228881836,
          10.399999618530273,
          10.989999771118164,
          10.699999809265137,
          10.609999656677246,
          10.989999771118164,
          10.819999694824219,
          10.979999542236328,
          10.819999694824219,
          10.800000190734863,
          11.020000457763672,
          11.420000076293945,
          11.350000381469727,
          11.170000076293945,
          11.5,
          11.989999771118164,
          12.039999961853027,
          11.899999618530273,
          12.039999961853027,
          12.020000457763672,
          11.789999961853027,
          11.819999694824219,
          11.619999885559082,
          11.59000015258789,
          11.380000114440918,
          11.350000381469727,
          11.34000015258789,
          11.109999656677246,
          11.239999771118164,
          11.5,
          11.460000038146973,
          11.069999694824219,
          10.979999542236328,
          10.619999885559082,
          10.65999984741211,
          10.760000228881836,
          10.739999771118164,
          10.609999656677246,
          10.449999809265137,
          10.350000381469727,
          10.079999923706055,
          9.510000228881836,
          9.59000015258789,
          9.609999656677246,
          9.869999885559082,
          9.430000305175781,
          9.239999771118164,
          9.390000343322754,
          9.8100004196167,
          9.979999542236328,
          10.180000305175781,
          10.210000038146973,
          10.449999809265137,
          10.529999732971191,
          10.949999809265137,
          10.819999694824219,
          10.84000015258789,
          11.15999984741211,
          11.050000190734863,
          10.680000305175781,
          10.720000267028809,
          10.890000343322754,
          10.760000228881836,
          10.460000038146973,
          10.369999885559082,
          10.3100004196167,
          10.319999694824219,
          10.119999885559082,
          10.079999923706055,
          10.479999542236328,
          10.529999732971191,
          10.800000190734863,
          10.890000343322754,
          10.539999961853027,
          10.600000381469727,
          10.180000305175781,
          10.649999618530273,
          11.010000228881836,
          10.670000076293945,
          10.420000076293945,
          10.399999618530273,
          10.5,
          10.399999618530273,
          10.170000076293945,
          9.9399995803833,
          9.920000076293945,
          10.170000076293945,
          10.460000038146973,
          10.319999694824219,
          10.470000267028809,
          10.619999885559082,
          10.34000015258789,
          10.329999923706055,
          10.25,
          10.300000190734863,
          10.25,
          10.270000457763672,
          10.229999542236328,
          10.229999542236328,
          10.260000228881836,
          10.229999542236328,
          10.300000190734863,
          10.270000457763672,
          10.220000267028809,
          9.970000267028809,
          9.770000457763672,
          9.789999961853027,
          9.979999542236328,
          9.770000457763672,
          9.359999656677246,
          9.279999732971191,
          9.899999618530273,
          9.329999923706055,
          9.59000015258789,
          9.569999694824219,
          9.619999885559082,
          9.75,
          9.75,
          9.8100004196167,
          9.6899995803833,
          9.890000343322754,
          9.380000114440918,
          9.40999984741211,
          9.449999809265137
         ],
         "yaxis": "y"
        },
        {
         "hovertemplate": "variable=ITUB4_close<br>date=%{x}<br>value=%{y}<extra></extra>",
         "legendgroup": "ITUB4_close",
         "line": {
          "color": "#00cc96",
          "dash": "solid"
         },
         "marker": {
          "symbol": "circle"
         },
         "mode": "lines",
         "name": "ITUB4_close",
         "orientation": "v",
         "showlegend": true,
         "type": "scatter",
         "x": [
          "2022-01-03T00:00:00",
          "2022-01-04T00:00:00",
          "2022-01-05T00:00:00",
          "2022-01-06T00:00:00",
          "2022-01-07T00:00:00",
          "2022-01-10T00:00:00",
          "2022-01-11T00:00:00",
          "2022-01-12T00:00:00",
          "2022-01-13T00:00:00",
          "2022-01-14T00:00:00",
          "2022-01-17T00:00:00",
          "2022-01-18T00:00:00",
          "2022-01-19T00:00:00",
          "2022-01-20T00:00:00",
          "2022-01-21T00:00:00",
          "2022-01-24T00:00:00",
          "2022-01-25T00:00:00",
          "2022-01-26T00:00:00",
          "2022-01-27T00:00:00",
          "2022-01-28T00:00:00",
          "2022-01-31T00:00:00",
          "2022-02-01T00:00:00",
          "2022-02-02T00:00:00",
          "2022-02-03T00:00:00",
          "2022-02-04T00:00:00",
          "2022-02-07T00:00:00",
          "2022-02-08T00:00:00",
          "2022-02-09T00:00:00",
          "2022-02-10T00:00:00",
          "2022-02-11T00:00:00",
          "2022-02-14T00:00:00",
          "2022-02-15T00:00:00",
          "2022-02-16T00:00:00",
          "2022-02-17T00:00:00",
          "2022-02-18T00:00:00",
          "2022-02-21T00:00:00",
          "2022-02-22T00:00:00",
          "2022-02-23T00:00:00",
          "2022-02-24T00:00:00",
          "2022-02-25T00:00:00",
          "2022-03-02T00:00:00",
          "2022-03-03T00:00:00",
          "2022-03-04T00:00:00",
          "2022-03-07T00:00:00",
          "2022-03-08T00:00:00",
          "2022-03-09T00:00:00",
          "2022-03-10T00:00:00",
          "2022-03-11T00:00:00",
          "2022-03-14T00:00:00",
          "2022-03-15T00:00:00",
          "2022-03-16T00:00:00",
          "2022-03-17T00:00:00",
          "2022-03-18T00:00:00",
          "2022-03-21T00:00:00",
          "2022-03-22T00:00:00",
          "2022-03-23T00:00:00",
          "2022-03-24T00:00:00",
          "2022-03-25T00:00:00",
          "2022-03-28T00:00:00",
          "2022-03-29T00:00:00",
          "2022-03-30T00:00:00",
          "2022-03-31T00:00:00",
          "2022-04-01T00:00:00",
          "2022-04-04T00:00:00",
          "2022-04-05T00:00:00",
          "2022-04-06T00:00:00",
          "2022-04-07T00:00:00",
          "2022-04-08T00:00:00",
          "2022-04-11T00:00:00",
          "2022-04-12T00:00:00",
          "2022-04-13T00:00:00",
          "2022-04-14T00:00:00",
          "2022-04-18T00:00:00",
          "2022-04-19T00:00:00",
          "2022-04-20T00:00:00",
          "2022-04-22T00:00:00",
          "2022-04-25T00:00:00",
          "2022-04-26T00:00:00",
          "2022-04-27T00:00:00",
          "2022-04-28T00:00:00",
          "2022-04-29T00:00:00",
          "2022-05-02T00:00:00",
          "2022-05-03T00:00:00",
          "2022-05-04T00:00:00",
          "2022-05-05T00:00:00",
          "2022-05-06T00:00:00",
          "2022-05-09T00:00:00",
          "2022-05-10T00:00:00",
          "2022-05-11T00:00:00",
          "2022-05-12T00:00:00",
          "2022-05-13T00:00:00",
          "2022-05-16T00:00:00",
          "2022-05-17T00:00:00",
          "2022-05-18T00:00:00",
          "2022-05-19T00:00:00",
          "2022-05-20T00:00:00",
          "2022-05-23T00:00:00",
          "2022-05-24T00:00:00",
          "2022-05-25T00:00:00",
          "2022-05-26T00:00:00",
          "2022-05-27T00:00:00",
          "2022-05-30T00:00:00",
          "2022-05-31T00:00:00",
          "2022-06-01T00:00:00",
          "2022-06-02T00:00:00",
          "2022-06-03T00:00:00",
          "2022-06-06T00:00:00",
          "2022-06-07T00:00:00",
          "2022-06-08T00:00:00",
          "2022-06-09T00:00:00",
          "2022-06-10T00:00:00",
          "2022-06-13T00:00:00",
          "2022-06-14T00:00:00",
          "2022-06-15T00:00:00",
          "2022-06-17T00:00:00",
          "2022-06-20T00:00:00",
          "2022-06-21T00:00:00",
          "2022-06-22T00:00:00",
          "2022-06-23T00:00:00",
          "2022-06-24T00:00:00",
          "2022-06-27T00:00:00",
          "2022-06-28T00:00:00",
          "2022-06-29T00:00:00",
          "2022-06-30T00:00:00",
          "2022-07-01T00:00:00",
          "2022-07-04T00:00:00"
         ],
         "xaxis": "x",
         "y": [
          21.510000228881836,
          22.1200008392334,
          21.700000762939453,
          22.139999389648438,
          22.6299991607666,
          22.84000015258789,
          23.350000381469727,
          23.25,
          23.68000030517578,
          23.5,
          23.5,
          23.639999389648438,
          23.479999542236328,
          23.290000915527344,
          23.299999237060547,
          23.270000457763672,
          24.110000610351562,
          24.3700008392334,
          24.489999771118164,
          24.790000915527344,
          25.329999923706055,
          25.489999771118164,
          25.09000015258789,
          25.3799991607666,
          25.459999084472656,
          25.31999969482422,
          25.600000381469727,
          24.579999923706055,
          25.049999237060547,
          26.530000686645508,
          26.469999313354492,
          26.719999313354492,
          26.440000534057617,
          26.06999969482422,
          26.170000076293945,
          25.530000686645508,
          25.75,
          25.389999389648438,
          24.959999084472656,
          25.469999313354492,
          25.030000686645508,
          25.049999237060547,
          24.670000076293945,
          24.139999389648438,
          23.90999984741211,
          25.100000381469727,
          25.1200008392334,
          24.84000015258789,
          25.190000534057617,
          25.100000381469727,
          25.59000015258789,
          26.149999618530273,
          26.34000015258789,
          26.989999771118164,
          27.360000610351562,
          27.239999771118164,
          27.420000076293945,
          27.469999313354492,
          27.450000762939453,
          27.770000457763672,
          27.829999923706055,
          27.479999542236328,
          27.540000915527344,
          27.290000915527344,
          26.739999771118164,
          26.729999542236328,
          26.709999084472656,
          26.65999984741211,
          26.559999465942383,
          26.09000015258789,
          26.15999984741211,
          26.329999923706055,
          26.479999542236328,
          26.010000228881836,
          26.18000030517578,
          25.670000076293945,
          25.56999969482422,
          24.700000762939453,
          24.5,
          24.299999237060547,
          23.8700008392334,
          23.75,
          23.8700008392334,
          23.84000015258789,
          23.290000915527344,
          23.790000915527344,
          23.450000762939453,
          23.329999923706055,
          24.110000610351562,
          24.489999771118164,
          24.780000686645508,
          25.040000915527344,
          25.260000228881836,
          24.899999618530273,
          24.81999969482422,
          25.1299991607666,
          25.780000686645508,
          26.170000076293945,
          25.700000762939453,
          26.020000457763672,
          26.15999984741211,
          25.920000076293945,
          26.15999984741211,
          25.780000686645508,
          25.889999389648438,
          25.649999618530273,
          25.559999465942383,
          25.559999465942383,
          25.06999969482422,
          24.639999389648438,
          24.100000381469727,
          23.809999465942383,
          23.649999618530273,
          23.75,
          23.450000762939453,
          24.469999313354492,
          24.209999084472656,
          24.030000686645508,
          23.479999542236328,
          23.440000534057617,
          23.579999923706055,
          23.31999969482422,
          23.079999923706055,
          22.670000076293945,
          22.850000381469727,
          22.670000076293945
         ],
         "yaxis": "y"
        }
       ],
       "layout": {
        "autosize": true,
        "legend": {
         "title": {
          "text": "variable"
         },
         "tracegroupgap": 0
        },
        "margin": {
         "t": 60
        },
        "template": {
         "data": {
          "bar": [
           {
            "error_x": {
             "color": "#2a3f5f"
            },
            "error_y": {
             "color": "#2a3f5f"
            },
            "marker": {
             "line": {
              "color": "#E5ECF6",
              "width": 0.5
             },
             "pattern": {
              "fillmode": "overlay",
              "size": 10,
              "solidity": 0.2
             }
            },
            "type": "bar"
           }
          ],
          "barpolar": [
           {
            "marker": {
             "line": {
              "color": "#E5ECF6",
              "width": 0.5
             },
             "pattern": {
              "fillmode": "overlay",
              "size": 10,
              "solidity": 0.2
             }
            },
            "type": "barpolar"
           }
          ],
          "carpet": [
           {
            "aaxis": {
             "endlinecolor": "#2a3f5f",
             "gridcolor": "white",
             "linecolor": "white",
             "minorgridcolor": "white",
             "startlinecolor": "#2a3f5f"
            },
            "baxis": {
             "endlinecolor": "#2a3f5f",
             "gridcolor": "white",
             "linecolor": "white",
             "minorgridcolor": "white",
             "startlinecolor": "#2a3f5f"
            },
            "type": "carpet"
           }
          ],
          "choropleth": [
           {
            "colorbar": {
             "outlinewidth": 0,
             "ticks": ""
            },
            "type": "choropleth"
           }
          ],
          "contour": [
           {
            "colorbar": {
             "outlinewidth": 0,
             "ticks": ""
            },
            "colorscale": [
             [
              0,
              "#0d0887"
             ],
             [
              0.1111111111111111,
              "#46039f"
             ],
             [
              0.2222222222222222,
              "#7201a8"
             ],
             [
              0.3333333333333333,
              "#9c179e"
             ],
             [
              0.4444444444444444,
              "#bd3786"
             ],
             [
              0.5555555555555556,
              "#d8576b"
             ],
             [
              0.6666666666666666,
              "#ed7953"
             ],
             [
              0.7777777777777778,
              "#fb9f3a"
             ],
             [
              0.8888888888888888,
              "#fdca26"
             ],
             [
              1,
              "#f0f921"
             ]
            ],
            "type": "contour"
           }
          ],
          "contourcarpet": [
           {
            "colorbar": {
             "outlinewidth": 0,
             "ticks": ""
            },
            "type": "contourcarpet"
           }
          ],
          "heatmap": [
           {
            "colorbar": {
             "outlinewidth": 0,
             "ticks": ""
            },
            "colorscale": [
             [
              0,
              "#0d0887"
             ],
             [
              0.1111111111111111,
              "#46039f"
             ],
             [
              0.2222222222222222,
              "#7201a8"
             ],
             [
              0.3333333333333333,
              "#9c179e"
             ],
             [
              0.4444444444444444,
              "#bd3786"
             ],
             [
              0.5555555555555556,
              "#d8576b"
             ],
             [
              0.6666666666666666,
              "#ed7953"
             ],
             [
              0.7777777777777778,
              "#fb9f3a"
             ],
             [
              0.8888888888888888,
              "#fdca26"
             ],
             [
              1,
              "#f0f921"
             ]
            ],
            "type": "heatmap"
           }
          ],
          "heatmapgl": [
           {
            "colorbar": {
             "outlinewidth": 0,
             "ticks": ""
            },
            "colorscale": [
             [
              0,
              "#0d0887"
             ],
             [
              0.1111111111111111,
              "#46039f"
             ],
             [
              0.2222222222222222,
              "#7201a8"
             ],
             [
              0.3333333333333333,
              "#9c179e"
             ],
             [
              0.4444444444444444,
              "#bd3786"
             ],
             [
              0.5555555555555556,
              "#d8576b"
             ],
             [
              0.6666666666666666,
              "#ed7953"
             ],
             [
              0.7777777777777778,
              "#fb9f3a"
             ],
             [
              0.8888888888888888,
              "#fdca26"
             ],
             [
              1,
              "#f0f921"
             ]
            ],
            "type": "heatmapgl"
           }
          ],
          "histogram": [
           {
            "marker": {
             "pattern": {
              "fillmode": "overlay",
              "size": 10,
              "solidity": 0.2
             }
            },
            "type": "histogram"
           }
          ],
          "histogram2d": [
           {
            "colorbar": {
             "outlinewidth": 0,
             "ticks": ""
            },
            "colorscale": [
             [
              0,
              "#0d0887"
             ],
             [
              0.1111111111111111,
              "#46039f"
             ],
             [
              0.2222222222222222,
              "#7201a8"
             ],
             [
              0.3333333333333333,
              "#9c179e"
             ],
             [
              0.4444444444444444,
              "#bd3786"
             ],
             [
              0.5555555555555556,
              "#d8576b"
             ],
             [
              0.6666666666666666,
              "#ed7953"
             ],
             [
              0.7777777777777778,
              "#fb9f3a"
             ],
             [
              0.8888888888888888,
              "#fdca26"
             ],
             [
              1,
              "#f0f921"
             ]
            ],
            "type": "histogram2d"
           }
          ],
          "histogram2dcontour": [
           {
            "colorbar": {
             "outlinewidth": 0,
             "ticks": ""
            },
            "colorscale": [
             [
              0,
              "#0d0887"
             ],
             [
              0.1111111111111111,
              "#46039f"
             ],
             [
              0.2222222222222222,
              "#7201a8"
             ],
             [
              0.3333333333333333,
              "#9c179e"
             ],
             [
              0.4444444444444444,
              "#bd3786"
             ],
             [
              0.5555555555555556,
              "#d8576b"
             ],
             [
              0.6666666666666666,
              "#ed7953"
             ],
             [
              0.7777777777777778,
              "#fb9f3a"
             ],
             [
              0.8888888888888888,
              "#fdca26"
             ],
             [
              1,
              "#f0f921"
             ]
            ],
            "type": "histogram2dcontour"
           }
          ],
          "mesh3d": [
           {
            "colorbar": {
             "outlinewidth": 0,
             "ticks": ""
            },
            "type": "mesh3d"
           }
          ],
          "parcoords": [
           {
            "line": {
             "colorbar": {
              "outlinewidth": 0,
              "ticks": ""
             }
            },
            "type": "parcoords"
           }
          ],
          "pie": [
           {
            "automargin": true,
            "type": "pie"
           }
          ],
          "scatter": [
           {
            "fillpattern": {
             "fillmode": "overlay",
             "size": 10,
             "solidity": 0.2
            },
            "type": "scatter"
           }
          ],
          "scatter3d": [
           {
            "line": {
             "colorbar": {
              "outlinewidth": 0,
              "ticks": ""
             }
            },
            "marker": {
             "colorbar": {
              "outlinewidth": 0,
              "ticks": ""
             }
            },
            "type": "scatter3d"
           }
          ],
          "scattercarpet": [
           {
            "marker": {
             "colorbar": {
              "outlinewidth": 0,
              "ticks": ""
             }
            },
            "type": "scattercarpet"
           }
          ],
          "scattergeo": [
           {
            "marker": {
             "colorbar": {
              "outlinewidth": 0,
              "ticks": ""
             }
            },
            "type": "scattergeo"
           }
          ],
          "scattergl": [
           {
            "marker": {
             "colorbar": {
              "outlinewidth": 0,
              "ticks": ""
             }
            },
            "type": "scattergl"
           }
          ],
          "scattermapbox": [
           {
            "marker": {
             "colorbar": {
              "outlinewidth": 0,
              "ticks": ""
             }
            },
            "type": "scattermapbox"
           }
          ],
          "scatterpolar": [
           {
            "marker": {
             "colorbar": {
              "outlinewidth": 0,
              "ticks": ""
             }
            },
            "type": "scatterpolar"
           }
          ],
          "scatterpolargl": [
           {
            "marker": {
             "colorbar": {
              "outlinewidth": 0,
              "ticks": ""
             }
            },
            "type": "scatterpolargl"
           }
          ],
          "scatterternary": [
           {
            "marker": {
             "colorbar": {
              "outlinewidth": 0,
              "ticks": ""
             }
            },
            "type": "scatterternary"
           }
          ],
          "surface": [
           {
            "colorbar": {
             "outlinewidth": 0,
             "ticks": ""
            },
            "colorscale": [
             [
              0,
              "#0d0887"
             ],
             [
              0.1111111111111111,
              "#46039f"
             ],
             [
              0.2222222222222222,
              "#7201a8"
             ],
             [
              0.3333333333333333,
              "#9c179e"
             ],
             [
              0.4444444444444444,
              "#bd3786"
             ],
             [
              0.5555555555555556,
              "#d8576b"
             ],
             [
              0.6666666666666666,
              "#ed7953"
             ],
             [
              0.7777777777777778,
              "#fb9f3a"
             ],
             [
              0.8888888888888888,
              "#fdca26"
             ],
             [
              1,
              "#f0f921"
             ]
            ],
            "type": "surface"
           }
          ],
          "table": [
           {
            "cells": {
             "fill": {
              "color": "#EBF0F8"
             },
             "line": {
              "color": "white"
             }
            },
            "header": {
             "fill": {
              "color": "#C8D4E3"
             },
             "line": {
              "color": "white"
             }
            },
            "type": "table"
           }
          ]
         },
         "layout": {
          "annotationdefaults": {
           "arrowcolor": "#2a3f5f",
           "arrowhead": 0,
           "arrowwidth": 1
          },
          "autotypenumbers": "strict",
          "coloraxis": {
           "colorbar": {
            "outlinewidth": 0,
            "ticks": ""
           }
          },
          "colorscale": {
           "diverging": [
            [
             0,
             "#8e0152"
            ],
            [
             0.1,
             "#c51b7d"
            ],
            [
             0.2,
             "#de77ae"
            ],
            [
             0.3,
             "#f1b6da"
            ],
            [
             0.4,
             "#fde0ef"
            ],
            [
             0.5,
             "#f7f7f7"
            ],
            [
             0.6,
             "#e6f5d0"
            ],
            [
             0.7,
             "#b8e186"
            ],
            [
             0.8,
             "#7fbc41"
            ],
            [
             0.9,
             "#4d9221"
            ],
            [
             1,
             "#276419"
            ]
           ],
           "sequential": [
            [
             0,
             "#0d0887"
            ],
            [
             0.1111111111111111,
             "#46039f"
            ],
            [
             0.2222222222222222,
             "#7201a8"
            ],
            [
             0.3333333333333333,
             "#9c179e"
            ],
            [
             0.4444444444444444,
             "#bd3786"
            ],
            [
             0.5555555555555556,
             "#d8576b"
            ],
            [
             0.6666666666666666,
             "#ed7953"
            ],
            [
             0.7777777777777778,
             "#fb9f3a"
            ],
            [
             0.8888888888888888,
             "#fdca26"
            ],
            [
             1,
             "#f0f921"
            ]
           ],
           "sequentialminus": [
            [
             0,
             "#0d0887"
            ],
            [
             0.1111111111111111,
             "#46039f"
            ],
            [
             0.2222222222222222,
             "#7201a8"
            ],
            [
             0.3333333333333333,
             "#9c179e"
            ],
            [
             0.4444444444444444,
             "#bd3786"
            ],
            [
             0.5555555555555556,
             "#d8576b"
            ],
            [
             0.6666666666666666,
             "#ed7953"
            ],
            [
             0.7777777777777778,
             "#fb9f3a"
            ],
            [
             0.8888888888888888,
             "#fdca26"
            ],
            [
             1,
             "#f0f921"
            ]
           ]
          },
          "colorway": [
           "#636efa",
           "#EF553B",
           "#00cc96",
           "#ab63fa",
           "#FFA15A",
           "#19d3f3",
           "#FF6692",
           "#B6E880",
           "#FF97FF",
           "#FECB52"
          ],
          "font": {
           "color": "#2a3f5f"
          },
          "geo": {
           "bgcolor": "white",
           "lakecolor": "white",
           "landcolor": "#E5ECF6",
           "showlakes": true,
           "showland": true,
           "subunitcolor": "white"
          },
          "hoverlabel": {
           "align": "left"
          },
          "hovermode": "closest",
          "mapbox": {
           "style": "light"
          },
          "paper_bgcolor": "white",
          "plot_bgcolor": "#E5ECF6",
          "polar": {
           "angularaxis": {
            "gridcolor": "white",
            "linecolor": "white",
            "ticks": ""
           },
           "bgcolor": "#E5ECF6",
           "radialaxis": {
            "gridcolor": "white",
            "linecolor": "white",
            "ticks": ""
           }
          },
          "scene": {
           "xaxis": {
            "backgroundcolor": "#E5ECF6",
            "gridcolor": "white",
            "gridwidth": 2,
            "linecolor": "white",
            "showbackground": true,
            "ticks": "",
            "zerolinecolor": "white"
           },
           "yaxis": {
            "backgroundcolor": "#E5ECF6",
            "gridcolor": "white",
            "gridwidth": 2,
            "linecolor": "white",
            "showbackground": true,
            "ticks": "",
            "zerolinecolor": "white"
           },
           "zaxis": {
            "backgroundcolor": "#E5ECF6",
            "gridcolor": "white",
            "gridwidth": 2,
            "linecolor": "white",
            "showbackground": true,
            "ticks": "",
            "zerolinecolor": "white"
           }
          },
          "shapedefaults": {
           "line": {
            "color": "#2a3f5f"
           }
          },
          "ternary": {
           "aaxis": {
            "gridcolor": "white",
            "linecolor": "white",
            "ticks": ""
           },
           "baxis": {
            "gridcolor": "white",
            "linecolor": "white",
            "ticks": ""
           },
           "bgcolor": "#E5ECF6",
           "caxis": {
            "gridcolor": "white",
            "linecolor": "white",
            "ticks": ""
           }
          },
          "title": {
           "x": 0.05
          },
          "xaxis": {
           "automargin": true,
           "gridcolor": "white",
           "linecolor": "white",
           "ticks": "",
           "title": {
            "standoff": 15
           },
           "zerolinecolor": "white",
           "zerolinewidth": 2
          },
          "yaxis": {
           "automargin": true,
           "gridcolor": "white",
           "linecolor": "white",
           "ticks": "",
           "title": {
            "standoff": 15
           },
           "zerolinecolor": "white",
           "zerolinewidth": 2
          }
         }
        },
        "xaxis": {
         "anchor": "y",
         "autorange": true,
         "domain": [
          0,
          1
         ],
         "range": [
          "2022-01-03",
          "2022-07-04"
         ],
         "title": {
          "text": "date"
         },
         "type": "date"
        },
        "yaxis": {
         "anchor": "x",
         "autorange": true,
         "domain": [
          0,
          1
         ],
         "range": [
          8.207221984863281,
          28.862777709960938
         ],
         "title": {
          "text": "value"
         },
         "type": "linear"
        }
       }
      },
      "image/png": "[encoded data removed]",
      "text/html": [
       "<div>                            <div id=\"adec35d4-4dc4-43f2-b71f-90c1cf4fa4e6\" class=\"plotly-graph-div\" style=\"height:525px; width:100%;\"></div>            <script type=\"text/javascript\">                require([\"plotly\"], function(Plotly) {                    window.PLOTLYENV=window.PLOTLYENV || {};                                    if (document.getElementById(\"adec35d4-4dc4-43f2-b71f-90c1cf4fa4e6\")) {                    Plotly.newPlot(                        \"adec35d4-4dc4-43f2-b71f-90c1cf4fa4e6\",                        [{\"hovertemplate\":\"variable=FRAS3_close<br>date=%{x}<br>value=%{y}<extra></extra>\",\"legendgroup\":\"FRAS3_close\",\"line\":{\"color\":\"#636efa\",\"dash\":\"solid\"},\"marker\":{\"symbol\":\"circle\"},\"mode\":\"lines\",\"name\":\"FRAS3_close\",\"orientation\":\"v\",\"showlegend\":true,\"x\":[\"2022-01-03T00:00:00\",\"2022-01-04T00:00:00\",\"2022-01-05T00:00:00\",\"2022-01-06T00:00:00\",\"2022-01-07T00:00:00\",\"2022-01-10T00:00:00\",\"2022-01-11T00:00:00\",\"2022-01-12T00:00:00\",\"2022-01-13T00:00:00\",\"2022-01-14T00:00:00\",\"2022-01-17T00:00:00\",\"2022-01-18T00:00:00\",\"2022-01-19T00:00:00\",\"2022-01-20T00:00:00\",\"2022-01-21T00:00:00\",\"2022-01-24T00:00:00\",\"2022-01-25T00:00:00\",\"2022-01-26T00:00:00\",\"2022-01-27T00:00:00\",\"2022-01-28T00:00:00\",\"2022-01-31T00:00:00\",\"2022-02-01T00:00:00\",\"2022-02-02T00:00:00\",\"2022-02-03T00:00:00\",\"2022-02-04T00:00:00\",\"2022-02-07T00:00:00\",\"2022-02-08T00:00:00\",\"2022-02-09T00:00:00\",\"2022-02-10T00:00:00\",\"2022-02-11T00:00:00\",\"2022-02-14T00:00:00\",\"2022-02-15T00:00:00\",\"2022-02-16T00:00:00\",\"2022-02-17T00:00:00\",\"2022-02-18T00:00:00\",\"2022-02-21T00:00:00\",\"2022-02-22T00:00:00\",\"2022-02-23T00:00:00\",\"2022-02-24T00:00:00\",\"2022-02-25T00:00:00\",\"2022-03-02T00:00:00\",\"2022-03-03T00:00:00\",\"2022-03-04T00:00:00\",\"2022-03-07T00:00:00\",\"2022-03-08T00:00:00\",\"2022-03-09T00:00:00\",\"2022-03-10T00:00:00\",\"2022-03-11T00:00:00\",\"2022-03-14T00:00:00\",\"2022-03-15T00:00:00\",\"2022-03-16T00:00:00\",\"2022-03-17T00:00:00\",\"2022-03-18T00:00:00\",\"2022-03-21T00:00:00\",\"2022-03-22T00:00:00\",\"2022-03-23T00:00:00\",\"2022-03-24T00:00:00\",\"2022-03-25T00:00:00\",\"2022-03-28T00:00:00\",\"2022-03-29T00:00:00\",\"2022-03-30T00:00:00\",\"2022-03-31T00:00:00\",\"2022-04-01T00:00:00\",\"2022-04-04T00:00:00\",\"2022-04-05T00:00:00\",\"2022-04-06T00:00:00\",\"2022-04-07T00:00:00\",\"2022-04-08T00:00:00\",\"2022-04-11T00:00:00\",\"2022-04-12T00:00:00\",\"2022-04-13T00:00:00\",\"2022-04-14T00:00:00\",\"2022-04-18T00:00:00\",\"2022-04-19T00:00:00\",\"2022-04-20T00:00:00\",\"2022-04-22T00:00:00\",\"2022-04-25T00:00:00\",\"2022-04-26T00:00:00\",\"2022-04-27T00:00:00\",\"2022-04-28T00:00:00\",\"2022-04-29T00:00:00\",\"2022-05-02T00:00:00\",\"2022-05-03T00:00:00\",\"2022-05-04T00:00:00\",\"2022-05-05T00:00:00\",\"2022-05-06T00:00:00\",\"2022-05-09T00:00:00\",\"2022-05-10T00:00:00\",\"2022-05-11T00:00:00\",\"2022-05-12T00:00:00\",\"2022-05-13T00:00:00\",\"2022-05-16T00:00:00\",\"2022-05-17T00:00:00\",\"2022-05-18T00:00:00\",\"2022-05-19T00:00:00\",\"2022-05-20T00:00:00\",\"2022-05-23T00:00:00\",\"2022-05-24T00:00:00\",\"2022-05-25T00:00:00\",\"2022-05-26T00:00:00\",\"2022-05-27T00:00:00\",\"2022-05-30T00:00:00\",\"2022-05-31T00:00:00\",\"2022-06-01T00:00:00\",\"2022-06-02T00:00:00\",\"2022-06-03T00:00:00\",\"2022-06-06T00:00:00\",\"2022-06-07T00:00:00\",\"2022-06-08T00:00:00\",\"2022-06-09T00:00:00\",\"2022-06-10T00:00:00\",\"2022-06-13T00:00:00\",\"2022-06-14T00:00:00\",\"2022-06-15T00:00:00\",\"2022-06-17T00:00:00\",\"2022-06-20T00:00:00\",\"2022-06-21T00:00:00\",\"2022-06-22T00:00:00\",\"2022-06-23T00:00:00\",\"2022-06-24T00:00:00\",\"2022-06-27T00:00:00\",\"2022-06-28T00:00:00\",\"2022-06-29T00:00:00\",\"2022-06-30T00:00:00\",\"2022-07-01T00:00:00\",\"2022-07-04T00:00:00\"],\"xaxis\":\"x\",\"y\":[13.600000381469727,13.239999771118164,12.989999771118164,12.930000305175781,12.850000381469727,12.550000190734863,12.6899995803833,12.949999809265137,12.84000015258789,12.729999542236328,12.600000381469727,12.539999961853027,12.8100004196167,13.539999961853027,13.0600004196167,12.710000038146973,12.470000267028809,12.300000190734863,12.170000076293945,12.170000076293945,12.609999656677246,12.359999656677246,12.199999809265137,12.779999732971191,12.899999618530273,13.010000228881836,13.029999732971191,13.359999656677246,13.449999809265137,13.359999656677246,13.6899995803833,13.40999984741211,13.25,13.609999656677246,13.3100004196167,13.390000343322754,14.119999885559082,14.489999771118164,13.800000190734863,13.59000015258789,13.170000076293945,13.140000343322754,13.229999542236328,13.09000015258789,12.109999656677246,12.649999618530273,13.210000038146973,13.210000038146973,13.0600004196167,13.0600004196167,13.34000015258789,13.5,13.260000228881836,12.949999809265137,13.130000114440918,13.369999885559082,13.960000038146973,13.90999984741211,13.699999809265137,14.300000190734863,14.270000457763672,14.289999961853027,14.539999961853027,14.350000381469727,14.1899995803833,13.399999618530273,12.8100004196167,11.550000190734863,11.199999809265137,10.869999885559082,11.029999732971191,11.569999694824219,10.9399995803833,10.40999984741211,10.90999984741211,10.800000190734863,11.069999694824219,11.100000381469727,11.40999984741211,11.470000267028809,11.0600004196167,10.960000038146973,10.970000267028809,11.1899995803833,10.699999809265137,10.300000190734863,10.020000457763672,9.920000076293945,9.819999694824219,9.789999961853027,9.920000076293945,9.880000114440918,9.920000076293945,9.869999885559082,10.050000190734863,9.859999656677246,9.970000267028809,9.979999542236328,9.84000015258789,9.930000305175781,10.020000457763672,10.020000457763672,10.039999961853027,10.149999618530273,10.579999923706055,10.729999542236328,11.119999885559082,10.609999656677246,10.680000305175781,10.399999618530273,10.449999809265137,10.149999618530273,10.170000076293945,10.3100004196167,9.899999618530273,10.0,9.720000267028809,9.6899995803833,9.6899995803833,9.710000038146973,9.930000305175781,9.850000381469727,9.760000228881836,9.800000190734863,9.800000190734863,9.6899995803833],\"yaxis\":\"y\",\"type\":\"scatter\"},{\"hovertemplate\":\"variable=RAPT4_close<br>date=%{x}<br>value=%{y}<extra></extra>\",\"legendgroup\":\"RAPT4_close\",\"line\":{\"color\":\"#EF553B\",\"dash\":\"solid\"},\"marker\":{\"symbol\":\"circle\"},\"mode\":\"lines\",\"name\":\"RAPT4_close\",\"orientation\":\"v\",\"showlegend\":true,\"x\":[\"2022-01-03T00:00:00\",\"2022-01-04T00:00:00\",\"2022-01-05T00:00:00\",\"2022-01-06T00:00:00\",\"2022-01-07T00:00:00\",\"2022-01-10T00:00:00\",\"2022-01-11T00:00:00\",\"2022-01-12T00:00:00\",\"2022-01-13T00:00:00\",\"2022-01-14T00:00:00\",\"2022-01-17T00:00:00\",\"2022-01-18T00:00:00\",\"2022-01-19T00:00:00\",\"2022-01-20T00:00:00\",\"2022-01-21T00:00:00\",\"2022-01-24T00:00:00\",\"2022-01-25T00:00:00\",\"2022-01-26T00:00:00\",\"2022-01-27T00:00:00\",\"2022-01-28T00:00:00\",\"2022-01-31T00:00:00\",\"2022-02-01T00:00:00\",\"2022-02-02T00:00:00\",\"2022-02-03T00:00:00\",\"2022-02-04T00:00:00\",\"2022-02-07T00:00:00\",\"2022-02-08T00:00:00\",\"2022-02-09T00:00:00\",\"2022-02-10T00:00:00\",\"2022-02-11T00:00:00\",\"2022-02-14T00:00:00\",\"2022-02-15T00:00:00\",\"2022-02-16T00:00:00\",\"2022-02-17T00:00:00\",\"2022-02-18T00:00:00\",\"2022-02-21T00:00:00\",\"2022-02-22T00:00:00\",\"2022-02-23T00:00:00\",\"2022-02-24T00:00:00\",\"2022-02-25T00:00:00\",\"2022-03-02T00:00:00\",\"2022-03-03T00:00:00\",\"2022-03-04T00:00:00\",\"2022-03-07T00:00:00\",\"2022-03-08T00:00:00\",\"2022-03-09T00:00:00\",\"2022-03-10T00:00:00\",\"2022-03-11T00:00:00\",\"2022-03-14T00:00:00\",\"2022-03-15T00:00:00\",\"2022-03-16T00:00:00\",\"2022-03-17T00:00:00\",\"2022-03-18T00:00:00\",\"2022-03-21T00:00:00\",\"2022-03-22T00:00:00\",\"2022-03-23T00:00:00\",\"2022-03-24T00:00:00\",\"2022-03-25T00:00:00\",\"2022-03-28T00:00:00\",\"2022-03-29T00:00:00\",\"2022-03-30T00:00:00\",\"2022-03-31T00:00:00\",\"2022-04-01T00:00:00\",\"2022-04-04T00:00:00\",\"2022-04-05T00:00:00\",\"2022-04-06T00:00:00\",\"2022-04-07T00:00:00\",\"2022-04-08T00:00:00\",\"2022-04-11T00:00:00\",\"2022-04-12T00:00:00\",\"2022-04-13T00:00:00\",\"2022-04-14T00:00:00\",\"2022-04-18T00:00:00\",\"2022-04-19T00:00:00\",\"2022-04-20T00:00:00\",\"2022-04-22T00:00:00\",\"2022-04-25T00:00:00\",\"2022-04-26T00:00:00\",\"2022-04-27T00:00:00\",\"2022-04-28T00:00:00\",\"2022-04-29T00:00:00\",\"2022-05-02T00:00:00\",\"2022-05-03T00:00:00\",\"2022-05-04T00:00:00\",\"2022-05-05T00:00:00\",\"2022-05-06T00:00:00\",\"2022-05-09T00:00:00\",\"2022-05-10T00:00:00\",\"2022-05-11T00:00:00\",\"2022-05-12T00:00:00\",\"2022-05-13T00:00:00\",\"2022-05-16T00:00:00\",\"2022-05-17T00:00:00\",\"2022-05-18T00:00:00\",\"2022-05-19T00:00:00\",\"2022-05-20T00:00:00\",\"2022-05-23T00:00:00\",\"2022-05-24T00:00:00\",\"2022-05-25T00:00:00\",\"2022-05-26T00:00:00\",\"2022-05-27T00:00:00\",\"2022-05-30T00:00:00\",\"2022-05-31T00:00:00\",\"2022-06-01T00:00:00\",\"2022-06-02T00:00:00\",\"2022-06-03T00:00:00\",\"2022-06-06T00:00:00\",\"2022-06-07T00:00:00\",\"2022-06-08T00:00:00\",\"2022-06-09T00:00:00\",\"2022-06-10T00:00:00\",\"2022-06-13T00:00:00\",\"2022-06-14T00:00:00\",\"2022-06-15T00:00:00\",\"2022-06-17T00:00:00\",\"2022-06-20T00:00:00\",\"2022-06-21T00:00:00\",\"2022-06-22T00:00:00\",\"2022-06-23T00:00:00\",\"2022-06-24T00:00:00\",\"2022-06-27T00:00:00\",\"2022-06-28T00:00:00\",\"2022-06-29T00:00:00\",\"2022-06-30T00:00:00\",\"2022-07-01T00:00:00\",\"2022-07-04T00:00:00\"],\"xaxis\":\"x\",\"y\":[10.770000457763672,10.640000343322754,10.260000228881836,10.399999618530273,10.989999771118164,10.699999809265137,10.609999656677246,10.989999771118164,10.819999694824219,10.979999542236328,10.819999694824219,10.800000190734863,11.020000457763672,11.420000076293945,11.350000381469727,11.170000076293945,11.5,11.989999771118164,12.039999961853027,11.899999618530273,12.039999961853027,12.020000457763672,11.789999961853027,11.819999694824219,11.619999885559082,11.59000015258789,11.380000114440918,11.350000381469727,11.34000015258789,11.109999656677246,11.239999771118164,11.5,11.460000038146973,11.069999694824219,10.979999542236328,10.619999885559082,10.65999984741211,10.760000228881836,10.739999771118164,10.609999656677246,10.449999809265137,10.350000381469727,10.079999923706055,9.510000228881836,9.59000015258789,9.609999656677246,9.869999885559082,9.430000305175781,9.239999771118164,9.390000343322754,9.8100004196167,9.979999542236328,10.180000305175781,10.210000038146973,10.449999809265137,10.529999732971191,10.949999809265137,10.819999694824219,10.84000015258789,11.15999984741211,11.050000190734863,10.680000305175781,10.720000267028809,10.890000343322754,10.760000228881836,10.460000038146973,10.369999885559082,10.3100004196167,10.319999694824219,10.119999885559082,10.079999923706055,10.479999542236328,10.529999732971191,10.800000190734863,10.890000343322754,10.539999961853027,10.600000381469727,10.180000305175781,10.649999618530273,11.010000228881836,10.670000076293945,10.420000076293945,10.399999618530273,10.5,10.399999618530273,10.170000076293945,9.9399995803833,9.920000076293945,10.170000076293945,10.460000038146973,10.319999694824219,10.470000267028809,10.619999885559082,10.34000015258789,10.329999923706055,10.25,10.300000190734863,10.25,10.270000457763672,10.229999542236328,10.229999542236328,10.260000228881836,10.229999542236328,10.300000190734863,10.270000457763672,10.220000267028809,9.970000267028809,9.770000457763672,9.789999961853027,9.979999542236328,9.770000457763672,9.359999656677246,9.279999732971191,9.899999618530273,9.329999923706055,9.59000015258789,9.569999694824219,9.619999885559082,9.75,9.75,9.8100004196167,9.6899995803833,9.890000343322754,9.380000114440918,9.40999984741211,9.449999809265137],\"yaxis\":\"y\",\"type\":\"scatter\"},{\"hovertemplate\":\"variable=ITUB4_close<br>date=%{x}<br>value=%{y}<extra></extra>\",\"legendgroup\":\"ITUB4_close\",\"line\":{\"color\":\"#00cc96\",\"dash\":\"solid\"},\"marker\":{\"symbol\":\"circle\"},\"mode\":\"lines\",\"name\":\"ITUB4_close\",\"orientation\":\"v\",\"showlegend\":true,\"x\":[\"2022-01-03T00:00:00\",\"2022-01-04T00:00:00\",\"2022-01-05T00:00:00\",\"2022-01-06T00:00:00\",\"2022-01-07T00:00:00\",\"2022-01-10T00:00:00\",\"2022-01-11T00:00:00\",\"2022-01-12T00:00:00\",\"2022-01-13T00:00:00\",\"2022-01-14T00:00:00\",\"2022-01-17T00:00:00\",\"2022-01-18T00:00:00\",\"2022-01-19T00:00:00\",\"2022-01-20T00:00:00\",\"2022-01-21T00:00:00\",\"2022-01-24T00:00:00\",\"2022-01-25T00:00:00\",\"2022-01-26T00:00:00\",\"2022-01-27T00:00:00\",\"2022-01-28T00:00:00\",\"2022-01-31T00:00:00\",\"2022-02-01T00:00:00\",\"2022-02-02T00:00:00\",\"2022-02-03T00:00:00\",\"2022-02-04T00:00:00\",\"2022-02-07T00:00:00\",\"2022-02-08T00:00:00\",\"2022-02-09T00:00:00\",\"2022-02-10T00:00:00\",\"2022-02-11T00:00:00\",\"2022-02-14T00:00:00\",\"2022-02-15T00:00:00\",\"2022-02-16T00:00:00\",\"2022-02-17T00:00:00\",\"2022-02-18T00:00:00\",\"2022-02-21T00:00:00\",\"2022-02-22T00:00:00\",\"2022-02-23T00:00:00\",\"2022-02-24T00:00:00\",\"2022-02-25T00:00:00\",\"2022-03-02T00:00:00\",\"2022-03-03T00:00:00\",\"2022-03-04T00:00:00\",\"2022-03-07T00:00:00\",\"2022-03-08T00:00:00\",\"2022-03-09T00:00:00\",\"2022-03-10T00:00:00\",\"2022-03-11T00:00:00\",\"2022-03-14T00:00:00\",\"2022-03-15T00:00:00\",\"2022-03-16T00:00:00\",\"2022-03-17T00:00:00\",\"2022-03-18T00:00:00\",\"2022-03-21T00:00:00\",\"2022-03-22T00:00:00\",\"2022-03-23T00:00:00\",\"2022-03-24T00:00:00\",\"2022-03-25T00:00:00\",\"2022-03-28T00:00:00\",\"2022-03-29T00:00:00\",\"2022-03-30T00:00:00\",\"2022-03-31T00:00:00\",\"2022-04-01T00:00:00\",\"2022-04-04T00:00:00\",\"2022-04-05T00:00:00\",\"2022-04-06T00:00:00\",\"2022-04-07T00:00:00\",\"2022-04-08T00:00:00\",\"2022-04-11T00:00:00\",\"2022-04-12T00:00:00\",\"2022-04-13T00:00:00\",\"2022-04-14T00:00:00\",\"2022-04-18T00:00:00\",\"2022-04-19T00:00:00\",\"2022-04-20T00:00:00\",\"2022-04-22T00:00:00\",\"2022-04-25T00:00:00\",\"2022-04-26T00:00:00\",\"2022-04-27T00:00:00\",\"2022-04-28T00:00:00\",\"2022-04-29T00:00:00\",\"2022-05-02T00:00:00\",\"2022-05-03T00:00:00\",\"2022-05-04T00:00:00\",\"2022-05-05T00:00:00\",\"2022-05-06T00:00:00\",\"2022-05-09T00:00:00\",\"2022-05-10T00:00:00\",\"2022-05-11T00:00:00\",\"2022-05-12T00:00:00\",\"2022-05-13T00:00:00\",\"2022-05-16T00:00:00\",\"2022-05-17T00:00:00\",\"2022-05-18T00:00:00\",\"2022-05-19T00:00:00\",\"2022-05-20T00:00:00\",\"2022-05-23T00:00:00\",\"2022-05-24T00:00:00\",\"2022-05-25T00:00:00\",\"2022-05-26T00:00:00\",\"2022-05-27T00:00:00\",\"2022-05-30T00:00:00\",\"2022-05-31T00:00:00\",\"2022-06-01T00:00:00\",\"2022-06-02T00:00:00\",\"2022-06-03T00:00:00\",\"2022-06-06T00:00:00\",\"2022-06-07T00:00:00\",\"2022-06-08T00:00:00\",\"2022-06-09T00:00:00\",\"2022-06-10T00:00:00\",\"2022-06-13T00:00:00\",\"2022-06-14T00:00:00\",\"2022-06-15T00:00:00\",\"2022-06-17T00:00:00\",\"2022-06-20T00:00:00\",\"2022-06-21T00:00:00\",\"2022-06-22T00:00:00\",\"2022-06-23T00:00:00\",\"2022-06-24T00:00:00\",\"2022-06-27T00:00:00\",\"2022-06-28T00:00:00\",\"2022-06-29T00:00:00\",\"2022-06-30T00:00:00\",\"2022-07-01T00:00:00\",\"2022-07-04T00:00:00\"],\"xaxis\":\"x\",\"y\":[21.510000228881836,22.1200008392334,21.700000762939453,22.139999389648438,22.6299991607666,22.84000015258789,23.350000381469727,23.25,23.68000030517578,23.5,23.5,23.639999389648438,23.479999542236328,23.290000915527344,23.299999237060547,23.270000457763672,24.110000610351562,24.3700008392334,24.489999771118164,24.790000915527344,25.329999923706055,25.489999771118164,25.09000015258789,25.3799991607666,25.459999084472656,25.31999969482422,25.600000381469727,24.579999923706055,25.049999237060547,26.530000686645508,26.469999313354492,26.719999313354492,26.440000534057617,26.06999969482422,26.170000076293945,25.530000686645508,25.75,25.389999389648438,24.959999084472656,25.469999313354492,25.030000686645508,25.049999237060547,24.670000076293945,24.139999389648438,23.90999984741211,25.100000381469727,25.1200008392334,24.84000015258789,25.190000534057617,25.100000381469727,25.59000015258789,26.149999618530273,26.34000015258789,26.989999771118164,27.360000610351562,27.239999771118164,27.420000076293945,27.469999313354492,27.450000762939453,27.770000457763672,27.829999923706055,27.479999542236328,27.540000915527344,27.290000915527344,26.739999771118164,26.729999542236328,26.709999084472656,26.65999984741211,26.559999465942383,26.09000015258789,26.15999984741211,26.329999923706055,26.479999542236328,26.010000228881836,26.18000030517578,25.670000076293945,25.56999969482422,24.700000762939453,24.5,24.299999237060547,23.8700008392334,23.75,23.8700008392334,23.84000015258789,23.290000915527344,23.790000915527344,23.450000762939453,23.329999923706055,24.110000610351562,24.489999771118164,24.780000686645508,25.040000915527344,25.260000228881836,24.899999618530273,24.81999969482422,25.1299991607666,25.780000686645508,26.170000076293945,25.700000762939453,26.020000457763672,26.15999984741211,25.920000076293945,26.15999984741211,25.780000686645508,25.889999389648438,25.649999618530273,25.559999465942383,25.559999465942383,25.06999969482422,24.639999389648438,24.100000381469727,23.809999465942383,23.649999618530273,23.75,23.450000762939453,24.469999313354492,24.209999084472656,24.030000686645508,23.479999542236328,23.440000534057617,23.579999923706055,23.31999969482422,23.079999923706055,22.670000076293945,22.850000381469727,22.670000076293945],\"yaxis\":\"y\",\"type\":\"scatter\"}],                        {\"template\":{\"data\":{\"histogram2dcontour\":[{\"type\":\"histogram2dcontour\",\"colorbar\":{\"outlinewidth\":0,\"ticks\":\"\"},\"colorscale\":[[0.0,\"#0d0887\"],[0.1111111111111111,\"#46039f\"],[0.2222222222222222,\"#7201a8\"],[0.3333333333333333,\"#9c179e\"],[0.4444444444444444,\"#bd3786\"],[0.5555555555555556,\"#d8576b\"],[0.6666666666666666,\"#ed7953\"],[0.7777777777777778,\"#fb9f3a\"],[0.8888888888888888,\"#fdca26\"],[1.0,\"#f0f921\"]]}],\"choropleth\":[{\"type\":\"choropleth\",\"colorbar\":{\"outlinewidth\":0,\"ticks\":\"\"}}],\"histogram2d\":[{\"type\":\"histogram2d\",\"colorbar\":{\"outlinewidth\":0,\"ticks\":\"\"},\"colorscale\":[[0.0,\"#0d0887\"],[0.1111111111111111,\"#46039f\"],[0.2222222222222222,\"#7201a8\"],[0.3333333333333333,\"#9c179e\"],[0.4444444444444444,\"#bd3786\"],[0.5555555555555556,\"#d8576b\"],[0.6666666666666666,\"#ed7953\"],[0.7777777777777778,\"#fb9f3a\"],[0.8888888888888888,\"#fdca26\"],[1.0,\"#f0f921\"]]}],\"heatmap\":[{\"type\":\"heatmap\",\"colorbar\":{\"outlinewidth\":0,\"ticks\":\"\"},\"colorscale\":[[0.0,\"#0d0887\"],[0.1111111111111111,\"#46039f\"],[0.2222222222222222,\"#7201a8\"],[0.3333333333333333,\"#9c179e\"],[0.4444444444444444,\"#bd3786\"],[0.5555555555555556,\"#d8576b\"],[0.6666666666666666,\"#ed7953\"],[0.7777777777777778,\"#fb9f3a\"],[0.8888888888888888,\"#fdca26\"],[1.0,\"#f0f921\"]]}],\"heatmapgl\":[{\"type\":\"heatmapgl\",\"colorbar\":{\"outlinewidth\":0,\"ticks\":\"\"},\"colorscale\":[[0.0,\"#0d0887\"],[0.1111111111111111,\"#46039f\"],[0.2222222222222222,\"#7201a8\"],[0.3333333333333333,\"#9c179e\"],[0.4444444444444444,\"#bd3786\"],[0.5555555555555556,\"#d8576b\"],[0.6666666666666666,\"#ed7953\"],[0.7777777777777778,\"#fb9f3a\"],[0.8888888888888888,\"#fdca26\"],[1.0,\"#f0f921\"]]}],\"contourcarpet\":[{\"type\":\"contourcarpet\",\"colorbar\":{\"outlinewidth\":0,\"ticks\":\"\"}}],\"contour\":[{\"type\":\"contour\",\"colorbar\":{\"outlinewidth\":0,\"ticks\":\"\"},\"colorscale\":[[0.0,\"#0d0887\"],[0.1111111111111111,\"#46039f\"],[0.2222222222222222,\"#7201a8\"],[0.3333333333333333,\"#9c179e\"],[0.4444444444444444,\"#bd3786\"],[0.5555555555555556,\"#d8576b\"],[0.6666666666666666,\"#ed7953\"],[0.7777777777777778,\"#fb9f3a\"],[0.8888888888888888,\"#fdca26\"],[1.0,\"#f0f921\"]]}],\"surface\":[{\"type\":\"surface\",\"colorbar\":{\"outlinewidth\":0,\"ticks\":\"\"},\"colorscale\":[[0.0,\"#0d0887\"],[0.1111111111111111,\"#46039f\"],[0.2222222222222222,\"#7201a8\"],[0.3333333333333333,\"#9c179e\"],[0.4444444444444444,\"#bd3786\"],[0.5555555555555556,\"#d8576b\"],[0.6666666666666666,\"#ed7953\"],[0.7777777777777778,\"#fb9f3a\"],[0.8888888888888888,\"#fdca26\"],[1.0,\"#f0f921\"]]}],\"mesh3d\":[{\"type\":\"mesh3d\",\"colorbar\":{\"outlinewidth\":0,\"ticks\":\"\"}}],\"scatter\":[{\"fillpattern\":{\"fillmode\":\"overlay\",\"size\":10,\"solidity\":0.2},\"type\":\"scatter\"}],\"parcoords\":[{\"type\":\"parcoords\",\"line\":{\"colorbar\":{\"outlinewidth\":0,\"ticks\":\"\"}}}],\"scatterpolargl\":[{\"type\":\"scatterpolargl\",\"marker\":{\"colorbar\":{\"outlinewidth\":0,\"ticks\":\"\"}}}],\"bar\":[{\"error_x\":{\"color\":\"#2a3f5f\"},\"error_y\":{\"color\":\"#2a3f5f\"},\"marker\":{\"line\":{\"color\":\"#E5ECF6\",\"width\":0.5},\"pattern\":{\"fillmode\":\"overlay\",\"size\":10,\"solidity\":0.2}},\"type\":\"bar\"}],\"scattergeo\":[{\"type\":\"scattergeo\",\"marker\":{\"colorbar\":{\"outlinewidth\":0,\"ticks\":\"\"}}}],\"scatterpolar\":[{\"type\":\"scatterpolar\",\"marker\":{\"colorbar\":{\"outlinewidth\":0,\"ticks\":\"\"}}}],\"histogram\":[{\"marker\":{\"pattern\":{\"fillmode\":\"overlay\",\"size\":10,\"solidity\":0.2}},\"type\":\"histogram\"}],\"scattergl\":[{\"type\":\"scattergl\",\"marker\":{\"colorbar\":{\"outlinewidth\":0,\"ticks\":\"\"}}}],\"scatter3d\":[{\"type\":\"scatter3d\",\"line\":{\"colorbar\":{\"outlinewidth\":0,\"ticks\":\"\"}},\"marker\":{\"colorbar\":{\"outlinewidth\":0,\"ticks\":\"\"}}}],\"scattermapbox\":[{\"type\":\"scattermapbox\",\"marker\":{\"colorbar\":{\"outlinewidth\":0,\"ticks\":\"\"}}}],\"scatterternary\":[{\"type\":\"scatterternary\",\"marker\":{\"colorbar\":{\"outlinewidth\":0,\"ticks\":\"\"}}}],\"scattercarpet\":[{\"type\":\"scattercarpet\",\"marker\":{\"colorbar\":{\"outlinewidth\":0,\"ticks\":\"\"}}}],\"carpet\":[{\"aaxis\":{\"endlinecolor\":\"#2a3f5f\",\"gridcolor\":\"white\",\"linecolor\":\"white\",\"minorgridcolor\":\"white\",\"startlinecolor\":\"#2a3f5f\"},\"baxis\":{\"endlinecolor\":\"#2a3f5f\",\"gridcolor\":\"white\",\"linecolor\":\"white\",\"minorgridcolor\":\"white\",\"startlinecolor\":\"#2a3f5f\"},\"type\":\"carpet\"}],\"table\":[{\"cells\":{\"fill\":{\"color\":\"#EBF0F8\"},\"line\":{\"color\":\"white\"}},\"header\":{\"fill\":{\"color\":\"#C8D4E3\"},\"line\":{\"color\":\"white\"}},\"type\":\"table\"}],\"barpolar\":[{\"marker\":{\"line\":{\"color\":\"#E5ECF6\",\"width\":0.5},\"pattern\":{\"fillmode\":\"overlay\",\"size\":10,\"solidity\":0.2}},\"type\":\"barpolar\"}],\"pie\":[{\"automargin\":true,\"type\":\"pie\"}]},\"layout\":{\"autotypenumbers\":\"strict\",\"colorway\":[\"#636efa\",\"#EF553B\",\"#00cc96\",\"#ab63fa\",\"#FFA15A\",\"#19d3f3\",\"#FF6692\",\"#B6E880\",\"#FF97FF\",\"#FECB52\"],\"font\":{\"color\":\"#2a3f5f\"},\"hovermode\":\"closest\",\"hoverlabel\":{\"align\":\"left\"},\"paper_bgcolor\":\"white\",\"plot_bgcolor\":\"#E5ECF6\",\"polar\":{\"bgcolor\":\"#E5ECF6\",\"angularaxis\":{\"gridcolor\":\"white\",\"linecolor\":\"white\",\"ticks\":\"\"},\"radialaxis\":{\"gridcolor\":\"white\",\"linecolor\":\"white\",\"ticks\":\"\"}},\"ternary\":{\"bgcolor\":\"#E5ECF6\",\"aaxis\":{\"gridcolor\":\"white\",\"linecolor\":\"white\",\"ticks\":\"\"},\"baxis\":{\"gridcolor\":\"white\",\"linecolor\":\"white\",\"ticks\":\"\"},\"caxis\":{\"gridcolor\":\"white\",\"linecolor\":\"white\",\"ticks\":\"\"}},\"coloraxis\":{\"colorbar\":{\"outlinewidth\":0,\"ticks\":\"\"}},\"colorscale\":{\"sequential\":[[0.0,\"#0d0887\"],[0.1111111111111111,\"#46039f\"],[0.2222222222222222,\"#7201a8\"],[0.3333333333333333,\"#9c179e\"],[0.4444444444444444,\"#bd3786\"],[0.5555555555555556,\"#d8576b\"],[0.6666666666666666,\"#ed7953\"],[0.7777777777777778,\"#fb9f3a\"],[0.8888888888888888,\"#fdca26\"],[1.0,\"#f0f921\"]],\"sequentialminus\":[[0.0,\"#0d0887\"],[0.1111111111111111,\"#46039f\"],[0.2222222222222222,\"#7201a8\"],[0.3333333333333333,\"#9c179e\"],[0.4444444444444444,\"#bd3786\"],[0.5555555555555556,\"#d8576b\"],[0.6666666666666666,\"#ed7953\"],[0.7777777777777778,\"#fb9f3a\"],[0.8888888888888888,\"#fdca26\"],[1.0,\"#f0f921\"]],\"diverging\":[[0,\"#8e0152\"],[0.1,\"#c51b7d\"],[0.2,\"#de77ae\"],[0.3,\"#f1b6da\"],[0.4,\"#fde0ef\"],[0.5,\"#f7f7f7\"],[0.6,\"#e6f5d0\"],[0.7,\"#b8e186\"],[0.8,\"#7fbc41\"],[0.9,\"#4d9221\"],[1,\"#276419\"]]},\"xaxis\":{\"gridcolor\":\"white\",\"linecolor\":\"white\",\"ticks\":\"\",\"title\":{\"standoff\":15},\"zerolinecolor\":\"white\",\"automargin\":true,\"zerolinewidth\":2},\"yaxis\":{\"gridcolor\":\"white\",\"linecolor\":\"white\",\"ticks\":\"\",\"title\":{\"standoff\":15},\"zerolinecolor\":\"white\",\"automargin\":true,\"zerolinewidth\":2},\"scene\":{\"xaxis\":{\"backgroundcolor\":\"#E5ECF6\",\"gridcolor\":\"white\",\"linecolor\":\"white\",\"showbackground\":true,\"ticks\":\"\",\"zerolinecolor\":\"white\",\"gridwidth\":2},\"yaxis\":{\"backgroundcolor\":\"#E5ECF6\",\"gridcolor\":\"white\",\"linecolor\":\"white\",\"showbackground\":true,\"ticks\":\"\",\"zerolinecolor\":\"white\",\"gridwidth\":2},\"zaxis\":{\"backgroundcolor\":\"#E5ECF6\",\"gridcolor\":\"white\",\"linecolor\":\"white\",\"showbackground\":true,\"ticks\":\"\",\"zerolinecolor\":\"white\",\"gridwidth\":2}},\"shapedefaults\":{\"line\":{\"color\":\"#2a3f5f\"}},\"annotationdefaults\":{\"arrowcolor\":\"#2a3f5f\",\"arrowhead\":0,\"arrowwidth\":1},\"geo\":{\"bgcolor\":\"white\",\"landcolor\":\"#E5ECF6\",\"subunitcolor\":\"white\",\"showland\":true,\"showlakes\":true,\"lakecolor\":\"white\"},\"title\":{\"x\":0.05},\"mapbox\":{\"style\":\"light\"}}},\"xaxis\":{\"anchor\":\"y\",\"domain\":[0.0,1.0],\"title\":{\"text\":\"date\"}},\"yaxis\":{\"anchor\":\"x\",\"domain\":[0.0,1.0],\"title\":{\"text\":\"value\"}},\"legend\":{\"title\":{\"text\":\"variable\"},\"tracegroupgap\":0},\"margin\":{\"t\":60}},                        {\"responsive\": true}                    ).then(function(){\n",
       "                            \n",
       "var gd = document.getElementById('adec35d4-4dc4-43f2-b71f-90c1cf4fa4e6');\n",
       "var x = new MutationObserver(function (mutations, observer) {{\n",
       "        var display = window.getComputedStyle(gd).display;\n",
       "        if (!display || display === 'none') {{\n",
       "            console.log([gd, 'removed!']);\n",
       "            Plotly.purge(gd);\n",
       "            observer.disconnect();\n",
       "        }}\n",
       "}});\n",
       "\n",
       "// Listen for the removal of the full notebook cells\n",
       "var notebookContainer = gd.closest('#notebook-container');\n",
       "if (notebookContainer) {{\n",
       "    x.observe(notebookContainer, {childList: true});\n",
       "}}\n",
       "\n",
       "// Listen for the clearing of the current output cell\n",
       "var outputEl = gd.closest('.output');\n",
       "if (outputEl) {{\n",
       "    x.observe(outputEl, {childList: true});\n",
       "}}\n",
       "\n",
       "                        })                };                });            </script>        </div>"
      ]
     },
     "metadata": {},
     "output_type": "display_data"
    }
   ],
   "source": [
    "fig = px.line(final_df, x='date', y=[column for column in final_df.columns if \"close\" in column and \"ibov\" not in column])\n",
    "fig.show()"
   ]
  },
  {
   "cell_type": "code",
   "execution_count": 233,
   "id": "650aedce-3a23-4fca-afc4-3a961052c6e4",
   "metadata": {
    "tags": []
   },
   "outputs": [
    {
     "data": {
      "application/vnd.plotly.v1+json": {
       "config": {
        "plotlyServerURL": "https://plot.ly"
       },
       "data": [
        {
         "hovertemplate": "variable=ibov_cum_change<br>date=%{x}<br>value=%{y}<extra></extra>",
         "legendgroup": "ibov_cum_change",
         "line": {
          "color": "#636efa",
          "dash": "solid"
         },
         "marker": {
          "symbol": "circle"
         },
         "mode": "lines",
         "name": "ibov_cum_change",
         "orientation": "v",
         "showlegend": true,
         "type": "scatter",
         "x": [
          "2022-01-03T00:00:00",
          "2022-01-04T00:00:00",
          "2022-01-05T00:00:00",
          "2022-01-06T00:00:00",
          "2022-01-07T00:00:00",
          "2022-01-10T00:00:00",
          "2022-01-11T00:00:00",
          "2022-01-12T00:00:00",
          "2022-01-13T00:00:00",
          "2022-01-14T00:00:00",
          "2022-01-17T00:00:00",
          "2022-01-18T00:00:00",
          "2022-01-19T00:00:00",
          "2022-01-20T00:00:00",
          "2022-01-21T00:00:00",
          "2022-01-24T00:00:00",
          "2022-01-25T00:00:00",
          "2022-01-26T00:00:00",
          "2022-01-27T00:00:00",
          "2022-01-28T00:00:00",
          "2022-01-31T00:00:00",
          "2022-02-01T00:00:00",
          "2022-02-02T00:00:00",
          "2022-02-03T00:00:00",
          "2022-02-04T00:00:00",
          "2022-02-07T00:00:00",
          "2022-02-08T00:00:00",
          "2022-02-09T00:00:00",
          "2022-02-10T00:00:00",
          "2022-02-11T00:00:00",
          "2022-02-14T00:00:00",
          "2022-02-15T00:00:00",
          "2022-02-16T00:00:00",
          "2022-02-17T00:00:00",
          "2022-02-18T00:00:00",
          "2022-02-21T00:00:00",
          "2022-02-22T00:00:00",
          "2022-02-23T00:00:00",
          "2022-02-24T00:00:00",
          "2022-02-25T00:00:00",
          "2022-03-02T00:00:00",
          "2022-03-03T00:00:00",
          "2022-03-04T00:00:00",
          "2022-03-07T00:00:00",
          "2022-03-08T00:00:00",
          "2022-03-09T00:00:00",
          "2022-03-10T00:00:00",
          "2022-03-11T00:00:00",
          "2022-03-14T00:00:00",
          "2022-03-15T00:00:00",
          "2022-03-16T00:00:00",
          "2022-03-17T00:00:00",
          "2022-03-18T00:00:00",
          "2022-03-21T00:00:00",
          "2022-03-22T00:00:00",
          "2022-03-23T00:00:00",
          "2022-03-24T00:00:00",
          "2022-03-25T00:00:00",
          "2022-03-28T00:00:00",
          "2022-03-29T00:00:00",
          "2022-03-30T00:00:00",
          "2022-03-31T00:00:00",
          "2022-04-01T00:00:00",
          "2022-04-04T00:00:00",
          "2022-04-05T00:00:00",
          "2022-04-06T00:00:00",
          "2022-04-07T00:00:00",
          "2022-04-08T00:00:00",
          "2022-04-11T00:00:00",
          "2022-04-12T00:00:00",
          "2022-04-13T00:00:00",
          "2022-04-14T00:00:00",
          "2022-04-18T00:00:00",
          "2022-04-19T00:00:00",
          "2022-04-20T00:00:00",
          "2022-04-22T00:00:00",
          "2022-04-25T00:00:00",
          "2022-04-26T00:00:00",
          "2022-04-27T00:00:00",
          "2022-04-28T00:00:00",
          "2022-04-29T00:00:00",
          "2022-05-02T00:00:00",
          "2022-05-03T00:00:00",
          "2022-05-04T00:00:00",
          "2022-05-05T00:00:00",
          "2022-05-06T00:00:00",
          "2022-05-09T00:00:00",
          "2022-05-10T00:00:00",
          "2022-05-11T00:00:00",
          "2022-05-12T00:00:00",
          "2022-05-13T00:00:00",
          "2022-05-16T00:00:00",
          "2022-05-17T00:00:00",
          "2022-05-18T00:00:00",
          "2022-05-19T00:00:00",
          "2022-05-20T00:00:00",
          "2022-05-23T00:00:00",
          "2022-05-24T00:00:00",
          "2022-05-25T00:00:00",
          "2022-05-26T00:00:00",
          "2022-05-27T00:00:00",
          "2022-05-30T00:00:00",
          "2022-05-31T00:00:00",
          "2022-06-01T00:00:00",
          "2022-06-02T00:00:00",
          "2022-06-03T00:00:00",
          "2022-06-06T00:00:00",
          "2022-06-07T00:00:00",
          "2022-06-08T00:00:00",
          "2022-06-09T00:00:00",
          "2022-06-10T00:00:00",
          "2022-06-13T00:00:00",
          "2022-06-14T00:00:00",
          "2022-06-15T00:00:00",
          "2022-06-17T00:00:00",
          "2022-06-20T00:00:00",
          "2022-06-21T00:00:00",
          "2022-06-22T00:00:00",
          "2022-06-23T00:00:00",
          "2022-06-24T00:00:00",
          "2022-06-27T00:00:00",
          "2022-06-28T00:00:00",
          "2022-06-29T00:00:00",
          "2022-06-30T00:00:00",
          "2022-07-01T00:00:00",
          "2022-07-04T00:00:00"
         ],
         "xaxis": "x",
         "y": [
          0,
          -0.39260214391562903,
          -2.8059506168087602,
          -2.2718962298647063,
          -1.157598968457112,
          -1.90238832970882,
          -0.13760320240180135,
          1.697426916341102,
          1.5473143319027733,
          2.8925540309077964,
          2.6654606339369913,
          2.501876407305479,
          3.9366063008795056,
          4.984507611477839,
          4.830545986412886,
          3.685456399992302,
          5.699466907873212,
          7.362252458574701,
          8.076249494813418,
          7.270837743692384,
          8.146494486249303,
          8.876849945151172,
          7.928061430688401,
          7.480610457843382,
          8.0088912838475,
          7.769288504840168,
          7.998306422124285,
          8.216739477685186,
          9.080849098362233,
          9.28581051172995,
          9.5119416485441,
          10.332749562171628,
          10.834087103789381,
          9.24347106483709,
          8.512153345778565,
          7.508516002386405,
          8.631473605203903,
          7.78083562672004,
          7.380535401551163,
          8.87203864436789,
          10.827351282692788,
          10.819653201439541,
          10.153769173033622,
          7.38149766170782,
          7.0062162006119975,
          9.601431843113104,
          9.373376185985643,
          7.496968880506533,
          5.779334500875657,
          4.846904409076037,
          6.918650526356306,
          8.808529474028598,
          10.959180924154655,
          11.771328496372279,
          12.84617309135698,
          13.02419122033833,
          14.559958430361233,
          14.586901714747599,
          14.256846481014607,
          15.484690440907604,
          15.721406439444968,
          15.470256538557765,
          16.98196724466427,
          16.70291179923404,
          14.398298724043032,
          13.766093801120071,
          14.376166740439945,
          13.85654625584573,
          12.53921210138373,
          11.763630415119032,
          12.374665614595562,
          11.79730952060199,
          11.320990743057292,
          10.714766844364043,
          10.028675352668348,
          6.885933681030004,
          6.5077654394642135,
          4.129058332210697,
          5.2221858701718595,
          5.770674159465753,
          3.80477665941764,
          2.6144608456342255,
          2.5076499682454148,
          4.255114412732627,
          1.3298435364985277,
          1.1672215700236717,
          -0.6466388252728007,
          -0.7813552472046342,
          0.4570735744115779,
          1.6993514366544138,
          2.8887049902811723,
          4.148303535343816,
          4.683320182444525,
          2.237254864225092,
          2.9666480629703047,
          4.393679875291084,
          6.181559246357845,
          6.407690383171994,
          6.406728123015339,
          7.667288928234638,
          7.717326456380747,
          6.84166971382383,
          7.148630703797078,
          7.157291045206982,
          8.151305787032582,
          6.909027924789746,
          6.027597621292893,
          5.915975443120802,
          4.278208656492369,
          3.0522892169126847,
          1.5001635842266314,
          -1.2740324474124824,
          -1.7888416312234177,
          -1.072920074671388,
          -3.9423798618194414,
          -3.915436577433075,
          -4.077096283751275,
          -4.233944689286195,
          -5.62152383518408,
          -5.051865822443756,
          -3.038817574719501,
          -3.205288581820981,
          -4.1377186736206,
          -5.17695964280903,
          -4.780508458266777,
          -4.647844356825312
         ],
         "yaxis": "y"
        },
        {
         "hovertemplate": "variable=FRAS3_cum_change<br>date=%{x}<br>value=%{y}<extra></extra>",
         "legendgroup": "FRAS3_cum_change",
         "line": {
          "color": "#EF553B",
          "dash": "solid"
         },
         "marker": {
          "symbol": "circle"
         },
         "mode": "lines",
         "name": "FRAS3_cum_change",
         "orientation": "v",
         "showlegend": true,
         "type": "scatter",
         "x": [
          "2022-01-03T00:00:00",
          "2022-01-04T00:00:00",
          "2022-01-05T00:00:00",
          "2022-01-06T00:00:00",
          "2022-01-07T00:00:00",
          "2022-01-10T00:00:00",
          "2022-01-11T00:00:00",
          "2022-01-12T00:00:00",
          "2022-01-13T00:00:00",
          "2022-01-14T00:00:00",
          "2022-01-17T00:00:00",
          "2022-01-18T00:00:00",
          "2022-01-19T00:00:00",
          "2022-01-20T00:00:00",
          "2022-01-21T00:00:00",
          "2022-01-24T00:00:00",
          "2022-01-25T00:00:00",
          "2022-01-26T00:00:00",
          "2022-01-27T00:00:00",
          "2022-01-28T00:00:00",
          "2022-01-31T00:00:00",
          "2022-02-01T00:00:00",
          "2022-02-02T00:00:00",
          "2022-02-03T00:00:00",
          "2022-02-04T00:00:00",
          "2022-02-07T00:00:00",
          "2022-02-08T00:00:00",
          "2022-02-09T00:00:00",
          "2022-02-10T00:00:00",
          "2022-02-11T00:00:00",
          "2022-02-14T00:00:00",
          "2022-02-15T00:00:00",
          "2022-02-16T00:00:00",
          "2022-02-17T00:00:00",
          "2022-02-18T00:00:00",
          "2022-02-21T00:00:00",
          "2022-02-22T00:00:00",
          "2022-02-23T00:00:00",
          "2022-02-24T00:00:00",
          "2022-02-25T00:00:00",
          "2022-03-02T00:00:00",
          "2022-03-03T00:00:00",
          "2022-03-04T00:00:00",
          "2022-03-07T00:00:00",
          "2022-03-08T00:00:00",
          "2022-03-09T00:00:00",
          "2022-03-10T00:00:00",
          "2022-03-11T00:00:00",
          "2022-03-14T00:00:00",
          "2022-03-15T00:00:00",
          "2022-03-16T00:00:00",
          "2022-03-17T00:00:00",
          "2022-03-18T00:00:00",
          "2022-03-21T00:00:00",
          "2022-03-22T00:00:00",
          "2022-03-23T00:00:00",
          "2022-03-24T00:00:00",
          "2022-03-25T00:00:00",
          "2022-03-28T00:00:00",
          "2022-03-29T00:00:00",
          "2022-03-30T00:00:00",
          "2022-03-31T00:00:00",
          "2022-04-01T00:00:00",
          "2022-04-04T00:00:00",
          "2022-04-05T00:00:00",
          "2022-04-06T00:00:00",
          "2022-04-07T00:00:00",
          "2022-04-08T00:00:00",
          "2022-04-11T00:00:00",
          "2022-04-12T00:00:00",
          "2022-04-13T00:00:00",
          "2022-04-14T00:00:00",
          "2022-04-18T00:00:00",
          "2022-04-19T00:00:00",
          "2022-04-20T00:00:00",
          "2022-04-22T00:00:00",
          "2022-04-25T00:00:00",
          "2022-04-26T00:00:00",
          "2022-04-27T00:00:00",
          "2022-04-28T00:00:00",
          "2022-04-29T00:00:00",
          "2022-05-02T00:00:00",
          "2022-05-03T00:00:00",
          "2022-05-04T00:00:00",
          "2022-05-05T00:00:00",
          "2022-05-06T00:00:00",
          "2022-05-09T00:00:00",
          "2022-05-10T00:00:00",
          "2022-05-11T00:00:00",
          "2022-05-12T00:00:00",
          "2022-05-13T00:00:00",
          "2022-05-16T00:00:00",
          "2022-05-17T00:00:00",
          "2022-05-18T00:00:00",
          "2022-05-19T00:00:00",
          "2022-05-20T00:00:00",
          "2022-05-23T00:00:00",
          "2022-05-24T00:00:00",
          "2022-05-25T00:00:00",
          "2022-05-26T00:00:00",
          "2022-05-27T00:00:00",
          "2022-05-30T00:00:00",
          "2022-05-31T00:00:00",
          "2022-06-01T00:00:00",
          "2022-06-02T00:00:00",
          "2022-06-03T00:00:00",
          "2022-06-06T00:00:00",
          "2022-06-07T00:00:00",
          "2022-06-08T00:00:00",
          "2022-06-09T00:00:00",
          "2022-06-10T00:00:00",
          "2022-06-13T00:00:00",
          "2022-06-14T00:00:00",
          "2022-06-15T00:00:00",
          "2022-06-17T00:00:00",
          "2022-06-20T00:00:00",
          "2022-06-21T00:00:00",
          "2022-06-22T00:00:00",
          "2022-06-23T00:00:00",
          "2022-06-24T00:00:00",
          "2022-06-27T00:00:00",
          "2022-06-28T00:00:00",
          "2022-06-29T00:00:00",
          "2022-06-30T00:00:00",
          "2022-07-01T00:00:00",
          "2022-07-04T00:00:00"
         ],
         "xaxis": "x",
         "y": [
          0,
          -2.6470632371604235,
          -4.485298479716961,
          -4.926471011036396,
          -5.514705727669611,
          -7.720589421199646,
          -6.691182173246996,
          -4.779415838033568,
          -5.588236820326502,
          -6.397064814930388,
          -7.352940970226149,
          -7.794120513856536,
          -5.808823085986219,
          -0.44117954363038836,
          -3.970587843429682,
          -6.5441199879332155,
          -8.308824137832863,
          -9.558824663756184,
          -10.514707831362898,
          -10.514707831362898,
          -7.279416889880212,
          -9.11765213243675,
          -10.294121565703179,
          -6.02941636395689,
          -5.147064289007067,
          -4.33823629440318,
          -4.191181121400353,
          -1.7647111622106002,
          -1.1029453529204942,
          -1.7647111622106002,
          0.6617587969791525,
          -1.3970627112371021,
          -2.5735321445035333,
          0.07352408034593694,
          -2.132352600873145,
          -1.5441178842399292,
          3.8235256581159014,
          6.544112975622262,
          1.470586791583039,
          -0.07353109265689028,
          -3.161766861136749,
          -3.3823531267964664,
          -2.720594329817314,
          -3.7500015777699645,
          -10.955887374993285,
          -6.985299531563603,
          -2.867649502820141,
          -2.867649502820141,
          -3.970587843429682,
          -3.970587843429682,
          -1.9117663352134273,
          -0.7352969019469962,
          -2.500001051846643,
          -4.779415838033568,
          -3.4558842194533566,
          -1.6911800695537098,
          2.6470562248494702,
          2.279407773875972,
          0.7352898896360428,
          5.147057276696113,
          4.926471011036396,
          5.073526184039223,
          6.91176142659576,
          5.514705727669611,
          4.338229282092227,
          -1.4705938038939923,
          -5.808823085986219,
          -15.073530391425795,
          -17.64706253592933,
          -20.073532495119082,
          -18.89706306185265,
          -14.926475218422969,
          -19.558828871142754,
          -23.45588562191555,
          -19.779415136802474,
          -20.588236119095406,
          -18.602945703536044,
          -18.382352425565372,
          -16.1029446516894,
          -15.66176510805901,
          -18.67646978388198,
          -19.411766685828976,
          -19.338235593172083,
          -17.72059362858622,
          -21.3235330210424,
          -24.26470660420848,
          -26.323528112424736,
          -27.05882501437173,
          -27.794121916318726,
          -28.014708181978445,
          -27.05882501437173,
          -27.35294237268834,
          -27.05882501437173,
          -27.42647346534523,
          -26.102941846765017,
          -27.500004558002118,
          -26.691176563398233,
          -26.617652483052296,
          -27.647059731004948,
          -26.98529392171484,
          -26.323528112424736,
          -26.323528112424736,
          -26.17647293942191,
          -25.367651957128974,
          -22.205885095992226,
          -21.102946755382685,
          -18.235297252562543,
          -21.985298830332507,
          -21.47058819404523,
          -23.529416714572438,
          -23.16176826359894,
          -25.367651957128974,
          -25.220589771815195,
          -24.19117551155159,
          -27.205887199685513,
          -26.470590297738514,
          -28.52941180595477,
          -28.75000508392544,
          -28.75000508392544,
          -28.602942898611662,
          -26.98529392171484,
          -27.573528638348055,
          -28.23529444763816,
          -27.941177089321556,
          -27.941177089321556,
          -28.75000508392544
         ],
         "yaxis": "y"
        },
        {
         "hovertemplate": "variable=RAPT4_cum_change<br>date=%{x}<br>value=%{y}<extra></extra>",
         "legendgroup": "RAPT4_cum_change",
         "line": {
          "color": "#00cc96",
          "dash": "solid"
         },
         "marker": {
          "symbol": "circle"
         },
         "mode": "lines",
         "name": "RAPT4_cum_change",
         "orientation": "v",
         "showlegend": true,
         "type": "scatter",
         "x": [
          "2022-01-03T00:00:00",
          "2022-01-04T00:00:00",
          "2022-01-05T00:00:00",
          "2022-01-06T00:00:00",
          "2022-01-07T00:00:00",
          "2022-01-10T00:00:00",
          "2022-01-11T00:00:00",
          "2022-01-12T00:00:00",
          "2022-01-13T00:00:00",
          "2022-01-14T00:00:00",
          "2022-01-17T00:00:00",
          "2022-01-18T00:00:00",
          "2022-01-19T00:00:00",
          "2022-01-20T00:00:00",
          "2022-01-21T00:00:00",
          "2022-01-24T00:00:00",
          "2022-01-25T00:00:00",
          "2022-01-26T00:00:00",
          "2022-01-27T00:00:00",
          "2022-01-28T00:00:00",
          "2022-01-31T00:00:00",
          "2022-02-01T00:00:00",
          "2022-02-02T00:00:00",
          "2022-02-03T00:00:00",
          "2022-02-04T00:00:00",
          "2022-02-07T00:00:00",
          "2022-02-08T00:00:00",
          "2022-02-09T00:00:00",
          "2022-02-10T00:00:00",
          "2022-02-11T00:00:00",
          "2022-02-14T00:00:00",
          "2022-02-15T00:00:00",
          "2022-02-16T00:00:00",
          "2022-02-17T00:00:00",
          "2022-02-18T00:00:00",
          "2022-02-21T00:00:00",
          "2022-02-22T00:00:00",
          "2022-02-23T00:00:00",
          "2022-02-24T00:00:00",
          "2022-02-25T00:00:00",
          "2022-03-02T00:00:00",
          "2022-03-03T00:00:00",
          "2022-03-04T00:00:00",
          "2022-03-07T00:00:00",
          "2022-03-08T00:00:00",
          "2022-03-09T00:00:00",
          "2022-03-10T00:00:00",
          "2022-03-11T00:00:00",
          "2022-03-14T00:00:00",
          "2022-03-15T00:00:00",
          "2022-03-16T00:00:00",
          "2022-03-17T00:00:00",
          "2022-03-18T00:00:00",
          "2022-03-21T00:00:00",
          "2022-03-22T00:00:00",
          "2022-03-23T00:00:00",
          "2022-03-24T00:00:00",
          "2022-03-25T00:00:00",
          "2022-03-28T00:00:00",
          "2022-03-29T00:00:00",
          "2022-03-30T00:00:00",
          "2022-03-31T00:00:00",
          "2022-04-01T00:00:00",
          "2022-04-04T00:00:00",
          "2022-04-05T00:00:00",
          "2022-04-06T00:00:00",
          "2022-04-07T00:00:00",
          "2022-04-08T00:00:00",
          "2022-04-11T00:00:00",
          "2022-04-12T00:00:00",
          "2022-04-13T00:00:00",
          "2022-04-14T00:00:00",
          "2022-04-18T00:00:00",
          "2022-04-19T00:00:00",
          "2022-04-20T00:00:00",
          "2022-04-22T00:00:00",
          "2022-04-25T00:00:00",
          "2022-04-26T00:00:00",
          "2022-04-27T00:00:00",
          "2022-04-28T00:00:00",
          "2022-04-29T00:00:00",
          "2022-05-02T00:00:00",
          "2022-05-03T00:00:00",
          "2022-05-04T00:00:00",
          "2022-05-05T00:00:00",
          "2022-05-06T00:00:00",
          "2022-05-09T00:00:00",
          "2022-05-10T00:00:00",
          "2022-05-11T00:00:00",
          "2022-05-12T00:00:00",
          "2022-05-13T00:00:00",
          "2022-05-16T00:00:00",
          "2022-05-17T00:00:00",
          "2022-05-18T00:00:00",
          "2022-05-19T00:00:00",
          "2022-05-20T00:00:00",
          "2022-05-23T00:00:00",
          "2022-05-24T00:00:00",
          "2022-05-25T00:00:00",
          "2022-05-26T00:00:00",
          "2022-05-27T00:00:00",
          "2022-05-30T00:00:00",
          "2022-05-31T00:00:00",
          "2022-06-01T00:00:00",
          "2022-06-02T00:00:00",
          "2022-06-03T00:00:00",
          "2022-06-06T00:00:00",
          "2022-06-07T00:00:00",
          "2022-06-08T00:00:00",
          "2022-06-09T00:00:00",
          "2022-06-10T00:00:00",
          "2022-06-13T00:00:00",
          "2022-06-14T00:00:00",
          "2022-06-15T00:00:00",
          "2022-06-17T00:00:00",
          "2022-06-20T00:00:00",
          "2022-06-21T00:00:00",
          "2022-06-22T00:00:00",
          "2022-06-23T00:00:00",
          "2022-06-24T00:00:00",
          "2022-06-27T00:00:00",
          "2022-06-28T00:00:00",
          "2022-06-29T00:00:00",
          "2022-06-30T00:00:00",
          "2022-07-01T00:00:00",
          "2022-07-04T00:00:00"
         ],
         "xaxis": "x",
         "y": [
          0,
          -1.2070576500969967,
          -4.735377968477214,
          -3.4354765413837964,
          2.042704772550899,
          -0.649959568461062,
          -1.4856155458293177,
          2.042704772550899,
          0.4642454497251612,
          1.9498521406401252,
          0.4642454497251612,
          0.2785490408179674,
          2.32126266828322,
          6.0352793955706305,
          5.385328682023922,
          3.7140167272874103,
          6.778082741028112,
          11.327755445683778,
          11.792009750323293,
          10.492099468315523,
          11.792009750323293,
          11.606313341416099,
          9.470747082040074,
          9.749296122858041,
          7.8922877592143355,
          7.613738718396368,
          5.663877722841889,
          5.385328682023922,
          5.292476050113148,
          3.156909790737122,
          4.363967440834119,
          6.778082741028112,
          6.406681068299371,
          2.785508118008381,
          1.9498521406401252,
          -1.392762913918544,
          -1.021361241189803,
          -0.09285263191077363,
          -0.27855789573232087,
          -1.4856155458293177,
          -2.9712222367442815,
          -3.8997219911089576,
          -6.406689923213725,
          -11.699165973326872,
          -10.95636262786939,
          -10.770666218962196,
          -8.356550918768203,
          -12.441969318784356,
          -14.20613390543164,
          -12.813370991513096,
          -8.913649000404138,
          -7.335198532492754,
          -5.478181313934695,
          -5.199632273116728,
          -2.9712222367442815,
          -2.2284188912867995,
          1.6713030998221579,
          0.4642454497251612,
          0.6499507135467084,
          3.6211640953766366,
          2.5998117091011874,
          -0.8356559773682557,
          -0.46425430463951467,
          1.114205018186223,
          -0.09285263191077363,
          -2.8783696048335083,
          -3.714025582201764,
          -4.271123663837699,
          -4.1782798868412785,
          -6.035288250484983,
          -6.406689923213725,
          -2.6926731959263144,
          -2.2284188912867995,
          0.2785490408179674,
          1.114205018186223,
          -2.135566259376026,
          -1.5784593228257378,
          -5.478181313934695,
          -1.1142138731005766,
          2.228410036372446,
          -0.9285086092790293,
          -3.249771277562249,
          -3.4354765413837964,
          -2.506967932104767,
          -3.4354765413837964,
          -5.571033945845469,
          -7.706600205221495,
          -7.892296614128689,
          -5.571033945845469,
          -2.8783696048335083,
          -4.1782798868412785,
          -2.7855169729227347,
          -1.392762913918544,
          -3.992574623019731,
          -4.085427254930505,
          -4.828230600387987,
          -4.363976295748472,
          -4.828230600387987,
          -4.64252533656644,
          -5.013935864209534,
          -5.013935864209534,
          -4.735377968477214,
          -5.013935864209534,
          -4.363976295748472,
          -4.64252533656644,
          -5.1067796412059545,
          -7.428042309489174,
          -9.28505067313288,
          -9.099354264225685,
          -7.335198532492754,
          -9.28505067313288,
          -13.091928887245416,
          -13.8347322327029,
          -8.078001877950236,
          -13.370477928063384,
          -10.95636262786939,
          -11.142067891690939,
          -10.677813587051423,
          -9.470755936954427,
          -9.470755936954427,
          -8.913649000404138,
          -10.027862873504715,
          -8.170845654946657,
          -12.90622362342387,
          -12.627674582605902,
          -12.256272909877161
         ],
         "yaxis": "y"
        },
        {
         "hovertemplate": "variable=ITUB4_cum_change<br>date=%{x}<br>value=%{y}<extra></extra>",
         "legendgroup": "ITUB4_cum_change",
         "line": {
          "color": "#ab63fa",
          "dash": "solid"
         },
         "marker": {
          "symbol": "circle"
         },
         "mode": "lines",
         "name": "ITUB4_cum_change",
         "orientation": "v",
         "showlegend": true,
         "type": "scatter",
         "x": [
          "2022-01-03T00:00:00",
          "2022-01-04T00:00:00",
          "2022-01-05T00:00:00",
          "2022-01-06T00:00:00",
          "2022-01-07T00:00:00",
          "2022-01-10T00:00:00",
          "2022-01-11T00:00:00",
          "2022-01-12T00:00:00",
          "2022-01-13T00:00:00",
          "2022-01-14T00:00:00",
          "2022-01-17T00:00:00",
          "2022-01-18T00:00:00",
          "2022-01-19T00:00:00",
          "2022-01-20T00:00:00",
          "2022-01-21T00:00:00",
          "2022-01-24T00:00:00",
          "2022-01-25T00:00:00",
          "2022-01-26T00:00:00",
          "2022-01-27T00:00:00",
          "2022-01-28T00:00:00",
          "2022-01-31T00:00:00",
          "2022-02-01T00:00:00",
          "2022-02-02T00:00:00",
          "2022-02-03T00:00:00",
          "2022-02-04T00:00:00",
          "2022-02-07T00:00:00",
          "2022-02-08T00:00:00",
          "2022-02-09T00:00:00",
          "2022-02-10T00:00:00",
          "2022-02-11T00:00:00",
          "2022-02-14T00:00:00",
          "2022-02-15T00:00:00",
          "2022-02-16T00:00:00",
          "2022-02-17T00:00:00",
          "2022-02-18T00:00:00",
          "2022-02-21T00:00:00",
          "2022-02-22T00:00:00",
          "2022-02-23T00:00:00",
          "2022-02-24T00:00:00",
          "2022-02-25T00:00:00",
          "2022-03-02T00:00:00",
          "2022-03-03T00:00:00",
          "2022-03-04T00:00:00",
          "2022-03-07T00:00:00",
          "2022-03-08T00:00:00",
          "2022-03-09T00:00:00",
          "2022-03-10T00:00:00",
          "2022-03-11T00:00:00",
          "2022-03-14T00:00:00",
          "2022-03-15T00:00:00",
          "2022-03-16T00:00:00",
          "2022-03-17T00:00:00",
          "2022-03-18T00:00:00",
          "2022-03-21T00:00:00",
          "2022-03-22T00:00:00",
          "2022-03-23T00:00:00",
          "2022-03-24T00:00:00",
          "2022-03-25T00:00:00",
          "2022-03-28T00:00:00",
          "2022-03-29T00:00:00",
          "2022-03-30T00:00:00",
          "2022-03-31T00:00:00",
          "2022-04-01T00:00:00",
          "2022-04-04T00:00:00",
          "2022-04-05T00:00:00",
          "2022-04-06T00:00:00",
          "2022-04-07T00:00:00",
          "2022-04-08T00:00:00",
          "2022-04-11T00:00:00",
          "2022-04-12T00:00:00",
          "2022-04-13T00:00:00",
          "2022-04-14T00:00:00",
          "2022-04-18T00:00:00",
          "2022-04-19T00:00:00",
          "2022-04-20T00:00:00",
          "2022-04-22T00:00:00",
          "2022-04-25T00:00:00",
          "2022-04-26T00:00:00",
          "2022-04-27T00:00:00",
          "2022-04-28T00:00:00",
          "2022-04-29T00:00:00",
          "2022-05-02T00:00:00",
          "2022-05-03T00:00:00",
          "2022-05-04T00:00:00",
          "2022-05-05T00:00:00",
          "2022-05-06T00:00:00",
          "2022-05-09T00:00:00",
          "2022-05-10T00:00:00",
          "2022-05-11T00:00:00",
          "2022-05-12T00:00:00",
          "2022-05-13T00:00:00",
          "2022-05-16T00:00:00",
          "2022-05-17T00:00:00",
          "2022-05-18T00:00:00",
          "2022-05-19T00:00:00",
          "2022-05-20T00:00:00",
          "2022-05-23T00:00:00",
          "2022-05-24T00:00:00",
          "2022-05-25T00:00:00",
          "2022-05-26T00:00:00",
          "2022-05-27T00:00:00",
          "2022-05-30T00:00:00",
          "2022-05-31T00:00:00",
          "2022-06-01T00:00:00",
          "2022-06-02T00:00:00",
          "2022-06-03T00:00:00",
          "2022-06-06T00:00:00",
          "2022-06-07T00:00:00",
          "2022-06-08T00:00:00",
          "2022-06-09T00:00:00",
          "2022-06-10T00:00:00",
          "2022-06-13T00:00:00",
          "2022-06-14T00:00:00",
          "2022-06-15T00:00:00",
          "2022-06-17T00:00:00",
          "2022-06-20T00:00:00",
          "2022-06-21T00:00:00",
          "2022-06-22T00:00:00",
          "2022-06-23T00:00:00",
          "2022-06-24T00:00:00",
          "2022-06-27T00:00:00",
          "2022-06-28T00:00:00",
          "2022-06-29T00:00:00",
          "2022-06-30T00:00:00",
          "2022-07-01T00:00:00",
          "2022-07-04T00:00:00"
         ],
         "xaxis": "x",
         "y": [
          0,
          2.8358930909377884,
          0.8833125617660399,
          2.9288663601253297,
          5.206875499614939,
          6.183170197833107,
          8.554161473774844,
          8.089259658778792,
          10.088331256176604,
          9.251509762636628,
          9.251509762636628,
          9.90236698327235,
          9.158527626184501,
          8.275223931683048,
          8.321706132644524,
          8.182241795230919,
          12.087402853574417,
          13.296144025658316,
          13.85401910984191,
          15.248724554830066,
          17.759180168185406,
          18.503019525273256,
          16.643421132553634,
          17.99162664205114,
          18.363546320595063,
          17.712689099959345,
          19.01441240849537,
          14.272429856611899,
          16.45745685964938,
          23.337984213608856,
          23.059037804252473,
          24.22128790811031,
          22.91957346683887,
          21.199439411532854,
          21.664341226528904,
          18.68898379817751,
          19.711760697357157,
          18.038117710277206,
          16.03904611287939,
          18.410037388821127,
          16.364483590461838,
          16.45745685964938,
          14.690840603381886,
          12.226867190988022,
          11.157599223582313,
          16.6899122007797,
          16.782894337231827,
          15.481171028695798,
          17.108322947549688,
          16.6899122007797,
          18.967921340269307,
          21.571359090076776,
          22.454671651842816,
          25.476520148420274,
          27.19665420372629,
          26.63877025227811,
          27.475591745818086,
          27.70803821968382,
          27.61506495049628,
          29.102743664671976,
          29.381681206763773,
          27.754529287909882,
          28.033475697266265,
          26.87122559340843,
          24.314270044562438,
          24.267778976336373,
          24.174796839884248,
          23.942350366018513,
          23.477448551022462,
          21.29242154798498,
          21.61785015830284,
          22.408180583616755,
          23.105528872478537,
          20.920501869441058,
          21.71083229475497,
          19.33984101881323,
          18.87493920381718,
          14.830313808060078,
          13.900510178067973,
          12.97070654807587,
          10.971643817942644,
          10.413759866494464,
          10.971643817942644,
          10.832170613264452,
          8.275223931683048,
          10.59972413939872,
          9.019063288770894,
          8.461179337322715,
          12.087402853574417,
          13.85401910984191,
          15.202233486604001,
          16.410974658687902,
          17.43375155786755,
          15.760108570787596,
          15.38818889224367,
          16.829376538193305,
          19.851233902035347,
          21.664341226528904,
          19.479314223491425,
          20.96699293766712,
          21.61785015830284,
          20.502091122671068,
          21.61785015830284,
          19.851233902035347,
          20.36261791799288,
          19.246858882361103,
          18.828448135591117,
          18.828448135591117,
          16.55043899610151,
          14.551367398703695,
          12.040911785348353,
          10.69269740858626,
          9.948858051498412,
          10.413759866494464,
          9.019063288770894,
          13.761036973389782,
          12.552295801305881,
          11.715483175030492,
          9.158527626184501,
          8.972572220544832,
          9.623429441180551,
          8.414688269096652,
          7.298929233464879,
          5.392839772519194,
          6.22966126605917,
          5.392839772519194
         ],
         "yaxis": "y"
        }
       ],
       "layout": {
        "autosize": true,
        "legend": {
         "title": {
          "text": "variable"
         },
         "tracegroupgap": 0
        },
        "margin": {
         "t": 60
        },
        "template": {
         "data": {
          "bar": [
           {
            "error_x": {
             "color": "#2a3f5f"
            },
            "error_y": {
             "color": "#2a3f5f"
            },
            "marker": {
             "line": {
              "color": "#E5ECF6",
              "width": 0.5
             },
             "pattern": {
              "fillmode": "overlay",
              "size": 10,
              "solidity": 0.2
             }
            },
            "type": "bar"
           }
          ],
          "barpolar": [
           {
            "marker": {
             "line": {
              "color": "#E5ECF6",
              "width": 0.5
             },
             "pattern": {
              "fillmode": "overlay",
              "size": 10,
              "solidity": 0.2
             }
            },
            "type": "barpolar"
           }
          ],
          "carpet": [
           {
            "aaxis": {
             "endlinecolor": "#2a3f5f",
             "gridcolor": "white",
             "linecolor": "white",
             "minorgridcolor": "white",
             "startlinecolor": "#2a3f5f"
            },
            "baxis": {
             "endlinecolor": "#2a3f5f",
             "gridcolor": "white",
             "linecolor": "white",
             "minorgridcolor": "white",
             "startlinecolor": "#2a3f5f"
            },
            "type": "carpet"
           }
          ],
          "choropleth": [
           {
            "colorbar": {
             "outlinewidth": 0,
             "ticks": ""
            },
            "type": "choropleth"
           }
          ],
          "contour": [
           {
            "colorbar": {
             "outlinewidth": 0,
             "ticks": ""
            },
            "colorscale": [
             [
              0,
              "#0d0887"
             ],
             [
              0.1111111111111111,
              "#46039f"
             ],
             [
              0.2222222222222222,
              "#7201a8"
             ],
             [
              0.3333333333333333,
              "#9c179e"
             ],
             [
              0.4444444444444444,
              "#bd3786"
             ],
             [
              0.5555555555555556,
              "#d8576b"
             ],
             [
              0.6666666666666666,
              "#ed7953"
             ],
             [
              0.7777777777777778,
              "#fb9f3a"
             ],
             [
              0.8888888888888888,
              "#fdca26"
             ],
             [
              1,
              "#f0f921"
             ]
            ],
            "type": "contour"
           }
          ],
          "contourcarpet": [
           {
            "colorbar": {
             "outlinewidth": 0,
             "ticks": ""
            },
            "type": "contourcarpet"
           }
          ],
          "heatmap": [
           {
            "colorbar": {
             "outlinewidth": 0,
             "ticks": ""
            },
            "colorscale": [
             [
              0,
              "#0d0887"
             ],
             [
              0.1111111111111111,
              "#46039f"
             ],
             [
              0.2222222222222222,
              "#7201a8"
             ],
             [
              0.3333333333333333,
              "#9c179e"
             ],
             [
              0.4444444444444444,
              "#bd3786"
             ],
             [
              0.5555555555555556,
              "#d8576b"
             ],
             [
              0.6666666666666666,
              "#ed7953"
             ],
             [
              0.7777777777777778,
              "#fb9f3a"
             ],
             [
              0.8888888888888888,
              "#fdca26"
             ],
             [
              1,
              "#f0f921"
             ]
            ],
            "type": "heatmap"
           }
          ],
          "heatmapgl": [
           {
            "colorbar": {
             "outlinewidth": 0,
             "ticks": ""
            },
            "colorscale": [
             [
              0,
              "#0d0887"
             ],
             [
              0.1111111111111111,
              "#46039f"
             ],
             [
              0.2222222222222222,
              "#7201a8"
             ],
             [
              0.3333333333333333,
              "#9c179e"
             ],
             [
              0.4444444444444444,
              "#bd3786"
             ],
             [
              0.5555555555555556,
              "#d8576b"
             ],
             [
              0.6666666666666666,
              "#ed7953"
             ],
             [
              0.7777777777777778,
              "#fb9f3a"
             ],
             [
              0.8888888888888888,
              "#fdca26"
             ],
             [
              1,
              "#f0f921"
             ]
            ],
            "type": "heatmapgl"
           }
          ],
          "histogram": [
           {
            "marker": {
             "pattern": {
              "fillmode": "overlay",
              "size": 10,
              "solidity": 0.2
             }
            },
            "type": "histogram"
           }
          ],
          "histogram2d": [
           {
            "colorbar": {
             "outlinewidth": 0,
             "ticks": ""
            },
            "colorscale": [
             [
              0,
              "#0d0887"
             ],
             [
              0.1111111111111111,
              "#46039f"
             ],
             [
              0.2222222222222222,
              "#7201a8"
             ],
             [
              0.3333333333333333,
              "#9c179e"
             ],
             [
              0.4444444444444444,
              "#bd3786"
             ],
             [
              0.5555555555555556,
              "#d8576b"
             ],
             [
              0.6666666666666666,
              "#ed7953"
             ],
             [
              0.7777777777777778,
              "#fb9f3a"
             ],
             [
              0.8888888888888888,
              "#fdca26"
             ],
             [
              1,
              "#f0f921"
             ]
            ],
            "type": "histogram2d"
           }
          ],
          "histogram2dcontour": [
           {
            "colorbar": {
             "outlinewidth": 0,
             "ticks": ""
            },
            "colorscale": [
             [
              0,
              "#0d0887"
             ],
             [
              0.1111111111111111,
              "#46039f"
             ],
             [
              0.2222222222222222,
              "#7201a8"
             ],
             [
              0.3333333333333333,
              "#9c179e"
             ],
             [
              0.4444444444444444,
              "#bd3786"
             ],
             [
              0.5555555555555556,
              "#d8576b"
             ],
             [
              0.6666666666666666,
              "#ed7953"
             ],
             [
              0.7777777777777778,
              "#fb9f3a"
             ],
             [
              0.8888888888888888,
              "#fdca26"
             ],
             [
              1,
              "#f0f921"
             ]
            ],
            "type": "histogram2dcontour"
           }
          ],
          "mesh3d": [
           {
            "colorbar": {
             "outlinewidth": 0,
             "ticks": ""
            },
            "type": "mesh3d"
           }
          ],
          "parcoords": [
           {
            "line": {
             "colorbar": {
              "outlinewidth": 0,
              "ticks": ""
             }
            },
            "type": "parcoords"
           }
          ],
          "pie": [
           {
            "automargin": true,
            "type": "pie"
           }
          ],
          "scatter": [
           {
            "fillpattern": {
             "fillmode": "overlay",
             "size": 10,
             "solidity": 0.2
            },
            "type": "scatter"
           }
          ],
          "scatter3d": [
           {
            "line": {
             "colorbar": {
              "outlinewidth": 0,
              "ticks": ""
             }
            },
            "marker": {
             "colorbar": {
              "outlinewidth": 0,
              "ticks": ""
             }
            },
            "type": "scatter3d"
           }
          ],
          "scattercarpet": [
           {
            "marker": {
             "colorbar": {
              "outlinewidth": 0,
              "ticks": ""
             }
            },
            "type": "scattercarpet"
           }
          ],
          "scattergeo": [
           {
            "marker": {
             "colorbar": {
              "outlinewidth": 0,
              "ticks": ""
             }
            },
            "type": "scattergeo"
           }
          ],
          "scattergl": [
           {
            "marker": {
             "colorbar": {
              "outlinewidth": 0,
              "ticks": ""
             }
            },
            "type": "scattergl"
           }
          ],
          "scattermapbox": [
           {
            "marker": {
             "colorbar": {
              "outlinewidth": 0,
              "ticks": ""
             }
            },
            "type": "scattermapbox"
           }
          ],
          "scatterpolar": [
           {
            "marker": {
             "colorbar": {
              "outlinewidth": 0,
              "ticks": ""
             }
            },
            "type": "scatterpolar"
           }
          ],
          "scatterpolargl": [
           {
            "marker": {
             "colorbar": {
              "outlinewidth": 0,
              "ticks": ""
             }
            },
            "type": "scatterpolargl"
           }
          ],
          "scatterternary": [
           {
            "marker": {
             "colorbar": {
              "outlinewidth": 0,
              "ticks": ""
             }
            },
            "type": "scatterternary"
           }
          ],
          "surface": [
           {
            "colorbar": {
             "outlinewidth": 0,
             "ticks": ""
            },
            "colorscale": [
             [
              0,
              "#0d0887"
             ],
             [
              0.1111111111111111,
              "#46039f"
             ],
             [
              0.2222222222222222,
              "#7201a8"
             ],
             [
              0.3333333333333333,
              "#9c179e"
             ],
             [
              0.4444444444444444,
              "#bd3786"
             ],
             [
              0.5555555555555556,
              "#d8576b"
             ],
             [
              0.6666666666666666,
              "#ed7953"
             ],
             [
              0.7777777777777778,
              "#fb9f3a"
             ],
             [
              0.8888888888888888,
              "#fdca26"
             ],
             [
              1,
              "#f0f921"
             ]
            ],
            "type": "surface"
           }
          ],
          "table": [
           {
            "cells": {
             "fill": {
              "color": "#EBF0F8"
             },
             "line": {
              "color": "white"
             }
            },
            "header": {
             "fill": {
              "color": "#C8D4E3"
             },
             "line": {
              "color": "white"
             }
            },
            "type": "table"
           }
          ]
         },
         "layout": {
          "annotationdefaults": {
           "arrowcolor": "#2a3f5f",
           "arrowhead": 0,
           "arrowwidth": 1
          },
          "autotypenumbers": "strict",
          "coloraxis": {
           "colorbar": {
            "outlinewidth": 0,
            "ticks": ""
           }
          },
          "colorscale": {
           "diverging": [
            [
             0,
             "#8e0152"
            ],
            [
             0.1,
             "#c51b7d"
            ],
            [
             0.2,
             "#de77ae"
            ],
            [
             0.3,
             "#f1b6da"
            ],
            [
             0.4,
             "#fde0ef"
            ],
            [
             0.5,
             "#f7f7f7"
            ],
            [
             0.6,
             "#e6f5d0"
            ],
            [
             0.7,
             "#b8e186"
            ],
            [
             0.8,
             "#7fbc41"
            ],
            [
             0.9,
             "#4d9221"
            ],
            [
             1,
             "#276419"
            ]
           ],
           "sequential": [
            [
             0,
             "#0d0887"
            ],
            [
             0.1111111111111111,
             "#46039f"
            ],
            [
             0.2222222222222222,
             "#7201a8"
            ],
            [
             0.3333333333333333,
             "#9c179e"
            ],
            [
             0.4444444444444444,
             "#bd3786"
            ],
            [
             0.5555555555555556,
             "#d8576b"
            ],
            [
             0.6666666666666666,
             "#ed7953"
            ],
            [
             0.7777777777777778,
             "#fb9f3a"
            ],
            [
             0.8888888888888888,
             "#fdca26"
            ],
            [
             1,
             "#f0f921"
            ]
           ],
           "sequentialminus": [
            [
             0,
             "#0d0887"
            ],
            [
             0.1111111111111111,
             "#46039f"
            ],
            [
             0.2222222222222222,
             "#7201a8"
            ],
            [
             0.3333333333333333,
             "#9c179e"
            ],
            [
             0.4444444444444444,
             "#bd3786"
            ],
            [
             0.5555555555555556,
             "#d8576b"
            ],
            [
             0.6666666666666666,
             "#ed7953"
            ],
            [
             0.7777777777777778,
             "#fb9f3a"
            ],
            [
             0.8888888888888888,
             "#fdca26"
            ],
            [
             1,
             "#f0f921"
            ]
           ]
          },
          "colorway": [
           "#636efa",
           "#EF553B",
           "#00cc96",
           "#ab63fa",
           "#FFA15A",
           "#19d3f3",
           "#FF6692",
           "#B6E880",
           "#FF97FF",
           "#FECB52"
          ],
          "font": {
           "color": "#2a3f5f"
          },
          "geo": {
           "bgcolor": "white",
           "lakecolor": "white",
           "landcolor": "#E5ECF6",
           "showlakes": true,
           "showland": true,
           "subunitcolor": "white"
          },
          "hoverlabel": {
           "align": "left"
          },
          "hovermode": "closest",
          "mapbox": {
           "style": "light"
          },
          "paper_bgcolor": "white",
          "plot_bgcolor": "#E5ECF6",
          "polar": {
           "angularaxis": {
            "gridcolor": "white",
            "linecolor": "white",
            "ticks": ""
           },
           "bgcolor": "#E5ECF6",
           "radialaxis": {
            "gridcolor": "white",
            "linecolor": "white",
            "ticks": ""
           }
          },
          "scene": {
           "xaxis": {
            "backgroundcolor": "#E5ECF6",
            "gridcolor": "white",
            "gridwidth": 2,
            "linecolor": "white",
            "showbackground": true,
            "ticks": "",
            "zerolinecolor": "white"
           },
           "yaxis": {
            "backgroundcolor": "#E5ECF6",
            "gridcolor": "white",
            "gridwidth": 2,
            "linecolor": "white",
            "showbackground": true,
            "ticks": "",
            "zerolinecolor": "white"
           },
           "zaxis": {
            "backgroundcolor": "#E5ECF6",
            "gridcolor": "white",
            "gridwidth": 2,
            "linecolor": "white",
            "showbackground": true,
            "ticks": "",
            "zerolinecolor": "white"
           }
          },
          "shapedefaults": {
           "line": {
            "color": "#2a3f5f"
           }
          },
          "ternary": {
           "aaxis": {
            "gridcolor": "white",
            "linecolor": "white",
            "ticks": ""
           },
           "baxis": {
            "gridcolor": "white",
            "linecolor": "white",
            "ticks": ""
           },
           "bgcolor": "#E5ECF6",
           "caxis": {
            "gridcolor": "white",
            "linecolor": "white",
            "ticks": ""
           }
          },
          "title": {
           "x": 0.05
          },
          "xaxis": {
           "automargin": true,
           "gridcolor": "white",
           "linecolor": "white",
           "ticks": "",
           "title": {
            "standoff": 15
           },
           "zerolinecolor": "white",
           "zerolinewidth": 2
          },
          "yaxis": {
           "automargin": true,
           "gridcolor": "white",
           "linecolor": "white",
           "ticks": "",
           "title": {
            "standoff": 15
           },
           "zerolinecolor": "white",
           "zerolinewidth": 2
          }
         }
        },
        "xaxis": {
         "anchor": "y",
         "autorange": true,
         "domain": [
          0,
          1
         ],
         "range": [
          "2022-01-03",
          "2022-07-04"
         ],
         "title": {
          "text": "date"
         },
         "type": "date"
        },
        "yaxis": {
         "anchor": "x",
         "autorange": true,
         "domain": [
          0,
          1
         ],
         "range": [
          -31.979543211185952,
          32.611219334024284
         ],
         "title": {
          "text": "value"
         },
         "type": "linear"
        }
       }
      },
      "image/png": "[encoded data removed]",
      "text/html": [
       "<div>                            <div id=\"39ead149-3fe1-4e97-85de-6cc4c8777690\" class=\"plotly-graph-div\" style=\"height:525px; width:100%;\"></div>            <script type=\"text/javascript\">                require([\"plotly\"], function(Plotly) {                    window.PLOTLYENV=window.PLOTLYENV || {};                                    if (document.getElementById(\"39ead149-3fe1-4e97-85de-6cc4c8777690\")) {                    Plotly.newPlot(                        \"39ead149-3fe1-4e97-85de-6cc4c8777690\",                        [{\"hovertemplate\":\"variable=ibov_cum_change<br>date=%{x}<br>value=%{y}<extra></extra>\",\"legendgroup\":\"ibov_cum_change\",\"line\":{\"color\":\"#636efa\",\"dash\":\"solid\"},\"marker\":{\"symbol\":\"circle\"},\"mode\":\"lines\",\"name\":\"ibov_cum_change\",\"orientation\":\"v\",\"showlegend\":true,\"x\":[\"2022-01-03T00:00:00\",\"2022-01-04T00:00:00\",\"2022-01-05T00:00:00\",\"2022-01-06T00:00:00\",\"2022-01-07T00:00:00\",\"2022-01-10T00:00:00\",\"2022-01-11T00:00:00\",\"2022-01-12T00:00:00\",\"2022-01-13T00:00:00\",\"2022-01-14T00:00:00\",\"2022-01-17T00:00:00\",\"2022-01-18T00:00:00\",\"2022-01-19T00:00:00\",\"2022-01-20T00:00:00\",\"2022-01-21T00:00:00\",\"2022-01-24T00:00:00\",\"2022-01-25T00:00:00\",\"2022-01-26T00:00:00\",\"2022-01-27T00:00:00\",\"2022-01-28T00:00:00\",\"2022-01-31T00:00:00\",\"2022-02-01T00:00:00\",\"2022-02-02T00:00:00\",\"2022-02-03T00:00:00\",\"2022-02-04T00:00:00\",\"2022-02-07T00:00:00\",\"2022-02-08T00:00:00\",\"2022-02-09T00:00:00\",\"2022-02-10T00:00:00\",\"2022-02-11T00:00:00\",\"2022-02-14T00:00:00\",\"2022-02-15T00:00:00\",\"2022-02-16T00:00:00\",\"2022-02-17T00:00:00\",\"2022-02-18T00:00:00\",\"2022-02-21T00:00:00\",\"2022-02-22T00:00:00\",\"2022-02-23T00:00:00\",\"2022-02-24T00:00:00\",\"2022-02-25T00:00:00\",\"2022-03-02T00:00:00\",\"2022-03-03T00:00:00\",\"2022-03-04T00:00:00\",\"2022-03-07T00:00:00\",\"2022-03-08T00:00:00\",\"2022-03-09T00:00:00\",\"2022-03-10T00:00:00\",\"2022-03-11T00:00:00\",\"2022-03-14T00:00:00\",\"2022-03-15T00:00:00\",\"2022-03-16T00:00:00\",\"2022-03-17T00:00:00\",\"2022-03-18T00:00:00\",\"2022-03-21T00:00:00\",\"2022-03-22T00:00:00\",\"2022-03-23T00:00:00\",\"2022-03-24T00:00:00\",\"2022-03-25T00:00:00\",\"2022-03-28T00:00:00\",\"2022-03-29T00:00:00\",\"2022-03-30T00:00:00\",\"2022-03-31T00:00:00\",\"2022-04-01T00:00:00\",\"2022-04-04T00:00:00\",\"2022-04-05T00:00:00\",\"2022-04-06T00:00:00\",\"2022-04-07T00:00:00\",\"2022-04-08T00:00:00\",\"2022-04-11T00:00:00\",\"2022-04-12T00:00:00\",\"2022-04-13T00:00:00\",\"2022-04-14T00:00:00\",\"2022-04-18T00:00:00\",\"2022-04-19T00:00:00\",\"2022-04-20T00:00:00\",\"2022-04-22T00:00:00\",\"2022-04-25T00:00:00\",\"2022-04-26T00:00:00\",\"2022-04-27T00:00:00\",\"2022-04-28T00:00:00\",\"2022-04-29T00:00:00\",\"2022-05-02T00:00:00\",\"2022-05-03T00:00:00\",\"2022-05-04T00:00:00\",\"2022-05-05T00:00:00\",\"2022-05-06T00:00:00\",\"2022-05-09T00:00:00\",\"2022-05-10T00:00:00\",\"2022-05-11T00:00:00\",\"2022-05-12T00:00:00\",\"2022-05-13T00:00:00\",\"2022-05-16T00:00:00\",\"2022-05-17T00:00:00\",\"2022-05-18T00:00:00\",\"2022-05-19T00:00:00\",\"2022-05-20T00:00:00\",\"2022-05-23T00:00:00\",\"2022-05-24T00:00:00\",\"2022-05-25T00:00:00\",\"2022-05-26T00:00:00\",\"2022-05-27T00:00:00\",\"2022-05-30T00:00:00\",\"2022-05-31T00:00:00\",\"2022-06-01T00:00:00\",\"2022-06-02T00:00:00\",\"2022-06-03T00:00:00\",\"2022-06-06T00:00:00\",\"2022-06-07T00:00:00\",\"2022-06-08T00:00:00\",\"2022-06-09T00:00:00\",\"2022-06-10T00:00:00\",\"2022-06-13T00:00:00\",\"2022-06-14T00:00:00\",\"2022-06-15T00:00:00\",\"2022-06-17T00:00:00\",\"2022-06-20T00:00:00\",\"2022-06-21T00:00:00\",\"2022-06-22T00:00:00\",\"2022-06-23T00:00:00\",\"2022-06-24T00:00:00\",\"2022-06-27T00:00:00\",\"2022-06-28T00:00:00\",\"2022-06-29T00:00:00\",\"2022-06-30T00:00:00\",\"2022-07-01T00:00:00\",\"2022-07-04T00:00:00\"],\"xaxis\":\"x\",\"y\":[0.0,-0.39260214391562903,-2.8059506168087602,-2.2718962298647063,-1.157598968457112,-1.90238832970882,-0.13760320240180135,1.697426916341102,1.5473143319027733,2.8925540309077964,2.6654606339369913,2.501876407305479,3.9366063008795056,4.984507611477839,4.830545986412886,3.685456399992302,5.699466907873212,7.362252458574701,8.076249494813418,7.270837743692384,8.146494486249303,8.876849945151172,7.928061430688401,7.480610457843382,8.0088912838475,7.769288504840168,7.998306422124285,8.216739477685186,9.080849098362233,9.28581051172995,9.5119416485441,10.332749562171628,10.834087103789381,9.24347106483709,8.512153345778565,7.508516002386405,8.631473605203903,7.78083562672004,7.380535401551163,8.87203864436789,10.827351282692788,10.819653201439541,10.153769173033622,7.38149766170782,7.0062162006119975,9.601431843113104,9.373376185985643,7.496968880506533,5.779334500875657,4.846904409076037,6.918650526356306,8.808529474028598,10.959180924154655,11.771328496372279,12.84617309135698,13.02419122033833,14.559958430361233,14.586901714747599,14.256846481014607,15.484690440907604,15.721406439444968,15.470256538557765,16.98196724466427,16.70291179923404,14.398298724043032,13.766093801120071,14.376166740439945,13.85654625584573,12.53921210138373,11.763630415119032,12.374665614595562,11.79730952060199,11.320990743057292,10.714766844364043,10.028675352668348,6.885933681030004,6.5077654394642135,4.129058332210697,5.2221858701718595,5.770674159465753,3.80477665941764,2.6144608456342255,2.5076499682454148,4.255114412732627,1.3298435364985277,1.1672215700236717,-0.6466388252728007,-0.7813552472046342,0.4570735744115779,1.6993514366544138,2.8887049902811723,4.148303535343816,4.683320182444525,2.237254864225092,2.9666480629703047,4.393679875291084,6.181559246357845,6.407690383171994,6.406728123015339,7.667288928234638,7.717326456380747,6.84166971382383,7.148630703797078,7.157291045206982,8.151305787032582,6.909027924789746,6.027597621292893,5.915975443120802,4.278208656492369,3.0522892169126847,1.5001635842266314,-1.2740324474124824,-1.7888416312234177,-1.072920074671388,-3.9423798618194414,-3.915436577433075,-4.077096283751275,-4.233944689286195,-5.62152383518408,-5.051865822443756,-3.038817574719501,-3.205288581820981,-4.1377186736206,-5.17695964280903,-4.780508458266777,-4.647844356825312],\"yaxis\":\"y\",\"type\":\"scatter\"},{\"hovertemplate\":\"variable=FRAS3_cum_change<br>date=%{x}<br>value=%{y}<extra></extra>\",\"legendgroup\":\"FRAS3_cum_change\",\"line\":{\"color\":\"#EF553B\",\"dash\":\"solid\"},\"marker\":{\"symbol\":\"circle\"},\"mode\":\"lines\",\"name\":\"FRAS3_cum_change\",\"orientation\":\"v\",\"showlegend\":true,\"x\":[\"2022-01-03T00:00:00\",\"2022-01-04T00:00:00\",\"2022-01-05T00:00:00\",\"2022-01-06T00:00:00\",\"2022-01-07T00:00:00\",\"2022-01-10T00:00:00\",\"2022-01-11T00:00:00\",\"2022-01-12T00:00:00\",\"2022-01-13T00:00:00\",\"2022-01-14T00:00:00\",\"2022-01-17T00:00:00\",\"2022-01-18T00:00:00\",\"2022-01-19T00:00:00\",\"2022-01-20T00:00:00\",\"2022-01-21T00:00:00\",\"2022-01-24T00:00:00\",\"2022-01-25T00:00:00\",\"2022-01-26T00:00:00\",\"2022-01-27T00:00:00\",\"2022-01-28T00:00:00\",\"2022-01-31T00:00:00\",\"2022-02-01T00:00:00\",\"2022-02-02T00:00:00\",\"2022-02-03T00:00:00\",\"2022-02-04T00:00:00\",\"2022-02-07T00:00:00\",\"2022-02-08T00:00:00\",\"2022-02-09T00:00:00\",\"2022-02-10T00:00:00\",\"2022-02-11T00:00:00\",\"2022-02-14T00:00:00\",\"2022-02-15T00:00:00\",\"2022-02-16T00:00:00\",\"2022-02-17T00:00:00\",\"2022-02-18T00:00:00\",\"2022-02-21T00:00:00\",\"2022-02-22T00:00:00\",\"2022-02-23T00:00:00\",\"2022-02-24T00:00:00\",\"2022-02-25T00:00:00\",\"2022-03-02T00:00:00\",\"2022-03-03T00:00:00\",\"2022-03-04T00:00:00\",\"2022-03-07T00:00:00\",\"2022-03-08T00:00:00\",\"2022-03-09T00:00:00\",\"2022-03-10T00:00:00\",\"2022-03-11T00:00:00\",\"2022-03-14T00:00:00\",\"2022-03-15T00:00:00\",\"2022-03-16T00:00:00\",\"2022-03-17T00:00:00\",\"2022-03-18T00:00:00\",\"2022-03-21T00:00:00\",\"2022-03-22T00:00:00\",\"2022-03-23T00:00:00\",\"2022-03-24T00:00:00\",\"2022-03-25T00:00:00\",\"2022-03-28T00:00:00\",\"2022-03-29T00:00:00\",\"2022-03-30T00:00:00\",\"2022-03-31T00:00:00\",\"2022-04-01T00:00:00\",\"2022-04-04T00:00:00\",\"2022-04-05T00:00:00\",\"2022-04-06T00:00:00\",\"2022-04-07T00:00:00\",\"2022-04-08T00:00:00\",\"2022-04-11T00:00:00\",\"2022-04-12T00:00:00\",\"2022-04-13T00:00:00\",\"2022-04-14T00:00:00\",\"2022-04-18T00:00:00\",\"2022-04-19T00:00:00\",\"2022-04-20T00:00:00\",\"2022-04-22T00:00:00\",\"2022-04-25T00:00:00\",\"2022-04-26T00:00:00\",\"2022-04-27T00:00:00\",\"2022-04-28T00:00:00\",\"2022-04-29T00:00:00\",\"2022-05-02T00:00:00\",\"2022-05-03T00:00:00\",\"2022-05-04T00:00:00\",\"2022-05-05T00:00:00\",\"2022-05-06T00:00:00\",\"2022-05-09T00:00:00\",\"2022-05-10T00:00:00\",\"2022-05-11T00:00:00\",\"2022-05-12T00:00:00\",\"2022-05-13T00:00:00\",\"2022-05-16T00:00:00\",\"2022-05-17T00:00:00\",\"2022-05-18T00:00:00\",\"2022-05-19T00:00:00\",\"2022-05-20T00:00:00\",\"2022-05-23T00:00:00\",\"2022-05-24T00:00:00\",\"2022-05-25T00:00:00\",\"2022-05-26T00:00:00\",\"2022-05-27T00:00:00\",\"2022-05-30T00:00:00\",\"2022-05-31T00:00:00\",\"2022-06-01T00:00:00\",\"2022-06-02T00:00:00\",\"2022-06-03T00:00:00\",\"2022-06-06T00:00:00\",\"2022-06-07T00:00:00\",\"2022-06-08T00:00:00\",\"2022-06-09T00:00:00\",\"2022-06-10T00:00:00\",\"2022-06-13T00:00:00\",\"2022-06-14T00:00:00\",\"2022-06-15T00:00:00\",\"2022-06-17T00:00:00\",\"2022-06-20T00:00:00\",\"2022-06-21T00:00:00\",\"2022-06-22T00:00:00\",\"2022-06-23T00:00:00\",\"2022-06-24T00:00:00\",\"2022-06-27T00:00:00\",\"2022-06-28T00:00:00\",\"2022-06-29T00:00:00\",\"2022-06-30T00:00:00\",\"2022-07-01T00:00:00\",\"2022-07-04T00:00:00\"],\"xaxis\":\"x\",\"y\":[0.0,-2.6470632371604235,-4.485298479716961,-4.926471011036396,-5.514705727669611,-7.720589421199646,-6.691182173246996,-4.779415838033568,-5.588236820326502,-6.397064814930388,-7.352940970226149,-7.794120513856536,-5.808823085986219,-0.44117954363038836,-3.970587843429682,-6.5441199879332155,-8.308824137832863,-9.558824663756184,-10.514707831362898,-10.514707831362898,-7.279416889880212,-9.11765213243675,-10.294121565703179,-6.02941636395689,-5.147064289007067,-4.33823629440318,-4.191181121400353,-1.7647111622106002,-1.1029453529204942,-1.7647111622106002,0.6617587969791525,-1.3970627112371021,-2.5735321445035333,0.07352408034593694,-2.132352600873145,-1.5441178842399292,3.8235256581159014,6.544112975622262,1.470586791583039,-0.07353109265689028,-3.161766861136749,-3.3823531267964664,-2.720594329817314,-3.7500015777699645,-10.955887374993285,-6.985299531563603,-2.867649502820141,-2.867649502820141,-3.970587843429682,-3.970587843429682,-1.9117663352134273,-0.7352969019469962,-2.500001051846643,-4.779415838033568,-3.4558842194533566,-1.6911800695537098,2.6470562248494702,2.279407773875972,0.7352898896360428,5.147057276696113,4.926471011036396,5.073526184039223,6.91176142659576,5.514705727669611,4.338229282092227,-1.4705938038939923,-5.808823085986219,-15.073530391425795,-17.64706253592933,-20.073532495119082,-18.89706306185265,-14.926475218422969,-19.558828871142754,-23.45588562191555,-19.779415136802474,-20.588236119095406,-18.602945703536044,-18.382352425565372,-16.1029446516894,-15.66176510805901,-18.67646978388198,-19.411766685828976,-19.338235593172083,-17.72059362858622,-21.3235330210424,-24.26470660420848,-26.323528112424736,-27.05882501437173,-27.794121916318726,-28.014708181978445,-27.05882501437173,-27.35294237268834,-27.05882501437173,-27.42647346534523,-26.102941846765017,-27.500004558002118,-26.691176563398233,-26.617652483052296,-27.647059731004948,-26.98529392171484,-26.323528112424736,-26.323528112424736,-26.17647293942191,-25.367651957128974,-22.205885095992226,-21.102946755382685,-18.235297252562543,-21.985298830332507,-21.47058819404523,-23.529416714572438,-23.16176826359894,-25.367651957128974,-25.220589771815195,-24.19117551155159,-27.205887199685513,-26.470590297738514,-28.52941180595477,-28.75000508392544,-28.75000508392544,-28.602942898611662,-26.98529392171484,-27.573528638348055,-28.23529444763816,-27.941177089321556,-27.941177089321556,-28.75000508392544],\"yaxis\":\"y\",\"type\":\"scatter\"},{\"hovertemplate\":\"variable=RAPT4_cum_change<br>date=%{x}<br>value=%{y}<extra></extra>\",\"legendgroup\":\"RAPT4_cum_change\",\"line\":{\"color\":\"#00cc96\",\"dash\":\"solid\"},\"marker\":{\"symbol\":\"circle\"},\"mode\":\"lines\",\"name\":\"RAPT4_cum_change\",\"orientation\":\"v\",\"showlegend\":true,\"x\":[\"2022-01-03T00:00:00\",\"2022-01-04T00:00:00\",\"2022-01-05T00:00:00\",\"2022-01-06T00:00:00\",\"2022-01-07T00:00:00\",\"2022-01-10T00:00:00\",\"2022-01-11T00:00:00\",\"2022-01-12T00:00:00\",\"2022-01-13T00:00:00\",\"2022-01-14T00:00:00\",\"2022-01-17T00:00:00\",\"2022-01-18T00:00:00\",\"2022-01-19T00:00:00\",\"2022-01-20T00:00:00\",\"2022-01-21T00:00:00\",\"2022-01-24T00:00:00\",\"2022-01-25T00:00:00\",\"2022-01-26T00:00:00\",\"2022-01-27T00:00:00\",\"2022-01-28T00:00:00\",\"2022-01-31T00:00:00\",\"2022-02-01T00:00:00\",\"2022-02-02T00:00:00\",\"2022-02-03T00:00:00\",\"2022-02-04T00:00:00\",\"2022-02-07T00:00:00\",\"2022-02-08T00:00:00\",\"2022-02-09T00:00:00\",\"2022-02-10T00:00:00\",\"2022-02-11T00:00:00\",\"2022-02-14T00:00:00\",\"2022-02-15T00:00:00\",\"2022-02-16T00:00:00\",\"2022-02-17T00:00:00\",\"2022-02-18T00:00:00\",\"2022-02-21T00:00:00\",\"2022-02-22T00:00:00\",\"2022-02-23T00:00:00\",\"2022-02-24T00:00:00\",\"2022-02-25T00:00:00\",\"2022-03-02T00:00:00\",\"2022-03-03T00:00:00\",\"2022-03-04T00:00:00\",\"2022-03-07T00:00:00\",\"2022-03-08T00:00:00\",\"2022-03-09T00:00:00\",\"2022-03-10T00:00:00\",\"2022-03-11T00:00:00\",\"2022-03-14T00:00:00\",\"2022-03-15T00:00:00\",\"2022-03-16T00:00:00\",\"2022-03-17T00:00:00\",\"2022-03-18T00:00:00\",\"2022-03-21T00:00:00\",\"2022-03-22T00:00:00\",\"2022-03-23T00:00:00\",\"2022-03-24T00:00:00\",\"2022-03-25T00:00:00\",\"2022-03-28T00:00:00\",\"2022-03-29T00:00:00\",\"2022-03-30T00:00:00\",\"2022-03-31T00:00:00\",\"2022-04-01T00:00:00\",\"2022-04-04T00:00:00\",\"2022-04-05T00:00:00\",\"2022-04-06T00:00:00\",\"2022-04-07T00:00:00\",\"2022-04-08T00:00:00\",\"2022-04-11T00:00:00\",\"2022-04-12T00:00:00\",\"2022-04-13T00:00:00\",\"2022-04-14T00:00:00\",\"2022-04-18T00:00:00\",\"2022-04-19T00:00:00\",\"2022-04-20T00:00:00\",\"2022-04-22T00:00:00\",\"2022-04-25T00:00:00\",\"2022-04-26T00:00:00\",\"2022-04-27T00:00:00\",\"2022-04-28T00:00:00\",\"2022-04-29T00:00:00\",\"2022-05-02T00:00:00\",\"2022-05-03T00:00:00\",\"2022-05-04T00:00:00\",\"2022-05-05T00:00:00\",\"2022-05-06T00:00:00\",\"2022-05-09T00:00:00\",\"2022-05-10T00:00:00\",\"2022-05-11T00:00:00\",\"2022-05-12T00:00:00\",\"2022-05-13T00:00:00\",\"2022-05-16T00:00:00\",\"2022-05-17T00:00:00\",\"2022-05-18T00:00:00\",\"2022-05-19T00:00:00\",\"2022-05-20T00:00:00\",\"2022-05-23T00:00:00\",\"2022-05-24T00:00:00\",\"2022-05-25T00:00:00\",\"2022-05-26T00:00:00\",\"2022-05-27T00:00:00\",\"2022-05-30T00:00:00\",\"2022-05-31T00:00:00\",\"2022-06-01T00:00:00\",\"2022-06-02T00:00:00\",\"2022-06-03T00:00:00\",\"2022-06-06T00:00:00\",\"2022-06-07T00:00:00\",\"2022-06-08T00:00:00\",\"2022-06-09T00:00:00\",\"2022-06-10T00:00:00\",\"2022-06-13T00:00:00\",\"2022-06-14T00:00:00\",\"2022-06-15T00:00:00\",\"2022-06-17T00:00:00\",\"2022-06-20T00:00:00\",\"2022-06-21T00:00:00\",\"2022-06-22T00:00:00\",\"2022-06-23T00:00:00\",\"2022-06-24T00:00:00\",\"2022-06-27T00:00:00\",\"2022-06-28T00:00:00\",\"2022-06-29T00:00:00\",\"2022-06-30T00:00:00\",\"2022-07-01T00:00:00\",\"2022-07-04T00:00:00\"],\"xaxis\":\"x\",\"y\":[0.0,-1.2070576500969967,-4.735377968477214,-3.4354765413837964,2.042704772550899,-0.649959568461062,-1.4856155458293177,2.042704772550899,0.4642454497251612,1.9498521406401252,0.4642454497251612,0.2785490408179674,2.32126266828322,6.0352793955706305,5.385328682023922,3.7140167272874103,6.778082741028112,11.327755445683778,11.792009750323293,10.492099468315523,11.792009750323293,11.606313341416099,9.470747082040074,9.749296122858041,7.8922877592143355,7.613738718396368,5.663877722841889,5.385328682023922,5.292476050113148,3.156909790737122,4.363967440834119,6.778082741028112,6.406681068299371,2.785508118008381,1.9498521406401252,-1.392762913918544,-1.021361241189803,-0.09285263191077363,-0.27855789573232087,-1.4856155458293177,-2.9712222367442815,-3.8997219911089576,-6.406689923213725,-11.699165973326872,-10.95636262786939,-10.770666218962196,-8.356550918768203,-12.441969318784356,-14.20613390543164,-12.813370991513096,-8.913649000404138,-7.335198532492754,-5.478181313934695,-5.199632273116728,-2.9712222367442815,-2.2284188912867995,1.6713030998221579,0.4642454497251612,0.6499507135467084,3.6211640953766366,2.5998117091011874,-0.8356559773682557,-0.46425430463951467,1.114205018186223,-0.09285263191077363,-2.8783696048335083,-3.714025582201764,-4.271123663837699,-4.1782798868412785,-6.035288250484983,-6.406689923213725,-2.6926731959263144,-2.2284188912867995,0.2785490408179674,1.114205018186223,-2.135566259376026,-1.5784593228257378,-5.478181313934695,-1.1142138731005766,2.228410036372446,-0.9285086092790293,-3.249771277562249,-3.4354765413837964,-2.506967932104767,-3.4354765413837964,-5.571033945845469,-7.706600205221495,-7.892296614128689,-5.571033945845469,-2.8783696048335083,-4.1782798868412785,-2.7855169729227347,-1.392762913918544,-3.992574623019731,-4.085427254930505,-4.828230600387987,-4.363976295748472,-4.828230600387987,-4.64252533656644,-5.013935864209534,-5.013935864209534,-4.735377968477214,-5.013935864209534,-4.363976295748472,-4.64252533656644,-5.1067796412059545,-7.428042309489174,-9.28505067313288,-9.099354264225685,-7.335198532492754,-9.28505067313288,-13.091928887245416,-13.8347322327029,-8.078001877950236,-13.370477928063384,-10.95636262786939,-11.142067891690939,-10.677813587051423,-9.470755936954427,-9.470755936954427,-8.913649000404138,-10.027862873504715,-8.170845654946657,-12.90622362342387,-12.627674582605902,-12.256272909877161],\"yaxis\":\"y\",\"type\":\"scatter\"},{\"hovertemplate\":\"variable=ITUB4_cum_change<br>date=%{x}<br>value=%{y}<extra></extra>\",\"legendgroup\":\"ITUB4_cum_change\",\"line\":{\"color\":\"#ab63fa\",\"dash\":\"solid\"},\"marker\":{\"symbol\":\"circle\"},\"mode\":\"lines\",\"name\":\"ITUB4_cum_change\",\"orientation\":\"v\",\"showlegend\":true,\"x\":[\"2022-01-03T00:00:00\",\"2022-01-04T00:00:00\",\"2022-01-05T00:00:00\",\"2022-01-06T00:00:00\",\"2022-01-07T00:00:00\",\"2022-01-10T00:00:00\",\"2022-01-11T00:00:00\",\"2022-01-12T00:00:00\",\"2022-01-13T00:00:00\",\"2022-01-14T00:00:00\",\"2022-01-17T00:00:00\",\"2022-01-18T00:00:00\",\"2022-01-19T00:00:00\",\"2022-01-20T00:00:00\",\"2022-01-21T00:00:00\",\"2022-01-24T00:00:00\",\"2022-01-25T00:00:00\",\"2022-01-26T00:00:00\",\"2022-01-27T00:00:00\",\"2022-01-28T00:00:00\",\"2022-01-31T00:00:00\",\"2022-02-01T00:00:00\",\"2022-02-02T00:00:00\",\"2022-02-03T00:00:00\",\"2022-02-04T00:00:00\",\"2022-02-07T00:00:00\",\"2022-02-08T00:00:00\",\"2022-02-09T00:00:00\",\"2022-02-10T00:00:00\",\"2022-02-11T00:00:00\",\"2022-02-14T00:00:00\",\"2022-02-15T00:00:00\",\"2022-02-16T00:00:00\",\"2022-02-17T00:00:00\",\"2022-02-18T00:00:00\",\"2022-02-21T00:00:00\",\"2022-02-22T00:00:00\",\"2022-02-23T00:00:00\",\"2022-02-24T00:00:00\",\"2022-02-25T00:00:00\",\"2022-03-02T00:00:00\",\"2022-03-03T00:00:00\",\"2022-03-04T00:00:00\",\"2022-03-07T00:00:00\",\"2022-03-08T00:00:00\",\"2022-03-09T00:00:00\",\"2022-03-10T00:00:00\",\"2022-03-11T00:00:00\",\"2022-03-14T00:00:00\",\"2022-03-15T00:00:00\",\"2022-03-16T00:00:00\",\"2022-03-17T00:00:00\",\"2022-03-18T00:00:00\",\"2022-03-21T00:00:00\",\"2022-03-22T00:00:00\",\"2022-03-23T00:00:00\",\"2022-03-24T00:00:00\",\"2022-03-25T00:00:00\",\"2022-03-28T00:00:00\",\"2022-03-29T00:00:00\",\"2022-03-30T00:00:00\",\"2022-03-31T00:00:00\",\"2022-04-01T00:00:00\",\"2022-04-04T00:00:00\",\"2022-04-05T00:00:00\",\"2022-04-06T00:00:00\",\"2022-04-07T00:00:00\",\"2022-04-08T00:00:00\",\"2022-04-11T00:00:00\",\"2022-04-12T00:00:00\",\"2022-04-13T00:00:00\",\"2022-04-14T00:00:00\",\"2022-04-18T00:00:00\",\"2022-04-19T00:00:00\",\"2022-04-20T00:00:00\",\"2022-04-22T00:00:00\",\"2022-04-25T00:00:00\",\"2022-04-26T00:00:00\",\"2022-04-27T00:00:00\",\"2022-04-28T00:00:00\",\"2022-04-29T00:00:00\",\"2022-05-02T00:00:00\",\"2022-05-03T00:00:00\",\"2022-05-04T00:00:00\",\"2022-05-05T00:00:00\",\"2022-05-06T00:00:00\",\"2022-05-09T00:00:00\",\"2022-05-10T00:00:00\",\"2022-05-11T00:00:00\",\"2022-05-12T00:00:00\",\"2022-05-13T00:00:00\",\"2022-05-16T00:00:00\",\"2022-05-17T00:00:00\",\"2022-05-18T00:00:00\",\"2022-05-19T00:00:00\",\"2022-05-20T00:00:00\",\"2022-05-23T00:00:00\",\"2022-05-24T00:00:00\",\"2022-05-25T00:00:00\",\"2022-05-26T00:00:00\",\"2022-05-27T00:00:00\",\"2022-05-30T00:00:00\",\"2022-05-31T00:00:00\",\"2022-06-01T00:00:00\",\"2022-06-02T00:00:00\",\"2022-06-03T00:00:00\",\"2022-06-06T00:00:00\",\"2022-06-07T00:00:00\",\"2022-06-08T00:00:00\",\"2022-06-09T00:00:00\",\"2022-06-10T00:00:00\",\"2022-06-13T00:00:00\",\"2022-06-14T00:00:00\",\"2022-06-15T00:00:00\",\"2022-06-17T00:00:00\",\"2022-06-20T00:00:00\",\"2022-06-21T00:00:00\",\"2022-06-22T00:00:00\",\"2022-06-23T00:00:00\",\"2022-06-24T00:00:00\",\"2022-06-27T00:00:00\",\"2022-06-28T00:00:00\",\"2022-06-29T00:00:00\",\"2022-06-30T00:00:00\",\"2022-07-01T00:00:00\",\"2022-07-04T00:00:00\"],\"xaxis\":\"x\",\"y\":[0.0,2.8358930909377884,0.8833125617660399,2.9288663601253297,5.206875499614939,6.183170197833107,8.554161473774844,8.089259658778792,10.088331256176604,9.251509762636628,9.251509762636628,9.90236698327235,9.158527626184501,8.275223931683048,8.321706132644524,8.182241795230919,12.087402853574417,13.296144025658316,13.85401910984191,15.248724554830066,17.759180168185406,18.503019525273256,16.643421132553634,17.99162664205114,18.363546320595063,17.712689099959345,19.01441240849537,14.272429856611899,16.45745685964938,23.337984213608856,23.059037804252473,24.22128790811031,22.91957346683887,21.199439411532854,21.664341226528904,18.68898379817751,19.711760697357157,18.038117710277206,16.03904611287939,18.410037388821127,16.364483590461838,16.45745685964938,14.690840603381886,12.226867190988022,11.157599223582313,16.6899122007797,16.782894337231827,15.481171028695798,17.108322947549688,16.6899122007797,18.967921340269307,21.571359090076776,22.454671651842816,25.476520148420274,27.19665420372629,26.63877025227811,27.475591745818086,27.70803821968382,27.61506495049628,29.102743664671976,29.381681206763773,27.754529287909882,28.033475697266265,26.87122559340843,24.314270044562438,24.267778976336373,24.174796839884248,23.942350366018513,23.477448551022462,21.29242154798498,21.61785015830284,22.408180583616755,23.105528872478537,20.920501869441058,21.71083229475497,19.33984101881323,18.87493920381718,14.830313808060078,13.900510178067973,12.97070654807587,10.971643817942644,10.413759866494464,10.971643817942644,10.832170613264452,8.275223931683048,10.59972413939872,9.019063288770894,8.461179337322715,12.087402853574417,13.85401910984191,15.202233486604001,16.410974658687902,17.43375155786755,15.760108570787596,15.38818889224367,16.829376538193305,19.851233902035347,21.664341226528904,19.479314223491425,20.96699293766712,21.61785015830284,20.502091122671068,21.61785015830284,19.851233902035347,20.36261791799288,19.246858882361103,18.828448135591117,18.828448135591117,16.55043899610151,14.551367398703695,12.040911785348353,10.69269740858626,9.948858051498412,10.413759866494464,9.019063288770894,13.761036973389782,12.552295801305881,11.715483175030492,9.158527626184501,8.972572220544832,9.623429441180551,8.414688269096652,7.298929233464879,5.392839772519194,6.22966126605917,5.392839772519194],\"yaxis\":\"y\",\"type\":\"scatter\"}],                        {\"template\":{\"data\":{\"histogram2dcontour\":[{\"type\":\"histogram2dcontour\",\"colorbar\":{\"outlinewidth\":0,\"ticks\":\"\"},\"colorscale\":[[0.0,\"#0d0887\"],[0.1111111111111111,\"#46039f\"],[0.2222222222222222,\"#7201a8\"],[0.3333333333333333,\"#9c179e\"],[0.4444444444444444,\"#bd3786\"],[0.5555555555555556,\"#d8576b\"],[0.6666666666666666,\"#ed7953\"],[0.7777777777777778,\"#fb9f3a\"],[0.8888888888888888,\"#fdca26\"],[1.0,\"#f0f921\"]]}],\"choropleth\":[{\"type\":\"choropleth\",\"colorbar\":{\"outlinewidth\":0,\"ticks\":\"\"}}],\"histogram2d\":[{\"type\":\"histogram2d\",\"colorbar\":{\"outlinewidth\":0,\"ticks\":\"\"},\"colorscale\":[[0.0,\"#0d0887\"],[0.1111111111111111,\"#46039f\"],[0.2222222222222222,\"#7201a8\"],[0.3333333333333333,\"#9c179e\"],[0.4444444444444444,\"#bd3786\"],[0.5555555555555556,\"#d8576b\"],[0.6666666666666666,\"#ed7953\"],[0.7777777777777778,\"#fb9f3a\"],[0.8888888888888888,\"#fdca26\"],[1.0,\"#f0f921\"]]}],\"heatmap\":[{\"type\":\"heatmap\",\"colorbar\":{\"outlinewidth\":0,\"ticks\":\"\"},\"colorscale\":[[0.0,\"#0d0887\"],[0.1111111111111111,\"#46039f\"],[0.2222222222222222,\"#7201a8\"],[0.3333333333333333,\"#9c179e\"],[0.4444444444444444,\"#bd3786\"],[0.5555555555555556,\"#d8576b\"],[0.6666666666666666,\"#ed7953\"],[0.7777777777777778,\"#fb9f3a\"],[0.8888888888888888,\"#fdca26\"],[1.0,\"#f0f921\"]]}],\"heatmapgl\":[{\"type\":\"heatmapgl\",\"colorbar\":{\"outlinewidth\":0,\"ticks\":\"\"},\"colorscale\":[[0.0,\"#0d0887\"],[0.1111111111111111,\"#46039f\"],[0.2222222222222222,\"#7201a8\"],[0.3333333333333333,\"#9c179e\"],[0.4444444444444444,\"#bd3786\"],[0.5555555555555556,\"#d8576b\"],[0.6666666666666666,\"#ed7953\"],[0.7777777777777778,\"#fb9f3a\"],[0.8888888888888888,\"#fdca26\"],[1.0,\"#f0f921\"]]}],\"contourcarpet\":[{\"type\":\"contourcarpet\",\"colorbar\":{\"outlinewidth\":0,\"ticks\":\"\"}}],\"contour\":[{\"type\":\"contour\",\"colorbar\":{\"outlinewidth\":0,\"ticks\":\"\"},\"colorscale\":[[0.0,\"#0d0887\"],[0.1111111111111111,\"#46039f\"],[0.2222222222222222,\"#7201a8\"],[0.3333333333333333,\"#9c179e\"],[0.4444444444444444,\"#bd3786\"],[0.5555555555555556,\"#d8576b\"],[0.6666666666666666,\"#ed7953\"],[0.7777777777777778,\"#fb9f3a\"],[0.8888888888888888,\"#fdca26\"],[1.0,\"#f0f921\"]]}],\"surface\":[{\"type\":\"surface\",\"colorbar\":{\"outlinewidth\":0,\"ticks\":\"\"},\"colorscale\":[[0.0,\"#0d0887\"],[0.1111111111111111,\"#46039f\"],[0.2222222222222222,\"#7201a8\"],[0.3333333333333333,\"#9c179e\"],[0.4444444444444444,\"#bd3786\"],[0.5555555555555556,\"#d8576b\"],[0.6666666666666666,\"#ed7953\"],[0.7777777777777778,\"#fb9f3a\"],[0.8888888888888888,\"#fdca26\"],[1.0,\"#f0f921\"]]}],\"mesh3d\":[{\"type\":\"mesh3d\",\"colorbar\":{\"outlinewidth\":0,\"ticks\":\"\"}}],\"scatter\":[{\"fillpattern\":{\"fillmode\":\"overlay\",\"size\":10,\"solidity\":0.2},\"type\":\"scatter\"}],\"parcoords\":[{\"type\":\"parcoords\",\"line\":{\"colorbar\":{\"outlinewidth\":0,\"ticks\":\"\"}}}],\"scatterpolargl\":[{\"type\":\"scatterpolargl\",\"marker\":{\"colorbar\":{\"outlinewidth\":0,\"ticks\":\"\"}}}],\"bar\":[{\"error_x\":{\"color\":\"#2a3f5f\"},\"error_y\":{\"color\":\"#2a3f5f\"},\"marker\":{\"line\":{\"color\":\"#E5ECF6\",\"width\":0.5},\"pattern\":{\"fillmode\":\"overlay\",\"size\":10,\"solidity\":0.2}},\"type\":\"bar\"}],\"scattergeo\":[{\"type\":\"scattergeo\",\"marker\":{\"colorbar\":{\"outlinewidth\":0,\"ticks\":\"\"}}}],\"scatterpolar\":[{\"type\":\"scatterpolar\",\"marker\":{\"colorbar\":{\"outlinewidth\":0,\"ticks\":\"\"}}}],\"histogram\":[{\"marker\":{\"pattern\":{\"fillmode\":\"overlay\",\"size\":10,\"solidity\":0.2}},\"type\":\"histogram\"}],\"scattergl\":[{\"type\":\"scattergl\",\"marker\":{\"colorbar\":{\"outlinewidth\":0,\"ticks\":\"\"}}}],\"scatter3d\":[{\"type\":\"scatter3d\",\"line\":{\"colorbar\":{\"outlinewidth\":0,\"ticks\":\"\"}},\"marker\":{\"colorbar\":{\"outlinewidth\":0,\"ticks\":\"\"}}}],\"scattermapbox\":[{\"type\":\"scattermapbox\",\"marker\":{\"colorbar\":{\"outlinewidth\":0,\"ticks\":\"\"}}}],\"scatterternary\":[{\"type\":\"scatterternary\",\"marker\":{\"colorbar\":{\"outlinewidth\":0,\"ticks\":\"\"}}}],\"scattercarpet\":[{\"type\":\"scattercarpet\",\"marker\":{\"colorbar\":{\"outlinewidth\":0,\"ticks\":\"\"}}}],\"carpet\":[{\"aaxis\":{\"endlinecolor\":\"#2a3f5f\",\"gridcolor\":\"white\",\"linecolor\":\"white\",\"minorgridcolor\":\"white\",\"startlinecolor\":\"#2a3f5f\"},\"baxis\":{\"endlinecolor\":\"#2a3f5f\",\"gridcolor\":\"white\",\"linecolor\":\"white\",\"minorgridcolor\":\"white\",\"startlinecolor\":\"#2a3f5f\"},\"type\":\"carpet\"}],\"table\":[{\"cells\":{\"fill\":{\"color\":\"#EBF0F8\"},\"line\":{\"color\":\"white\"}},\"header\":{\"fill\":{\"color\":\"#C8D4E3\"},\"line\":{\"color\":\"white\"}},\"type\":\"table\"}],\"barpolar\":[{\"marker\":{\"line\":{\"color\":\"#E5ECF6\",\"width\":0.5},\"pattern\":{\"fillmode\":\"overlay\",\"size\":10,\"solidity\":0.2}},\"type\":\"barpolar\"}],\"pie\":[{\"automargin\":true,\"type\":\"pie\"}]},\"layout\":{\"autotypenumbers\":\"strict\",\"colorway\":[\"#636efa\",\"#EF553B\",\"#00cc96\",\"#ab63fa\",\"#FFA15A\",\"#19d3f3\",\"#FF6692\",\"#B6E880\",\"#FF97FF\",\"#FECB52\"],\"font\":{\"color\":\"#2a3f5f\"},\"hovermode\":\"closest\",\"hoverlabel\":{\"align\":\"left\"},\"paper_bgcolor\":\"white\",\"plot_bgcolor\":\"#E5ECF6\",\"polar\":{\"bgcolor\":\"#E5ECF6\",\"angularaxis\":{\"gridcolor\":\"white\",\"linecolor\":\"white\",\"ticks\":\"\"},\"radialaxis\":{\"gridcolor\":\"white\",\"linecolor\":\"white\",\"ticks\":\"\"}},\"ternary\":{\"bgcolor\":\"#E5ECF6\",\"aaxis\":{\"gridcolor\":\"white\",\"linecolor\":\"white\",\"ticks\":\"\"},\"baxis\":{\"gridcolor\":\"white\",\"linecolor\":\"white\",\"ticks\":\"\"},\"caxis\":{\"gridcolor\":\"white\",\"linecolor\":\"white\",\"ticks\":\"\"}},\"coloraxis\":{\"colorbar\":{\"outlinewidth\":0,\"ticks\":\"\"}},\"colorscale\":{\"sequential\":[[0.0,\"#0d0887\"],[0.1111111111111111,\"#46039f\"],[0.2222222222222222,\"#7201a8\"],[0.3333333333333333,\"#9c179e\"],[0.4444444444444444,\"#bd3786\"],[0.5555555555555556,\"#d8576b\"],[0.6666666666666666,\"#ed7953\"],[0.7777777777777778,\"#fb9f3a\"],[0.8888888888888888,\"#fdca26\"],[1.0,\"#f0f921\"]],\"sequentialminus\":[[0.0,\"#0d0887\"],[0.1111111111111111,\"#46039f\"],[0.2222222222222222,\"#7201a8\"],[0.3333333333333333,\"#9c179e\"],[0.4444444444444444,\"#bd3786\"],[0.5555555555555556,\"#d8576b\"],[0.6666666666666666,\"#ed7953\"],[0.7777777777777778,\"#fb9f3a\"],[0.8888888888888888,\"#fdca26\"],[1.0,\"#f0f921\"]],\"diverging\":[[0,\"#8e0152\"],[0.1,\"#c51b7d\"],[0.2,\"#de77ae\"],[0.3,\"#f1b6da\"],[0.4,\"#fde0ef\"],[0.5,\"#f7f7f7\"],[0.6,\"#e6f5d0\"],[0.7,\"#b8e186\"],[0.8,\"#7fbc41\"],[0.9,\"#4d9221\"],[1,\"#276419\"]]},\"xaxis\":{\"gridcolor\":\"white\",\"linecolor\":\"white\",\"ticks\":\"\",\"title\":{\"standoff\":15},\"zerolinecolor\":\"white\",\"automargin\":true,\"zerolinewidth\":2},\"yaxis\":{\"gridcolor\":\"white\",\"linecolor\":\"white\",\"ticks\":\"\",\"title\":{\"standoff\":15},\"zerolinecolor\":\"white\",\"automargin\":true,\"zerolinewidth\":2},\"scene\":{\"xaxis\":{\"backgroundcolor\":\"#E5ECF6\",\"gridcolor\":\"white\",\"linecolor\":\"white\",\"showbackground\":true,\"ticks\":\"\",\"zerolinecolor\":\"white\",\"gridwidth\":2},\"yaxis\":{\"backgroundcolor\":\"#E5ECF6\",\"gridcolor\":\"white\",\"linecolor\":\"white\",\"showbackground\":true,\"ticks\":\"\",\"zerolinecolor\":\"white\",\"gridwidth\":2},\"zaxis\":{\"backgroundcolor\":\"#E5ECF6\",\"gridcolor\":\"white\",\"linecolor\":\"white\",\"showbackground\":true,\"ticks\":\"\",\"zerolinecolor\":\"white\",\"gridwidth\":2}},\"shapedefaults\":{\"line\":{\"color\":\"#2a3f5f\"}},\"annotationdefaults\":{\"arrowcolor\":\"#2a3f5f\",\"arrowhead\":0,\"arrowwidth\":1},\"geo\":{\"bgcolor\":\"white\",\"landcolor\":\"#E5ECF6\",\"subunitcolor\":\"white\",\"showland\":true,\"showlakes\":true,\"lakecolor\":\"white\"},\"title\":{\"x\":0.05},\"mapbox\":{\"style\":\"light\"}}},\"xaxis\":{\"anchor\":\"y\",\"domain\":[0.0,1.0],\"title\":{\"text\":\"date\"}},\"yaxis\":{\"anchor\":\"x\",\"domain\":[0.0,1.0],\"title\":{\"text\":\"value\"}},\"legend\":{\"title\":{\"text\":\"variable\"},\"tracegroupgap\":0},\"margin\":{\"t\":60}},                        {\"responsive\": true}                    ).then(function(){\n",
       "                            \n",
       "var gd = document.getElementById('39ead149-3fe1-4e97-85de-6cc4c8777690');\n",
       "var x = new MutationObserver(function (mutations, observer) {{\n",
       "        var display = window.getComputedStyle(gd).display;\n",
       "        if (!display || display === 'none') {{\n",
       "            console.log([gd, 'removed!']);\n",
       "            Plotly.purge(gd);\n",
       "            observer.disconnect();\n",
       "        }}\n",
       "}});\n",
       "\n",
       "// Listen for the removal of the full notebook cells\n",
       "var notebookContainer = gd.closest('#notebook-container');\n",
       "if (notebookContainer) {{\n",
       "    x.observe(notebookContainer, {childList: true});\n",
       "}}\n",
       "\n",
       "// Listen for the clearing of the current output cell\n",
       "var outputEl = gd.closest('.output');\n",
       "if (outputEl) {{\n",
       "    x.observe(outputEl, {childList: true});\n",
       "}}\n",
       "\n",
       "                        })                };                });            </script>        </div>"
      ]
     },
     "metadata": {},
     "output_type": "display_data"
    }
   ],
   "source": [
    "fig = px.line(final_df, x='date', y=[column for column in final_df.columns if \"change\" in column])\n",
    "fig.show()"
   ]
  }
 ],
 "metadata": {
  "kernelspec": {
   "display_name": "sfds_kernel",
   "language": "python",
   "name": "sfds_kernel"
  },
  "language_info": {
   "codemirror_mode": {
    "name": "ipython",
    "version": 3
   },
   "file_extension": ".py",
   "mimetype": "text/x-python",
   "name": "python",
   "nbconvert_exporter": "python",
   "pygments_lexer": "ipython3",
   "version": "3.10.5"
  }
 },
 "nbformat": 4,
 "nbformat_minor": 5
}
